{
  "nbformat": 4,
  "nbformat_minor": 0,
  "metadata": {
    "colab": {
      "provenance": []
    },
    "kernelspec": {
      "name": "python3",
      "display_name": "Python 3"
    },
    "language_info": {
      "name": "python"
    }
  },
  "cells": [
    {
      "cell_type": "markdown",
      "source": [],
      "metadata": {
        "id": "pF1xIkFVg3M-"
      }
    },
    {
      "cell_type": "markdown",
      "source": [
        "# 상속"
      ],
      "metadata": {
        "id": "g5csEf-Ry7pm"
      }
    },
    {
      "cell_type": "code",
      "execution_count": null,
      "metadata": {
        "colab": {
          "base_uri": "https://localhost:8080/",
          "height": 54
        },
        "id": "zTFIaz-Ngsms",
        "outputId": "fd8fb93e-dd56-4b17-99be-44a1b5662f0a"
      },
      "outputs": [
        {
          "output_type": "stream",
          "name": "stdout",
          "text": [
            "10 20\n"
          ]
        },
        {
          "output_type": "execute_result",
          "data": {
            "text/plain": [
              "'world'"
            ],
            "application/vnd.google.colaboratory.intrinsic+json": {
              "type": "string"
            }
          },
          "metadata": {},
          "execution_count": 7
        }
      ],
      "source": [
        "class A:\n",
        "    def hello(self):\n",
        "        return 'hello'\n",
        "\n",
        "class B(A):\n",
        "\n",
        "    def __init__(self, a, b):\n",
        "        print(a, b)\n",
        "\n",
        "    def world(self):\n",
        "        return 'world'\n",
        "\n",
        "b = B(10, 20) # A에서 처리하는 것 아니고 a에서 처리합니다.\n",
        "b.hello()\n",
        "b.world()"
      ]
    },
    {
      "cell_type": "code",
      "source": [
        "class A(object):\n",
        "    def hello(self):\n",
        "        return 'hello'\n",
        "\n",
        "class B(A):\n",
        "\n",
        "    def __init__(self, a):\n",
        "        print(a, b)\n",
        "\n",
        "    def hello(self):\n",
        "        return 'hello world'\n",
        "\n",
        "b = B(10) # A에서 처리하는 것 아니고 a에서 처리합니다.\n",
        "b.hello() # B에 hello가 A에 hello를 덮습니다."
      ],
      "metadata": {
        "colab": {
          "base_uri": "https://localhost:8080/",
          "height": 54
        },
        "id": "dh4vRDHbzpK1",
        "outputId": "a56ab535-8817-404f-ca5e-5daf883cff51"
      },
      "execution_count": null,
      "outputs": [
        {
          "output_type": "stream",
          "name": "stdout",
          "text": [
            "10 <__main__.B object at 0x784eda6491b0>\n"
          ]
        },
        {
          "output_type": "execute_result",
          "data": {
            "text/plain": [
              "'hello world'"
            ],
            "application/vnd.google.colaboratory.intrinsic+json": {
              "type": "string"
            }
          },
          "metadata": {},
          "execution_count": 9
        }
      ]
    },
    {
      "cell_type": "code",
      "source": [
        "class A(object):\n",
        "    def one(self):\n",
        "        return 'one'\n",
        "\n",
        "class B(A):\n",
        "\n",
        "    def two(self):\n",
        "        return 'two'\n",
        "\n",
        "class C(B):\n",
        "    def three(self):\n",
        "        return'three'\n",
        "\n",
        "\n",
        "c =C()\n",
        "c.one()\n",
        "c.two()\n",
        "c.three()"
      ],
      "metadata": {
        "colab": {
          "base_uri": "https://localhost:8080/",
          "height": 35
        },
        "id": "S6M4I-_01tNU",
        "outputId": "2920a0d6-c2be-44a5-db7c-48d708179303"
      },
      "execution_count": null,
      "outputs": [
        {
          "output_type": "execute_result",
          "data": {
            "text/plain": [
              "'three'"
            ],
            "application/vnd.google.colaboratory.intrinsic+json": {
              "type": "string"
            }
          },
          "metadata": {},
          "execution_count": 12
        }
      ]
    },
    {
      "cell_type": "code",
      "source": [
        "class A(object):\n",
        "    test=0\n",
        "\n",
        "    def one(self):\n",
        "        return 'one'\n",
        "\n",
        "class B(A):\n",
        "\n",
        "    def two(self):\n",
        "        return 'two'\n",
        "\n",
        "class C(B):\n",
        "\n",
        "    def three(self):\n",
        "        return'three'\n",
        "\n",
        "\n",
        "c =C()\n",
        "A.test = 300\n",
        "c.test # 상속을 받을 때 내 메모리 영역의 값(보유하고 있는 값)은 아닙니다! 참조 값입니다."
      ],
      "metadata": {
        "colab": {
          "base_uri": "https://localhost:8080/"
        },
        "id": "l_Im0wm146lL",
        "outputId": "6ed98781-c5f1-4047-b5b1-1249ba41f340"
      },
      "execution_count": null,
      "outputs": [
        {
          "output_type": "execute_result",
          "data": {
            "text/plain": [
              "300"
            ]
          },
          "metadata": {},
          "execution_count": 13
        }
      ]
    },
    {
      "cell_type": "markdown",
      "source": [
        "# 다중상속"
      ],
      "metadata": {
        "id": "4URqiPO16BBl"
      }
    },
    {
      "cell_type": "code",
      "source": [
        "class A:\n",
        "\n",
        "    def hello(self):\n",
        "        print('hello A')\n",
        "\n",
        "class B:\n",
        "\n",
        "    def hello(self):\n",
        "        print('hello B')\n",
        "\n",
        "class C(A, B):\n",
        "    pass\n",
        "\n",
        "c = C()\n",
        "c.hello() # 주의! python의 코드의 특성상 hello B라고 오해할만합니다. 2.x와 3.x가 상속에 순서가 다릅니다."
      ],
      "metadata": {
        "colab": {
          "base_uri": "https://localhost:8080/"
        },
        "id": "gCHoP2jD6Cil",
        "outputId": "cd65b7a1-1fe0-46e6-8ffb-ca22f67635c3"
      },
      "execution_count": null,
      "outputs": [
        {
          "output_type": "stream",
          "name": "stdout",
          "text": [
            "hello A\n"
          ]
        }
      ]
    },
    {
      "cell_type": "code",
      "source": [
        "#  # 주의!python의 2.x와 3.x가 상속에 순서가 다릅니다.\n",
        "\n",
        "# class A:\n",
        "\n",
        "#     def hello(self):\n",
        "#         print('hello A')\n",
        "\n",
        "# class B(A):\n",
        "\n",
        "#     def hello(self):\n",
        "#         print('hello B')\n",
        "\n",
        "# class C(A):\n",
        "#     def hello(self):\n",
        "#         print('hello')\n",
        "\n",
        "# class D(B, C):\n",
        "#     pass\n",
        "\n",
        "# d = D()\n",
        "# d.hello()\n",
        "# D.mro()"
      ],
      "metadata": {
        "id": "BAWaIuZY5NiQ"
      },
      "execution_count": null,
      "outputs": []
    },
    {
      "cell_type": "code",
      "source": [
        "# 다중 상속을 했을 때 정상작동 하는경우\n",
        "class A:\n",
        "\n",
        "    def hello(self):\n",
        "        print('hello A')\n",
        "\n",
        "class B(A):\n",
        "\n",
        "    def hello(self):\n",
        "        print('hello B')\n",
        "\n",
        "class C(B):\n",
        "    def hello(self):\n",
        "        print('hello C')\n",
        "\n",
        "class D(C, B):\n",
        "    pass\n",
        "\n",
        "d = D()\n",
        "d.hello()"
      ],
      "metadata": {
        "colab": {
          "base_uri": "https://localhost:8080/"
        },
        "id": "iEt0FauS8FNt",
        "outputId": "099eaf60-8b3e-46e1-c26a-567e106e1509"
      },
      "execution_count": null,
      "outputs": [
        {
          "output_type": "stream",
          "name": "stdout",
          "text": [
            "hello C\n"
          ]
        }
      ]
    },
    {
      "cell_type": "code",
      "source": [
        "# 다중 상속을 했을 때 상속에서 error가 나는 경우 - error\n",
        "class A:\n",
        "\n",
        "    def hello(self):\n",
        "        print('hello A')\n",
        "\n",
        "class B(A):\n",
        "\n",
        "    def hello(self):\n",
        "        print('hello B')\n",
        "\n",
        "class C(B):\n",
        "    def hello(self):\n",
        "        print('hello C')\n",
        "\n",
        "class D(B, C):\n",
        "    pass\n",
        "\n",
        "d = D()\n",
        "d.hello()"
      ],
      "metadata": {
        "id": "DWOeQwb_8Tet"
      },
      "execution_count": null,
      "outputs": []
    },
    {
      "cell_type": "markdown",
      "source": [
        "## 연습문제\n",
        "\n",
        "게임에서 케릭터를 구현할 예정입니다. 아래 클래스를 적절하게 조합하여 hero 인스턴스와 villain 인스턴스를 만들어주세요.\n",
        "\n",
        "1. class Body(능력치)\n",
        "2. class Weapon(무기)\n",
        "3. class WeaponEnhancement(무기강화)\n",
        "4. class Skill(기술)\n",
        "5. class Equipment(장비)\n",
        "6. class Role(히어로인지, 빌런인지, 몹인지)"
      ],
      "metadata": {
        "id": "uIwuO5Pp-ncM"
      }
    },
    {
      "cell_type": "code",
      "source": [
        "# 강사님\n",
        "class Weapon:\n",
        "    def setDamage(self, damage):\n",
        "        self.damage = damage\n",
        "\n",
        "class WeaponEnhancement(Weapon):\n",
        "    def setEnhance(self, success):\n",
        "        if success == True:\n",
        "            self.damage *= 5\n",
        "        else:\n",
        "            self.damage = 0\n",
        "\n",
        "class Equipment(WeaponEnhancement):\n",
        "    pass\n",
        "\n",
        "class Role:\n",
        "    def setRole(self, role):\n",
        "        self.role = role\n",
        "\n",
        "class Skill:\n",
        "    def jarvis(self):\n",
        "        return '자비스! 도와줘!'\n",
        "\n",
        "    def beam(self):\n",
        "        return '나가라 빔!'\n",
        "\n",
        "class Body(Role, Skill, Equipment):\n",
        "    def __init__(self, role, hp, mp, power):\n",
        "        self.setRole(role)\n",
        "\n",
        "ironman = Body('hero', 100, 100, 100)\n",
        "thanos = Body('villain', 100, 100, 80)\n",
        "ironman.role\n",
        "ironman.jarvis()\n",
        "ironman.setDamage(1000)\n",
        "ironman.damage\n",
        "ironman.setEnhance(True)\n",
        "ironman.setEnhance(True)\n",
        "ironman.damage"
      ],
      "metadata": {
        "colab": {
          "base_uri": "https://localhost:8080/"
        },
        "id": "dxQIAl-zF5l9",
        "outputId": "7dd6ec4d-0015-4b50-8328-b2a96d11f215"
      },
      "execution_count": null,
      "outputs": [
        {
          "output_type": "execute_result",
          "data": {
            "text/plain": [
              "5000"
            ]
          },
          "metadata": {},
          "execution_count": 25
        }
      ]
    },
    {
      "cell_type": "code",
      "source": [
        "# 무기\n",
        "class Weapon:\n",
        "\n",
        "    def setDamage(self, damage):\n",
        "        self.damage = damage\n",
        "\n",
        "# 무기 강화\n",
        "class WeaponEnhancement(Weapon):\n",
        "    def setEnhance(self, success):\n",
        "        if success == True:\n",
        "            self.damage *= 5\n",
        "        else:\n",
        "            self.dagame = 0\n",
        "\n",
        "# 장비\n",
        "class Equipment(WeaponEnhancement):\n",
        "\n",
        "    def __init__(self, Wname, Wdamage):\n",
        "        self.Wname = Wname\n",
        "        self.Wdamage= Wdamage\n",
        "\n",
        "# 역할\n",
        "class Role:\n",
        "\n",
        "    def setRole(self, role):\n",
        "        self.role = role\n",
        "\n",
        "# 스킬\n",
        "class Skill:\n",
        "    Sname = ''\n",
        "    Sdamage = 0\n",
        "\n",
        "    def __init__(self, Sname, Sdamage):\n",
        "        self.Sname = Sname\n",
        "        self.Sdamage = Sdamage\n",
        "\n",
        "    def jarvis(self):\n",
        "        return '자비스! 도와줘!'\n",
        "\n",
        "    def beam(self):\n",
        "        return '나가라 빔'\n",
        "\n",
        "    def FingerSnap(self):\n",
        "        return 'end game'\n",
        "\n",
        "# 능력치\n",
        "class Body(Role, Skill, Equipment):\n",
        "    hp = 10\n",
        "    mp = 5\n",
        "    power = 5\n",
        "    defense = 3\n",
        "\n",
        "    def __init__(self, role, hp, mp, power, defense, skill, equipment):\n",
        "        self.setRole(role)\n",
        "        self.hp = hp\n",
        "        self.mp = mp\n",
        "        self.power = power\n",
        "        self.defense = defense\n",
        "        self.skill = skill\n",
        "        self.equipment = equipment\n",
        "\n",
        "\n",
        "ironman = Body('hero', 100, 100, 10, 100, Skill('빔', 500), Equipment('ironman', 100))\n",
        "thanos = Body('villain', 100, 100, 80, 80, Skill('end game', 1000), Equipment('Gauntlet', 100))"
      ],
      "metadata": {
        "id": "lVMK2HQkJbu0"
      },
      "execution_count": null,
      "outputs": []
    },
    {
      "cell_type": "markdown",
      "source": [
        "# 클래스 심화"
      ],
      "metadata": {
        "id": "CLgNS6dTx1Ht"
      }
    },
    {
      "cell_type": "markdown",
      "source": [
        "## 클래스 메서드"
      ],
      "metadata": {
        "id": "CvC8UioSzVjl"
      }
    },
    {
      "cell_type": "code",
      "source": [
        "# 클래스 메서드\n",
        "class MyClass:\n",
        "    count = 0\n",
        "\n",
        "    @classmethod\n",
        "    def increment(cls):\n",
        "        cls.count += 1\n",
        "\n",
        "a = MyClass()\n",
        "b = MyClass()\n",
        "\n",
        "MyClass.increment()\n",
        "print(MyClass.count) # 출력: 1\n",
        "\n",
        "a.count, b.count\n",
        "\n",
        "MyClass.increment()\n",
        "\n",
        "a.count, b.count"
      ],
      "metadata": {
        "id": "F2_GTGzWPxai",
        "colab": {
          "base_uri": "https://localhost:8080/"
        },
        "outputId": "76897e09-47bd-4e91-dc90-7a4c47e38b91"
      },
      "execution_count": null,
      "outputs": [
        {
          "output_type": "stream",
          "name": "stdout",
          "text": [
            "1\n"
          ]
        },
        {
          "output_type": "execute_result",
          "data": {
            "text/plain": [
              "(2, 2)"
            ]
          },
          "metadata": {},
          "execution_count": 3
        }
      ]
    },
    {
      "cell_type": "code",
      "source": [
        "# 클래스 메서드\n",
        "class MyClass:\n",
        "    count = 0\n",
        "\n",
        "    def increment(self):\n",
        "        self.count += 1\n",
        "\n",
        "a = MyClass()\n",
        "b = MyClass()\n",
        "\n",
        "# MyClass.increment() # error\n",
        "a.increment()\n",
        "\n",
        "print(a.count, b.count)\n",
        "\n",
        "a.increment()\n",
        "\n",
        "print(a.count, b.count)"
      ],
      "metadata": {
        "colab": {
          "base_uri": "https://localhost:8080/"
        },
        "id": "yPrvNDlsx4yw",
        "outputId": "6060a09b-ce78-4b57-de33-a3d9f91ff4c5"
      },
      "execution_count": null,
      "outputs": [
        {
          "output_type": "stream",
          "name": "stdout",
          "text": [
            "1 0\n",
            "2 0\n"
          ]
        }
      ]
    },
    {
      "cell_type": "markdown",
      "source": [
        "## 정적 메서드"
      ],
      "metadata": {
        "id": "xyTBWFV9zZtt"
      }
    },
    {
      "cell_type": "code",
      "source": [
        "class MyClass:\n",
        "    @staticmethod\n",
        "    def my_method(x, y):\n",
        "        return x + y\n",
        "\n",
        "print(MyClass.my_method(5, 3))  # 출력: 8"
      ],
      "metadata": {
        "id": "kNRKgQNuzThI",
        "colab": {
          "base_uri": "https://localhost:8080/"
        },
        "outputId": "81ace796-4d22-4434-b77f-2f1bd18cf506"
      },
      "execution_count": 5,
      "outputs": [
        {
          "output_type": "stream",
          "name": "stdout",
          "text": [
            "8\n"
          ]
        }
      ]
    },
    {
      "cell_type": "code",
      "source": [
        "class MyClass:\n",
        "    count = 10\n",
        "\n",
        "    @staticmethod\n",
        "    def my_method(x, y):\n",
        "        #print(count) # 읽는 것 조차 접근이 안됩니다.\n",
        "        return x + y + count\n",
        "\n",
        "print(MyClass.my_method(5, 3))  # 출력: 8"
      ],
      "metadata": {
        "id": "tvUyg2YNzv1X"
      },
      "execution_count": null,
      "outputs": []
    },
    {
      "cell_type": "code",
      "source": [
        "class 학사정보시스템:\n",
        "    학점총점 = 120\n",
        "\n",
        "    def __init__(self):\n",
        "        self.학기점수 = []\n",
        "\n",
        "    def 학점추가(self, 이번학기점수):\n",
        "        self.학기점수.append(이번학기점수)\n",
        "\n",
        "    def 학점평균(self):\n",
        "        return sum(self.학기점수)/len(self.학기점수)\n",
        "\n",
        "    def 졸업장출력(self):\n",
        "        return f'총학점 {self.학점총점}학점, {self.학점평균()}으로 졸업하셨습니다.'\n",
        "\n",
        "피카츄 = 학사정보시스템()\n",
        "꼬부기 = 학사정보시스템()\n",
        "\n",
        "피카츄.학점추가(3.2)\n",
        "피카츄.학점추가(3.5)\n",
        "피카츄.학점추가(3.0)\n",
        "피카츄.학점추가(3.2)\n",
        "피카츄.학점추가(3.3)\n",
        "피카츄.학점추가(3.8)\n",
        "피카츄.학점추가(3.0)\n",
        "피카츄.학점추가(2.8)\n",
        "\n",
        "피카츄.학점평균()\n",
        "피카츄.졸업장출력()"
      ],
      "metadata": {
        "colab": {
          "base_uri": "https://localhost:8080/",
          "height": 35
        },
        "id": "nqoN32sD0XQ-",
        "outputId": "7db1861d-a930-40d4-c625-eeb205061256"
      },
      "execution_count": 9,
      "outputs": [
        {
          "output_type": "execute_result",
          "data": {
            "text/plain": [
              "'총학점 120학점, 3.125으로 졸업하셨습니다.'"
            ],
            "application/vnd.google.colaboratory.intrinsic+json": {
              "type": "string"
            }
          },
          "metadata": {},
          "execution_count": 9
        }
      ]
    },
    {
      "cell_type": "code",
      "source": [
        "# 스토리 : 중간에 총학점이 120학점에서 60학점으로 바뀌어서 조기졸업을 할 수 있게 되었습니다!\n",
        "class 학사정보시스템:\n",
        "    학점총점 = 120\n",
        "\n",
        "    def __init__(self):\n",
        "        self.학기점수 = []\n",
        "\n",
        "    def 학점추가(self, 이번학기점수):\n",
        "        self.학기점수.append(이번학기점수)\n",
        "\n",
        "    def 학점평균(self):\n",
        "        return sum(self.학기점수)/len(self.학기점수)\n",
        "\n",
        "    def 졸업장출력(self):\n",
        "        return f'총학점 {self.학점총점}학점, {self.학점평균()}으로 졸업하셨습니다.'\n",
        "\n",
        "피카츄 = 학사정보시스템()\n",
        "꼬부기 = 학사정보시스템()\n",
        "\n",
        "피카츄.학점추가(3.2)\n",
        "피카츄.학점추가(3.5)\n",
        "# 총학점 변경\n",
        "피카츄. 학점총점 = 60\n",
        "피카츄.학점추가(3.0)\n",
        "피카츄.학점추가(2.8)\n",
        "\n",
        "피카츄.학점평균()\n",
        "피카츄.졸업장출력()"
      ],
      "metadata": {
        "colab": {
          "base_uri": "https://localhost:8080/",
          "height": 35
        },
        "id": "22Fc2Vmy1w83",
        "outputId": "a43a2f30-cafa-4c86-c850-9c7611c78672"
      },
      "execution_count": 12,
      "outputs": [
        {
          "output_type": "execute_result",
          "data": {
            "text/plain": [
              "'총학점 60학점, 3.125으로 졸업하셨습니다.'"
            ],
            "application/vnd.google.colaboratory.intrinsic+json": {
              "type": "string"
            }
          },
          "metadata": {},
          "execution_count": 12
        }
      ]
    },
    {
      "cell_type": "code",
      "source": [
        "꼬부기.학점추가(3.3)\n",
        "꼬부기.학점추가(3.8)\n",
        "꼬부기.학점추가(3.0)\n",
        "꼬부기.학점추가(2.8)\n",
        "\n",
        "꼬부기.졸업장출력()"
      ],
      "metadata": {
        "colab": {
          "base_uri": "https://localhost:8080/",
          "height": 35
        },
        "id": "g735-GRy4aed",
        "outputId": "ad52fa0e-fa97-49b7-8da6-e84a047db0bb"
      },
      "execution_count": 15,
      "outputs": [
        {
          "output_type": "execute_result",
          "data": {
            "text/plain": [
              "'총학점 120학점, 3.233333333333333으로 졸업하셨습니다.'"
            ],
            "application/vnd.google.colaboratory.intrinsic+json": {
              "type": "string"
            }
          },
          "metadata": {},
          "execution_count": 15
        }
      ]
    },
    {
      "cell_type": "code",
      "source": [
        "# 스토리 : 중간에 총학점이 120학점에서 60학점으로 바뀌어서 조기졸업을 할 수 있게 되었습니다!\n",
        "class 학사정보시스템:\n",
        "    학점총점 = 120\n",
        "\n",
        "    def __init__(self):\n",
        "        self.학기점수 = []\n",
        "\n",
        "    def 학점추가(self, 이번학기점수):\n",
        "        self.학기점수.append(이번학기점수)\n",
        "\n",
        "    def 학점평균(self):\n",
        "        return sum(self.학기점수)/len(self.학기점수)\n",
        "\n",
        "    def 졸업장출력(self):\n",
        "        return f'총학점 {self.학점총점}학점, {self.학점평균()}으로 졸업하셨습니다.'\n",
        "\n",
        "피카츄 = 학사정보시스템()\n",
        "꼬부기 = 학사정보시스템()\n",
        "\n",
        "피카츄.학점추가(3.2)\n",
        "피카츄.학점추가(3.5)\n",
        "학사정보시스템.학점총점 = 60 # 이 코드가 변경이 된 것입니다. 이 방법을 저는 많이 사용하는데요.\n",
        "# 저는 이 코드의 위험성을 알고 있습니다. 제가 실수하지 않을 것을 알고 있기 때문에 이 코드를 사용합니다.\n",
        "# 협업을 하거나 안정성을 더 확보하고 싶다면 클래스 메서드로 수정을 해주세요.\n",
        "피카츄.학점추가(3.0)\n",
        "피카츄.학점추가(2.8)\n",
        "\n",
        "피카츄.학점평균()\n",
        "print(피카츄.졸업장출력())\n",
        "\n",
        "꼬부기.학점추가(3.0)\n",
        "print(꼬부기.졸업장출력()) # 둘 다 변한 것을 확인할 수 있습니다."
      ],
      "metadata": {
        "colab": {
          "base_uri": "https://localhost:8080/"
        },
        "id": "ZDKTvsZu27K1",
        "outputId": "da720ba1-4823-4af3-c6e0-a521fad9c3ea"
      },
      "execution_count": 11,
      "outputs": [
        {
          "output_type": "stream",
          "name": "stdout",
          "text": [
            "총학점 60학점, 3.125으로 졸업하셨습니다.\n",
            "총학점 60학점, 3.0으로 졸업하셨습니다.\n"
          ]
        }
      ]
    },
    {
      "cell_type": "code",
      "source": [
        "# 스토리 : 중간에 총학점이 120학점에서 60학점으로 바뀌어서 조기졸업을 할 수 있게 되었습니다!\n",
        "class 학사정보시스템:\n",
        "    학점총점 = 120\n",
        "\n",
        "    def __init__(self):\n",
        "        self.학기점수 = []\n",
        "\n",
        "    def 학점추가(self, 이번학기점수):\n",
        "        self.학기점수.append(이번학기점수)\n",
        "\n",
        "    def 학점평균(self):\n",
        "        return sum(self.학기점수)/len(self.학기점수)\n",
        "\n",
        "    def 졸업장출력(self):\n",
        "        return f'총학점 {self.학점총점}학점, {self.학점평균()}으로 졸업하셨습니다.'\n",
        "\n",
        "    @classmethod\n",
        "    def 학점총점변경(cls, 총점):\n",
        "        if isinstance(총점, int):\n",
        "            cls.학점총점 = 총점\n",
        "            return '변경됨'\n",
        "        return '변경안됨'\n",
        "\n",
        "피카츄 = 학사정보시스템()\n",
        "꼬부기 = 학사정보시스템()\n",
        "\n",
        "피카츄.학점추가(3.2)\n",
        "피카츄.학점추가(3.5)\n",
        "학사정보시스템.학점총점 = '60' # 위험한 상황, 숫자가 들어가야 하는데 문자가 들어갔습니다.\n",
        "# 만약에 학점총점으로 들어가는 산술 연산되는 메서드가 있었다면 이제 그 메서드는 오류를 냅니다.\n",
        "# 60 # 이 코드가 변경이 된 것입니다. 이 방법을 저는 많이 사용하는데요.\n",
        "# 저는 이 코드의 위험성을 알고 있습니다. 제가 실수하지 않을 것을 알고 있기 때문에 이 코드를 사용합니다.\n",
        "# 협업을 하거나 안정성을 더 확보하고 싶다면 클래스 메서드로 수정을 해주세요.\n",
        "피카츄.학점추가(3.0)\n",
        "피카츄.학점추가(2.8)\n",
        "\n",
        "피카츄.학점평균()\n",
        "print(피카츄.졸업장출력())\n",
        "\n",
        "꼬부기.학점추가(3.0)\n",
        "print(꼬부기.졸업장출력()) # 둘 다 변한 것을 확인할 수 있습니다."
      ],
      "metadata": {
        "colab": {
          "base_uri": "https://localhost:8080/"
        },
        "id": "xMB_DlzZ3orY",
        "outputId": "c0ecb453-61e3-4cb1-f09a-dc05030862e1"
      },
      "execution_count": 16,
      "outputs": [
        {
          "output_type": "stream",
          "name": "stdout",
          "text": [
            "총학점 60학점, 3.125으로 졸업하셨습니다.\n",
            "총학점 60학점, 3.0으로 졸업하셨습니다.\n"
          ]
        }
      ]
    },
    {
      "cell_type": "code",
      "source": [
        "# 스토리 : 중간에 총학점이 120학점에서 60학점으로 바뀌어서 조기졸업을 할 수 있게 되었습니다!\n",
        "class 학사정보시스템:\n",
        "    학점총점 = 120\n",
        "\n",
        "    def __init__(self):\n",
        "        self.학기점수 = []\n",
        "\n",
        "    def 학점추가(self, 이번학기점수):\n",
        "        self.학기점수.append(이번학기점수)\n",
        "\n",
        "    def 학점평균(self):\n",
        "        return sum(self.학기점수)/len(self.학기점수)\n",
        "\n",
        "    def 졸업장출력(self):\n",
        "        return f'총학점 {self.학점총점}학점, {self.학점평균()}으로 졸업하셨습니다.'\n",
        "\n",
        "    @classmethod\n",
        "    def 학점총점변경(cls, 총점):\n",
        "        if isinstance(총점, int):\n",
        "            cls.학점총점 = 총점\n",
        "            return '변경됨'\n",
        "        return '변경안됨'\n",
        "\n",
        "피카츄 = 학사정보시스템()\n",
        "꼬부기 = 학사정보시스템()\n",
        "\n",
        "피카츄.학점추가(3.2)\n",
        "피카츄.학점추가(3.5)\n",
        "학사정보시스템.학점총점변경(60)\n",
        "학사정보시스템.학점총점변경(120.5) # 무시\n",
        "학사정보시스템.학점총점변경('60') # 무시\n",
        "피카츄.학점추가(3.0)\n",
        "피카츄.학점추가(2.8)\n",
        "\n",
        "피카츄.학점평균()\n",
        "print(피카츄.졸업장출력())\n",
        "\n",
        "꼬부기.학점추가(3.0)\n",
        "print(꼬부기.졸업장출력()) # 둘 다 변한 것을 확인할 수 있습니다."
      ],
      "metadata": {
        "id": "VY274-m85P1F"
      },
      "execution_count": null,
      "outputs": []
    },
    {
      "cell_type": "code",
      "source": [
        "class 학사정보시스템:\n",
        "    학점총점 = 120\n",
        "\n",
        "    def __init__(self):\n",
        "        self.학기점수 = []\n",
        "\n",
        "    def 학점추가(self, 이번학기점수):\n",
        "        self.학기점수.append(이번학기점수)\n",
        "\n",
        "    def 학점평균(self):\n",
        "        return sum(self.학기점수)/len(self.학기점수)\n",
        "\n",
        "    def 졸업장출력(self):\n",
        "        return f'총학점 {self.학점총점}학점, {self.학점평균()}으로 졸업하셨습니다.'\n",
        "\n",
        "    @staticmethod\n",
        "    def 학사경고(이번학기점수):\n",
        "        '''\n",
        "        내부에서 클래스 변수, 인스턴스 변수 수정하는 것이 가능하지 않습니다.\n",
        "        '''\n",
        "        if 이번학기점수 - 1.5 > 0:\n",
        "            return '학사경고 아님!'\n",
        "        return '학사경고임!'\n",
        "\n",
        "    @classmethod\n",
        "    def 학점총점변경(cls, 총점):\n",
        "        if isinstance(총점, int):\n",
        "            cls.학점총점 = 총점\n",
        "            return '변경됨'\n",
        "        return '변경안됨'\n",
        "\n",
        "학사정보시스템.학사경고(1.4)\n",
        "학사정보시스템.학사경고(1.6)"
      ],
      "metadata": {
        "colab": {
          "base_uri": "https://localhost:8080/",
          "height": 35
        },
        "id": "V7XkpYRK6GMG",
        "outputId": "34c78b22-57f7-4115-c791-27d3c4727f7a"
      },
      "execution_count": 17,
      "outputs": [
        {
          "output_type": "execute_result",
          "data": {
            "text/plain": [
              "'학사경고 아님!'"
            ],
            "application/vnd.google.colaboratory.intrinsic+json": {
              "type": "string"
            }
          },
          "metadata": {},
          "execution_count": 17
        }
      ]
    },
    {
      "cell_type": "markdown",
      "source": [
        "# 속성 접근자와 덕타이핑"
      ],
      "metadata": {
        "id": "Z9YK3Ngd9jXN"
      }
    },
    {
      "cell_type": "code",
      "source": [
        "class Person:\n",
        "    def __init__(self, first_name, last_name):\n",
        "        self._first_name = first_name\n",
        "        self._last_name = last_name\n",
        "\n",
        "    @property\n",
        "    def full_name(self):\n",
        "        return f'{self._first_name}{self._last_name}'\n",
        "\n",
        "licat = Person('li', 'cat')\n",
        "print(licat._first_name)\n",
        "print(licat._last_name)\n",
        "print(licat.full_name)\n",
        "# print(licat.full_name())"
      ],
      "metadata": {
        "colab": {
          "base_uri": "https://localhost:8080/"
        },
        "id": "nf-kahzj6zzw",
        "outputId": "0e63c90e-886e-4c76-9cab-b884612cf218"
      },
      "execution_count": 18,
      "outputs": [
        {
          "output_type": "stream",
          "name": "stdout",
          "text": [
            "li\n",
            "cat\n",
            "licat\n"
          ]
        }
      ]
    },
    {
      "cell_type": "code",
      "source": [
        "class Person:\n",
        "    def __init__(self, first_name, last_name):\n",
        "        self._first_name = first_name\n",
        "        self._last_name = last_name\n",
        "\n",
        "    @property\n",
        "    def full_name(self):\n",
        "        return f'{self._first_name}{self._last_name}'\n",
        "\n",
        "    def namemul(self):\n",
        "        return self.full_name * 2 # 클래스 내부에서도 self.full_name, 인스턴스 변수처럼 취급됩니다.\n",
        "\n",
        "licat = Person('li', 'cat')\n",
        "mura = Person('mu', 'ra')\n",
        "print(licat._first_name)\n",
        "print(licat._last_name)\n",
        "print(licat.full_name) # 클래스 변수였다면 둘 다 같은 값을 출력했었어야 합니다.\n",
        "print(mura.full_name) # 클래스 변수였다면 둘 다 같은 값을 출력했었어야 합니다.\n",
        "print(mura.namemul())"
      ],
      "metadata": {
        "colab": {
          "base_uri": "https://localhost:8080/"
        },
        "id": "MDASSSaG9mPU",
        "outputId": "9db2e46e-1a98-4c9c-e29b-8d0baf640e75"
      },
      "execution_count": 19,
      "outputs": [
        {
          "output_type": "stream",
          "name": "stdout",
          "text": [
            "li\n",
            "cat\n",
            "licat\n",
            "mura\n",
            "muramura\n"
          ]
        }
      ]
    },
    {
      "cell_type": "markdown",
      "source": [
        "## 덕 타이핑"
      ],
      "metadata": {
        "id": "ErEgC5o9-l2t"
      }
    },
    {
      "cell_type": "code",
      "source": [
        "class Duck:\n",
        "    def quack(self):\n",
        "        print('꽥꽥!')\n",
        "\n",
        "class Person:\n",
        "    def quack(self):\n",
        "        print(\"안녕하세요!\")\n",
        "\n",
        "def quack(obj):\n",
        "    obj.quack()\n",
        "\n",
        "duck = Duck()\n",
        "person = Person()\n",
        "\n",
        "quack(duck)  # 출력: 꽥꽥!\n",
        "quack(person)  # 출력: 안녕하세요!"
      ],
      "metadata": {
        "colab": {
          "base_uri": "https://localhost:8080/"
        },
        "id": "8aVxpgobCSSV",
        "outputId": "71864bb9-2f06-4df4-b182-3a98a79e5062"
      },
      "execution_count": 24,
      "outputs": [
        {
          "output_type": "stream",
          "name": "stdout",
          "text": [
            "꽥꽥!\n",
            "안녕하세요!\n"
          ]
        }
      ]
    },
    {
      "cell_type": "code",
      "source": [
        "class Hero:\n",
        "    def move(self):\n",
        "        print('h 움직임')\n",
        "\n",
        "class Villain:\n",
        "    def move(self):\n",
        "        print('v 움직임')\n",
        "\n",
        "class Mob:\n",
        "    def move(self):\n",
        "        print('m 움직임')\n",
        "\n",
        "def move(obj):\n",
        "    obj.move()\n",
        "\n",
        "a = Hero()\n",
        "b = Villain()\n",
        "c = Mob()\n",
        "\n",
        "등장인물 = [a, b, c]\n",
        "\n",
        "for person in 등장인물:\n",
        "    move(person)"
      ],
      "metadata": {
        "colab": {
          "base_uri": "https://localhost:8080/"
        },
        "id": "3yCNjti0-jTT",
        "outputId": "130485b7-d18f-45ad-fbc4-22659f0cce34"
      },
      "execution_count": 21,
      "outputs": [
        {
          "output_type": "stream",
          "name": "stdout",
          "text": [
            "h 움직임\n",
            "v 움직임\n",
            "m 움직임\n"
          ]
        }
      ]
    },
    {
      "cell_type": "markdown",
      "source": [
        "# 추상 클래스와 인터페티스"
      ],
      "metadata": {
        "id": "0DofHY72DdZV"
      }
    },
    {
      "cell_type": "code",
      "source": [
        "from abc import ABC, abstractmethod\n",
        "\n",
        "class Person:\n",
        "\n",
        "    def 숨쉬기(self):\n",
        "        pass\n",
        "\n",
        "    def 밥먹기(self):\n",
        "        pass\n",
        "\n",
        "\n",
        "class Hero(Person):\n",
        "\n",
        "    def 날아다니기(self):\n",
        "        pass\n",
        "\n",
        "\n",
        "ironman = Hero()\n",
        "ironman.숨쉬기()"
      ],
      "metadata": {
        "id": "8NgJghTPEdpd"
      },
      "execution_count": 25,
      "outputs": []
    },
    {
      "cell_type": "code",
      "source": [
        "from abc import ABC, abstractmethod\n",
        "\n",
        "class Person:\n",
        "\n",
        "    @abstractmethod\n",
        "    def 숨쉬기(self):\n",
        "        pass\n",
        "\n",
        "    @abstractmethod\n",
        "    def 밥먹기(self):\n",
        "        pass\n",
        "\n",
        "\n",
        "class Hero(Person):\n",
        "\n",
        "    def 날아다니기(self):\n",
        "        pass\n",
        "\n",
        "\n",
        "ironman = Hero()\n",
        "ironman.숨쉬기()"
      ],
      "metadata": {
        "id": "2-xQpZ7WBweo"
      },
      "execution_count": 26,
      "outputs": []
    },
    {
      "cell_type": "code",
      "source": [
        "from abc import ABC, abstractmethod\n",
        "\n",
        "class Person:\n",
        "    def move(self):\n",
        "        pass\n",
        "\n",
        "\n",
        "class Hero(Person):\n",
        "    pass\n",
        "\n",
        "\n",
        "ironman = Hero()\n",
        "ironman.move()"
      ],
      "metadata": {
        "id": "HcoeSOjIFJgg"
      },
      "execution_count": null,
      "outputs": []
    },
    {
      "cell_type": "code",
      "source": [
        "from abc import ABC, abstractmethod\n",
        "\n",
        "class Person(ABC): # ABC를 상속받고\n",
        "\n",
        "    @abstractmethod # abstractmethod라고 선언을 하면\n",
        "    def move(self):\n",
        "        pass\n",
        "\n",
        "\n",
        "class Hero(Person): # 상속받은 자식에서 반드시 메서드 오버라이딩이 일어나야 합니다.\n",
        "    def move(self):\n",
        "        print('날아다님!')\n",
        "\n",
        "ironman = Hero()\n",
        "ironman.move()"
      ],
      "metadata": {
        "id": "BqzEN0z5FLWd"
      },
      "execution_count": null,
      "outputs": []
    },
    {
      "cell_type": "markdown",
      "source": [
        "## 인터페이스\n",
        "\n",
        "인터페이스는 객체가 어떤 메서드를 구현해야 하는지 정의한 것입니다. Python에서는 다른 언어들과 달리 인터페이스라는 내장 키워드나 구조가 없습니다. 그러나 추상 클래스를 이용하여 인터페이스처럼 동작하는 클래스를 만들 수 있습니다. 이렇게 추상 클래스로 이를 상속받은 클래스가 특정 메서드를 구현하게 강제함으로 구조적인 특징을 가질 수 있도록 합니다."
      ],
      "metadata": {
        "id": "PC2bMCr9Frpd"
      }
    },
    {
      "cell_type": "code",
      "source": [
        "from abc import ABC, abstractmethod\n",
        "\n",
        "class MyInterface(ABC):\n",
        "\n",
        "    @abstractmethod\n",
        "    def method1(self):\n",
        "        pass\n",
        "\n",
        "    @abstractmethod\n",
        "    def method2(self):\n",
        "        pass"
      ],
      "metadata": {
        "id": "rcNanN8aFyaG"
      },
      "execution_count": null,
      "outputs": []
    },
    {
      "cell_type": "code",
      "source": [
        "class Finder(metaclass=abc.ABCMeta):\n",
        "\n",
        "    \"\"\"Legacy abstract base class for import finders.\n",
        "\n",
        "    It may be subclassed for compatibility with legacy third party\n",
        "    reimplementations of the import system.  Otherwise, finder\n",
        "    implementations should derive from the more specific MetaPathFinder\n",
        "    or PathEntryFinder ABCs.\n",
        "\n",
        "    Deprecated since Python 3.3\n",
        "    \"\"\"\n",
        "\n",
        "    def __init__(self):\n",
        "        warnings.warn(\"the Finder ABC is deprecated and \"\n",
        "                       \"slated for removal in Python 3.12; use MetaPathFinder \"\n",
        "                       \"or PathEntryFinder instead\",\n",
        "                       DeprecationWarning)\n",
        "\n",
        "    @abc.abstractmethod\n",
        "    def find_module(self, fullname, path=None):\n",
        "        \"\"\"An abstract method that should find a module.\n",
        "        The fullname is a str and the optional path is a str or None.\n",
        "        Returns a Loader object or None.\n",
        "        \"\"\"\n",
        "        warnings.warn(\"importlib.abc.Finder along with its find_module() \"\n",
        "                      \"method are deprecated and \"\n",
        "                       \"slated for removal in Python 3.12; use \"\n",
        "                       \"MetaPathFinder.find_spec() or \"\n",
        "                       \"PathEntryFinder.find_spec() instead\",\n",
        "                       DeprecationWarning)"
      ],
      "metadata": {
        "id": "0rHDsx-bG5Qt"
      },
      "execution_count": null,
      "outputs": []
    },
    {
      "cell_type": "markdown",
      "source": [
        "# 비공개 속성(Private Attributes)\n",
        " 클래스 내부에서만 접근이 가능하며 외부에서는 접근이 제한되는 속성을 의미합니다. 파이썬에서는 속성 이름 앞에 두 개의 언더스코어(`__`)를 붙여 해당 속성을 비공개처럼 표현할 수 있습니다."
      ],
      "metadata": {
        "id": "P0Nxx3QHHG2l"
      }
    },
    {
      "cell_type": "code",
      "source": [
        "# 비공개 속성이 조작 불가능한게 아닙니다!\n",
        "class MyClass:\n",
        "    __a = 10\n",
        "    _a = 100\n",
        "    b = 20\n",
        "\n",
        "    def __init__(self, c, d):\n",
        "        self.__c = c\n",
        "        self.d = d\n",
        "\n",
        "# MyClass.__a\n",
        "test = MyClass(30, 40)\n",
        "# test.__a # 오!? 접근이 가능하지 않네 => 오해입니다.\n",
        "print(test._MyClass__a)\n",
        "print(test._MyClass__c)"
      ],
      "metadata": {
        "colab": {
          "base_uri": "https://localhost:8080/"
        },
        "id": "-hQn35bAG9BF",
        "outputId": "00188a26-bc8d-4624-c6bd-c9ae1737a5fd"
      },
      "execution_count": 30,
      "outputs": [
        {
          "output_type": "stream",
          "name": "stdout",
          "text": [
            "10\n",
            "30\n"
          ]
        }
      ]
    },
    {
      "cell_type": "code",
      "source": [
        "# 비공개 속성이 조작 불가능한게 아닙니다!\n",
        "class MyClass:\n",
        "    __a = 10\n",
        "    _a = 100\n",
        "    b = 20\n",
        "\n",
        "    def __init__(self, c, d):\n",
        "        self.__c = c\n",
        "        self.d = d\n",
        "\n",
        "# MyClass.__a\n",
        "test = MyClass(30, 40)\n",
        "# test.__a # 오!? 접근이 가능하지 않네 => 오해입니다.\n",
        "test._MyClass__a = 9000\n",
        "test._MyClass__c = 90000\n",
        "\n",
        "print(test._MyClass__a)\n",
        "print(test._MyClass__c)"
      ],
      "metadata": {
        "colab": {
          "base_uri": "https://localhost:8080/"
        },
        "id": "CeQOdkxUH9zW",
        "outputId": "164866fa-a959-4bdb-f677-0e4e733f1114"
      },
      "execution_count": 31,
      "outputs": [
        {
          "output_type": "stream",
          "name": "stdout",
          "text": [
            "9000\n",
            "90000\n"
          ]
        }
      ]
    },
    {
      "cell_type": "markdown",
      "source": [
        "# 모듈과 패키지\n",
        "\n",
        "jun.py 파일 작성 후 아래와 같이 입력해주세요.\n",
        "```python\n",
        "    name = 'leehojun'\n",
        "    age = 10\n",
        "    def hello():\n",
        "        return 'hello world'\n",
        "```"
      ],
      "metadata": {
        "id": "kaVBgyxELihF"
      }
    },
    {
      "cell_type": "code",
      "source": [
        "import jun # 여기서 jun이 모듈입니다!\n",
        "\n",
        "jun.name # 변수를 호출할 수도 있고\n",
        "jun.hello() # 함수를 호출할 수도 있습니다."
      ],
      "metadata": {
        "colab": {
          "base_uri": "https://localhost:8080/",
          "height": 35
        },
        "id": "2Fgo5zz6HoQX",
        "outputId": "12fc5856-43c7-42ef-e116-ce834c8b8652"
      },
      "execution_count": 33,
      "outputs": [
        {
          "output_type": "execute_result",
          "data": {
            "text/plain": [
              "'hello world'"
            ],
            "application/vnd.google.colaboratory.intrinsic+json": {
              "type": "string"
            }
          },
          "metadata": {},
          "execution_count": 33
        }
      ]
    },
    {
      "cell_type": "code",
      "source": [
        "from jun import name, age # 이것도 많이 사용합니다.\n",
        "\n",
        "print(name)\n",
        "print(age)"
      ],
      "metadata": {
        "colab": {
          "base_uri": "https://localhost:8080/"
        },
        "id": "CiPATWoSM17h",
        "outputId": "6bfa7461-73b6-4c2c-a361-20ba7495bcfd"
      },
      "execution_count": 34,
      "outputs": [
        {
          "output_type": "stream",
          "name": "stdout",
          "text": [
            "leehojun\n",
            "10\n"
          ]
        }
      ]
    },
    {
      "cell_type": "code",
      "source": [
        "from jun import name, age # 이것도 많이 사용합니다.\n",
        "from juni import name, age\n",
        "\n",
        "# 그러나 저는 이 문법을 좋아하지 않습니다.\n",
        "# 그러나 이 문법은 정말 많이사용되는 문법입니다.!\n",
        "\n",
        "print(name) # 여기에 이름은 누구인가요? juni\n",
        "rint(age) # 여기에 나이는 누구이죠? juni"
      ],
      "metadata": {
        "id": "FBUJ2fToNV0E"
      },
      "execution_count": null,
      "outputs": []
    },
    {
      "cell_type": "code",
      "source": [
        "from jun import name as n # 이렇게도 사용가능하고\n",
        "\n",
        "print(n)"
      ],
      "metadata": {
        "colab": {
          "base_uri": "https://localhost:8080/"
        },
        "id": "9iPDblbEOGjV",
        "outputId": "b5ae844d-d28a-4d16-e25a-fed4c51c0ec7"
      },
      "execution_count": 35,
      "outputs": [
        {
          "output_type": "stream",
          "name": "stdout",
          "text": [
            "leehojun\n"
          ]
        }
      ]
    },
    {
      "cell_type": "code",
      "source": [
        "import jun as j # 이렇게도 사용 가능합니다.\n",
        "\n",
        "j.name"
      ],
      "metadata": {
        "colab": {
          "base_uri": "https://localhost:8080/",
          "height": 35
        },
        "id": "L6K5xNaJOQN8",
        "outputId": "65f93183-7e42-46cc-bc9f-3462d3025c99"
      },
      "execution_count": 37,
      "outputs": [
        {
          "output_type": "execute_result",
          "data": {
            "text/plain": [
              "'leehojun'"
            ],
            "application/vnd.google.colaboratory.intrinsic+json": {
              "type": "string"
            }
          },
          "metadata": {},
          "execution_count": 37
        }
      ]
    },
    {
      "cell_type": "markdown",
      "source": [
        "참조 주소\n",
        "content/a/b/c/licat.py"
      ],
      "metadata": {
        "id": "SM_eVBv9OzRV"
      }
    },
    {
      "cell_type": "code",
      "source": [
        "import a # 폴더가 있기 때문에 애러가 안난겁니다!\n",
        "\n",
        "print(a)\n",
        "# print(_frozen_importlib_external)\n",
        "# print(a.b.c) # 이렇게 접근할 수 없습니다."
      ],
      "metadata": {
        "colab": {
          "base_uri": "https://localhost:8080/"
        },
        "id": "PXN_ULKiOVhF",
        "outputId": "6eefd801-a4f6-4bb0-e50c-40db9720d37d"
      },
      "execution_count": 38,
      "outputs": [
        {
          "output_type": "stream",
          "name": "stdout",
          "text": [
            "<module 'a' (<_frozen_importlib_external._NamespaceLoader object at 0x7b48d8e6b130>)>\n"
          ]
        }
      ]
    },
    {
      "cell_type": "code",
      "source": [
        "import a.b.c.licat as cat # 폴더가 있기 때문에 애러가 안난겁니다!\n",
        "\n",
        "print(cat)\n",
        "print(cat.name)\n",
        "print(cat.age)"
      ],
      "metadata": {
        "colab": {
          "base_uri": "https://localhost:8080/"
        },
        "id": "NDdMfmZOPu68",
        "outputId": "43977570-db22-45e7-b791-a27f29a72c20"
      },
      "execution_count": 39,
      "outputs": [
        {
          "output_type": "stream",
          "name": "stdout",
          "text": [
            "<module 'a.b.c.licat' from '/content/a/b/c/licat.py'>\n",
            "licat\n",
            "3\n"
          ]
        }
      ]
    },
    {
      "cell_type": "code",
      "source": [
        "import a.b.c.licat\n",
        "\n",
        "# print(licat)\n",
        "print(a.b.c.licat)\n",
        "print(a.b.c.licat.name)\n",
        "print(a.b.c.licat.age)"
      ],
      "metadata": {
        "colab": {
          "base_uri": "https://localhost:8080/"
        },
        "id": "FyE2jcBQQcCm",
        "outputId": "0f16836d-1886-44c0-c58b-a680176f0072"
      },
      "execution_count": 41,
      "outputs": [
        {
          "output_type": "stream",
          "name": "stdout",
          "text": [
            "<module 'a.b.c.licat' from '/content/a/b/c/licat.py'>\n",
            "licat\n",
            "3\n"
          ]
        }
      ]
    },
    {
      "cell_type": "code",
      "source": [
        "# 일반적으로 아래와 같이 사용합니다.\n",
        "# from은 폴더 import는 모듈\n",
        "from a.b.c import licat\n",
        "\n",
        "print(licat)\n",
        "print(licat.name)\n",
        "print(licat.age)"
      ],
      "metadata": {
        "colab": {
          "base_uri": "https://localhost:8080/"
        },
        "id": "6mKcUpAfP8eF",
        "outputId": "e39dfac4-4db6-4f0a-ffe5-0dee32d753b1"
      },
      "execution_count": 40,
      "outputs": [
        {
          "output_type": "stream",
          "name": "stdout",
          "text": [
            "<__main__.Person object at 0x7b490b181810>\n"
          ]
        }
      ]
    },
    {
      "cell_type": "code",
      "source": [
        "!pip list # colab이 정말 많은 모듈이 설치되어 있습니다. 그래서 정말 좋습니다."
      ],
      "metadata": {
        "id": "x9GWfScwQInd"
      },
      "execution_count": null,
      "outputs": []
    },
    {
      "cell_type": "code",
      "source": [
        "# 450,000개 이상의 Python 패키지, 45만개의 바퀴\n",
        "# PyPl(Python Package Index)\n",
        "#https://pypi.org/search/?1=pandas&o="
      ],
      "metadata": {
        "id": "V7LqXn-tsDY1"
      },
      "execution_count": null,
      "outputs": []
    },
    {
      "cell_type": "markdown",
      "source": [
        "# 부록 - 많이 사용하는 모듈\n",
        "```\n",
        "sys\n",
        "math\n",
        "datetime\n",
        "json\n",
        "collection\n",
        "requests\n",
        "```"
      ],
      "metadata": {
        "id": "eT_O5sDavzkV"
      }
    },
    {
      "cell_type": "code",
      "source": [
        "import glob\n",
        "\n",
        "glob.glob('/content/*.py')\n",
        "glob.glob('./*/*.py')\n",
        "glob.glob('./???.py')\n",
        "glob.glob('./ju??.py')\n",
        "glob.glob('*.py')"
      ],
      "metadata": {
        "colab": {
          "base_uri": "https://localhost:8080/"
        },
        "id": "lQwVc7pY1Klt",
        "outputId": "d2f8950f-ae7d-4050-fec4-e176222fe043"
      },
      "execution_count": 57,
      "outputs": [
        {
          "output_type": "execute_result",
          "data": {
            "text/plain": [
              "['jun.py']"
            ]
          },
          "metadata": {},
          "execution_count": 57
        }
      ]
    },
    {
      "cell_type": "code",
      "source": [
        "import os\n",
        "\n",
        "os.getcwd()\n",
        "# glob라는 모듈이 폴더 찾고, 파일찾고 하는 것에는 더 좋습니다."
      ],
      "metadata": {
        "colab": {
          "base_uri": "https://localhost:8080/",
          "height": 35
        },
        "id": "z-H3zoUCwHWs",
        "outputId": "51b642a7-6313-4029-e3c5-3d6971bd7d7b"
      },
      "execution_count": 58,
      "outputs": [
        {
          "output_type": "execute_result",
          "data": {
            "text/plain": [
              "'/content'"
            ],
            "application/vnd.google.colaboratory.intrinsic+json": {
              "type": "string"
            }
          },
          "metadata": {},
          "execution_count": 58
        }
      ]
    },
    {
      "cell_type": "code",
      "source": [
        "for curDir, dirs, files in os.walk('/content'):\n",
        "    for f in files:\n",
        "        print(os.path.join(curDir, f))"
      ],
      "metadata": {
        "id": "-mLW8c0CwZ1d"
      },
      "execution_count": null,
      "outputs": []
    },
    {
      "cell_type": "code",
      "source": [
        "# os.mkdir()\n",
        "# os.rename()\n",
        "# os.remove()"
      ],
      "metadata": {
        "id": "OOm77wcIxA-t"
      },
      "execution_count": null,
      "outputs": []
    },
    {
      "cell_type": "code",
      "source": [
        "import sys\n",
        "\n",
        "a = [1, 2 ,3]\n",
        "b = a\n",
        "c = a\n",
        "#sys..getsizeof()\n",
        "#sys.path\n",
        "sys.getrefcount(a)"
      ],
      "metadata": {
        "colab": {
          "base_uri": "https://localhost:8080/"
        },
        "id": "ELczVEa4xHA9",
        "outputId": "a433af81-4fab-4a26-eaff-2f2227c776df"
      },
      "execution_count": 53,
      "outputs": [
        {
          "output_type": "execute_result",
          "data": {
            "text/plain": [
              "4"
            ]
          },
          "metadata": {},
          "execution_count": 53
        }
      ]
    },
    {
      "cell_type": "code",
      "source": [
        "a = [1, 2, 3, 4]\n",
        "sys.getrefcount(a)"
      ],
      "metadata": {
        "colab": {
          "base_uri": "https://localhost:8080/"
        },
        "id": "q3cTScf0xRHY",
        "outputId": "d8ab3826-c033-419e-85d8-4a5cdfb99ec2"
      },
      "execution_count": 54,
      "outputs": [
        {
          "output_type": "execute_result",
          "data": {
            "text/plain": [
              "2"
            ]
          },
          "metadata": {},
          "execution_count": 54
        }
      ]
    },
    {
      "cell_type": "code",
      "source": [
        "sys\n",
        "\n",
        "math\n",
        "\n",
        "datetime\n",
        "\n",
        "json\n",
        "\n",
        "collection\n",
        "\n",
        "requests"
      ],
      "metadata": {
        "id": "Z0yfjWFQviiF"
      },
      "execution_count": null,
      "outputs": []
    },
    {
      "cell_type": "code",
      "source": [
        "import sys\n",
        "\n",
        "sys.path.append('/content/a/b/c')"
      ],
      "metadata": {
        "id": "QYxsjge3uXAM"
      },
      "execution_count": 46,
      "outputs": []
    },
    {
      "cell_type": "code",
      "source": [
        "import licat\n",
        "\n",
        "licat.name"
      ],
      "metadata": {
        "colab": {
          "base_uri": "https://localhost:8080/",
          "height": 35
        },
        "id": "bYHcaP7euoHF",
        "outputId": "5c153288-c641-48b3-b103-36612aada7b4"
      },
      "execution_count": 48,
      "outputs": [
        {
          "output_type": "execute_result",
          "data": {
            "text/plain": [
              "'licat'"
            ],
            "application/vnd.google.colaboratory.intrinsic+json": {
              "type": "string"
            }
          },
          "metadata": {},
          "execution_count": 48
        }
      ]
    },
    {
      "cell_type": "code",
      "source": [
        "import datetime\n",
        "\n",
        "s = datetime.datetime(2023, 9, 19, 14, 10)\n",
        "print(s)"
      ],
      "metadata": {
        "colab": {
          "base_uri": "https://localhost:8080/"
        },
        "id": "Fb-DoiQfvQ4J",
        "outputId": "6e0e601d-ffb9-4cac-e63c-889c3925270c"
      },
      "execution_count": 60,
      "outputs": [
        {
          "output_type": "stream",
          "name": "stdout",
          "text": [
            "2023-09-19 14:10:00\n"
          ]
        }
      ]
    },
    {
      "cell_type": "code",
      "source": [
        "s.year, s.month, s.day, s.hour"
      ],
      "metadata": {
        "colab": {
          "base_uri": "https://localhost:8080/"
        },
        "id": "CpCb9U0b2jJF",
        "outputId": "de486164-c269-4cde-c061-8725d1f42551"
      },
      "execution_count": 65,
      "outputs": [
        {
          "output_type": "execute_result",
          "data": {
            "text/plain": [
              "(2023, 9, 19, 14)"
            ]
          },
          "metadata": {},
          "execution_count": 65
        }
      ]
    },
    {
      "cell_type": "code",
      "source": [
        "s = datetime.datetime(2023, 9, 18, 14, 10)\n",
        "s.weekday() # 월요일0, 화요일1, 수요일2 ... 일요일6"
      ],
      "metadata": {
        "colab": {
          "base_uri": "https://localhost:8080/"
        },
        "id": "M9nux2ZC2hME",
        "outputId": "dc9334e6-c549-4530-9aa9-e2b6677e47e9"
      },
      "execution_count": 66,
      "outputs": [
        {
          "output_type": "execute_result",
          "data": {
            "text/plain": [
              "0"
            ]
          },
          "metadata": {},
          "execution_count": 66
        }
      ]
    },
    {
      "cell_type": "code",
      "source": [
        "today = datetime.date.today()\n",
        "today"
      ],
      "metadata": {
        "colab": {
          "base_uri": "https://localhost:8080/"
        },
        "id": "oCGkqJAHvYWM",
        "outputId": "50345a95-6717-4981-8233-359c209a2c1b"
      },
      "execution_count": 67,
      "outputs": [
        {
          "output_type": "execute_result",
          "data": {
            "text/plain": [
              "datetime.date(2023, 9, 19)"
            ]
          },
          "metadata": {},
          "execution_count": 67
        }
      ]
    },
    {
      "cell_type": "code",
      "source": [
        "graduation_date = datetime.datetime(2023, 12, 29, 18, 00)\n",
        "today = datetime.date.today()\n",
        "days = datetime.timedelta(days=100)\n",
        "today + days"
      ],
      "metadata": {
        "colab": {
          "base_uri": "https://localhost:8080/"
        },
        "id": "T9oFN1kE3u60",
        "outputId": "37e4165f-9cdc-42b5-92d5-c6e89cb18847"
      },
      "execution_count": 69,
      "outputs": [
        {
          "output_type": "execute_result",
          "data": {
            "text/plain": [
              "datetime.date(2023, 12, 28)"
            ]
          },
          "metadata": {},
          "execution_count": 69
        }
      ]
    },
    {
      "cell_type": "code",
      "source": [
        "type(today), type(graduation_date)"
      ],
      "metadata": {
        "colab": {
          "base_uri": "https://localhost:8080/"
        },
        "id": "bKgprRJM5MpQ",
        "outputId": "7e2ceb71-5e1e-482d-f513-38fcebc46b83"
      },
      "execution_count": 70,
      "outputs": [
        {
          "output_type": "execute_result",
          "data": {
            "text/plain": [
              "(datetime.date, datetime.datetime)"
            ]
          },
          "metadata": {},
          "execution_count": 70
        }
      ]
    },
    {
      "cell_type": "code",
      "source": [
        "today = datetime.datetime.combine(datetime.date.today(), datetime.datetime.min.time())\n",
        "type(today)"
      ],
      "metadata": {
        "colab": {
          "base_uri": "https://localhost:8080/"
        },
        "id": "DUmkM7ZL5N6-",
        "outputId": "7a54f455-7033-429f-c755-f58d44a36ae3"
      },
      "execution_count": 71,
      "outputs": [
        {
          "output_type": "execute_result",
          "data": {
            "text/plain": [
              "datetime.datetime"
            ]
          },
          "metadata": {},
          "execution_count": 71
        }
      ]
    },
    {
      "cell_type": "code",
      "source": [
        "graduation_date - today"
      ],
      "metadata": {
        "colab": {
          "base_uri": "https://localhost:8080/"
        },
        "id": "5f1QCCh65OzN",
        "outputId": "2ea6d7e5-3fa0-4e90-983b-0db067746926"
      },
      "execution_count": 72,
      "outputs": [
        {
          "output_type": "execute_result",
          "data": {
            "text/plain": [
              "datetime.timedelta(days=101, seconds=64800)"
            ]
          },
          "metadata": {},
          "execution_count": 72
        }
      ]
    },
    {
      "cell_type": "code",
      "source": [
        "import json\n",
        "\n",
        "d = {\n",
        "    'one': 1,\n",
        "    'two': 2,\n",
        "    'three': 3\n",
        "}\n",
        "\n",
        "s = json.dumps(d)\n",
        "type(s)\n",
        "s[:3]"
      ],
      "metadata": {
        "colab": {
          "base_uri": "https://localhost:8080/",
          "height": 35
        },
        "id": "gkpb2tbh5Q3B",
        "outputId": "39ac7f76-14e5-46de-807e-71039e5c082f"
      },
      "execution_count": 73,
      "outputs": [
        {
          "output_type": "execute_result",
          "data": {
            "text/plain": [
              "'{\"o'"
            ],
            "application/vnd.google.colaboratory.intrinsic+json": {
              "type": "string"
            }
          },
          "metadata": {},
          "execution_count": 73
        }
      ]
    },
    {
      "cell_type": "code",
      "source": [
        "dd = json.loads(s)\n",
        "type(dd)"
      ],
      "metadata": {
        "colab": {
          "base_uri": "https://localhost:8080/"
        },
        "id": "5MHVBVu459zL",
        "outputId": "c59a2770-da40-45e2-b043-80593cb40044"
      },
      "execution_count": 74,
      "outputs": [
        {
          "output_type": "execute_result",
          "data": {
            "text/plain": [
              "dict"
            ]
          },
          "metadata": {},
          "execution_count": 74
        }
      ]
    },
    {
      "cell_type": "code",
      "source": [
        "class Human:\n",
        "    def __init__(self, x, y):\n",
        "        self.x = x\n",
        "        self.y = y\n",
        "\n",
        "jun = Human(10, 20)\n",
        "json.dumps(jun)\n",
        "\n",
        "# TypeError: Object of type Human is not JSON serializable(직렬화가 가능하지 않다!)\n",
        "# 일반 인스턴스는 직렬화가 가능하지 않습니다!\n",
        "# 직렬화: \"데이터 구조나 오브젝트 상태를 동일하거나 다른 컴퓨터 환경에 저장\n",
        "# (이를테면 파일이나 메모리 버퍼에서, 또는 네트워크 연결 링크 간 전송)하고,\n",
        "# 나중에 재구성할 수 있는 포맷으로 변환하는 과정\""
      ],
      "metadata": {
        "id": "mTxqyb556A-O"
      },
      "execution_count": null,
      "outputs": []
    },
    {
      "cell_type": "code",
      "source": [
        "import collections\n",
        "\n",
        "d = collections.deque([1, 2, 3, 4])\n",
        "d.rotate(2) # 회전초밥 문제\n",
        "d"
      ],
      "metadata": {
        "colab": {
          "base_uri": "https://localhost:8080/"
        },
        "id": "REAuSjJJ7JGF",
        "outputId": "fddfdfc1-b562-4829-c52d-49726e28b8f1"
      },
      "execution_count": 75,
      "outputs": [
        {
          "output_type": "execute_result",
          "data": {
            "text/plain": [
              "deque([3, 4, 1, 2])"
            ]
          },
          "metadata": {},
          "execution_count": 75
        }
      ]
    },
    {
      "cell_type": "code",
      "source": [
        "d.rotate(1) # 회전초밥 문제\n",
        "d"
      ],
      "metadata": {
        "colab": {
          "base_uri": "https://localhost:8080/"
        },
        "id": "0IBqaOJI7Z1u",
        "outputId": "44e084af-bd61-4a84-ea9a-9eacf135f0b1"
      },
      "execution_count": 76,
      "outputs": [
        {
          "output_type": "execute_result",
          "data": {
            "text/plain": [
              "deque([2, 3, 4, 1])"
            ]
          },
          "metadata": {},
          "execution_count": 76
        }
      ]
    },
    {
      "cell_type": "code",
      "source": [
        "c = collections.Counter('hello world')\n",
        "# 문자의 갯수대로\n",
        "c"
      ],
      "metadata": {
        "colab": {
          "base_uri": "https://localhost:8080/"
        },
        "id": "Cm-JJ2837yRN",
        "outputId": "56ba50b0-922b-4864-885a-f2db15c04ad6"
      },
      "execution_count": 78,
      "outputs": [
        {
          "output_type": "execute_result",
          "data": {
            "text/plain": [
              "Counter({'h': 1, 'e': 1, 'l': 3, 'o': 2, ' ': 1, 'w': 1, 'r': 1, 'd': 1})"
            ]
          },
          "metadata": {},
          "execution_count": 78
        }
      ]
    },
    {
      "cell_type": "code",
      "source": [
        "c.most_common()\n",
        "# 문자의 갯수를 정리"
      ],
      "metadata": {
        "colab": {
          "base_uri": "https://localhost:8080/"
        },
        "id": "QG7PLhq975Ex",
        "outputId": "ff908bee-085f-4c48-a854-688ced306ca7"
      },
      "execution_count": 79,
      "outputs": [
        {
          "output_type": "execute_result",
          "data": {
            "text/plain": [
              "[('l', 3),\n",
              " ('o', 2),\n",
              " ('h', 1),\n",
              " ('e', 1),\n",
              " (' ', 1),\n",
              " ('w', 1),\n",
              " ('r', 1),\n",
              " ('d', 1)]"
            ]
          },
          "metadata": {},
          "execution_count": 79
        }
      ]
    },
    {
      "cell_type": "code",
      "source": [
        "# 사이트에 데이터를 요구하는 것이기에 절대 실험, 장난하지 말것\n",
        "# 코드만 가지고 있을것\n",
        "import requests\n",
        "from bs4 import BeautifulSoup\n",
        "\n",
        "paullab_url = 'http://paullab.co.kr/bookservice/'\n",
        "response = requests.get(paullab_url)\n",
        "response.encoding = 'utf-8'\n",
        "html = response.text\n",
        "\n",
        "soup = BeautifulSoup(html, 'html.parser')\n",
        "\n",
        "bookservices = soup.select('.col-lg-6 > h2')     # col-lg-6 클래스 안의 h2 태그 탐색\n",
        "for no, book in enumerate(bookservices, 1):\n",
        "    print(no, book.text)"
      ],
      "metadata": {
        "colab": {
          "base_uri": "https://localhost:8080/"
        },
        "id": "iQIEXE8q8M-g",
        "outputId": "45c3f670-7585-4de2-c030-e99105ca535f"
      },
      "execution_count": 80,
      "outputs": [
        {
          "output_type": "stream",
          "name": "stdout",
          "text": [
            "1 메모혁신 Notion(노션) 활용 가이드\n",
            "2 제주코딩베이스캠프 Code Festival: Python 100제 1부\n",
            "3 튜토리얼로 배우는 HTML&CSS\n",
            "4 코딩도장 튜토리얼로 배우는 Python 1편 object\n",
            "5 코딩도장 튜토리얼로 배우는 python 2편 제어문\n",
            "6 코딩도장 튜토리얼로 배우는 Python 문제풀이\n",
            "7 타노스의 건틀릿 알고리즘 With Python\n",
            "8 xlsxwriter 튜토리얼로 배우는 Python 엑셀 프로그래밍\n",
            "9 러플 튜토리얼로 배우는 Python\n",
            "10 인공지능을 활용한 업무자동화 With Google Developers Group JEJU\n",
            "11 2017 제주 코딩 해커톤 Django 트랙 상편 1권\n"
          ]
        }
      ]
    },
    {
      "cell_type": "markdown",
      "source": [
        "# 예외 처리"
      ],
      "metadata": {
        "id": "wLakwslgB9CN"
      }
    },
    {
      "cell_type": "code",
      "source": [
        "# SyntaxError\n",
        "# for i in range(10)\n",
        "#     print(i)\n",
        "if False:\n",
        "    raise SyntaxError\n",
        "if True:\n",
        "    raise SyntaxError('hello world') #여러분의 의도에 맞게 적절한 애러를 주실 필요가 있습니다."
      ],
      "metadata": {
        "colab": {
          "base_uri": "https://localhost:8080/",
          "height": 256
        },
        "id": "Z-sIs-L39E5r",
        "outputId": "2ff69dbf-32a6-4a0a-b874-7b7c07d68010"
      },
      "execution_count": 81,
      "outputs": [
        {
          "output_type": "error",
          "ename": "SyntaxError",
          "evalue": "ignored",
          "traceback": [
            "Traceback \u001b[0;36m(most recent call last)\u001b[0m:\n",
            "  File \u001b[1;32m\"/usr/local/lib/python3.10/dist-packages/IPython/core/interactiveshell.py\"\u001b[0m, line \u001b[1;32m3553\u001b[0m, in \u001b[1;35mrun_code\u001b[0m\n    exec(code_obj, self.user_global_ns, self.user_ns)\n",
            "\u001b[0;36m  File \u001b[0;32m\"<ipython-input-81-7146e396e4a9>\"\u001b[0;36m, line \u001b[0;32m7\u001b[0;36m, in \u001b[0;35m<cell line: 6>\u001b[0;36m\u001b[0m\n\u001b[0;31m    raise SyntaxError('hello world') #여러분의 의도에 맞게 적절한 애러를 주실 필요가 있습니다.\u001b[0m\n",
            "\u001b[0;36m  File \u001b[0;32m\"<string>\"\u001b[0;36m, line \u001b[0;32munknown\u001b[0m\n\u001b[0;31mSyntaxError\u001b[0m\u001b[0;31m:\u001b[0m hello world\n"
          ]
        }
      ]
    },
    {
      "cell_type": "code",
      "source": [
        "# Name Error\n",
        "print(x)"
      ],
      "metadata": {
        "colab": {
          "base_uri": "https://localhost:8080/",
          "height": 201
        },
        "id": "nVWo_8rLCebG",
        "outputId": "237364af-1d0c-468b-bf17-38a7d84638cf"
      },
      "execution_count": 82,
      "outputs": [
        {
          "output_type": "error",
          "ename": "NameError",
          "evalue": "ignored",
          "traceback": [
            "\u001b[0;31m---------------------------------------------------------------------------\u001b[0m",
            "\u001b[0;31mNameError\u001b[0m                                 Traceback (most recent call last)",
            "\u001b[0;32m<ipython-input-82-e9e3baa318b0>\u001b[0m in \u001b[0;36m<cell line: 2>\u001b[0;34m()\u001b[0m\n\u001b[1;32m      1\u001b[0m \u001b[0;31m# Name Error\u001b[0m\u001b[0;34m\u001b[0m\u001b[0;34m\u001b[0m\u001b[0m\n\u001b[0;32m----> 2\u001b[0;31m \u001b[0mprint\u001b[0m\u001b[0;34m(\u001b[0m\u001b[0mx\u001b[0m\u001b[0;34m)\u001b[0m\u001b[0;34m\u001b[0m\u001b[0;34m\u001b[0m\u001b[0m\n\u001b[0m",
            "\u001b[0;31mNameError\u001b[0m: name 'x' is not defined"
          ]
        }
      ]
    },
    {
      "cell_type": "code",
      "source": [
        "# ZeroDivision Error\n",
        "x = 10\n",
        "y = 0\n",
        "print(x / y)"
      ],
      "metadata": {
        "id": "lRotRgPoCosC"
      },
      "execution_count": null,
      "outputs": []
    },
    {
      "cell_type": "code",
      "source": [
        "def f():\n",
        "    return True\n",
        "\n",
        "def ff():\n",
        "    return 1/0\n",
        "\n",
        "f() or ff()"
      ],
      "metadata": {
        "id": "wSr5aLYJEyhd"
      },
      "execution_count": null,
      "outputs": []
    },
    {
      "cell_type": "code",
      "source": [
        "# Attribute Error\n",
        "my_list = [1, 2, 3]\n",
        "print(my_list.appeend(4))"
      ],
      "metadata": {
        "id": "aiM0klHTEzi0"
      },
      "execution_count": null,
      "outputs": []
    },
    {
      "cell_type": "code",
      "source": [
        "# Type Error\n",
        "def add(x, y):\n",
        "    return x + y\n",
        "\n",
        "add(1, 2, 3) # *args, **kargs"
      ],
      "metadata": {
        "id": "DNaYe459E1Vm"
      },
      "execution_count": null,
      "outputs": []
    },
    {
      "cell_type": "code",
      "source": [
        "def add(x, y, *args):\n",
        "    print(x, y, args)\n",
        "    return x + y\n",
        "\n",
        "add(1, 2, 3, 4, 5, 6, 7, 8, 9, 10)"
      ],
      "metadata": {
        "colab": {
          "base_uri": "https://localhost:8080/"
        },
        "id": "Xmi3oW4QE2i9",
        "outputId": "1913d575-bdb6-421a-d975-c729394b9108"
      },
      "execution_count": 83,
      "outputs": [
        {
          "output_type": "stream",
          "name": "stdout",
          "text": [
            "1 2 (3, 4, 5, 6, 7, 8, 9, 10)\n"
          ]
        },
        {
          "output_type": "execute_result",
          "data": {
            "text/plain": [
              "3"
            ]
          },
          "metadata": {},
          "execution_count": 83
        }
      ]
    },
    {
      "cell_type": "code",
      "source": [
        "# File I/O Error\n",
        "f = open('non-existent.txt', 'r')\n",
        "f.read()"
      ],
      "metadata": {
        "id": "Wa_oHZEeFE-S"
      },
      "execution_count": null,
      "outputs": []
    },
    {
      "cell_type": "markdown",
      "source": [
        "## python 예외처리\n",
        "\n",
        "    try와 except를 최소 단위로 사용하길 권고합니다. 이는 애러가 나는 정확한 위치를 파악하기 위함입니다."
      ],
      "metadata": {
        "id": "xg-zu3c_FXLk"
      }
    },
    {
      "cell_type": "code",
      "source": [
        "# 오류가 난 곳을 찾아 유지보수하기가 쉽지 않습니다.\n",
        "try:\n",
        "    pass #100줄\n",
        "except:\n",
        "    pass #100줄"
      ],
      "metadata": {
        "id": "--yph39NFL-F"
      },
      "execution_count": null,
      "outputs": []
    },
    {
      "cell_type": "code",
      "source": [
        "try:\n",
        "    할인율 = 0\n",
        "    치킨값 = 30000 / 할인율\n",
        "    print('치킨주문 되었습니다!')\n",
        "except:\n",
        "    print('결제가 안되었습니다!')"
      ],
      "metadata": {
        "colab": {
          "base_uri": "https://localhost:8080/"
        },
        "id": "Aq_7EmyDGOBN",
        "outputId": "6a6f0995-4cf3-420a-cd56-875a7fb0754d"
      },
      "execution_count": 85,
      "outputs": [
        {
          "output_type": "stream",
          "name": "stdout",
          "text": [
            "결제가 안되었습니다!\n"
          ]
        }
      ]
    },
    {
      "cell_type": "code",
      "source": [
        "try:\n",
        "    할인율 = 0\n",
        "    치킨값 = 30000 / 할인율\n",
        "    print('치킨주문 되었습니다!')\n",
        "print('hello')  # error: expected 'except' or 'finally' block"
      ],
      "metadata": {
        "id": "4WGuJfomGdA1"
      },
      "execution_count": null,
      "outputs": []
    },
    {
      "cell_type": "code",
      "source": [
        "try:\n",
        "    할인율 = 0\n",
        "    치킨값 = 30000 / 할인율\n",
        "    print('치킨주문 되었습니다!')\n",
        "except:\n",
        "    print('결제가 안되었습니다!')\n",
        "else:\n",
        "    print('else')"
      ],
      "metadata": {
        "colab": {
          "base_uri": "https://localhost:8080/"
        },
        "id": "_sST_yHHG8og",
        "outputId": "806af4ed-049e-45fe-86e5-7d61f0d7affe"
      },
      "execution_count": 88,
      "outputs": [
        {
          "output_type": "stream",
          "name": "stdout",
          "text": [
            "결제가 안되었습니다!\n"
          ]
        }
      ]
    },
    {
      "cell_type": "code",
      "source": [
        "try:\n",
        "    할인율 = 0\n",
        "    # 치킨값 = 30000 / 할인율\n",
        "    print('치킨주문 되었습니다!')\n",
        "except:\n",
        "    print('결제가 안되었습니다!')\n",
        "else: # 애러 없이 실행되면 else를 실행합니다. while, for + else 조합과 비슷합니다.\n",
        "    print('else')"
      ],
      "metadata": {
        "colab": {
          "base_uri": "https://localhost:8080/"
        },
        "id": "HtHxf3CMHMoW",
        "outputId": "93a2e5b1-c44f-4d83-f071-7cdc0842e855"
      },
      "execution_count": 89,
      "outputs": [
        {
          "output_type": "stream",
          "name": "stdout",
          "text": [
            "치킨주문 되었습니다!\n",
            "else\n"
          ]
        }
      ]
    },
    {
      "cell_type": "code",
      "source": [
        "try:\n",
        "    할인율 = 0\n",
        "    # 치킨값 = 30000 / 할인율\n",
        "    print('치킨주문 되었습니다!')\n",
        "except:\n",
        "    print('결제가 안되었습니다!')\n",
        "finally:\n",
        "    print('메인화면으로 이동')"
      ],
      "metadata": {
        "colab": {
          "base_uri": "https://localhost:8080/"
        },
        "id": "JIdvmEwMHi0j",
        "outputId": "ceb4454e-e2c7-449b-fcf5-a9d99aae023d"
      },
      "execution_count": 90,
      "outputs": [
        {
          "output_type": "stream",
          "name": "stdout",
          "text": [
            "치킨주문 되었습니다!\n",
            "메인화면으로 이동\n"
          ]
        }
      ]
    },
    {
      "cell_type": "code",
      "source": [
        "test = 'hello'\n",
        "\n",
        "assert test == 'hello', '애러 메시지 1' #1\n",
        "assert test == 'world', '애러 메시지 2' #2\n",
        "assert test + 3 == 5, '애러 메시지 3' #3"
      ],
      "metadata": {
        "colab": {
          "base_uri": "https://localhost:8080/",
          "height": 238
        },
        "id": "Fa8W63KQInQX",
        "outputId": "09c49701-a07b-46d9-888d-d4164e773e58"
      },
      "execution_count": 91,
      "outputs": [
        {
          "output_type": "error",
          "ename": "AssertionError",
          "evalue": "ignored",
          "traceback": [
            "\u001b[0;31m---------------------------------------------------------------------------\u001b[0m",
            "\u001b[0;31mAssertionError\u001b[0m                            Traceback (most recent call last)",
            "\u001b[0;32m<ipython-input-91-71f97c55260d>\u001b[0m in \u001b[0;36m<cell line: 4>\u001b[0;34m()\u001b[0m\n\u001b[1;32m      2\u001b[0m \u001b[0;34m\u001b[0m\u001b[0m\n\u001b[1;32m      3\u001b[0m \u001b[0;32massert\u001b[0m \u001b[0mtest\u001b[0m \u001b[0;34m==\u001b[0m \u001b[0;34m'hello'\u001b[0m\u001b[0;34m,\u001b[0m \u001b[0;34m'애러 메시지 1'\u001b[0m \u001b[0;31m#1\u001b[0m\u001b[0;34m\u001b[0m\u001b[0;34m\u001b[0m\u001b[0m\n\u001b[0;32m----> 4\u001b[0;31m \u001b[0;32massert\u001b[0m \u001b[0mtest\u001b[0m \u001b[0;34m==\u001b[0m \u001b[0;34m'world'\u001b[0m\u001b[0;34m,\u001b[0m \u001b[0;34m'애러 메시지 2'\u001b[0m \u001b[0;31m#2\u001b[0m\u001b[0;34m\u001b[0m\u001b[0;34m\u001b[0m\u001b[0m\n\u001b[0m\u001b[1;32m      5\u001b[0m \u001b[0;32massert\u001b[0m \u001b[0mtest\u001b[0m \u001b[0;34m+\u001b[0m \u001b[0;36m3\u001b[0m \u001b[0;34m==\u001b[0m \u001b[0;36m5\u001b[0m\u001b[0;34m,\u001b[0m \u001b[0;34m'애러 메시지 3'\u001b[0m \u001b[0;31m#3\u001b[0m\u001b[0;34m\u001b[0m\u001b[0;34m\u001b[0m\u001b[0m\n",
            "\u001b[0;31mAssertionError\u001b[0m: 애러 메시지 2"
          ]
        }
      ]
    },
    {
      "cell_type": "code",
      "source": [
        "# raise\n",
        "# raise ValueError\n",
        "raise ValueError('코드를 잘~~ 만들어주세요.')"
      ],
      "metadata": {
        "colab": {
          "base_uri": "https://localhost:8080/",
          "height": 220
        },
        "id": "Xe3U3e9hIpJg",
        "outputId": "14c4d15e-eba9-447c-df0c-8c743fd6c853"
      },
      "execution_count": 116,
      "outputs": [
        {
          "output_type": "error",
          "ename": "ValueError",
          "evalue": "ignored",
          "traceback": [
            "\u001b[0;31m---------------------------------------------------------------------------\u001b[0m",
            "\u001b[0;31mValueError\u001b[0m                                Traceback (most recent call last)",
            "\u001b[0;32m<ipython-input-116-ef87c6ec0857>\u001b[0m in \u001b[0;36m<cell line: 3>\u001b[0;34m()\u001b[0m\n\u001b[1;32m      1\u001b[0m \u001b[0;31m# raise\u001b[0m\u001b[0;34m\u001b[0m\u001b[0;34m\u001b[0m\u001b[0m\n\u001b[1;32m      2\u001b[0m \u001b[0;31m# raise ValueError\u001b[0m\u001b[0;34m\u001b[0m\u001b[0;34m\u001b[0m\u001b[0m\n\u001b[0;32m----> 3\u001b[0;31m \u001b[0;32mraise\u001b[0m \u001b[0mValueError\u001b[0m\u001b[0;34m(\u001b[0m\u001b[0;34m'코드를 잘~~ 만들어주세요.'\u001b[0m\u001b[0;34m)\u001b[0m\u001b[0;34m\u001b[0m\u001b[0;34m\u001b[0m\u001b[0m\n\u001b[0m",
            "\u001b[0;31mValueError\u001b[0m: 코드를 잘~~ 만들어주세요."
          ]
        }
      ]
    },
    {
      "cell_type": "code",
      "source": [
        "x = 10\n",
        "# raise\n",
        "# raise ValueError\n",
        "# raise ValueError('코드를 잘~~ 만들어주세요.')\n",
        "y = 20"
      ],
      "metadata": {
        "id": "3R9tGgvmIotl"
      },
      "execution_count": 94,
      "outputs": []
    },
    {
      "cell_type": "code",
      "source": [
        "class Leehojun(Exception): #Exception을 상속받으면 됩니다.\n",
        "    def __init__(self):\n",
        "        super().__init__('입력된 값이 leehojun이 아닙니다.')\n",
        "\n",
        "raise Leehojun"
      ],
      "metadata": {
        "colab": {
          "base_uri": "https://localhost:8080/",
          "height": 220
        },
        "id": "SyixxX6SI6wl",
        "outputId": "5ecef653-58c1-4b62-883d-e66e8e39ce54"
      },
      "execution_count": 112,
      "outputs": [
        {
          "output_type": "error",
          "ename": "Leehojun",
          "evalue": "ignored",
          "traceback": [
            "\u001b[0;31m---------------------------------------------------------------------------\u001b[0m",
            "\u001b[0;31mLeehojun\u001b[0m                                  Traceback (most recent call last)",
            "\u001b[0;32m<ipython-input-112-b11d5076ad8d>\u001b[0m in \u001b[0;36m<cell line: 5>\u001b[0;34m()\u001b[0m\n\u001b[1;32m      3\u001b[0m         \u001b[0msuper\u001b[0m\u001b[0;34m(\u001b[0m\u001b[0;34m)\u001b[0m\u001b[0;34m.\u001b[0m\u001b[0m__init__\u001b[0m\u001b[0;34m(\u001b[0m\u001b[0;34m'입력된 값이 leehojun이 아닙니다.'\u001b[0m\u001b[0;34m)\u001b[0m\u001b[0;34m\u001b[0m\u001b[0;34m\u001b[0m\u001b[0m\n\u001b[1;32m      4\u001b[0m \u001b[0;34m\u001b[0m\u001b[0m\n\u001b[0;32m----> 5\u001b[0;31m \u001b[0;32mraise\u001b[0m \u001b[0mLeehojun\u001b[0m\u001b[0;34m\u001b[0m\u001b[0;34m\u001b[0m\u001b[0m\n\u001b[0m",
            "\u001b[0;31mLeehojun\u001b[0m: 입력된 값이 leehojun이 아닙니다."
          ]
        }
      ]
    },
    {
      "cell_type": "markdown",
      "source": [
        "### 오류 관리"
      ],
      "metadata": {
        "id": "40ahXOkPKpuF"
      }
    },
    {
      "cell_type": "code",
      "source": [
        "import logging\n",
        "\n",
        "logging.basicConfig(level=logging.INFO) # 어느 레벨부터 로깅할지, 기본으로 warning 부터 합니다.\n",
        "\n",
        "logging.debug(\"This is a debug message\") # 고쳐야 할 코드, 기록 필요\n",
        "logging.info(\"This is an info message\") # 정보성 메시지\n",
        "logging.warning(\"This is a warning message\") # 경고 메시지\n",
        "logging.error(\"This is an error message\") # 애러 메시지(프로그램은 동작)\n",
        "logging.critical(\"This is a critical message\") # 프로그램 중지(애러처리 안된경우)"
      ],
      "metadata": {
        "colab": {
          "base_uri": "https://localhost:8080/"
        },
        "id": "fwEzmvCwJj5m",
        "outputId": "39c4d161-855b-4de5-b227-5e5b07729bce"
      },
      "execution_count": 96,
      "outputs": [
        {
          "output_type": "stream",
          "name": "stderr",
          "text": [
            "WARNING:root:This is a warning message\n",
            "ERROR:root:This is an error message\n",
            "CRITICAL:root:This is a critical message\n"
          ]
        }
      ]
    },
    {
      "cell_type": "code",
      "source": [
        "import logging.handlers\n",
        "\n",
        "def logger():\n",
        "    log_obj = logging.getLogger(\"log_name\") # log name으로 log 객체 생성\n",
        "    log_obj.setLevel(logging.DEBUG) # 어디부터 기록할지 설정\n",
        "\n",
        "    fileHandeler = logging.FileHandler(filename=\"./test.txt\") # 파일로 기록\n",
        "    # streamHandler = logging.StreamHandler() # 콘솔에 출력\n",
        "\n",
        "    fileHandeler.setLevel(logging.INFO) # 파일 기록 레벨 설정\n",
        "    # streamHandler.setLevel(logging.DEBUG) # 콘솔 기록 레벨 설정\n",
        "\n",
        "    formatter = logging.Formatter(\"%(name)s, %(asctime)s, %(levelname)s, %(message)s\") #포멧 생성\n",
        "\n",
        "    fileHandeler.setFormatter(formatter) # 파일 메시지 포멧 설정\n",
        "    # streamHandler.setFormatter(formatter) # 콘솔 메시지 포멧 설정\n",
        "\n",
        "    log_obj.addHandler(fileHandeler) # log_obj handler에 파일 출력 방식 추가\n",
        "    # log_obj.addHandler(streamHandler) # log_obj handler에 파일 콘솔 방식 추가\n",
        "\n",
        "    return log_obj\n",
        "\n",
        "log = logger()\n",
        "\n",
        "# 아래 코드를 기록하고 싶은 곳에 함께 설정\n",
        "log.debug('debug')\n",
        "log.info('info')\n",
        "log.warning('warning')\n",
        "log.error('error')\n",
        "log.critical('critical')\n",
        "\n",
        "print('---')\n",
        "\n",
        "# 아래와 같이 사용합니다.\n",
        "def f():\n",
        "    try:\n",
        "        x = 1 / 0\n",
        "    except Exception as e:\n",
        "        print(e)\n",
        "        log.error(f'{e} error')\n",
        "\n",
        "f()"
      ],
      "metadata": {
        "colab": {
          "base_uri": "https://localhost:8080/"
        },
        "id": "2TP6VGWNKs59",
        "outputId": "32e61089-fb3f-407c-8a09-9de0ddf1dca1"
      },
      "execution_count": 97,
      "outputs": [
        {
          "output_type": "stream",
          "name": "stderr",
          "text": [
            "DEBUG:log_name:debug\n",
            "INFO:log_name:info\n",
            "WARNING:log_name:warning\n",
            "ERROR:log_name:error\n",
            "CRITICAL:log_name:critical\n",
            "ERROR:log_name:division by zero error\n"
          ]
        },
        {
          "output_type": "stream",
          "name": "stdout",
          "text": [
            "---\n",
            "division by zero\n"
          ]
        }
      ]
    },
    {
      "cell_type": "code",
      "source": [
        "import logging.handlers\n",
        "\n",
        "def logger():\n",
        "    log_obj = logging.getLogger(\"log_name\") # log name으로 log 객체 생성\n",
        "    log_obj.setLevel(logging.ERROR) # 어디부터 기록할지 설정\n",
        "\n",
        "    fileHandeler = logging.FileHandler(filename=\"./test.txt\") # 파일로 기록\n",
        "    # streamHandler = logging.StreamHandler() # 콘솔에 출력\n",
        "\n",
        "    fileHandeler.setLevel(logging.ERROR) # 파일 기록 레벨 설정\n",
        "    # streamHandler.setLevel(logging.DEBUG) # 콘솔 기록 레벨 설정\n",
        "\n",
        "    formatter = logging.Formatter(\"%(name)s, %(asctime)s, %(levelname)s, %(message)s\") #포멧 생성\n",
        "\n",
        "    fileHandeler.setFormatter(formatter) # 파일 메시지 포멧 설정\n",
        "    # streamHandler.setFormatter(formatter) # 콘솔 메시지 포멧 설정\n",
        "\n",
        "    log_obj.addHandler(fileHandeler) # log_obj handler에 파일 출력 방식 추가\n",
        "    # log_obj.addHandler(streamHandler) # log_obj handler에 파일 콘솔 방식 추가\n",
        "\n",
        "    return log_obj\n",
        "\n",
        "log = logger()\n",
        "\n",
        "# 아래 코드를 기록하고 싶은 곳에 함께 설정\n",
        "log.debug('debug')\n",
        "log.info('info')\n",
        "log.warning('warning')\n",
        "log.error('error')\n",
        "log.critical('critical')\n",
        "\n",
        "print('---')\n",
        "\n",
        "# 아래와 같이 사용합니다.\n",
        "def f():\n",
        "    try:\n",
        "        x = 1 / 0\n",
        "    except Exception as e:\n",
        "        print(e)\n",
        "        log.error(f'{e} error')\n",
        "\n",
        "f()"
      ],
      "metadata": {
        "id": "sM-Y31B2LT8g"
      },
      "execution_count": null,
      "outputs": []
    },
    {
      "cell_type": "markdown",
      "source": [
        "# 연습문제"
      ],
      "metadata": {
        "id": "CJgmXUIdUqme"
      }
    },
    {
      "cell_type": "code",
      "source": [
        "# 아래와 같은 기능을 하는 모듈 또는 패키지를 만들어주세요.\n",
        "# 폴더 또는 파일로 만드셔야 합니다.\n",
        "# add(a, b), sub(a, b), mul(a, b), div(a, b)\n",
        "\n",
        "from . import quest\n",
        "\n"
      ],
      "metadata": {
        "id": "64MdGSMbVdwt"
      },
      "execution_count": null,
      "outputs": []
    },
    {
      "cell_type": "code",
      "source": [
        "def add(a, b):\n",
        "    return a + b\n",
        "\n",
        "def add(a, b):\n",
        "    return a - b\n",
        "\n",
        "def add(a, b):\n",
        "    return a * b\n",
        "\n",
        "def add(a, b):\n",
        "    return a / b\n",
        "\n",
        "def add(a, b):\n",
        "    return a + b\n",
        "\n",
        "def add(a, b):\n",
        "    return a + b"
      ],
      "metadata": {
        "id": "HgWQLNu5rKYk"
      },
      "execution_count": null,
      "outputs": []
    },
    {
      "cell_type": "code",
      "source": [
        "from quest_operation import arithmetic_operation as ao, quest as"
      ],
      "metadata": {
        "id": "5Zs832daq1_d"
      },
      "execution_count": null,
      "outputs": []
    },
    {
      "cell_type": "code",
      "source": [
        "# ao.add(3, 4)"
      ],
      "metadata": {
        "id": "fiuU97MRSrEs"
      },
      "execution_count": null,
      "outputs": []
    },
    {
      "cell_type": "markdown",
      "source": [
        "# 연습문제 2\n"
      ],
      "metadata": {
        "id": "-OMr2fwnMgE1"
      }
    },
    {
      "cell_type": "code",
      "source": [
        "# 나누기 연산 div(a, b)라고 입력했을 때 b에 0이 입력되면\n",
        "# 예외처리를 하여 정상작동이 되게 만들어주세요.\n",
        "\n",
        "# try:\n",
        "#     할인율 = 0\n",
        "#     치킨값 = 30000 / 할인율\n",
        "#     print('치킨주문 되었습니다!')\n",
        "# except:\n",
        "#     print('결제가 안되었습니다!')\n",
        "\n",
        "def div(a, b):\n",
        "    try:\n",
        "        Div = a / b\n",
        "    except:\n",
        "        print('오류가 발생했습니다.')\n",
        "    else:\n",
        "        print( a * b)\n",
        "\n",
        "div(3, 0)"
      ],
      "metadata": {
        "colab": {
          "base_uri": "https://localhost:8080/"
        },
        "id": "vqZgMMPEMiXU",
        "outputId": "79d5c7b8-24c5-4800-c24e-22e85e012960"
      },
      "execution_count": 110,
      "outputs": [
        {
          "output_type": "stream",
          "name": "stdout",
          "text": [
            "0이 입력되었습니다\n"
          ]
        }
      ]
    }
  ]
}