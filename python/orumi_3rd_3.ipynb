{
  "nbformat": 4,
  "nbformat_minor": 0,
  "metadata": {
    "colab": {
      "provenance": []
    },
    "kernelspec": {
      "name": "python3",
      "display_name": "Python 3"
    },
    "language_info": {
      "name": "python"
    }
  },
  "cells": [
    {
      "cell_type": "markdown",
      "source": [
        "# 리스트"
      ],
      "metadata": {
        "id": "4gfXqDUaEHSQ"
      }
    },
    {
      "cell_type": "code",
      "execution_count": null,
      "metadata": {
        "colab": {
          "base_uri": "https://localhost:8080/",
          "height": 35
        },
        "id": "ozh6R_lmD-VG",
        "outputId": "f51e8cb5-e7cd-42d7-e0d7-315a86c8db09"
      },
      "outputs": [
        {
          "output_type": "execute_result",
          "data": {
            "text/plain": [
              "'hello'"
            ],
            "application/vnd.google.colaboratory.intrinsic+json": {
              "type": "string"
            }
          },
          "metadata": {},
          "execution_count": 1
        }
      ],
      "source": [
        "# 시퀸스형 자료형\n",
        "a = 'hello world'\n",
        "a[0]\n",
        "a[:5]"
      ]
    },
    {
      "cell_type": "code",
      "source": [
        "range(10)[3]"
      ],
      "metadata": {
        "colab": {
          "base_uri": "https://localhost:8080/"
        },
        "id": "EISQNLAyE9nR",
        "outputId": "e1411b44-0f91-498b-8501-6f844a88892f"
      },
      "execution_count": null,
      "outputs": [
        {
          "output_type": "execute_result",
          "data": {
            "text/plain": [
              "3"
            ]
          },
          "metadata": {},
          "execution_count": 2
        }
      ]
    },
    {
      "cell_type": "code",
      "source": [
        "range(100)[::5]"
      ],
      "metadata": {
        "colab": {
          "base_uri": "https://localhost:8080/"
        },
        "id": "BOmmqvhpE_T1",
        "outputId": "17e31d14-a82c-4797-a2be-d4f1ca74337a"
      },
      "execution_count": null,
      "outputs": [
        {
          "output_type": "execute_result",
          "data": {
            "text/plain": [
              "range(0, 100, 5)"
            ]
          },
          "metadata": {},
          "execution_count": 3
        }
      ]
    },
    {
      "cell_type": "code",
      "source": [
        "range(10)[3:]"
      ],
      "metadata": {
        "colab": {
          "base_uri": "https://localhost:8080/"
        },
        "id": "fQ38aXGGFA7X",
        "outputId": "e0506618-8baf-4c7d-8408-f83f3e9342da"
      },
      "execution_count": null,
      "outputs": [
        {
          "output_type": "execute_result",
          "data": {
            "text/plain": [
              "range(3, 10)"
            ]
          },
          "metadata": {},
          "execution_count": 4
        }
      ]
    },
    {
      "cell_type": "code",
      "source": [
        "enumerate([0, 1, 2, 3, 4, 5, 6, 7, 8, 9], 100)"
      ],
      "metadata": {
        "colab": {
          "base_uri": "https://localhost:8080/"
        },
        "id": "1pH48YczFNEm",
        "outputId": "25858a5b-161d-4657-b852-33b1bfb6688d"
      },
      "execution_count": null,
      "outputs": [
        {
          "output_type": "execute_result",
          "data": {
            "text/plain": [
              "<enumerate at 0x7c9bf6f07080>"
            ]
          },
          "metadata": {},
          "execution_count": 6
        }
      ]
    },
    {
      "cell_type": "code",
      "source": [
        "# 덧셈과 곱셈\n",
        "# a = [1, 2, 3, 4, 5]\n",
        "# b = [6, 7, 8]\n",
        "# print(a + b)\n",
        "\n",
        "a = [1, 2, 3, 4, 5]\n",
        "\n",
        "print(a * 3) # 출력: [1, 2, 3, 4, 5, 6, 7, 8]"
      ],
      "metadata": {
        "colab": {
          "base_uri": "https://localhost:8080/"
        },
        "id": "VDxR30pdFS6l",
        "outputId": "7d4d222c-ecf1-4ed5-d35d-2ab998da7f39"
      },
      "execution_count": null,
      "outputs": [
        {
          "output_type": "stream",
          "name": "stdout",
          "text": [
            "[1, 2, 3, 4, 5, 1, 2, 3, 4, 5, 1, 2, 3, 4, 5]\n"
          ]
        }
      ]
    },
    {
      "cell_type": "code",
      "source": [
        "# 덧셈과 곱셈\n",
        "# a = [1, 2, 3, 4, 5]\n",
        "# b = [6, 7, 8]\n",
        "# print(a + b)\n",
        "\n",
        "a = [1, 2, 3, 4, 5]\n",
        "a = a * 3\n",
        "\n",
        "print(a)\n",
        "id(a[2]), id(a[7])\n",
        "id(a[2]), id(a[8])"
      ],
      "metadata": {
        "colab": {
          "base_uri": "https://localhost:8080/"
        },
        "id": "fTTajR8FGXU_",
        "outputId": "75908584-9226-449c-9fdc-fb46c3669b67"
      },
      "execution_count": null,
      "outputs": [
        {
          "output_type": "stream",
          "name": "stdout",
          "text": [
            "[1, 2, 3, 4, 5, 1, 2, 3, 4, 5, 1, 2, 3, 4, 5]\n"
          ]
        },
        {
          "output_type": "execute_result",
          "data": {
            "text/plain": [
              "(137010575474992, 137010575475024)"
            ]
          },
          "metadata": {},
          "execution_count": 17
        }
      ]
    },
    {
      "cell_type": "code",
      "source": [
        "a = [1, 2, 3]\n",
        "a = [a * 3] * 2 # 리스트 컴프리헨션 사용하셔서 만드시는 것을 권합니다.\n",
        "\n",
        "print(a)\n",
        "id(a[0]), id(a[1])\n",
        "a[0][0] = 10000 # 동일 주소를 바꾸게 되기에 같이 변한다.\n",
        "a"
      ],
      "metadata": {
        "colab": {
          "base_uri": "https://localhost:8080/"
        },
        "id": "qcWhBI_IGZ6V",
        "outputId": "8abf1661-be97-4673-c153-008e86656b26"
      },
      "execution_count": null,
      "outputs": [
        {
          "output_type": "stream",
          "name": "stdout",
          "text": [
            "[[1, 2, 3, 1, 2, 3, 1, 2, 3], [1, 2, 3, 1, 2, 3, 1, 2, 3]]\n"
          ]
        },
        {
          "output_type": "execute_result",
          "data": {
            "text/plain": [
              "[[10000, 2, 3, 1, 2, 3, 1, 2, 3], [10000, 2, 3, 1, 2, 3, 1, 2, 3]]"
            ]
          },
          "metadata": {},
          "execution_count": 19
        }
      ]
    },
    {
      "cell_type": "code",
      "source": [
        "# 리스트 인덱싱\n",
        "\n",
        "l = [1, 2, 3, 4, 5]\n",
        "print(l[0]) # 출력: 1\n",
        "print(l[3]) # 출력: 4\n",
        "print(l[-1]) # 출력: 5\n",
        "print(l[-3]) # 출력: 3"
      ],
      "metadata": {
        "colab": {
          "base_uri": "https://localhost:8080/"
        },
        "id": "l0fOx8AoGnTO",
        "outputId": "956edf07-3aeb-44ea-8b48-93c635c371dc"
      },
      "execution_count": null,
      "outputs": [
        {
          "output_type": "stream",
          "name": "stdout",
          "text": [
            "1\n",
            "4\n",
            "5\n",
            "3\n"
          ]
        }
      ]
    },
    {
      "cell_type": "markdown",
      "source": [
        "### 체크"
      ],
      "metadata": {
        "id": "EP7V8zkkHec_"
      }
    },
    {
      "cell_type": "code",
      "source": [
        "# 리스트 슬라이싱\n",
        "\n",
        "l = [1, 2, 3, 4, 5]\n",
        "print(l[:])     # 출력: [1, 2, 3, 4, 5]\n",
        "print(l[::-1])  # 출력: [5, 4, 3, 2, 1]\n",
        "print(l[::2])   # 출력: [1, 3, 5]"
      ],
      "metadata": {
        "colab": {
          "base_uri": "https://localhost:8080/"
        },
        "id": "Kt0w1IwTHGti",
        "outputId": "6ba94d8e-4bd4-4195-8374-9b7596e87da7"
      },
      "execution_count": null,
      "outputs": [
        {
          "output_type": "stream",
          "name": "stdout",
          "text": [
            "[1, 2, 3, 4, 5]\n",
            "[5, 4, 3, 2, 1]\n",
            "[1, 3, 5]\n"
          ]
        }
      ]
    },
    {
      "cell_type": "code",
      "source": [
        "l = [1, 2, 3, 4, 5]\n",
        "print(type(l))\n",
        "print(dir(l))"
      ],
      "metadata": {
        "colab": {
          "base_uri": "https://localhost:8080/"
        },
        "id": "2S5v4pgqHVmz",
        "outputId": "3893ec63-ab62-4b0a-c7b1-beb77eb8de09"
      },
      "execution_count": null,
      "outputs": [
        {
          "output_type": "stream",
          "name": "stdout",
          "text": [
            "<class 'list'>\n",
            "['__add__', '__class__', '__class_getitem__', '__contains__', '__delattr__', '__delitem__', '__dir__', '__doc__', '__eq__', '__format__', '__ge__', '__getattribute__', '__getitem__', '__gt__', '__hash__', '__iadd__', '__imul__', '__init__', '__init_subclass__', '__iter__', '__le__', '__len__', '__lt__', '__mul__', '__ne__', '__new__', '__reduce__', '__reduce_ex__', '__repr__', '__reversed__', '__rmul__', '__setattr__', '__setitem__', '__sizeof__', '__str__', '__subclasshook__', 'append', 'clear', 'copy', 'count', 'extend', 'index', 'insert', 'pop', 'remove', 'reverse', 'sort']\n"
          ]
        }
      ]
    },
    {
      "cell_type": "code",
      "source": [
        "[1, 2, 3] + [1, 2, 3] = [1, 2, 3, 1, 2, 3]\n",
        "# [2, 4, 6] 요소마다 더해지는 것은 아닙니다. 그런데 이러한 코드는 __add__에 구현이 되어 있는 것입니다.\n",
        "# __add__에 요소마다 더하는 것으로 구현이 되어 있었다면 [2, 4, 6]을 출력했을 것입니다."
      ],
      "metadata": {
        "id": "wV9LRqzbHnqd"
      },
      "execution_count": null,
      "outputs": []
    },
    {
      "cell_type": "code",
      "source": [
        "import numpy as np\n",
        "\n",
        "l = [1, 2, 3]\n",
        "l = np.array(l)\n",
        "l * 3\n",
        "l + l\n",
        "# 너무 당연하게 요소를 붙이는 것이다라고 생각하지는 않으셨으면 좋겠습니다."
      ],
      "metadata": {
        "colab": {
          "base_uri": "https://localhost:8080/"
        },
        "id": "sTFxCkUrH_ve",
        "outputId": "3db9f2be-e737-487c-98c9-f44a38227130"
      },
      "execution_count": null,
      "outputs": [
        {
          "output_type": "execute_result",
          "data": {
            "text/plain": [
              "array([2, 4, 6])"
            ]
          },
          "metadata": {},
          "execution_count": 23
        }
      ]
    },
    {
      "cell_type": "code",
      "source": [
        "b'world'"
      ],
      "metadata": {
        "colab": {
          "base_uri": "https://localhost:8080/"
        },
        "id": "HZlCFlNM3wRg",
        "outputId": "d633b7a4-6391-4145-ce06-72b96c9727dd"
      },
      "execution_count": null,
      "outputs": [
        {
          "output_type": "execute_result",
          "data": {
            "text/plain": [
              "b'world'"
            ]
          },
          "metadata": {},
          "execution_count": 1
        }
      ]
    },
    {
      "cell_type": "code",
      "source": [
        "b = b'world' # 유니코드표 X, 아스키코드표에서 찾습니다!\n",
        "b[0]"
      ],
      "metadata": {
        "colab": {
          "base_uri": "https://localhost:8080/"
        },
        "id": "gApdpHRQ3vtY",
        "outputId": "d89c4c6f-5bbc-4501-d349-e3d4b32f7e80"
      },
      "execution_count": null,
      "outputs": [
        {
          "output_type": "execute_result",
          "data": {
            "text/plain": [
              "119"
            ]
          },
          "metadata": {},
          "execution_count": 2
        }
      ]
    },
    {
      "cell_type": "code",
      "source": [
        "# b'' # 바이트\n",
        "# f'' # f-string 용법\n",
        "# r'' # raw값 출력"
      ],
      "metadata": {
        "id": "Zx_UGHWu3uYQ"
      },
      "execution_count": null,
      "outputs": []
    },
    {
      "cell_type": "code",
      "source": [
        "a = [1, 2, 3, 4, 5]\n",
        "b = [6, 7, 8]\n",
        "\n",
        "print(a + b) # 출력: [1, 2, 3, 4, 5, 6, 7, 8]"
      ],
      "metadata": {
        "colab": {
          "base_uri": "https://localhost:8080/"
        },
        "id": "6W4K_M335pfS",
        "outputId": "2426d420-873b-485a-a09c-9532360d283a"
      },
      "execution_count": null,
      "outputs": [
        {
          "output_type": "stream",
          "name": "stdout",
          "text": [
            "[1, 2, 3, 4, 5, 6, 7, 8]\n"
          ]
        }
      ]
    },
    {
      "cell_type": "code",
      "source": [
        "# 실무에서도 이렇게 2개를 자주 사용합니다.\n",
        "list(range())"
      ],
      "metadata": {
        "id": "ctccYsKn9SRY"
      },
      "execution_count": null,
      "outputs": []
    },
    {
      "cell_type": "markdown",
      "source": [
        "### 얕은 복사와 깊은 복사"
      ],
      "metadata": {
        "id": "5DDYDw-08A5Y"
      }
    },
    {
      "cell_type": "code",
      "source": [
        "l = [1, 2, 3]\n",
        "dir(l)"
      ],
      "metadata": {
        "colab": {
          "base_uri": "https://localhost:8080/"
        },
        "id": "e1a8tL2A-qhf",
        "outputId": "53d9f63e-6072-4d2e-ec22-6d03ce1f9d92"
      },
      "execution_count": null,
      "outputs": [
        {
          "output_type": "execute_result",
          "data": {
            "text/plain": [
              "['__add__',\n",
              " '__class__',\n",
              " '__class_getitem__',\n",
              " '__contains__',\n",
              " '__delattr__',\n",
              " '__delitem__',\n",
              " '__dir__',\n",
              " '__doc__',\n",
              " '__eq__',\n",
              " '__format__',\n",
              " '__ge__',\n",
              " '__getattribute__',\n",
              " '__getitem__',\n",
              " '__gt__',\n",
              " '__hash__',\n",
              " '__iadd__',\n",
              " '__imul__',\n",
              " '__init__',\n",
              " '__init_subclass__',\n",
              " '__iter__',\n",
              " '__le__',\n",
              " '__len__',\n",
              " '__lt__',\n",
              " '__mul__',\n",
              " '__ne__',\n",
              " '__new__',\n",
              " '__reduce__',\n",
              " '__reduce_ex__',\n",
              " '__repr__',\n",
              " '__reversed__',\n",
              " '__rmul__',\n",
              " '__setattr__',\n",
              " '__setitem__',\n",
              " '__sizeof__',\n",
              " '__str__',\n",
              " '__subclasshook__',\n",
              " 'append',\n",
              " 'clear',\n",
              " 'copy',\n",
              " 'count',\n",
              " 'extend',\n",
              " 'index',\n",
              " 'insert',\n",
              " 'pop',\n",
              " 'remove',\n",
              " 'reverse',\n",
              " 'sort']"
            ]
          },
          "metadata": {},
          "execution_count": 15
        }
      ]
    },
    {
      "cell_type": "code",
      "source": [
        "#  'append',\n",
        "#  'clear',\n",
        "#  'copy',\n",
        "#  'count',\n",
        "#  'extend',\n",
        "#  'index',\n",
        "#  'insert',\n",
        "#  'pop',\n",
        "#  'remove',\n",
        "#  'reverse',\n",
        "#  'sort'"
      ],
      "metadata": {
        "id": "CoG9VZW6-rcF"
      },
      "execution_count": null,
      "outputs": []
    },
    {
      "cell_type": "code",
      "source": [
        "# append\n",
        "l = [1, 2, 3]\n",
        "l.append(100)\n",
        "l"
      ],
      "metadata": {
        "colab": {
          "base_uri": "https://localhost:8080/"
        },
        "id": "tZZsWdLP--v0",
        "outputId": "2e4a3e17-14f3-4085-8f13-8fc665fdfa83"
      },
      "execution_count": null,
      "outputs": [
        {
          "output_type": "stream",
          "name": "stdout",
          "text": [
            "[1, 2, 3, 100]\n"
          ]
        }
      ]
    },
    {
      "cell_type": "code",
      "source": [
        "l = [10, 20, 30]\n",
        "l.append(100)\n",
        "l"
      ],
      "metadata": {
        "colab": {
          "base_uri": "https://localhost:8080/"
        },
        "id": "yFcZNd1yWroD",
        "outputId": "aaeedbf4-ea00-427d-afd8-d8fedf36717a"
      },
      "execution_count": null,
      "outputs": [
        {
          "output_type": "execute_result",
          "data": {
            "text/plain": [
              "[10, 20, 30, 100]"
            ]
          },
          "metadata": {},
          "execution_count": 37
        }
      ]
    },
    {
      "cell_type": "code",
      "source": [
        "l = [10, 20, 30]\n",
        "l.append([10, 20])\n",
        "l"
      ],
      "metadata": {
        "colab": {
          "base_uri": "https://localhost:8080/"
        },
        "id": "6Ie9JO33Wxxj",
        "outputId": "a55aaa70-9e93-42f3-9ed1-1760fb1dfdf1"
      },
      "execution_count": null,
      "outputs": [
        {
          "output_type": "execute_result",
          "data": {
            "text/plain": [
              "[10, 20, 30, [10, 20]]"
            ]
          },
          "metadata": {},
          "execution_count": 38
        }
      ]
    },
    {
      "cell_type": "code",
      "source": [
        "# clear\n",
        "l = [1, 2, 3]\n",
        "l.clear()\n",
        "l"
      ],
      "metadata": {
        "colab": {
          "base_uri": "https://localhost:8080/"
        },
        "id": "LBy26auc_HwI",
        "outputId": "e0561d17-2ac1-491b-f1c3-8a839203b556"
      },
      "execution_count": null,
      "outputs": [
        {
          "output_type": "stream",
          "name": "stdout",
          "text": [
            "[]\n"
          ]
        }
      ]
    },
    {
      "cell_type": "code",
      "source": [
        "# copy\n",
        "l = [10, 20, 30]\n",
        "ll = l\n",
        "l[0] = 1000\n",
        "l"
      ],
      "metadata": {
        "colab": {
          "base_uri": "https://localhost:8080/"
        },
        "id": "sX2CC6xN_L6P",
        "outputId": "98014c55-9cab-45d2-fc99-b404dc692fe3"
      },
      "execution_count": null,
      "outputs": [
        {
          "output_type": "execute_result",
          "data": {
            "text/plain": [
              "[1000, 20, 30]"
            ]
          },
          "metadata": {},
          "execution_count": 23
        }
      ]
    },
    {
      "cell_type": "code",
      "source": [
        "l = [10, 20, 30]\n",
        "ll = l\n",
        "id(ll), id(l)"
      ],
      "metadata": {
        "colab": {
          "base_uri": "https://localhost:8080/"
        },
        "id": "xWOACLc6_XEI",
        "outputId": "b0ba4d7d-022b-42f4-e285-5ae7b3eec2fc"
      },
      "execution_count": null,
      "outputs": [
        {
          "output_type": "execute_result",
          "data": {
            "text/plain": [
              "(137110944284608, 137110944284608)"
            ]
          },
          "metadata": {},
          "execution_count": 24
        }
      ]
    },
    {
      "cell_type": "code",
      "source": [
        "l = [10, 20, 30]\n",
        "ll = l\n",
        "l[0] = 1000\n",
        "id(ll), id(l)"
      ],
      "metadata": {
        "colab": {
          "base_uri": "https://localhost:8080/"
        },
        "id": "j143ueLp_jix",
        "outputId": "82ab3d48-8ea3-4391-d011-981260c1ee19"
      },
      "execution_count": null,
      "outputs": [
        {
          "output_type": "execute_result",
          "data": {
            "text/plain": [
              "(137111177908544, 137111177908544)"
            ]
          },
          "metadata": {},
          "execution_count": 27
        }
      ]
    },
    {
      "cell_type": "markdown",
      "source": [
        "## copy 카피"
      ],
      "metadata": {
        "id": "tOFvx4WBHLHf"
      }
    },
    {
      "cell_type": "code",
      "source": [
        "l = [10, 20, 30]\n",
        "ll = l.copy()\n",
        "l[0] = 1000\n",
        "id(ll), id(l)\n",
        "l, ll"
      ],
      "metadata": {
        "colab": {
          "base_uri": "https://localhost:8080/"
        },
        "id": "bPMwpayF_kut",
        "outputId": "aa36eef2-bd5f-4380-b4f8-b18c0846d3b2"
      },
      "execution_count": null,
      "outputs": [
        {
          "output_type": "execute_result",
          "data": {
            "text/plain": [
              "([1000, 20, 30], [10, 20, 30])"
            ]
          },
          "metadata": {},
          "execution_count": 26
        }
      ]
    },
    {
      "cell_type": "code",
      "source": [
        "# 이정도는 알아야 우리에게 충분합니다.\n",
        "a = [10, 20]\n",
        "b = [100, 200]\n",
        "\n",
        "l = [a, b]\n",
        "ll = l.copy()\n",
        "print(id(l), id(ll))\n",
        "l[0][0] = 100000\n",
        "print(l, ll)"
      ],
      "metadata": {
        "colab": {
          "base_uri": "https://localhost:8080/"
        },
        "id": "7KR3ybPP_uhz",
        "outputId": "da48a761-39c7-4e8e-e290-ef4166b0ba20"
      },
      "execution_count": null,
      "outputs": [
        {
          "output_type": "stream",
          "name": "stdout",
          "text": [
            "137110944276800 137111176213952\n",
            "[[100000, 20], [100, 200]] [[100000, 20], [100, 200]]\n"
          ]
        }
      ]
    },
    {
      "cell_type": "code",
      "source": [
        "import copy\n",
        "\n",
        "a = [10, 20]\n",
        "b = [100, 200]\n",
        "\n",
        "l = [a, b]\n",
        "ll = copy.deepcopy(l)\n",
        "\n",
        "print(id(l), id(ll))\n",
        "print(id(l[0]), id(ll[0]))\n",
        "l[0][0] = 100000\n",
        "print(l, ll)"
      ],
      "metadata": {
        "colab": {
          "base_uri": "https://localhost:8080/"
        },
        "id": "CpSkAfY-EFTi",
        "outputId": "e3c8f541-e9f4-48d1-de3c-ace056351256"
      },
      "execution_count": null,
      "outputs": [
        {
          "output_type": "stream",
          "name": "stdout",
          "text": [
            "137110944315904 137110944316352\n",
            "137110944315456 137110944314112\n",
            "[[100000, 20], [100, 200]] [[10, 20], [100, 200]]\n"
          ]
        }
      ]
    },
    {
      "cell_type": "code",
      "source": [
        "import copy\n",
        "\n",
        "k = [10000]\n",
        "\n",
        "a = [10, k]\n",
        "b = [100, k]\n",
        "\n",
        "l = [a, b]\n",
        "ll = copy.deepcopy(l)\n",
        "k[0] = 1000000\n",
        "print(l)\n",
        "print(ll)"
      ],
      "metadata": {
        "colab": {
          "base_uri": "https://localhost:8080/"
        },
        "id": "T4NQOPLuEdA6",
        "outputId": "3e04e2cb-bbe5-4eb9-fe0e-b7d97bad2897"
      },
      "execution_count": null,
      "outputs": [
        {
          "output_type": "stream",
          "name": "stdout",
          "text": [
            "[[10, [1000000]], [100, [1000000]]]\n",
            "[[10, [10000]], [100, [10000]]]\n"
          ]
        }
      ]
    },
    {
      "cell_type": "code",
      "source": [
        "l = [[1, 2, 3], [4, 5, 6]]\n",
        "ll = [i for i in l]\n",
        "ll[0][0] = 1000\n",
        "l"
      ],
      "metadata": {
        "colab": {
          "base_uri": "https://localhost:8080/"
        },
        "id": "yUtpM_mUxLTy",
        "outputId": "3f52553e-ae5c-41f2-9bb4-6320ba331f9e"
      },
      "execution_count": null,
      "outputs": [
        {
          "output_type": "execute_result",
          "data": {
            "text/plain": [
              "[[1000, 2, 3], [4, 5, 6]]"
            ]
          },
          "metadata": {},
          "execution_count": 110
        }
      ]
    },
    {
      "cell_type": "code",
      "source": [
        "l = [[1, 2, 3], [4, 5, 6]]\n",
        "ll = [i for i in l]\n",
        "ll[0][0] = 1000\n",
        "print(l)\n",
        "print(ll)"
      ],
      "metadata": {
        "colab": {
          "base_uri": "https://localhost:8080/"
        },
        "id": "aeoG4qQnxMMK",
        "outputId": "9a057e87-3578-4d08-9f34-d6eb1b64e1e9"
      },
      "execution_count": null,
      "outputs": [
        {
          "output_type": "stream",
          "name": "stdout",
          "text": [
            "[[1000, 2, 3], [4, 5, 6]]\n",
            "[[1000, 2, 3], [4, 5, 6]]\n"
          ]
        }
      ]
    },
    {
      "cell_type": "code",
      "source": [
        "# 리스트 컴프리헨션으로 깊은 복사 구현(완전하진 않습니다.)\n",
        "l = [[1, 2, 3], [4, 5, 6]]\n",
        "ll = [i[:] for i in l]\n",
        "ll[0][0] = 1000\n",
        "print(l)\n",
        "print(ll)"
      ],
      "metadata": {
        "colab": {
          "base_uri": "https://localhost:8080/"
        },
        "id": "iGDKnAZSxN6j",
        "outputId": "5293ba8d-5cb5-4324-ce5f-6c2d4b30b143"
      },
      "execution_count": null,
      "outputs": [
        {
          "output_type": "stream",
          "name": "stdout",
          "text": [
            "[[1, 2, 3], [4, 5, 6]]\n",
            "[[1000, 2, 3], [4, 5, 6]]\n"
          ]
        }
      ]
    },
    {
      "cell_type": "code",
      "source": [
        "# 위와 같은 방식으로 했을 때 완전하지 않은 코드\n",
        "a = [9, 99]\n",
        "\n",
        "l = [[1, 2, a], [4, 5, 6]]\n",
        "ll = [i[:] for i in l]\n",
        "a[0] = 10000\n",
        "print(l)\n",
        "print(ll)"
      ],
      "metadata": {
        "colab": {
          "base_uri": "https://localhost:8080/"
        },
        "id": "To_xadgxxgSK",
        "outputId": "50270cb6-4d62-43b1-85e4-df0a15f294fa"
      },
      "execution_count": null,
      "outputs": [
        {
          "output_type": "stream",
          "name": "stdout",
          "text": [
            "[[1, 2, [10000, 99]], [4, 5, 6]]\n",
            "[[1, 2, [10000, 99]], [4, 5, 6]]\n"
          ]
        }
      ]
    },
    {
      "cell_type": "markdown",
      "source": [
        "###심화?"
      ],
      "metadata": {
        "id": "2-sm7h2rxoya"
      }
    },
    {
      "cell_type": "code",
      "source": [
        "a = [9999, 9999, 9999]\n",
        "b = copy.deepcopy(a)\n",
        "c = copy.deepcopy(b)\n",
        "print(a, b, c)\n",
        "\n",
        "print(id(a[0]), id(b[0]), id(c[0]))"
      ],
      "metadata": {
        "colab": {
          "base_uri": "https://localhost:8080/"
        },
        "id": "daHk3lDhxqah",
        "outputId": "4f467a5c-cdef-4a0b-af3f-40484a89aba7"
      },
      "execution_count": null,
      "outputs": [
        {
          "output_type": "stream",
          "name": "stdout",
          "text": [
            "[9999, 9999, 9999] [9999, 9999, 9999] [9999, 9999, 9999]\n",
            "137110944518704 137110944518704 137110944518704\n"
          ]
        }
      ]
    },
    {
      "cell_type": "code",
      "source": [
        "c = [9999, 9999, 9999]\n",
        "id(c[0]), id(c[1]), id(c[2])\n",
        "c[0] is c[1]"
      ],
      "metadata": {
        "colab": {
          "base_uri": "https://localhost:8080/"
        },
        "id": "IaF-DC-Mxwtt",
        "outputId": "03e0548c-17a1-4374-eab3-0dcf507791cb"
      },
      "execution_count": null,
      "outputs": [
        {
          "output_type": "execute_result",
          "data": {
            "text/plain": [
              "True"
            ]
          },
          "metadata": {},
          "execution_count": 117
        }
      ]
    },
    {
      "cell_type": "code",
      "source": [
        "test = [9999, 9998, 9999]\n",
        "id(test[0]), id(test[1]), id(test[2])\n",
        "#같은 컨벤션 내에 지정된 숫자는 동일한 메모리에 저장"
      ],
      "metadata": {
        "colab": {
          "base_uri": "https://localhost:8080/"
        },
        "id": "7XKuTeKVxzPf",
        "outputId": "0b665e49-ca44-4fdf-f123-55e43c230c9c"
      },
      "execution_count": null,
      "outputs": [
        {
          "output_type": "execute_result",
          "data": {
            "text/plain": [
              "(137110944521712, 137110944527696, 137110944521712)"
            ]
          },
          "metadata": {},
          "execution_count": 118
        }
      ]
    },
    {
      "cell_type": "code",
      "source": [
        "test = (9999, 9998, 9999)\n",
        "id(test[0]), id(test[1]), id(test[2])\n",
        "#같은 컨벤션 내에 지정된 숫자는 동일한 메모리에 저장"
      ],
      "metadata": {
        "colab": {
          "base_uri": "https://localhost:8080/"
        },
        "id": "MxEEmYpPyDfi",
        "outputId": "89a09924-2759-4983-b24e-199cc5fce866"
      },
      "execution_count": null,
      "outputs": [
        {
          "output_type": "execute_result",
          "data": {
            "text/plain": [
              "(137110944521648, 137110944522416, 137110944521648)"
            ]
          },
          "metadata": {},
          "execution_count": 119
        }
      ]
    },
    {
      "cell_type": "code",
      "source": [
        "a = [1, 2, 3]\n",
        "b = [4, 5, 6]\n",
        "\n",
        "l = [a, b]\n",
        "ll = [a, b]\n",
        "lll = [[1,2, 3], [4, 5, 6]]\n",
        "\n",
        "print(id(l), id(ll))\n",
        "print(id(l[0]), id(ll[0]))\n",
        "print(id(l[0]), id(lll[0]))"
      ],
      "metadata": {
        "colab": {
          "base_uri": "https://localhost:8080/"
        },
        "id": "ZcbqyFh5yEn8",
        "outputId": "d2c8b4ec-2ade-4ecb-f782-49d2986603b1"
      },
      "execution_count": null,
      "outputs": [
        {
          "output_type": "stream",
          "name": "stdout",
          "text": [
            "137110942680320 137110945684032\n",
            "137110942680256 137110942680256\n",
            "137110942680256 137110944227456\n"
          ]
        }
      ]
    },
    {
      "cell_type": "code",
      "source": [
        "a = [9999, 9998, 9999]\n",
        "b = copy.deepcopy(a)\n",
        "c = copy.deepcopy(b)\n",
        "print(a, b, c)\n",
        "\n",
        "id(test[0]), id(test[1]), id(test[2])"
      ],
      "metadata": {
        "colab": {
          "base_uri": "https://localhost:8080/"
        },
        "id": "LiOZcRYQyz1e",
        "outputId": "1f50005e-8132-46e8-9bc3-b4f0131b7e82"
      },
      "execution_count": null,
      "outputs": [
        {
          "output_type": "stream",
          "name": "stdout",
          "text": [
            "[9999, 9998, 9999] [9999, 9998, 9999] [9999, 9998, 9999]\n"
          ]
        },
        {
          "output_type": "execute_result",
          "data": {
            "text/plain": [
              "(137110944521648, 137110944522416, 137110944521648)"
            ]
          },
          "metadata": {},
          "execution_count": 123
        }
      ]
    },
    {
      "cell_type": "markdown",
      "source": [
        "##count 카운트"
      ],
      "metadata": {
        "id": "0qbK-AyHHP-m"
      }
    },
    {
      "cell_type": "code",
      "source": [
        "a = [1, 1, 2, 3, 1]\n",
        "print(a.count(1))  # 출력: 3"
      ],
      "metadata": {
        "colab": {
          "base_uri": "https://localhost:8080/"
        },
        "id": "A6dU5RefHRJ-",
        "outputId": "a6fde8d0-5723-4695-d48c-8785383ad6c4"
      },
      "execution_count": null,
      "outputs": [
        {
          "output_type": "stream",
          "name": "stdout",
          "text": [
            "3\n"
          ]
        }
      ]
    },
    {
      "cell_type": "code",
      "source": [
        "[1, 1, 1, 3, 3, 5, 6].count(1)\n",
        "list('1113356').count('1')"
      ],
      "metadata": {
        "colab": {
          "base_uri": "https://localhost:8080/"
        },
        "id": "ug8D0PP1H-nW",
        "outputId": "4fdcea56-cc92-42b4-84b3-9b8e04fba416"
      },
      "execution_count": null,
      "outputs": [
        {
          "output_type": "execute_result",
          "data": {
            "text/plain": [
              "3"
            ]
          },
          "metadata": {},
          "execution_count": 31
        }
      ]
    },
    {
      "cell_type": "code",
      "source": [
        "test = {'one':9999, 'two':9998, 'three':9999}\n",
        "id(test['one']), id(test['two']), id(test['three'])\n",
        "#같은 컨벤션 내에 지정된 숫자는 동일한 메모리에 저장"
      ],
      "metadata": {
        "colab": {
          "base_uri": "https://localhost:8080/"
        },
        "id": "-3lu97uPzbz7",
        "outputId": "2effb822-342e-44fb-dc06-71b72c0e5a20"
      },
      "execution_count": null,
      "outputs": [
        {
          "output_type": "execute_result",
          "data": {
            "text/plain": [
              "(137110944521872, 137110944528496, 137110944521872)"
            ]
          },
          "metadata": {},
          "execution_count": 124
        }
      ]
    },
    {
      "cell_type": "markdown",
      "source": [
        "## extend 익스텐드"
      ],
      "metadata": {
        "id": "CtiDwhTTHaxO"
      }
    },
    {
      "cell_type": "code",
      "source": [
        "l = [10, 20, 30]\n",
        "l.extend([10, 20])\n",
        "l"
      ],
      "metadata": {
        "colab": {
          "base_uri": "https://localhost:8080/"
        },
        "id": "EIPNRojfW_SD",
        "outputId": "d955a5ab-fb34-422d-85cf-782282810407"
      },
      "execution_count": null,
      "outputs": [
        {
          "output_type": "execute_result",
          "data": {
            "text/plain": [
              "[10, 20, 30, 10, 20]"
            ]
          },
          "metadata": {},
          "execution_count": 39
        }
      ]
    },
    {
      "cell_type": "code",
      "source": [
        "l = [10, 20, 30]\n",
        "l.extend('hello')\n",
        "l"
      ],
      "metadata": {
        "colab": {
          "base_uri": "https://localhost:8080/"
        },
        "id": "dRDiI5DaXDbU",
        "outputId": "21fe89d7-18cb-42ad-90cd-2eb42884c8aa"
      },
      "execution_count": null,
      "outputs": [
        {
          "output_type": "execute_result",
          "data": {
            "text/plain": [
              "[10, 20, 30, 'h', 'e', 'l', 'l', 'o']"
            ]
          },
          "metadata": {},
          "execution_count": 40
        }
      ]
    },
    {
      "cell_type": "code",
      "source": [
        "a = [1, 2, 3]\n",
        "a.extend([4, 5, 6])\n",
        "print(a)  # 출력: [1, 2, 3, 4, 5, 6]"
      ],
      "metadata": {
        "colab": {
          "base_uri": "https://localhost:8080/"
        },
        "id": "YDZXCO1UHakW",
        "outputId": "72187456-0588-46b7-fcb6-53d55b7db446"
      },
      "execution_count": null,
      "outputs": [
        {
          "output_type": "stream",
          "name": "stdout",
          "text": [
            "[1, 2, 3, 4, 5, 6]\n"
          ]
        }
      ]
    },
    {
      "cell_type": "code",
      "source": [
        "# 한 자리씩 잘라서 넣는다라고 생각해볼게요.\n",
        "userinput = input('숫자를 입력하세요:')\n",
        "l = [10, 20, 30]\n",
        "l.extend(map(int,userinput))\n",
        "l"
      ],
      "metadata": {
        "colab": {
          "base_uri": "https://localhost:8080/"
        },
        "id": "EyJPLY51H7V-",
        "outputId": "358bcc27-96e0-4cde-e465-2d73b52f20c4"
      },
      "execution_count": null,
      "outputs": [
        {
          "name": "stdout",
          "output_type": "stream",
          "text": [
            "숫자를 입력하세요:123\n"
          ]
        },
        {
          "output_type": "execute_result",
          "data": {
            "text/plain": [
              "[10, 20, 30, 1, 2, 3]"
            ]
          },
          "metadata": {},
          "execution_count": 33
        }
      ]
    },
    {
      "cell_type": "code",
      "source": [
        "l = [10, 20, 30]\n",
        "l.extend(map(int,input('숫자를 입력하세요:')))"
      ],
      "metadata": {
        "colab": {
          "base_uri": "https://localhost:8080/"
        },
        "id": "OJU7YbfjIude",
        "outputId": "1944c8b8-8a0f-4896-b877-9ae94022b75f"
      },
      "execution_count": null,
      "outputs": [
        {
          "name": "stdout",
          "output_type": "stream",
          "text": [
            "숫자를 입력하세요:123\n"
          ]
        }
      ]
    },
    {
      "cell_type": "markdown",
      "source": [
        "## index 인덱스"
      ],
      "metadata": {
        "id": "GrFuoiIuJlWu"
      }
    },
    {
      "cell_type": "code",
      "source": [
        "l = [10, 20, 30, 40, 50]\n",
        "l.index(30)\n",
        "# l.index(60)"
      ],
      "metadata": {
        "colab": {
          "base_uri": "https://localhost:8080/"
        },
        "id": "UG9DD879I8lG",
        "outputId": "f31527ae-d52a-45df-a28c-61d6f0bbfdff"
      },
      "execution_count": null,
      "outputs": [
        {
          "output_type": "execute_result",
          "data": {
            "text/plain": [
              "2"
            ]
          },
          "metadata": {},
          "execution_count": 44
        }
      ]
    },
    {
      "cell_type": "code",
      "source": [
        "l = [10, 20, 30, 40, 50]\n",
        "# l.find(60) # find 메서드가 없습니다. 저도 간혹 이 실수를 합니다."
      ],
      "metadata": {
        "id": "wyH41vKAJree"
      },
      "execution_count": null,
      "outputs": []
    },
    {
      "cell_type": "markdown",
      "source": [
        "## insert"
      ],
      "metadata": {
        "id": "wcDieluWHxku"
      }
    },
    {
      "cell_type": "code",
      "source": [
        "l = [10, 20, 30]\n",
        "l.insert(2, 25)\n",
        "print(l)  # 출력: [10, 20, 25, 30]"
      ],
      "metadata": {
        "id": "wNbA0J2GHx42"
      },
      "execution_count": null,
      "outputs": []
    },
    {
      "cell_type": "markdown",
      "source": [
        "## pop 강조"
      ],
      "metadata": {
        "id": "9M7avewyMot2"
      }
    },
    {
      "cell_type": "code",
      "source": [
        "# 마지막에서 빼는 것\n",
        "l = [10, 20, 30]\n",
        "print(l.pop())\n",
        "print(l)"
      ],
      "metadata": {
        "colab": {
          "base_uri": "https://localhost:8080/"
        },
        "id": "ki-V1ZUcMqvu",
        "outputId": "ce5031c0-054b-4b16-9b27-745037a903d6"
      },
      "execution_count": null,
      "outputs": [
        {
          "output_type": "stream",
          "name": "stdout",
          "text": [
            "30\n",
            "[10, 20]\n"
          ]
        }
      ]
    },
    {
      "cell_type": "code",
      "source": [
        "# 첫번째에서 빼는 것\n",
        "l = [10, 20, 30]\n",
        "print(l.pop(0))\n",
        "print(l)"
      ],
      "metadata": {
        "id": "iI-fQtKqM09u"
      },
      "execution_count": null,
      "outputs": []
    },
    {
      "cell_type": "code",
      "source": [
        "# 첫번째에서 빼는 것\n",
        "l = [10, 20, 30]\n",
        "result = l.pop(0)\n",
        "print(l, result)"
      ],
      "metadata": {
        "colab": {
          "base_uri": "https://localhost:8080/"
        },
        "id": "y93zxT90NGue",
        "outputId": "b18ecc7c-c5e1-4184-b25c-7d11671ddefb"
      },
      "execution_count": null,
      "outputs": [
        {
          "output_type": "stream",
          "name": "stdout",
          "text": [
            "[20, 30] 10\n"
          ]
        }
      ]
    },
    {
      "cell_type": "code",
      "source": [
        "l = [1, 2, 3, 4, 5]\n",
        "\n",
        "while l:\n",
        "    print(l.pop())"
      ],
      "metadata": {
        "colab": {
          "base_uri": "https://localhost:8080/"
        },
        "id": "VVE_QGWaNM0G",
        "outputId": "f23df8cc-a126-448f-d9ef-9f643e69f038"
      },
      "execution_count": null,
      "outputs": [
        {
          "output_type": "stream",
          "name": "stdout",
          "text": [
            "5\n",
            "4\n",
            "3\n",
            "2\n",
            "1\n"
          ]
        }
      ]
    },
    {
      "cell_type": "code",
      "source": [
        "l = [1, 2, 3, 4, 5]\n",
        "\n",
        "while l:\n",
        "    print(l.pop(0))"
      ],
      "metadata": {
        "colab": {
          "base_uri": "https://localhost:8080/"
        },
        "id": "UF2uoBY2NhwJ",
        "outputId": "f9e8d583-f906-4dfc-9168-699dc2308d94"
      },
      "execution_count": null,
      "outputs": [
        {
          "output_type": "stream",
          "name": "stdout",
          "text": [
            "1\n",
            "2\n",
            "3\n",
            "4\n",
            "5\n"
          ]
        }
      ]
    },
    {
      "cell_type": "markdown",
      "source": [
        "## remove"
      ],
      "metadata": {
        "id": "-jey3000NkDG"
      }
    },
    {
      "cell_type": "code",
      "source": [
        "l = [1, 2, 3, 1, 2, 2, 2, 1, 1]\n",
        "l.remove(2)\n",
        "print(l)"
      ],
      "metadata": {
        "colab": {
          "base_uri": "https://localhost:8080/"
        },
        "id": "8VTZSUN5NnJu",
        "outputId": "aa72f576-5cf2-438c-bc09-b97a02cc4695"
      },
      "execution_count": null,
      "outputs": [
        {
          "output_type": "stream",
          "name": "stdout",
          "text": [
            "[1, 3, 1, 2, 2, 2, 1, 1]\n"
          ]
        }
      ]
    },
    {
      "cell_type": "code",
      "source": [
        "#굳이 remove 를 사용한다면\n",
        "l = [1, 2, 3, 1, 2, 2, 2, 1, 1]\n",
        "while l.count(2):\n",
        "    l.remove(2)"
      ],
      "metadata": {
        "id": "xockHQ74OQK2"
      },
      "execution_count": null,
      "outputs": []
    },
    {
      "cell_type": "code",
      "source": [
        "# 제거하는데 다른 함수를 사용하지 않을 이유가 없다.\n",
        "l = [1, 2, 3, 1, 2, 2, 2, 1, 1]\n",
        "list(filter(lambda x: x != 2, l))"
      ],
      "metadata": {
        "colab": {
          "base_uri": "https://localhost:8080/"
        },
        "id": "H0bFNJ2DOJlg",
        "outputId": "939f117b-3fc8-4c3d-da53-1af8990905da"
      },
      "execution_count": null,
      "outputs": [
        {
          "output_type": "execute_result",
          "data": {
            "text/plain": [
              "[1, 3, 1, 1, 1]"
            ]
          },
          "metadata": {},
          "execution_count": 53
        }
      ]
    },
    {
      "cell_type": "markdown",
      "source": [
        "## reverse"
      ],
      "metadata": {
        "id": "WxNDlyt9OfBt"
      }
    },
    {
      "cell_type": "code",
      "source": [
        "# reversed와 reverse 차이, sorted와 sort 차이\n",
        "# 원본 수정이 아니냐, 원본수정이냐? 입니다.\n",
        "\n",
        "l = [1, 2, 10, 10, 3, 4]\n",
        "print(list(reversed(l))) # 출력: [1, 2, 3, 4, 10]\n",
        "print(l) # 출력: [1, 2, 10, 3, 4] # 원본은 그대로입니다."
      ],
      "metadata": {
        "colab": {
          "base_uri": "https://localhost:8080/"
        },
        "id": "QivYv4UmOPSW",
        "outputId": "406ccc82-bad2-4e32-9e46-48990f7ff0b3"
      },
      "execution_count": null,
      "outputs": [
        {
          "output_type": "stream",
          "name": "stdout",
          "text": [
            "[4, 3, 10, 10, 2, 1]\n",
            "[1, 2, 10, 10, 3, 4]\n"
          ]
        }
      ]
    },
    {
      "cell_type": "code",
      "source": [
        "l = [1, 2, 10, 3, 4]\n",
        "print(list(reversed(l))) # 출력: [4, 3, 10, 2, 1]\n",
        "print(l)  # 출력: [1, 2, 10, 3, 4] # 원본은 그대로입니다."
      ],
      "metadata": {
        "colab": {
          "base_uri": "https://localhost:8080/"
        },
        "id": "g9_VJHYpR8Q_",
        "outputId": "11fb2b4a-f582-4397-aa71-9b74eff6eb58"
      },
      "execution_count": null,
      "outputs": [
        {
          "output_type": "stream",
          "name": "stdout",
          "text": [
            "[4, 3, 10, 2, 1]\n",
            "[1, 2, 10, 3, 4]\n"
          ]
        }
      ]
    },
    {
      "cell_type": "code",
      "source": [
        "l = [1, 2, 10, 3, 4]\n",
        "print(l.reverse()) # 출력: None\n",
        "print(l) # 출력: [4, 3, 10, 2, 1]"
      ],
      "metadata": {
        "colab": {
          "base_uri": "https://localhost:8080/"
        },
        "id": "re7giNyTSEOB",
        "outputId": "1f388ddf-28a9-4626-dc62-e89ce1fe9ab0"
      },
      "execution_count": null,
      "outputs": [
        {
          "output_type": "stream",
          "name": "stdout",
          "text": [
            "None\n",
            "[4, 3, 10, 2, 1]\n"
          ]
        }
      ]
    },
    {
      "cell_type": "code",
      "source": [
        "l = [1, 2, 10, 3, 4]\n",
        "print(list(sorted(l))) # 출력: [1, 2, 3, 4, 10]\n",
        "print(l)               # 출력: [1, 2, 10, 3, 4] # 원본은 그대로입니다."
      ],
      "metadata": {
        "colab": {
          "base_uri": "https://localhost:8080/"
        },
        "id": "9O43MM6ER6YV",
        "outputId": "6e0e45d2-5ef7-4de9-ebad-47daf6915b56"
      },
      "execution_count": null,
      "outputs": [
        {
          "output_type": "stream",
          "name": "stdout",
          "text": [
            "[1, 2, 3, 4, 10]\n",
            "[1, 2, 10, 3, 4]\n"
          ]
        }
      ]
    },
    {
      "cell_type": "code",
      "source": [
        "l = [1, 2, 10, 3, 4]\n",
        "print(l.sort()) # 출력: None\n",
        "print(l)        # 출력: [1, 2, 3, 4, 10]"
      ],
      "metadata": {
        "colab": {
          "base_uri": "https://localhost:8080/"
        },
        "id": "3UPu6PvAR4FW",
        "outputId": "4c9b24f3-bdd3-4248-891c-aa73c9c90ea3"
      },
      "execution_count": null,
      "outputs": [
        {
          "output_type": "stream",
          "name": "stdout",
          "text": [
            "None\n",
            "[1, 2, 3, 4, 10]\n"
          ]
        }
      ]
    },
    {
      "cell_type": "code",
      "source": [
        "# 게시판 = [게시물1, 게시물2, 게시물3, 게시물4]\n",
        "# 게시물1: 오래된 게시물이 저장이 되어 있을겁니다. (append로 게시물 추가했다고 생각해볼게요.)\n",
        "# 그러면 그냥 게시판을 출력했을 때 최상단에 노출되는 게시물은 가장 오래된 게시물일겁니다.\n",
        "# 컴퓨터 입장에서는요.\n",
        "# 그래서 게시판.reverse()해서 출력합니다. 최신게시물이 상단에 오게요.\n",
        "# 그러면 게시물5는 어디에 추가 될까요? 원본을 수정했기 때문에 게시물1 다음에 게시물5가 추가되요.\n",
        "# 게시판[::-1], reversed(게시판)을 사용해서 역순으로 만들었어야 했습니다.\n",
        "# 보이는화면 = 게시판[::-1]\n",
        "# 보이는화면 = reversed(게시판)"
      ],
      "metadata": {
        "id": "ibOok5yiR2MN"
      },
      "execution_count": null,
      "outputs": []
    },
    {
      "cell_type": "code",
      "source": [
        "l = [1, 2, 10, 10, 3, 4]\n",
        "l.reverse()\n",
        "print(l)"
      ],
      "metadata": {
        "id": "J8rYM-ouRoSL"
      },
      "execution_count": null,
      "outputs": []
    },
    {
      "cell_type": "markdown",
      "source": [
        "# 튜플"
      ],
      "metadata": {
        "id": "EM1jr8BmT6k9"
      }
    },
    {
      "cell_type": "code",
      "source": [
        "# 튜플은 안에 있는 값이 변경 불가능한 자료형이 아닙니다.\n",
        "# 튜플은 참조 불변입니다.\n",
        "# 리스트에 비해 처리 속도가 조금 더 빠릅니다.\n",
        "\n",
        "x = (1, 2, 3)\n",
        "# x[0] = 100 # error"
      ],
      "metadata": {
        "id": "1f2TbsQJUAt9"
      },
      "execution_count": null,
      "outputs": []
    },
    {
      "cell_type": "code",
      "source": [
        "x = [10, 20, 30]\n",
        "y = (1, 2, x)\n",
        "x[0] = 1000\n",
        "y # 출력: (1, 2, [1000, 20, 30])"
      ],
      "metadata": {
        "colab": {
          "base_uri": "https://localhost:8080/"
        },
        "id": "ZSUXM8hRUVf1",
        "outputId": "8d9b03f5-fc18-4059-c082-9ebeb5f6c3f6"
      },
      "execution_count": null,
      "outputs": [
        {
          "output_type": "execute_result",
          "data": {
            "text/plain": [
              "(1, 2, [1000, 20, 30])"
            ]
          },
          "metadata": {},
          "execution_count": 66
        }
      ]
    },
    {
      "cell_type": "code",
      "source": [
        "# 데이터의 변경이 민감한 곳\n",
        "# 참조의 갯수가 변하면 안되는 곳\n",
        "\n",
        "s = {'one':1, 'two':2}\n",
        "s.items()"
      ],
      "metadata": {
        "colab": {
          "base_uri": "https://localhost:8080/"
        },
        "id": "nA2Ni4FlUbnq",
        "outputId": "4bba71da-f69d-4944-9e80-4de2033c4e3e"
      },
      "execution_count": null,
      "outputs": [
        {
          "output_type": "execute_result",
          "data": {
            "text/plain": [
              "dict_items([('one', 1), ('two', 2)])"
            ]
          },
          "metadata": {},
          "execution_count": 67
        }
      ]
    },
    {
      "cell_type": "code",
      "source": [
        "t = (1, 2, 3, 4, 5)\n",
        "print(t[0]) # 출력: 1\n",
        "print(t[1:4]) # 출력: (2, 3, 4)"
      ],
      "metadata": {
        "colab": {
          "base_uri": "https://localhost:8080/"
        },
        "id": "d8Vs2fXXWWUI",
        "outputId": "6abe8cf8-f647-4f9f-a996-c69f2b333da6"
      },
      "execution_count": null,
      "outputs": [
        {
          "output_type": "stream",
          "name": "stdout",
          "text": [
            "1\n",
            "(2, 3, 4)\n"
          ]
        }
      ]
    },
    {
      "cell_type": "code",
      "source": [
        "t = (1, 1, 1, 2, 3, 4)\n",
        "t.count(1)"
      ],
      "metadata": {
        "colab": {
          "base_uri": "https://localhost:8080/"
        },
        "id": "MqUepm0-YqcY",
        "outputId": "dd673e42-9b06-4f6f-b895-37cfad2bf5ee"
      },
      "execution_count": null,
      "outputs": [
        {
          "output_type": "execute_result",
          "data": {
            "text/plain": [
              "3"
            ]
          },
          "metadata": {},
          "execution_count": 73
        }
      ]
    },
    {
      "cell_type": "code",
      "source": [
        "t.index(3)"
      ],
      "metadata": {
        "colab": {
          "base_uri": "https://localhost:8080/"
        },
        "id": "1_1MHeJKYK9b",
        "outputId": "a35c42db-45e3-4193-bceb-3a583e1ddc77"
      },
      "execution_count": null,
      "outputs": [
        {
          "output_type": "execute_result",
          "data": {
            "text/plain": [
              "4"
            ]
          },
          "metadata": {},
          "execution_count": 74
        }
      ]
    },
    {
      "cell_type": "markdown",
      "source": [
        "# dict 딕셔너리"
      ],
      "metadata": {
        "id": "a9HoBvy-YPtF"
      }
    },
    {
      "cell_type": "code",
      "source": [
        "# 파이썬 3.6 버전부터 삽입 순서가 보장\n",
        "# colab, colab에서 불과 1 ~ 2년 전만 하더라도 print로 출력한 것은 정렬 출력,\n",
        "# 맨 마지막 출력은 정렬하지 않고 출력했습니다."
      ],
      "metadata": {
        "id": "FT1604OFYOKF"
      },
      "execution_count": null,
      "outputs": []
    },
    {
      "cell_type": "code",
      "source": [
        "print({'bb':100, 'hello':10, 'world':20, 'aa':30})\n",
        "d = {'bb':100, 'hello':10, 'world':20, 'aa':30}\n",
        "print(d)\n",
        "d"
      ],
      "metadata": {
        "colab": {
          "base_uri": "https://localhost:8080/"
        },
        "id": "1s3szYwcY_Ol",
        "outputId": "f028ebb4-96a3-455e-f721-75aee8b57069"
      },
      "execution_count": null,
      "outputs": [
        {
          "output_type": "stream",
          "name": "stdout",
          "text": [
            "{'bb': 100, 'hello': 10, 'world': 20, 'aa': 30}\n",
            "{'bb': 100, 'hello': 10, 'world': 20, 'aa': 30}\n"
          ]
        },
        {
          "output_type": "execute_result",
          "data": {
            "text/plain": [
              "{'bb': 100, 'hello': 10, 'world': 20, 'aa': 30}"
            ]
          },
          "metadata": {},
          "execution_count": 42
        }
      ]
    },
    {
      "cell_type": "code",
      "source": [
        "d = dict([('one' , '하나'), ('two', '둘')])\n",
        "print(d)  # 출력: {'one' : '하나', 'two' : '둘'}"
      ],
      "metadata": {
        "colab": {
          "base_uri": "https://localhost:8080/"
        },
        "id": "-xEKT6gqZOyO",
        "outputId": "75184299-dc63-4b97-9f74-abb717f8fc90"
      },
      "execution_count": null,
      "outputs": [
        {
          "output_type": "stream",
          "name": "stdout",
          "text": [
            "{'one': '하나', 'two': '둘'}\n"
          ]
        }
      ]
    },
    {
      "cell_type": "code",
      "source": [
        "d = dict([['one' , '하나'], ['two', '둘']])\n",
        "print(d)  # 출력: {'one' : '하나', 'two' : '둘'}"
      ],
      "metadata": {
        "colab": {
          "base_uri": "https://localhost:8080/"
        },
        "id": "w-Y4i7z4ZYMQ",
        "outputId": "2b9eee0c-b65b-4f9d-e238-630786e7e237"
      },
      "execution_count": null,
      "outputs": [
        {
          "output_type": "stream",
          "name": "stdout",
          "text": [
            "{'one': '하나', 'two': '둘'}\n"
          ]
        }
      ]
    },
    {
      "cell_type": "code",
      "source": [
        "d = dict([['aa'], ['bb']])\n",
        "# print(d)  # error"
      ],
      "metadata": {
        "id": "vUglgZ8tZbE1"
      },
      "execution_count": null,
      "outputs": []
    },
    {
      "cell_type": "code",
      "source": [
        "d = dict(name='licat', age=10)\n",
        "print(d)  # 출력: {'name': 'licat', 'age': 10}"
      ],
      "metadata": {
        "colab": {
          "base_uri": "https://localhost:8080/"
        },
        "id": "By5g6ehzZnb8",
        "outputId": "bae6543a-0371-4f53-da79-eda8a674d21e"
      },
      "execution_count": null,
      "outputs": [
        {
          "output_type": "stream",
          "name": "stdout",
          "text": [
            "{'name': 'licat', 'age': 10}\n"
          ]
        }
      ]
    },
    {
      "cell_type": "code",
      "source": [
        "complex_dict = {\n",
        "    \"numbers\": [1, 2, 3],\n",
        "    42: \"answer\",\n",
        "    (\"x\", \"y\"): [10, 20],\n",
        "    True: [100, 200]\n",
        "}\n",
        "print(complex_dict[\"numbers\"])  # 출력: [1, 2, 3]\n",
        "print(complex_dict[42])         # 출력: answer\n",
        "print(complex_dict[(\"x\", \"y\")]) # 출력: [10, 20]\n",
        "print(complex_dict[True]) # 출력: [10, 20]"
      ],
      "metadata": {
        "colab": {
          "base_uri": "https://localhost:8080/"
        },
        "id": "CqINNespZsGU",
        "outputId": "a0e4612e-341a-4570-a9c0-41ad71a5ad25"
      },
      "execution_count": null,
      "outputs": [
        {
          "output_type": "stream",
          "name": "stdout",
          "text": [
            "[1, 2, 3]\n",
            "answer\n",
            "[10, 20]\n",
            "[100, 200]\n"
          ]
        }
      ]
    },
    {
      "cell_type": "code",
      "source": [
        "person = {'name': 'licat', 'city': 'Jeju'}\n",
        "person['name'] = 'mura'\n",
        "person['city'] = 'Seoul'\n",
        "\n",
        "print(person)"
      ],
      "metadata": {
        "colab": {
          "base_uri": "https://localhost:8080/"
        },
        "id": "SztYDyctZtcg",
        "outputId": "345caf31-2b9a-48d6-b082-6af285ff5b63"
      },
      "execution_count": null,
      "outputs": [
        {
          "output_type": "stream",
          "name": "stdout",
          "text": [
            "{'name': 'mura', 'city': 'Seoul'}\n"
          ]
        }
      ]
    },
    {
      "cell_type": "code",
      "source": [
        "person['age'] = 10\n",
        "print(person)"
      ],
      "metadata": {
        "colab": {
          "base_uri": "https://localhost:8080/"
        },
        "id": "-NhHhGWAaE02",
        "outputId": "6edf4433-ebab-4d9e-810e-cc589d7e957c"
      },
      "execution_count": null,
      "outputs": [
        {
          "output_type": "stream",
          "name": "stdout",
          "text": [
            "{'name': 'mura', 'city': 'Seoul', 'age': 10}\n"
          ]
        }
      ]
    },
    {
      "cell_type": "code",
      "source": [
        "keys = [\"name\", \"city\", \"job\"]\n",
        "values = [\"licat\", \"Jeju\", \"Developer\"]\n",
        "\n",
        "new_dict = dict(zip(keys, values))\n",
        "print(new_dict)"
      ],
      "metadata": {
        "colab": {
          "base_uri": "https://localhost:8080/"
        },
        "id": "Uhf_IX-paRfp",
        "outputId": "751a3e23-6f3f-4d23-fc23-f7a548544803"
      },
      "execution_count": null,
      "outputs": [
        {
          "output_type": "stream",
          "name": "stdout",
          "text": [
            "{'name': 'licat', 'city': 'Jeju', 'job': 'Developer'}\n"
          ]
        }
      ]
    },
    {
      "cell_type": "code",
      "source": [
        "hero = {'name': 'licat', 'age': 10}\n",
        "dir(hero)"
      ],
      "metadata": {
        "id": "wLzhgptEaf1t"
      },
      "execution_count": null,
      "outputs": []
    },
    {
      "cell_type": "code",
      "source": [
        "#  'items',\n",
        "#  'keys',\n",
        "#  'values'\n",
        "#  'fromkeys',\n",
        "#  'get',\n",
        "#  'pop',\n",
        "#  'popitem',\n",
        "#  'setdefault',\n",
        "#  'update',\n",
        "\n",
        "hero = {'name': 'licat', 'age': 10}\n",
        "hero2 = hero.copy()\n",
        "\n",
        "hero2['name'] = 'mura'\n",
        "\n",
        "print(hero, hero2)"
      ],
      "metadata": {
        "colab": {
          "base_uri": "https://localhost:8080/"
        },
        "id": "3H-sQuYJaqkk",
        "outputId": "a0a6894e-60dc-4bcc-8615-a63125693c53"
      },
      "execution_count": null,
      "outputs": [
        {
          "output_type": "stream",
          "name": "stdout",
          "text": [
            "{'name': 'licat', 'age': 10} {'name': 'mura', 'age': 10}\n"
          ]
        }
      ]
    },
    {
      "cell_type": "code",
      "source": [
        "hero = {'name': 'licat', 'age': 10}\n",
        "print(hero2.items())\n",
        "# hero2.items()[0] # error\n",
        "list(hero2.items())[0] # 출력: ('name', 'mura')\n",
        "type(hero2.items())"
      ],
      "metadata": {
        "colab": {
          "base_uri": "https://localhost:8080/"
        },
        "id": "YXZ0RJgsbGrc",
        "outputId": "f97e07c6-6de9-40dd-9435-a5b10e90bc1f"
      },
      "execution_count": null,
      "outputs": [
        {
          "output_type": "stream",
          "name": "stdout",
          "text": [
            "dict_items([('name', 'mura'), ('age', 10)])\n"
          ]
        },
        {
          "output_type": "execute_result",
          "data": {
            "text/plain": [
              "dict_items"
            ]
          },
          "metadata": {},
          "execution_count": 97
        }
      ]
    },
    {
      "cell_type": "code",
      "source": [
        "hero = {'name': 'licat', 'age': 10}\n",
        "print(hero.keys())\n",
        "type(hero.keys())\n",
        "\n",
        "# 이렇게 많이 사용합니다.\n",
        "for i in hero2.keys():\n",
        "    print(i)"
      ],
      "metadata": {
        "colab": {
          "base_uri": "https://localhost:8080/"
        },
        "id": "45UwBECJbTp8",
        "outputId": "93790c8b-cc72-4287-f949-9f4d148808ad"
      },
      "execution_count": null,
      "outputs": [
        {
          "output_type": "stream",
          "name": "stdout",
          "text": [
            "dict_keys(['name', 'age'])\n",
            "name\n",
            "age\n"
          ]
        }
      ]
    },
    {
      "cell_type": "code",
      "source": [
        "hero = {'name': 'licat', 'age': 10}\n",
        "print(hero.values())\n",
        "type(hero.values())"
      ],
      "metadata": {
        "colab": {
          "base_uri": "https://localhost:8080/"
        },
        "id": "piLtk1sMcAK3",
        "outputId": "bc7597a2-4887-4f35-86ff-73e6c3d20961"
      },
      "execution_count": null,
      "outputs": [
        {
          "output_type": "stream",
          "name": "stdout",
          "text": [
            "dict_values(['licat', 10])\n"
          ]
        },
        {
          "output_type": "execute_result",
          "data": {
            "text/plain": [
              "dict_values"
            ]
          },
          "metadata": {},
          "execution_count": 103
        }
      ]
    },
    {
      "cell_type": "code",
      "source": [
        "hero = {'name': 'licat', 'age': 10}\n",
        "\n",
        "# 'licat' in hero # 출력: False\n",
        "# 'name' in hero # 출력: True, 키 값을 찾는 것만 됩니다."
      ],
      "metadata": {
        "colab": {
          "base_uri": "https://localhost:8080/"
        },
        "id": "IetIVd4scL6B",
        "outputId": "8cfcb0da-4319-4619-86de-b2aa2317c9ea"
      },
      "execution_count": null,
      "outputs": [
        {
          "output_type": "execute_result",
          "data": {
            "text/plain": [
              "True"
            ]
          },
          "metadata": {},
          "execution_count": 106
        }
      ]
    },
    {
      "cell_type": "code",
      "source": [
        "'licat' in hero.values() # True\n",
        "'mura' in hero.values()  # False"
      ],
      "metadata": {
        "colab": {
          "base_uri": "https://localhost:8080/"
        },
        "id": "qQEVMrCQcQM9",
        "outputId": "8b7a8495-825b-493d-fe7f-771a4fee21d9"
      },
      "execution_count": null,
      "outputs": [
        {
          "output_type": "execute_result",
          "data": {
            "text/plain": [
              "False"
            ]
          },
          "metadata": {},
          "execution_count": 109
        }
      ]
    },
    {
      "cell_type": "code",
      "source": [
        "#  'fromkeys',\n",
        "#  'get',\n",
        "#  'pop',\n",
        "#  'popitem',\n",
        "#  'setdefault',\n",
        "#  'update',\n",
        "\n",
        "keys = ['name', 'city', 'job']\n",
        "values = ['licat', 'Jeju', 'Developer']\n",
        "print(dict.fromkeys(keys, values))"
      ],
      "metadata": {
        "colab": {
          "base_uri": "https://localhost:8080/"
        },
        "id": "QaiXG7bCch0d",
        "outputId": "20cc098b-3158-4c2f-b087-163297a22701"
      },
      "execution_count": null,
      "outputs": [
        {
          "output_type": "stream",
          "name": "stdout",
          "text": [
            "{'name': ['licat', 'Jeju', 'Developer'], 'city': ['licat', 'Jeju', 'Developer'], 'job': ['licat', 'Jeju', 'Developer']}\n"
          ]
        }
      ]
    },
    {
      "cell_type": "code",
      "source": [
        "keys = ['name', 'city', 'job']\n",
        "value = None\n",
        "print(dict.fromkeys(keys, values))"
      ],
      "metadata": {
        "colab": {
          "base_uri": "https://localhost:8080/"
        },
        "id": "PtPoO0qWceRI",
        "outputId": "fa339afe-62b7-4e76-f880-9325d811d90e"
      },
      "execution_count": null,
      "outputs": [
        {
          "output_type": "stream",
          "name": "stdout",
          "text": [
            "{'name': ['licat', 'Jeju', 'Developer'], 'city': ['licat', 'Jeju', 'Developer'], 'job': ['licat', 'Jeju', 'Developer']}\n"
          ]
        }
      ]
    },
    {
      "cell_type": "code",
      "source": [
        "d = {'name': 'licat', 'city': 'job'}\n",
        "d['name']\n",
        "d.get('name') #기억하고 있어야 합니다."
      ],
      "metadata": {
        "id": "P0e1ZAbV0AQJ"
      },
      "execution_count": null,
      "outputs": []
    },
    {
      "cell_type": "code",
      "source": [
        "d = {'name': 'licat', 'city': 'job'}\n",
        "# d['age'] # errer, 이거 가볍게 생각하면 안됩니다! 서비스 멈춥니다!\n",
        "d.get('age', '값 없음!')"
      ],
      "metadata": {
        "colab": {
          "base_uri": "https://localhost:8080/",
          "height": 35
        },
        "id": "_1C2psVlz9jZ",
        "outputId": "3bdea582-cbf0-4e64-8365-90e0f38d9931"
      },
      "execution_count": null,
      "outputs": [
        {
          "output_type": "execute_result",
          "data": {
            "text/plain": [
              "'값 없음!'"
            ],
            "application/vnd.google.colaboratory.intrinsic+json": {
              "type": "string"
            }
          },
          "metadata": {},
          "execution_count": 129
        }
      ]
    },
    {
      "cell_type": "code",
      "source": [
        "# 위험한 코드입니다!\n",
        "def 요일변경(n):\n",
        "    return {\n",
        "        1: '월요일',\n",
        "        2: '화요일',\n",
        "        3: '수요일',\n",
        "        4: '목요일',\n",
        "        5: '금요일',\n",
        "        6: '토요일',\n",
        "        7: '일요일'\n",
        "    }[n]\n",
        "\n",
        "요일변경(3)\n",
        "# 요일변경(8) # error, 서비스 멈춥니다!"
      ],
      "metadata": {
        "colab": {
          "base_uri": "https://localhost:8080/",
          "height": 35
        },
        "id": "T-HbddmD0sGu",
        "outputId": "c7da89b3-9e27-4ac7-f2d2-e51febf0be4d"
      },
      "execution_count": null,
      "outputs": [
        {
          "output_type": "execute_result",
          "data": {
            "text/plain": [
              "'수요일'"
            ],
            "application/vnd.google.colaboratory.intrinsic+json": {
              "type": "string"
            }
          },
          "metadata": {},
          "execution_count": 130
        }
      ]
    },
    {
      "cell_type": "code",
      "source": [
        "# 아래와 같이 변경을 해주세요.\n",
        "def 요일변경(n):\n",
        "    return {\n",
        "        1: '월요일',\n",
        "        2: '화요일',\n",
        "        3: '수요일',\n",
        "        4: '목요일',\n",
        "        5: '금요일',\n",
        "        6: '토요일',\n",
        "        7: '일요일',\n",
        "    }.get(n, '')\n",
        "\n",
        "요일변경(3)\n",
        "print(요일변경(8))"
      ],
      "metadata": {
        "colab": {
          "base_uri": "https://localhost:8080/"
        },
        "id": "73jpzXP10qiZ",
        "outputId": "513fddfb-3e95-4b2d-e2c2-fb8880f33f9a"
      },
      "execution_count": null,
      "outputs": [
        {
          "output_type": "stream",
          "name": "stdout",
          "text": [
            "\n"
          ]
        }
      ]
    },
    {
      "cell_type": "code",
      "source": [
        "# 아래와 같이 변경을 해주세요.\n",
        "def f():\n",
        "    return '금금금요일'\n",
        "\n",
        "def 요일변경(w):\n",
        "    return {\n",
        "        '월': '월요일',\n",
        "        '화': '화요일',\n",
        "        '수': '수요일',\n",
        "        '목': '목요일',\n",
        "        '금': '금요일',\n",
        "        '토': '토요일',\n",
        "        '일': '일요일',\n",
        "    }.get(w, f())\n",
        "\n",
        "요일변경('하하')"
      ],
      "metadata": {
        "colab": {
          "base_uri": "https://localhost:8080/",
          "height": 35
        },
        "id": "ZTqVqJ0S3FHv",
        "outputId": "9fda71d0-1a86-4fce-87aa-19c588eb1b5f"
      },
      "execution_count": null,
      "outputs": [
        {
          "output_type": "execute_result",
          "data": {
            "text/plain": [
              "'금금금요일'"
            ],
            "application/vnd.google.colaboratory.intrinsic+json": {
              "type": "string"
            }
          },
          "metadata": {},
          "execution_count": 136
        }
      ]
    },
    {
      "cell_type": "code",
      "source": [
        "numbers = {'one': '하나', 'two': '둘', 'three': '셋'}\n",
        "numbers.pop('one')\n",
        "numbers"
      ],
      "metadata": {
        "colab": {
          "base_uri": "https://localhost:8080/"
        },
        "id": "TccefEiF3GXB",
        "outputId": "f432c5fd-9987-4010-e30d-1b519423b026"
      },
      "execution_count": null,
      "outputs": [
        {
          "output_type": "execute_result",
          "data": {
            "text/plain": [
              "{'two': '둘', 'three': '셋'}"
            ]
          },
          "metadata": {},
          "execution_count": 137
        }
      ]
    },
    {
      "cell_type": "code",
      "source": [
        "numbers = {'one': '하나', 'two': '둘', 'three': '셋'}\n",
        "# numbers.pop() # error\n",
        "numbers"
      ],
      "metadata": {
        "colab": {
          "base_uri": "https://localhost:8080/"
        },
        "id": "Gcw3zFvf3hM7",
        "outputId": "c3a3ccb9-4272-42a3-c1fc-8784a2e67511"
      },
      "execution_count": null,
      "outputs": [
        {
          "output_type": "execute_result",
          "data": {
            "text/plain": [
              "{'one': '하나', 'two': '둘', 'three': '셋'}"
            ]
          },
          "metadata": {},
          "execution_count": 138
        }
      ]
    },
    {
      "cell_type": "code",
      "source": [
        "numbers = {'one': '하나', 'two': '둘', 'three': '셋'}\n",
        "item = numbers.popitem()\n",
        "print(item)\n",
        "print(numbers)"
      ],
      "metadata": {
        "colab": {
          "base_uri": "https://localhost:8080/"
        },
        "id": "Ny9AM1924ItK",
        "outputId": "e0c52fb5-f43b-406c-8f15-00ea5273e200"
      },
      "execution_count": null,
      "outputs": [
        {
          "output_type": "stream",
          "name": "stdout",
          "text": [
            "('three', '셋')\n",
            "{'one': '하나', 'two': '둘'}\n"
          ]
        }
      ]
    },
    {
      "cell_type": "code",
      "source": [
        "#  'setdefault',\n",
        "#  'update',\n",
        "\n",
        "numbers = {'one': '하나', 'two': '둘', 'three': '셋'}\n",
        "four_value = numbers.setdefault(\"four\", \"넷\")\n",
        "print(four_value)\n",
        "print(numbers)"
      ],
      "metadata": {
        "colab": {
          "base_uri": "https://localhost:8080/"
        },
        "id": "HeYTPJ_x4Jnt",
        "outputId": "dc233a43-5dcf-4c87-fa04-99a0348b34de"
      },
      "execution_count": null,
      "outputs": [
        {
          "output_type": "stream",
          "name": "stdout",
          "text": [
            "넷\n",
            "{'one': '하나', 'two': '둘', 'three': '셋', 'four': '넷'}\n"
          ]
        }
      ]
    },
    {
      "cell_type": "code",
      "source": [
        "numbers = {'one': '하나', 'two': '둘', 'three': '셋'}\n",
        "four_value = numbers.setdefault(\"three\", \"셋\")\n",
        "print(four_value)\n",
        "print(numbers)"
      ],
      "metadata": {
        "colab": {
          "base_uri": "https://localhost:8080/"
        },
        "id": "bdaedNvj7H7u",
        "outputId": "a0a95e4f-3876-412c-d528-34e6129cc9fc"
      },
      "execution_count": null,
      "outputs": [
        {
          "output_type": "stream",
          "name": "stdout",
          "text": [
            "셋\n",
            "{'one': '하나', 'two': '둘', 'three': '셋'}\n"
          ]
        }
      ]
    },
    {
      "cell_type": "code",
      "source": [
        "numbers = {'one': '하나', 'two': '둘', 'three': '셋'}\n",
        "numbers.update({'three': 3, 'four': 4})\n",
        "print(numbers)"
      ],
      "metadata": {
        "colab": {
          "base_uri": "https://localhost:8080/"
        },
        "id": "tFPFSkZf7Sh-",
        "outputId": "b59b6ecd-983f-4949-d42b-7ce185fdda42"
      },
      "execution_count": null,
      "outputs": [
        {
          "output_type": "stream",
          "name": "stdout",
          "text": [
            "{'one': '하나', 'two': '둘', 'three': 3, 'four': 4}\n"
          ]
        }
      ]
    },
    {
      "cell_type": "markdown",
      "source": [
        "# Set(집합)"
      ],
      "metadata": {
        "id": "JwOPAxV6JU89"
      }
    },
    {
      "cell_type": "code",
      "source": [
        "# 1. 중복이 되지 않습니다.\n",
        "# 2. 순서가 없습니다.\n",
        "# 3. 교집합, 차집합, 합집합 등이 가능합니다."
      ],
      "metadata": {
        "id": "X7nnL6fdJWWN"
      },
      "execution_count": null,
      "outputs": []
    },
    {
      "cell_type": "code",
      "source": [
        "set('hello')\n",
        "s = {'licat', 'licat', 'licat','mura', 'binky'} # 계시물에 글 쓴사람은 몇 사람이죠?\n",
        "len(s)"
      ],
      "metadata": {
        "colab": {
          "base_uri": "https://localhost:8080/"
        },
        "id": "0PLrDpSvJ-Hb",
        "outputId": "ba907c4f-04a6-4417-9c69-c2dc1ab67150"
      },
      "execution_count": null,
      "outputs": [
        {
          "output_type": "execute_result",
          "data": {
            "text/plain": [
              "3"
            ]
          },
          "metadata": {},
          "execution_count": 15
        }
      ]
    },
    {
      "cell_type": "code",
      "source": [
        "# 주의\n",
        "t={} # dict\n",
        "t=() #tuple\n",
        "t=(0) #int\n",
        "t=(0,) #tuple\n",
        "t={0} #set\n",
        "t = set()\n",
        "type(t)\n"
      ],
      "metadata": {
        "colab": {
          "base_uri": "https://localhost:8080/"
        },
        "id": "wgD7HvvzKZ6D",
        "outputId": "fb5f4c78-4501-4742-939b-78d8bbb234b2"
      },
      "execution_count": null,
      "outputs": [
        {
          "output_type": "execute_result",
          "data": {
            "text/plain": [
              "set"
            ]
          },
          "metadata": {},
          "execution_count": 17
        }
      ]
    },
    {
      "cell_type": "code",
      "source": [
        "# 합집합\n",
        "s = {1, 1, 1, 2, 3, 4, 4, 4}\n",
        "ss = {4, 5, 6}\n",
        "\n",
        "s | ss"
      ],
      "metadata": {
        "colab": {
          "base_uri": "https://localhost:8080/"
        },
        "id": "DZDc15s4LYxS",
        "outputId": "5c28cd48-5d55-475f-a623-9e17713f59a4"
      },
      "execution_count": null,
      "outputs": [
        {
          "output_type": "execute_result",
          "data": {
            "text/plain": [
              "{1, 2, 3, 4, 5, 6}"
            ]
          },
          "metadata": {},
          "execution_count": 18
        }
      ]
    },
    {
      "cell_type": "code",
      "source": [
        "# 교집합\n",
        "s = {1, 1, 1, 2, 3, 4, 4, 4}\n",
        "ss = {4, 5, 6}\n",
        "\n",
        "s & ss"
      ],
      "metadata": {
        "colab": {
          "base_uri": "https://localhost:8080/"
        },
        "id": "wosR9DqzLeM_",
        "outputId": "90743380-d022-4e95-a883-1288d01c89a2"
      },
      "execution_count": null,
      "outputs": [
        {
          "output_type": "execute_result",
          "data": {
            "text/plain": [
              "{4}"
            ]
          },
          "metadata": {},
          "execution_count": 19
        }
      ]
    },
    {
      "cell_type": "code",
      "source": [
        "# 차집합\n",
        "s = {1, 1, 1, 2, 3, 4, 4, 4}\n",
        "ss = {4, 5, 6}\n",
        "\n",
        "s - ss"
      ],
      "metadata": {
        "id": "sofyziFrL-iq"
      },
      "execution_count": null,
      "outputs": []
    },
    {
      "cell_type": "code",
      "source": [
        "# 불만인 것\n",
        "s + ss\n",
        "# 이게 왜 합집합이 아닌가."
      ],
      "metadata": {
        "id": "w7FaMhlBMSRd"
      },
      "execution_count": null,
      "outputs": []
    },
    {
      "cell_type": "code",
      "source": [
        "s.union(ss)\n",
        "s | ss"
      ],
      "metadata": {
        "colab": {
          "base_uri": "https://localhost:8080/"
        },
        "id": "lBP9NOr8MSLc",
        "outputId": "f9075992-bd94-404a-9e72-2b7f426fae3d"
      },
      "execution_count": null,
      "outputs": [
        {
          "output_type": "execute_result",
          "data": {
            "text/plain": [
              "{1, 2, 3, 4, 5, 6}"
            ]
          },
          "metadata": {},
          "execution_count": 20
        }
      ]
    },
    {
      "cell_type": "code",
      "source": [
        "s.add(100)\n",
        "s"
      ],
      "metadata": {
        "colab": {
          "base_uri": "https://localhost:8080/"
        },
        "id": "r3C4cI_fM8ME",
        "outputId": "64ca4cd2-4369-4603-d517-677f19fc5fe6"
      },
      "execution_count": null,
      "outputs": [
        {
          "output_type": "execute_result",
          "data": {
            "text/plain": [
              "{1, 2, 3, 4, 100}"
            ]
          },
          "metadata": {},
          "execution_count": 22
        }
      ]
    },
    {
      "cell_type": "code",
      "source": [
        "#s.remove(1000) #error 있는 값만 해야 합니다.\n",
        "s.discard(100) # error가 나진 않습니다."
      ],
      "metadata": {
        "id": "0O15-nnKNE8-"
      },
      "execution_count": null,
      "outputs": []
    },
    {
      "cell_type": "code",
      "source": [
        "자유게시판 = {'licat', 'licat', 'licat', 'mura', 'binky'}\n",
        "공지사항 = {'licat', 'licat'}\n",
        "len(s)"
      ],
      "metadata": {
        "colab": {
          "base_uri": "https://localhost:8080/"
        },
        "id": "AiezCF-vNDtq",
        "outputId": "d61f34fd-f5f9-406e-e524-357e96fcef97"
      },
      "execution_count": null,
      "outputs": [
        {
          "output_type": "execute_result",
          "data": {
            "text/plain": [
              "5"
            ]
          },
          "metadata": {},
          "execution_count": 43
        }
      ]
    },
    {
      "cell_type": "markdown",
      "source": [
        "# 리스트 컴프리헨션"
      ],
      "metadata": {
        "id": "7mAmM1V8OcR8"
      }
    },
    {
      "cell_type": "code",
      "source": [
        "l = []\n",
        "for i in range(10):\n",
        "    l.append(i)\n",
        "l\n",
        "\n",
        "l = [i for i in range(10)]\n",
        "l"
      ],
      "metadata": {
        "colab": {
          "base_uri": "https://localhost:8080/"
        },
        "id": "4sGNe8yDObTB",
        "outputId": "bae33c34-b543-4559-95aa-6bdfdf340fbc"
      },
      "execution_count": null,
      "outputs": [
        {
          "output_type": "execute_result",
          "data": {
            "text/plain": [
              "[0, 1, 2, 3, 4, 5, 6, 7, 8, 9]"
            ]
          },
          "metadata": {},
          "execution_count": 26
        }
      ]
    },
    {
      "cell_type": "code",
      "source": [
        "l = [i for i in range(10)]\n",
        "l"
      ],
      "metadata": {
        "colab": {
          "base_uri": "https://localhost:8080/"
        },
        "id": "ZV5CUS00Og49",
        "outputId": "d5d9b348-8882-45e5-90de-5a64c1dbd8fb"
      },
      "execution_count": null,
      "outputs": [
        {
          "output_type": "execute_result",
          "data": {
            "text/plain": [
              "[0, 1, 2, 3, 4, 5, 6, 7, 8, 9]"
            ]
          },
          "metadata": {},
          "execution_count": 28
        }
      ]
    },
    {
      "cell_type": "code",
      "source": [
        "l = []\n",
        "for i in range(10):\n",
        "    l.append(f'{i}입니다!')\n",
        "l\n",
        "\n",
        "l = [f'{i}입니다!' for i in range(10)]\n",
        "l"
      ],
      "metadata": {
        "colab": {
          "base_uri": "https://localhost:8080/"
        },
        "id": "7RJnQWftOmHJ",
        "outputId": "9c05ab9c-baae-4b85-c803-f16ed4f1139c"
      },
      "execution_count": null,
      "outputs": [
        {
          "output_type": "execute_result",
          "data": {
            "text/plain": [
              "['0입니다!',\n",
              " '1입니다!',\n",
              " '2입니다!',\n",
              " '3입니다!',\n",
              " '4입니다!',\n",
              " '5입니다!',\n",
              " '6입니다!',\n",
              " '7입니다!',\n",
              " '8입니다!',\n",
              " '9입니다!']"
            ]
          },
          "metadata": {},
          "execution_count": 29
        }
      ]
    },
    {
      "cell_type": "code",
      "source": [
        "l = []\n",
        "for i in range(2, 10):\n",
        "    for j in range(1, 10):\n",
        "        print(f'{i} X {j} = {i*j}')\n",
        "l"
      ],
      "metadata": {
        "id": "d7UySThxPV_s"
      },
      "execution_count": null,
      "outputs": []
    },
    {
      "cell_type": "code",
      "source": [
        "l = [f'{i} X {j} = {i*j}' for i in range(2, 10) for j in range(1, 10)]\n",
        "l"
      ],
      "metadata": {
        "id": "039GVPcJPoQ_"
      },
      "execution_count": null,
      "outputs": []
    },
    {
      "cell_type": "code",
      "source": [
        "for i in range(10):\n",
        "    if i % 2 == 0:\n",
        "        l.append(i)\n",
        "l"
      ],
      "metadata": {
        "id": "18my3dLWP3J8"
      },
      "execution_count": null,
      "outputs": []
    },
    {
      "cell_type": "code",
      "source": [
        "l = [i for i in range(10) if i % 2 == 0]\n",
        "l"
      ],
      "metadata": {
        "colab": {
          "base_uri": "https://localhost:8080/"
        },
        "id": "1jCuhdMKP9pk",
        "outputId": "47cb8989-a25d-4ad3-fc17-a71410b47f6a"
      },
      "execution_count": null,
      "outputs": [
        {
          "output_type": "execute_result",
          "data": {
            "text/plain": [
              "[0, 2, 4, 6, 8]"
            ]
          },
          "metadata": {},
          "execution_count": 33
        }
      ]
    },
    {
      "cell_type": "code",
      "source": [
        "l =[]\n",
        "for i in range(10):\n",
        "    if i % 2 == 0:\n",
        "        l.append(i)\n",
        "    else:\n",
        "        l.append(None)\n",
        "l"
      ],
      "metadata": {
        "colab": {
          "base_uri": "https://localhost:8080/"
        },
        "id": "CY6VhZhNQMyj",
        "outputId": "7557bf5d-148c-4f49-d61f-93b3a5c9276c"
      },
      "execution_count": null,
      "outputs": [
        {
          "output_type": "execute_result",
          "data": {
            "text/plain": [
              "[0, None, 2, None, 4, None, 6, None, 8, None]"
            ]
          },
          "metadata": {},
          "execution_count": 34
        }
      ]
    },
    {
      "cell_type": "code",
      "source": [
        "# error가 나는 코드\n",
        "# l = [i for i in range(10) if i % 2 == 0 else None]\n",
        "# l"
      ],
      "metadata": {
        "id": "3dTF9vyDRMVk"
      },
      "execution_count": null,
      "outputs": []
    },
    {
      "cell_type": "code",
      "source": [
        "l = [i if i % 2 == 0 else None for i in range(10)]\n",
        "l"
      ],
      "metadata": {
        "colab": {
          "base_uri": "https://localhost:8080/"
        },
        "id": "3Q0BuU4LQtOI",
        "outputId": "3837201b-915b-4fb4-a6cc-357537acdfa6"
      },
      "execution_count": null,
      "outputs": [
        {
          "output_type": "execute_result",
          "data": {
            "text/plain": [
              "[0, None, 2, None, 4, None, 6, None, 8, None]"
            ]
          },
          "metadata": {},
          "execution_count": 35
        }
      ]
    },
    {
      "cell_type": "code",
      "source": [],
      "metadata": {
        "id": "kOu964cAQy7y"
      },
      "execution_count": null,
      "outputs": []
    },
    {
      "cell_type": "markdown",
      "source": [
        "# 연습문제"
      ],
      "metadata": {
        "id": "o5n1INcz111h"
      }
    },
    {
      "cell_type": "code",
      "source": [
        "# 문제: 이 데이터에서 licat을 출력해주세요.\n",
        "# 단, 직접 접근은 안됩니다.\n",
        "# data[1]로 접근하는 것은 안됩니다.\n",
        "data = [['weniv CEO licat', 1], ['weniv CTO binky', 1], ['weniv COO mura', 2]]\n",
        "\n",
        "# sum(list(filter(lambda x : 'CEO' in x[0], data)), [])[0].split(' ')[2]\n",
        "# str(list(data))[str(list(data)).find('licat'):str(list(data)).find('licat')+5]\n",
        "\n",
        "# length = len('licat')\n",
        "# index =  str(data).index(\"licat\")\n",
        "# result = str(data)[index:index+length]\n",
        "# print(result)\n",
        "\n",
        "# weniv_data = list(filter(lambda x: 'licat' in x[0], data))\n",
        "# print(weniv_data)\n",
        "# result = weniv_data[0][0].split(' ')[-1]\n",
        "# print(result)\n",
        "\n",
        "set = str(list(data)).index('licat')\n",
        "str(list(data))[set:set + len('licat')]"
      ],
      "metadata": {
        "colab": {
          "base_uri": "https://localhost:8080/",
          "height": 54
        },
        "id": "C3EyEyuYIbL8",
        "outputId": "38bc470b-cb2e-462a-da66-04eed53baf6d"
      },
      "execution_count": null,
      "outputs": [
        {
          "output_type": "stream",
          "name": "stdout",
          "text": [
            "licat\n"
          ]
        },
        {
          "output_type": "execute_result",
          "data": {
            "text/plain": [
              "'licat'"
            ],
            "application/vnd.google.colaboratory.intrinsic+json": {
              "type": "string"
            }
          },
          "metadata": {},
          "execution_count": 46
        }
      ]
    },
    {
      "cell_type": "code",
      "source": [
        "# list(range(101))와 슬라이싱을 사용해 아래 문제를 풀어주세요.\n",
        "\n",
        "# 문제 1: 짝수를 모두 더해주세요\n",
        "# 문제 2: 3의 배수와 5의 배수를 모두 더해주세요.\n",
        "# 난이도가 있는 보너스 문제 : 1부터 90까지의 짝수를 모두 더해주세요\n",
        "\n",
        "# print(sum(list(range(101))[::2]))\n",
        "# print(sum(list(range(101))[::3]) + sum(list(range(101))[::5]))\n",
        "# sum(list(range(91))[::2])\n",
        "# range(101)[1]\n",
        "\n",
        "\n",
        "# 문제 1: 짝수를 모두 더해주세요.\n",
        "sum(list(range(101)[::2]))\n",
        "# 문제 2: 3의 배수와 5의 배수를 모두 더해주세요.\n",
        "sum(list(range(101)[::3])) + sum(list(range(101)[::5])) - sum(list(range(101)[::15]))\n",
        "# (슬라이싱 2개 사용) 난이도가 있는 보너스 문제: 1부터 90까지의 짝수를 모두 더해주세요.\n",
        "sum(list(range(101))[0:91][::2])"
      ],
      "metadata": {
        "colab": {
          "base_uri": "https://localhost:8080/"
        },
        "id": "ZvU-8WMu5sQc",
        "outputId": "3a0f73df-53cd-4063-f4a2-41b55388b17e"
      },
      "execution_count": null,
      "outputs": [
        {
          "output_type": "stream",
          "name": "stdout",
          "text": [
            "2550\n",
            "2733\n"
          ]
        },
        {
          "output_type": "execute_result",
          "data": {
            "text/plain": [
              "1"
            ]
          },
          "metadata": {},
          "execution_count": 14
        }
      ]
    },
    {
      "cell_type": "markdown",
      "source": [
        "## insert"
      ],
      "metadata": {
        "id": "vLvAblNOLZbe"
      }
    },
    {
      "cell_type": "code",
      "source": [
        "# [10, 20, 40, 50, 30]와 같은 리스트에서 20과 30 중간에 25라는 값을 삽입하고 싶습니다.\n",
        "# 현재 리스트는 정렬되어 있지 않은데 이 리스트를 정렬하고 20과 30에 값을 index 메서드로 찾아\n",
        "# insert로 중간에 값을 삽입해주세요.\n",
        "# * 다른 정답을 허용합니다.\n",
        "\n",
        "l = [10, 20, 40, 50, 30]\n",
        "\n",
        "ll = sorted(l)\n",
        "ll.insert(ll.index(30), 25)\n",
        "ll\n",
        "\n",
        "\n",
        "# 강사님 답\n",
        "# s = sorted([10, 20, 40, 50, 30])\n",
        "# s.insert(s.index(30), 25)\n",
        "# s\n",
        "\n",
        "# s = ([10, 20, 40, 50, 30])\n",
        "# s.append(25)\n",
        "# sorted(s)\n",
        "\n",
        "# sorted([10, 20, 40, 50, 30].append(225)) #error\n",
        "# print(s.append(100))의 값이 None이기 때문에 그렇습니다."
      ],
      "metadata": {
        "colab": {
          "base_uri": "https://localhost:8080/"
        },
        "id": "ex82cVAlKSMu",
        "outputId": "8fbe4035-5a3b-4645-b72f-ef6e7812aa9e"
      },
      "execution_count": null,
      "outputs": [
        {
          "output_type": "execute_result",
          "data": {
            "text/plain": [
              "[10, 20, 25, 30, 40, 50]"
            ]
          },
          "metadata": {},
          "execution_count": 43
        }
      ]
    },
    {
      "cell_type": "markdown",
      "source": [
        "## dict"
      ],
      "metadata": {
        "id": "pwjWdbxU8GOA"
      }
    },
    {
      "cell_type": "code",
      "source": [
        "국영수 = {'국어':97, '영어':38, '수학':90}\n",
        "# 문제1: 다음 국영수 dict에 점수에 평균을 구하는 코드를 작성하세요.\n",
        "# 문제2: {'사회':70, '과학':85}가 추가되었습니다. dict에 평균을 구하는 코드를 작성하세요.\n",
        "# 문제3: 영어와 수학점수가 각각 10점씩 올랐습니다. 점수를 10점 추가하는 코드를 작서해주세요.\n",
        "# 문제4: 최종 점수에서 가장 높은 점수를 출력하는 코드를 작성해주세요.\n",
        "\n",
        "\n",
        "# 문제1\n",
        "print(sum(국영수.values())/len(국영수))\n",
        "\n",
        "# 문제2\n",
        "국영수.update({'사회':70, '과학': 85})\n",
        "print(sum(국영수.values())/len(국영수))\n",
        "\n",
        "# 문제3\n",
        "# 국영수['영어'] += 10\n",
        "# 국영수['수학'] += 10\n",
        "국영수.update({'영어': 국영수.get('영어', 0) + 10})\n",
        "국영수.update({'수학': 국영수.get('수학', 0) + 10})\n",
        "국영수 # 영어와 수학이 없었어도 반환해줍니다!\n",
        "\n",
        "# 문제4\n",
        "print(max(국영수.values()))\n",
        "print(국영수)\n",
        "\n",
        "# 문제5: 가장 높은 점수에 과목을 출력해주세요.\n",
        "#(https://school.programmers.co.kr/learn/courses/30/lessons/120835 이런문제와 유사합니다.)\n",
        "max(국영수.items(), key=lambda x: x[1])[0] # 강토님 코드\n",
        "max(국영수, key=국영수.get) # 형섭님 코드\n",
        "\n",
        "values = list(국영수.values())\n",
        "list(국영수.keys())[values.index(max(values))] # 병헌님 코드(공을 많이 들인 코드)\n",
        "\n",
        "list(sorted(국영수.items(), key=lambda x:x[1], reverse=True))[0][0] # 찬양님 코드 변경\n",
        "\n",
        "for key in 국영수: # 종훈님 코드\n",
        "    if(국영수.get(key) == max(국영수.values())):\n",
        "        print(key)\n",
        "\n",
        "[i for i, j in 국영수.items() if j == max(국영수.values())] #진경님 코드\n",
        "\n"
      ],
      "metadata": {
        "colab": {
          "base_uri": "https://localhost:8080/"
        },
        "id": "fNMTrpzl8K2J",
        "outputId": "0da49487-60ba-41f6-df5b-2811bf299796"
      },
      "execution_count": null,
      "outputs": [
        {
          "output_type": "stream",
          "name": "stdout",
          "text": [
            "75.0\n",
            "76.0\n",
            "100\n",
            "{'국어': 97, '영어': 48, '수학': 100, '사회': 70, '과학': 85}\n",
            "수학\n"
          ]
        },
        {
          "output_type": "execute_result",
          "data": {
            "text/plain": [
              "['수학']"
            ]
          },
          "metadata": {},
          "execution_count": 167
        }
      ]
    },
    {
      "cell_type": "code",
      "source": [
        "# 여러개의 딕셔너리를 왔다갔다 하면서 key 값으로 value값을 비교할 때에도 사용합니다.\n",
        "\n",
        "local = {'제주': 100, '서울': 977, '부산': 500}\n",
        "강우량 = {'제주': 100, '서울': 97, '부산': 50}\n",
        "max(강우량, key = local.get)"
      ],
      "metadata": {
        "colab": {
          "base_uri": "https://localhost:8080/",
          "height": 35
        },
        "id": "JB8hgJTmIKi_",
        "outputId": "5b01e128-6342-4209-aec1-f180e355ea9e"
      },
      "execution_count": null,
      "outputs": [
        {
          "output_type": "execute_result",
          "data": {
            "text/plain": [
              "'서울'"
            ],
            "application/vnd.google.colaboratory.intrinsic+json": {
              "type": "string"
            }
          },
          "metadata": {},
          "execution_count": 36
        }
      ]
    },
    {
      "cell_type": "code",
      "source": [
        "d = {'a': 10, 'bb': 9, 'c': 5, 'd': 6}\n",
        "max(d) # 유니코드가 가장 큰 key값을 출력하겠다."
      ],
      "metadata": {
        "colab": {
          "base_uri": "https://localhost:8080/",
          "height": 35
        },
        "id": "ZtZ4lsnZIp4H",
        "outputId": "7fe2bcaa-4c1a-4c5d-8e4f-7ee91dc406af"
      },
      "execution_count": null,
      "outputs": [
        {
          "output_type": "execute_result",
          "data": {
            "text/plain": [
              "'d'"
            ],
            "application/vnd.google.colaboratory.intrinsic+json": {
              "type": "string"
            }
          },
          "metadata": {},
          "execution_count": 3
        }
      ]
    },
    {
      "cell_type": "code",
      "source": [
        "d = {'a': 10, 'bb': 9, 'c': 5, 'd': 6}\n",
        "max(d, key=len) # 길이가 가장 긴 key값을 출력하겠다."
      ],
      "metadata": {
        "colab": {
          "base_uri": "https://localhost:8080/",
          "height": 35
        },
        "id": "oC_dzxvnIy76",
        "outputId": "bbdd8360-d0e4-4172-b6d6-486a9062a9e3"
      },
      "execution_count": null,
      "outputs": [
        {
          "output_type": "execute_result",
          "data": {
            "text/plain": [
              "'bb'"
            ],
            "application/vnd.google.colaboratory.intrinsic+json": {
              "type": "string"
            }
          },
          "metadata": {},
          "execution_count": 5
        }
      ]
    },
    {
      "cell_type": "code",
      "source": [
        "d = {'a': 10, 'bb': 9, 'c': 5, 'd': 6}\n",
        "max(d, key=d.get) # d.get에서 반환된 가장 큰값의 key값을 출력하겠다."
      ],
      "metadata": {
        "colab": {
          "base_uri": "https://localhost:8080/",
          "height": 35
        },
        "id": "1HsuUsAnI191",
        "outputId": "6ca8e91a-3977-4079-ba14-241315b650b7"
      },
      "execution_count": null,
      "outputs": [
        {
          "output_type": "execute_result",
          "data": {
            "text/plain": [
              "'a'"
            ],
            "application/vnd.google.colaboratory.intrinsic+json": {
              "type": "string"
            }
          },
          "metadata": {},
          "execution_count": 6
        }
      ]
    }
  ]
}