{
  "nbformat": 4,
  "nbformat_minor": 0,
  "metadata": {
    "colab": {
      "provenance": []
    },
    "kernelspec": {
      "name": "python3",
      "display_name": "Python 3"
    },
    "language_info": {
      "name": "python"
    }
  },
  "cells": [
    {
      "cell_type": "markdown",
      "source": [
        "# 리스트"
      ],
      "metadata": {
        "id": "4gfXqDUaEHSQ"
      }
    },
    {
      "cell_type": "code",
      "execution_count": 1,
      "metadata": {
        "colab": {
          "base_uri": "https://localhost:8080/",
          "height": 35
        },
        "id": "ozh6R_lmD-VG",
        "outputId": "f51e8cb5-e7cd-42d7-e0d7-315a86c8db09"
      },
      "outputs": [
        {
          "output_type": "execute_result",
          "data": {
            "text/plain": [
              "'hello'"
            ],
            "application/vnd.google.colaboratory.intrinsic+json": {
              "type": "string"
            }
          },
          "metadata": {},
          "execution_count": 1
        }
      ],
      "source": [
        "# 시퀸스형 자료형\n",
        "a = 'hello world'\n",
        "a[0]\n",
        "a[:5]"
      ]
    },
    {
      "cell_type": "code",
      "source": [
        "range(10)[3]"
      ],
      "metadata": {
        "colab": {
          "base_uri": "https://localhost:8080/"
        },
        "id": "EISQNLAyE9nR",
        "outputId": "e1411b44-0f91-498b-8501-6f844a88892f"
      },
      "execution_count": 2,
      "outputs": [
        {
          "output_type": "execute_result",
          "data": {
            "text/plain": [
              "3"
            ]
          },
          "metadata": {},
          "execution_count": 2
        }
      ]
    },
    {
      "cell_type": "code",
      "source": [
        "range(100)[::5]"
      ],
      "metadata": {
        "colab": {
          "base_uri": "https://localhost:8080/"
        },
        "id": "BOmmqvhpE_T1",
        "outputId": "17e31d14-a82c-4797-a2be-d4f1ca74337a"
      },
      "execution_count": 3,
      "outputs": [
        {
          "output_type": "execute_result",
          "data": {
            "text/plain": [
              "range(0, 100, 5)"
            ]
          },
          "metadata": {},
          "execution_count": 3
        }
      ]
    },
    {
      "cell_type": "code",
      "source": [
        "range(10)[3:]"
      ],
      "metadata": {
        "colab": {
          "base_uri": "https://localhost:8080/"
        },
        "id": "fQ38aXGGFA7X",
        "outputId": "e0506618-8baf-4c7d-8408-f83f3e9342da"
      },
      "execution_count": 4,
      "outputs": [
        {
          "output_type": "execute_result",
          "data": {
            "text/plain": [
              "range(3, 10)"
            ]
          },
          "metadata": {},
          "execution_count": 4
        }
      ]
    },
    {
      "cell_type": "code",
      "source": [
        "enumerate([0, 1, 2, 3, 4, 5, 6, 7, 8, 9], 100)"
      ],
      "metadata": {
        "colab": {
          "base_uri": "https://localhost:8080/"
        },
        "id": "1pH48YczFNEm",
        "outputId": "25858a5b-161d-4657-b852-33b1bfb6688d"
      },
      "execution_count": 6,
      "outputs": [
        {
          "output_type": "execute_result",
          "data": {
            "text/plain": [
              "<enumerate at 0x7c9bf6f07080>"
            ]
          },
          "metadata": {},
          "execution_count": 6
        }
      ]
    },
    {
      "cell_type": "code",
      "source": [
        "# 덧셈과 곱셈\n",
        "# a = [1, 2, 3, 4, 5]\n",
        "# b = [6, 7, 8]\n",
        "# print(a + b)\n",
        "\n",
        "a = [1, 2, 3, 4, 5]\n",
        "\n",
        "print(a * 3) # 출력: [1, 2, 3, 4, 5, 6, 7, 8]"
      ],
      "metadata": {
        "colab": {
          "base_uri": "https://localhost:8080/"
        },
        "id": "VDxR30pdFS6l",
        "outputId": "7d4d222c-ecf1-4ed5-d35d-2ab998da7f39"
      },
      "execution_count": 14,
      "outputs": [
        {
          "output_type": "stream",
          "name": "stdout",
          "text": [
            "[1, 2, 3, 4, 5, 1, 2, 3, 4, 5, 1, 2, 3, 4, 5]\n"
          ]
        }
      ]
    },
    {
      "cell_type": "code",
      "source": [
        "# 덧셈과 곱셈\n",
        "# a = [1, 2, 3, 4, 5]\n",
        "# b = [6, 7, 8]\n",
        "# print(a + b)\n",
        "\n",
        "a = [1, 2, 3, 4, 5]\n",
        "a = a * 3\n",
        "\n",
        "print(a)\n",
        "id(a[2]), id(a[7])\n",
        "id(a[2]), id(a[8])"
      ],
      "metadata": {
        "colab": {
          "base_uri": "https://localhost:8080/"
        },
        "id": "fTTajR8FGXU_",
        "outputId": "75908584-9226-449c-9fdc-fb46c3669b67"
      },
      "execution_count": 17,
      "outputs": [
        {
          "output_type": "stream",
          "name": "stdout",
          "text": [
            "[1, 2, 3, 4, 5, 1, 2, 3, 4, 5, 1, 2, 3, 4, 5]\n"
          ]
        },
        {
          "output_type": "execute_result",
          "data": {
            "text/plain": [
              "(137010575474992, 137010575475024)"
            ]
          },
          "metadata": {},
          "execution_count": 17
        }
      ]
    },
    {
      "cell_type": "code",
      "source": [
        "a = [1, 2, 3]\n",
        "a = [a * 3] * 2 # 리스트 컴프리헨션 사용하셔서 만드시는 것을 권합니다.\n",
        "\n",
        "print(a)\n",
        "id(a[0]), id(a[1])\n",
        "a[0][0] = 10000 # 동일 주소를 바꾸게 되기에 같이 변한다.\n",
        "a"
      ],
      "metadata": {
        "colab": {
          "base_uri": "https://localhost:8080/"
        },
        "id": "qcWhBI_IGZ6V",
        "outputId": "8abf1661-be97-4673-c153-008e86656b26"
      },
      "execution_count": 19,
      "outputs": [
        {
          "output_type": "stream",
          "name": "stdout",
          "text": [
            "[[1, 2, 3, 1, 2, 3, 1, 2, 3], [1, 2, 3, 1, 2, 3, 1, 2, 3]]\n"
          ]
        },
        {
          "output_type": "execute_result",
          "data": {
            "text/plain": [
              "[[10000, 2, 3, 1, 2, 3, 1, 2, 3], [10000, 2, 3, 1, 2, 3, 1, 2, 3]]"
            ]
          },
          "metadata": {},
          "execution_count": 19
        }
      ]
    },
    {
      "cell_type": "code",
      "source": [
        "# 리스트 인덱싱\n",
        "\n",
        "l = [1, 2, 3, 4, 5]\n",
        "print(l[0]) # 출력: 1\n",
        "print(l[3]) # 출력: 4\n",
        "print(l[-1]) # 출력: 5\n",
        "print(l[-3]) # 출력: 3"
      ],
      "metadata": {
        "colab": {
          "base_uri": "https://localhost:8080/"
        },
        "id": "l0fOx8AoGnTO",
        "outputId": "956edf07-3aeb-44ea-8b48-93c635c371dc"
      },
      "execution_count": 20,
      "outputs": [
        {
          "output_type": "stream",
          "name": "stdout",
          "text": [
            "1\n",
            "4\n",
            "5\n",
            "3\n"
          ]
        }
      ]
    },
    {
      "cell_type": "markdown",
      "source": [
        "### 체크"
      ],
      "metadata": {
        "id": "EP7V8zkkHec_"
      }
    },
    {
      "cell_type": "code",
      "source": [
        "# 리스트 슬라이싱\n",
        "\n",
        "l = [1, 2, 3, 4, 5]\n",
        "print(l[:])     # 출력: [1, 2, 3, 4, 5]\n",
        "print(l[::-1])  # 출력: [5, 4, 3, 2, 1]\n",
        "print(l[::2])   # 출력: [1, 3, 5]"
      ],
      "metadata": {
        "colab": {
          "base_uri": "https://localhost:8080/"
        },
        "id": "Kt0w1IwTHGti",
        "outputId": "6ba94d8e-4bd4-4195-8374-9b7596e87da7"
      },
      "execution_count": 21,
      "outputs": [
        {
          "output_type": "stream",
          "name": "stdout",
          "text": [
            "[1, 2, 3, 4, 5]\n",
            "[5, 4, 3, 2, 1]\n",
            "[1, 3, 5]\n"
          ]
        }
      ]
    },
    {
      "cell_type": "code",
      "source": [
        "l = [1, 2, 3, 4, 5]\n",
        "print(type(l))\n",
        "print(dir(l))"
      ],
      "metadata": {
        "colab": {
          "base_uri": "https://localhost:8080/"
        },
        "id": "2S5v4pgqHVmz",
        "outputId": "3893ec63-ab62-4b0a-c7b1-beb77eb8de09"
      },
      "execution_count": 22,
      "outputs": [
        {
          "output_type": "stream",
          "name": "stdout",
          "text": [
            "<class 'list'>\n",
            "['__add__', '__class__', '__class_getitem__', '__contains__', '__delattr__', '__delitem__', '__dir__', '__doc__', '__eq__', '__format__', '__ge__', '__getattribute__', '__getitem__', '__gt__', '__hash__', '__iadd__', '__imul__', '__init__', '__init_subclass__', '__iter__', '__le__', '__len__', '__lt__', '__mul__', '__ne__', '__new__', '__reduce__', '__reduce_ex__', '__repr__', '__reversed__', '__rmul__', '__setattr__', '__setitem__', '__sizeof__', '__str__', '__subclasshook__', 'append', 'clear', 'copy', 'count', 'extend', 'index', 'insert', 'pop', 'remove', 'reverse', 'sort']\n"
          ]
        }
      ]
    },
    {
      "cell_type": "code",
      "source": [
        "[1, 2, 3] + [1, 2, 3] = [1, 2, 3, 1, 2, 3]\n",
        "# [2, 4, 6] 요소마다 더해지는 것은 아닙니다. 그런데 이러한 코드는 __add__에 구현이 되어 있는 것입니다.\n",
        "# __add__에 요소마다 더하는 것으로 구현이 되어 있었다면 [2, 4, 6]을 출력했을 것입니다."
      ],
      "metadata": {
        "id": "wV9LRqzbHnqd"
      },
      "execution_count": null,
      "outputs": []
    },
    {
      "cell_type": "code",
      "source": [
        "import numpy as np\n",
        "\n",
        "l = [1, 2, 3]\n",
        "l = np.array(l)\n",
        "l * 3\n",
        "l + l\n",
        "# 너무 당연하게 요소를 붙이는 것이다라고 생각하지는 않으셨으면 좋겠습니다."
      ],
      "metadata": {
        "colab": {
          "base_uri": "https://localhost:8080/"
        },
        "id": "sTFxCkUrH_ve",
        "outputId": "3db9f2be-e737-487c-98c9-f44a38227130"
      },
      "execution_count": 23,
      "outputs": [
        {
          "output_type": "execute_result",
          "data": {
            "text/plain": [
              "array([2, 4, 6])"
            ]
          },
          "metadata": {},
          "execution_count": 23
        }
      ]
    },
    {
      "cell_type": "code",
      "source": [
        "# 문제: 이 데이터에서 licat을 출력해주세요.\n",
        "# 단, 직접 접근은 안됩니다.\n",
        "# data[1]로 접근하는 것은 안됩니다.\n",
        "data = [['weniv CEO licat', 1], ['weniv CTO binky', 1], ['weniv COO mura', 2]]\n",
        "\n",
        "# sum(list(filter(lambda x : 'CEO' in x[0], data)), [])[0].split(' ')[2]\n",
        "# str(list(data))[str(list(data)).find('licat'):str(list(data)).find('licat')+5]\n",
        "\n",
        "# length = len('licat')\n",
        "# index =  str(data).index(\"licat\")\n",
        "# result = str(data)[index:index+length]\n",
        "# print(result)\n",
        "\n",
        "# weniv_data = list(filter(lambda x: 'licat' in x[0], data))\n",
        "# print(weniv_data)\n",
        "# result = weniv_data[0][0].split(' ')[-1]\n",
        "# print(result)\n",
        "\n",
        "set = str(list(data)).index('licat')\n",
        "str(list(data))[set:set + len('licat')]"
      ],
      "metadata": {
        "colab": {
          "base_uri": "https://localhost:8080/",
          "height": 54
        },
        "id": "C3EyEyuYIbL8",
        "outputId": "38bc470b-cb2e-462a-da66-04eed53baf6d"
      },
      "execution_count": 46,
      "outputs": [
        {
          "output_type": "stream",
          "name": "stdout",
          "text": [
            "licat\n"
          ]
        },
        {
          "output_type": "execute_result",
          "data": {
            "text/plain": [
              "'licat'"
            ],
            "application/vnd.google.colaboratory.intrinsic+json": {
              "type": "string"
            }
          },
          "metadata": {},
          "execution_count": 46
        }
      ]
    }
  ]
}