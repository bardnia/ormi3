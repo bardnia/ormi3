{
  "nbformat": 4,
  "nbformat_minor": 0,
  "metadata": {
    "colab": {
      "provenance": []
    },
    "kernelspec": {
      "name": "python3",
      "display_name": "Python 3"
    },
    "language_info": {
      "name": "python"
    }
  },
  "cells": [
    {
      "cell_type": "markdown",
      "source": [
        "# 조건문"
      ],
      "metadata": {
        "id": "Sr7zRvtGSI-E"
      }
    },
    {
      "cell_type": "code",
      "execution_count": null,
      "metadata": {
        "colab": {
          "base_uri": "https://localhost:8080/"
        },
        "id": "A40FapKkSGr0",
        "outputId": "1bc56cfd-95ce-414f-bf9b-6f2ab752aeee"
      },
      "outputs": [
        {
          "output_type": "stream",
          "name": "stdout",
          "text": [
            "hello\n"
          ]
        }
      ],
      "source": [
        "if True:\n",
        "    print('hello')"
      ]
    },
    {
      "cell_type": "code",
      "source": [
        "if False:\n",
        "    print('hello')"
      ],
      "metadata": {
        "id": "oKhvg94HSP0O"
      },
      "execution_count": null,
      "outputs": []
    },
    {
      "cell_type": "code",
      "source": [
        "if(True): # 이렇게 괄호를 안해도 됩니다!\n",
        "    print('hello')"
      ],
      "metadata": {
        "colab": {
          "base_uri": "https://localhost:8080/"
        },
        "id": "664BmSH4STOq",
        "outputId": "7f960555-3be4-4853-98b0-ef1ba2a5ce34"
      },
      "execution_count": null,
      "outputs": [
        {
          "output_type": "stream",
          "name": "stdout",
          "text": [
            "hello\n"
          ]
        }
      ]
    },
    {
      "cell_type": "code",
      "source": [
        "if 10 and 9: # True나 False가 아니라 단락평가에 의해 9\n",
        "    print('hello')"
      ],
      "metadata": {
        "colab": {
          "base_uri": "https://localhost:8080/"
        },
        "id": "_jdk5XB4Seuq",
        "outputId": "1bad8940-2fac-41d3-f51e-ef6197ec4d87"
      },
      "execution_count": null,
      "outputs": [
        {
          "output_type": "stream",
          "name": "stdout",
          "text": [
            "hello\n"
          ]
        }
      ]
    },
    {
      "cell_type": "code",
      "source": [
        "if 10:\n",
        "    print('hello')"
      ],
      "metadata": {
        "colab": {
          "base_uri": "https://localhost:8080/"
        },
        "id": "udtuMPuJSuS-",
        "outputId": "463d04ed-0736-4fc7-d44c-16fedcdfbea8"
      },
      "execution_count": null,
      "outputs": [
        {
          "output_type": "stream",
          "name": "stdout",
          "text": [
            "hello\n"
          ]
        }
      ]
    },
    {
      "cell_type": "code",
      "source": [
        "# F\n",
        "''\n",
        "[]\n",
        "0\n",
        "set()\n",
        "None\n",
        "\n",
        "\n",
        "# T\n",
        "1\n",
        "-1\n",
        "' '\n",
        "[10, 20]\n"
      ],
      "metadata": {
        "id": "RxeBLGroSxWP",
        "colab": {
          "base_uri": "https://localhost:8080/"
        },
        "outputId": "a8cbaf97-b171-4d19-ec6c-471945fa5087"
      },
      "execution_count": null,
      "outputs": [
        {
          "output_type": "execute_result",
          "data": {
            "text/plain": [
              "[10, 20]"
            ]
          },
          "metadata": {},
          "execution_count": 6
        }
      ]
    },
    {
      "cell_type": "code",
      "source": [
        "x = 5\n",
        "y = 10\n",
        "result = 'x is greater' if x > y else 'y is greater or equal'\n",
        "print(result) # 출력: 'y is greater or equal'"
      ],
      "metadata": {
        "colab": {
          "base_uri": "https://localhost:8080/"
        },
        "id": "OFeTKUqATZGj",
        "outputId": "fe7f0af0-97d9-422d-a800-e3d69e01b78d"
      },
      "execution_count": null,
      "outputs": [
        {
          "output_type": "stream",
          "name": "stdout",
          "text": [
            "y is greater or equal\n"
          ]
        }
      ]
    },
    {
      "cell_type": "markdown",
      "source": [
        "# 조건문 if"
      ],
      "metadata": {
        "id": "S_MKao6oAs19"
      }
    },
    {
      "cell_type": "code",
      "source": [
        "[i if i % 2 == 0 else None for i in range(10)]"
      ],
      "metadata": {
        "id": "X3HPdlDcT3Dy",
        "colab": {
          "base_uri": "https://localhost:8080/"
        },
        "outputId": "0f36eff3-a65a-4bce-c573-9b3fcd07d331"
      },
      "execution_count": null,
      "outputs": [
        {
          "output_type": "execute_result",
          "data": {
            "text/plain": [
              "[0, None, 2, None, 4, None, 6, None, 8, None]"
            ]
          },
          "metadata": {},
          "execution_count": 8
        }
      ]
    },
    {
      "cell_type": "code",
      "source": [
        "[i for i in range(10) if i % 2 == 0]"
      ],
      "metadata": {
        "colab": {
          "base_uri": "https://localhost:8080/"
        },
        "id": "HKRlKjOjAyle",
        "outputId": "4a695f41-e560-47d8-e365-6fc6d6174afc"
      },
      "execution_count": null,
      "outputs": [
        {
          "output_type": "execute_result",
          "data": {
            "text/plain": [
              "[0, 2, 4, 6, 8]"
            ]
          },
          "metadata": {},
          "execution_count": 9
        }
      ]
    },
    {
      "cell_type": "code",
      "source": [
        "def f():\n",
        "    return True\n",
        "\n",
        "if f():\n",
        "    print('hello')"
      ],
      "metadata": {
        "colab": {
          "base_uri": "https://localhost:8080/"
        },
        "id": "YQaGanILAzuy",
        "outputId": "75d30db8-26e9-4626-e323-7364cf8e9574"
      },
      "execution_count": null,
      "outputs": [
        {
          "output_type": "stream",
          "name": "stdout",
          "text": [
            "hello\n"
          ]
        }
      ]
    },
    {
      "cell_type": "code",
      "source": [
        "def f():\n",
        "    return True\n",
        "\n",
        "def ff():\n",
        "    return 'hello'\n",
        "\n",
        "if f()and ff():\n",
        "    print('hello')"
      ],
      "metadata": {
        "colab": {
          "base_uri": "https://localhost:8080/"
        },
        "id": "-1MSBAYMA09E",
        "outputId": "e78bc84c-12c9-4885-9d64-30d4a9ec96e9"
      },
      "execution_count": null,
      "outputs": [
        {
          "output_type": "stream",
          "name": "stdout",
          "text": [
            "hello\n"
          ]
        }
      ]
    },
    {
      "cell_type": "code",
      "source": [
        "# 성능에 영향을 끼칩니다.\n",
        "def f():\n",
        "    return True\n",
        "\n",
        "def ff():\n",
        "    x = 100 / 0 # error\n",
        "    return 'hello'\n",
        "\n",
        "if f() or ff():\n",
        "    print('hello')"
      ],
      "metadata": {
        "colab": {
          "base_uri": "https://localhost:8080/"
        },
        "id": "Hep7G_3oDKZs",
        "outputId": "958128f2-7bd3-47bd-b5e2-e9a1c576f233"
      },
      "execution_count": null,
      "outputs": [
        {
          "output_type": "stream",
          "name": "stdout",
          "text": [
            "hello\n"
          ]
        }
      ]
    },
    {
      "cell_type": "code",
      "source": [
        "my_function = lambda x: '짝수' if x % 2 == 0 else '홀수'\n",
        "my_function(10)"
      ],
      "metadata": {
        "colab": {
          "base_uri": "https://localhost:8080/",
          "height": 35
        },
        "id": "TwGYtn2yDPPh",
        "outputId": "b1841686-ee51-433e-e6ce-2c4f7f1cbcbd"
      },
      "execution_count": null,
      "outputs": [
        {
          "output_type": "execute_result",
          "data": {
            "text/plain": [
              "'짝수'"
            ],
            "application/vnd.google.colaboratory.intrinsic+json": {
              "type": "string"
            }
          },
          "metadata": {},
          "execution_count": 13
        }
      ]
    },
    {
      "cell_type": "code",
      "source": [
        "assert x > 0, 'x must be positive'"
      ],
      "metadata": {
        "id": "qe9HvjBLEbj0"
      },
      "execution_count": null,
      "outputs": []
    },
    {
      "cell_type": "code",
      "source": [
        "score = 81\n",
        "money = 0\n",
        "\n",
        "if score >= 90:\n",
        "    print('mom : i\\'m so happy!')\n",
        "    money += 1000000\n",
        "elif score >= 80:\n",
        "    print('mom : i\\'m happy!')\n",
        "    money += 100000\n",
        "elif score >= 70 and score < 80:\n",
        "    print('mom : i\\'m so...!')\n",
        "    money += 10000\n",
        "elif score >= 60 and score < 70:\n",
        "    print('mom : i\\'m so...!')\n",
        "    money += 1000\n",
        "else:\n",
        "    print('mom : i\\'m...!')\n",
        "print(money)"
      ],
      "metadata": {
        "colab": {
          "base_uri": "https://localhost:8080/"
        },
        "id": "2ibwsj1dE_t2",
        "outputId": "af771a13-bb9d-465e-ee8c-e8310e77109a"
      },
      "execution_count": null,
      "outputs": [
        {
          "output_type": "stream",
          "name": "stdout",
          "text": [
            "mom : i'm happy!\n",
            "100000\n"
          ]
        }
      ]
    },
    {
      "cell_type": "code",
      "source": [
        "score = 81\n",
        "money = 0\n",
        "\n",
        "if score >= 90:\n",
        "    print('mom : i\\'m so happy!')\n",
        "    money += 1000000\n",
        "if score >= 80:\n",
        "    print('mom : i\\'m happy!')\n",
        "    money += 100000\n",
        "if score >= 70:\n",
        "    print('mom : i\\'m so...!')\n",
        "    money += 10000\n",
        "if score >= 60:\n",
        "    print('mom : i\\'m so...!')\n",
        "    money += 1000\n",
        "else:\n",
        "    print('mom : i\\'m...!')\n",
        "print(money)"
      ],
      "metadata": {
        "colab": {
          "base_uri": "https://localhost:8080/"
        },
        "id": "2vSnnGysFPUg",
        "outputId": "d619536f-7e32-48b0-8638-096d36c45ad7"
      },
      "execution_count": null,
      "outputs": [
        {
          "output_type": "stream",
          "name": "stdout",
          "text": [
            "mom : i'm happy!\n",
            "mom : i'm so...!\n",
            "mom : i'm so...!\n",
            "111000\n"
          ]
        }
      ]
    },
    {
      "cell_type": "code",
      "source": [
        "score = 81\n",
        "money = 0\n",
        "\n",
        "if score >= 90:\n",
        "    print('mom : i\\'m so happy!')\n",
        "    money += 1000000\n",
        "if 90 > score >= 80:\n",
        "    print('mom : i\\'m happy!')\n",
        "    money += 100000\n",
        "if 80 > score >= 70:\n",
        "    print('mom : i\\'m so...!')\n",
        "    money += 10000\n",
        "if 70 > score >= 60:\n",
        "    print('mom : i\\'m so...!')\n",
        "    money += 1000\n",
        "else:\n",
        "    print('mom : i\\'m...!')\n",
        "print(money)"
      ],
      "metadata": {
        "colab": {
          "base_uri": "https://localhost:8080/"
        },
        "id": "vjqcyNzqG0uT",
        "outputId": "91e83f57-beaf-456d-9ab4-db165faf6bee"
      },
      "execution_count": null,
      "outputs": [
        {
          "output_type": "stream",
          "name": "stdout",
          "text": [
            "mom : i'm happy!\n",
            "mom : i'm...!\n",
            "100000\n"
          ]
        }
      ]
    },
    {
      "cell_type": "code",
      "source": [
        "# 위와 같이 핳더라도 실행이 같지 않고\n",
        "# 또 성능이 안좋습니다.\n",
        "#성능이 왜 안좋나요?\n",
        "# if 뒤를 다 검사해야 하기 때문에 그렇습니다.\n",
        "# 적절하게 묶는 것은 매우 중요한 포인트입니다."
      ],
      "metadata": {
        "id": "zvs6M2TzGEs7"
      },
      "execution_count": null,
      "outputs": []
    },
    {
      "cell_type": "code",
      "source": [
        "# if를 중첩해서 사용하기\n",
        "movie = {\n",
        "    '영화': '무빙',\n",
        "    '장르': 'SF',\n",
        "    '서비스': '디즈니',\n",
        "    '비용': 15000,\n",
        "    '평점': 4.9\n",
        "}\n",
        "\n",
        "if movie['장르'] == 'SF':\n",
        "    if movie['서비스'] == '디즈니' or movie['서비스'] == '넷플릭스':\n",
        "        if movie['평점'] >= 4.5:\n",
        "            if movie['비용'] <= 20000:\n",
        "                print('영화시청')"
      ],
      "metadata": {
        "colab": {
          "base_uri": "https://localhost:8080/"
        },
        "id": "4IfwMIYhG8kU",
        "outputId": "92e9b0fc-cd41-42e1-f131-59caadd55de4"
      },
      "execution_count": null,
      "outputs": [
        {
          "output_type": "stream",
          "name": "stdout",
          "text": [
            "영화시청\n"
          ]
        }
      ]
    },
    {
      "cell_type": "code",
      "source": [
        "# if를 중첩해서 사용하기\n",
        "# 간략해진 것 맞나요?\n",
        "movie = {\n",
        "    '영화': '무빙',\n",
        "    '장르': 'SF',\n",
        "    '서비스': '디즈니',\n",
        "    '비용': 15000,\n",
        "    '평점': 4.9\n",
        "}\n",
        "\n",
        "if movie['장르'] == 'SF' and (movie['서비스'] == '디즈니' or movie['서비스'] == '넷플릭스') and movie['평점'] >= 4.5 and movie['비용'] <= 20000:\n",
        "    print('영화시청')"
      ],
      "metadata": {
        "colab": {
          "base_uri": "https://localhost:8080/"
        },
        "id": "8iwhM5jIHxtK",
        "outputId": "96d560f5-8f2f-4e26-8a37-656174211479"
      },
      "execution_count": null,
      "outputs": [
        {
          "output_type": "stream",
          "name": "stdout",
          "text": [
            "영화시청\n"
          ]
        }
      ]
    },
    {
      "cell_type": "code",
      "source": [
        "# 지금 이 코드에서는 동일하게 작동하지만\n",
        "# 아래와 같이 했을 때에는 문제가 발생합니다.\n",
        "movie = {\n",
        "    '영화': '무빙',\n",
        "    '장르': 'SF',\n",
        "    '서비스': '디즈니',\n",
        "    '비용': 15000,\n",
        "    '평점': 4.9\n",
        "}\n",
        "\n",
        "if movie['장르'] == 'SF':\n",
        "    if movie['평점'] >= 4.5:\n",
        "        if movie['비용'] <= 20000:\n",
        "            if movie['서비스'] == '디즈니' or movie['서비스'] == '넷플릭스':\n",
        "                print('영화시청')"
      ],
      "metadata": {
        "colab": {
          "base_uri": "https://localhost:8080/"
        },
        "id": "QeScpzSGIClu",
        "outputId": "4e94522e-c650-4ffc-a081-5f0c99c63738"
      },
      "execution_count": null,
      "outputs": [
        {
          "output_type": "stream",
          "name": "stdout",
          "text": [
            "영화시청\n"
          ]
        }
      ]
    },
    {
      "cell_type": "code",
      "source": [
        "# 지금 이 코드에서는 동일하게 작동하지만\n",
        "# 아래와 같이 했을 때에는 문제가 발생합니다.\n",
        "movie = {\n",
        "    '영화': '무빙',\n",
        "    '장르': 'SF',\n",
        "    '서비스': '디즈니',\n",
        "    '비용': 15000,\n",
        "    '평점': 4.9\n",
        "}\n",
        "\n",
        "def 구독중인ott():\n",
        "    # 사용자에게 문자 알림을 준다던지 하는 엑션이 있었다?\n",
        "    return movie['서비스'] == '디즈니' or movie['서비스'] == '넷플릭스'\n",
        "\n",
        "if movie['장르'] == 'SF':\n",
        "    if 구독중인ott():\n",
        "        if movie['평점'] >= 4.5:\n",
        "            if movie['비용'] <= 20000:\n",
        "                print('영화시청')"
      ],
      "metadata": {
        "colab": {
          "base_uri": "https://localhost:8080/"
        },
        "id": "RJuVB6eeJhtU",
        "outputId": "92c34399-ad74-46ba-ed2d-6a6eea326100"
      },
      "execution_count": null,
      "outputs": [
        {
          "output_type": "stream",
          "name": "stdout",
          "text": [
            "영화시청\n"
          ]
        }
      ]
    },
    {
      "cell_type": "code",
      "source": [
        "# 지금 이 코드에서는 동일하게 작동하지만\n",
        "# 아래와 같이 했을 때에는 문제가 발생합니다.\n",
        "movie = {\n",
        "    '영화': '무빙',\n",
        "    '장르': 'SF',\n",
        "    '서비스': '디즈니',\n",
        "    '비용': 15000,\n",
        "    '평점': 4.1 #변경\n",
        "}\n",
        "\n",
        "def 구독중인ott():\n",
        "    # 사용자에게 문자 알림을 준다던지 하는 엑션이 있었다?\n",
        "    return movie['서비스'] == '디즈니' or movie['서비스'] == '넷플릭스'\n",
        "\n",
        "if movie['장르'] == 'SF':\n",
        "    if movie['평점'] >= 4.5:\n",
        "        if movie['비용'] <= 20000:\n",
        "            if 구독중인ott():\n",
        "                print('영화시청')"
      ],
      "metadata": {
        "id": "fPoIhWrYJihN"
      },
      "execution_count": null,
      "outputs": []
    },
    {
      "cell_type": "code",
      "source": [
        "# if를 중첩해서 사용하기\n",
        "# 이정도가 깔끔하게 다듬어진 것입니다.\n",
        "movie = {\n",
        "    '영화': '무빙',\n",
        "    '장르': 'SF',\n",
        "    '서비스': '왓챠',\n",
        "    '비용': 15000,\n",
        "    '평점': 4.9\n",
        "}\n",
        "\n",
        "if movie['장르'] == 'SF':\n",
        "    if movie['서비스'] == '디즈니' or movie['서비스'] == '넷플릭스':\n",
        "        if movie['평점'] >= 4.5 and movie['비용'] <= 20000:\n",
        "            print('영화시청')\n",
        "    else:\n",
        "        print(movie['서비스'] + ' 구독하기!')"
      ],
      "metadata": {
        "colab": {
          "base_uri": "https://localhost:8080/"
        },
        "id": "_pDRKIcgJjr2",
        "outputId": "5e91e02e-553e-45cb-fac4-b22faae7cb34"
      },
      "execution_count": null,
      "outputs": [
        {
          "output_type": "stream",
          "name": "stdout",
          "text": [
            "왓챠 구독하기!\n"
          ]
        }
      ]
    },
    {
      "cell_type": "markdown",
      "source": [
        "### match\n",
        "3.1버전부터 추가되었다."
      ],
      "metadata": {
        "id": "JcnajiVBKUez"
      }
    },
    {
      "cell_type": "code",
      "source": [
        "text = 'Hello World'\n",
        "match text:\n",
        "    case 'Hello':\n",
        "        print('Hello')\n",
        "    case 'World':\n",
        "        print('World')\n",
        "    case _:\n",
        "        print('No Match') # 결과 'No Match'"
      ],
      "metadata": {
        "colab": {
          "base_uri": "https://localhost:8080/"
        },
        "id": "Uups8tAkKRbe",
        "outputId": "6cbb3a4d-ee89-481f-b9ff-7a2dfdec0f6a"
      },
      "execution_count": null,
      "outputs": [
        {
          "output_type": "stream",
          "name": "stdout",
          "text": [
            "No Match\n"
          ]
        }
      ]
    },
    {
      "cell_type": "code",
      "source": [
        "text = 'Hello'\n",
        "match text:\n",
        "    case 'Hello':\n",
        "        print('Hello')\n",
        "    case 'World':\n",
        "        print('World')\n",
        "    case _:\n",
        "        print('No Match') # 결과 'No Match'"
      ],
      "metadata": {
        "colab": {
          "base_uri": "https://localhost:8080/"
        },
        "id": "CB29l72LKlHl",
        "outputId": "640976cf-7cd4-49f3-ac32-5f6d3afe9681"
      },
      "execution_count": null,
      "outputs": [
        {
          "output_type": "stream",
          "name": "stdout",
          "text": [
            "Hello\n"
          ]
        }
      ]
    },
    {
      "cell_type": "code",
      "source": [
        "text = 'hello'\n",
        "match text:\n",
        "    case 'Hello':\n",
        "        print('Hello')\n",
        "    case 'World':\n",
        "        print('World')\n",
        "print('end')"
      ],
      "metadata": {
        "colab": {
          "base_uri": "https://localhost:8080/"
        },
        "id": "K0W4FoPNKmUj",
        "outputId": "fde3dc7a-867d-42a3-e3d6-75732f0f1997"
      },
      "execution_count": null,
      "outputs": [
        {
          "output_type": "stream",
          "name": "stdout",
          "text": [
            "end\n"
          ]
        }
      ]
    },
    {
      "cell_type": "code",
      "source": [
        "text = 'Hello'\n",
        "match text:\n",
        "    case 'Hello':\n",
        "    case 'World':\n",
        "        print('World')\n",
        "    case _:\n",
        "        print('No Match')"
      ],
      "metadata": {
        "colab": {
          "base_uri": "https://localhost:8080/",
          "height": 147
        },
        "id": "qr9UDKnSNceb",
        "outputId": "121dd535-92fb-4e6f-cffd-d1e937219dc6"
      },
      "execution_count": null,
      "outputs": [
        {
          "output_type": "error",
          "ename": "IndentationError",
          "evalue": "ignored",
          "traceback": [
            "\u001b[0;36m  File \u001b[0;32m\"<ipython-input-28-11a64d4493f8>\"\u001b[0;36m, line \u001b[0;32m4\u001b[0m\n\u001b[0;31m    case 'World':\u001b[0m\n\u001b[0m    ^\u001b[0m\n\u001b[0;31mIndentationError\u001b[0m\u001b[0;31m:\u001b[0m expected an indented block after 'case' statement on line 3\n"
          ]
        }
      ]
    },
    {
      "cell_type": "code",
      "source": [
        "# 작동하는 코드입니다.\n",
        "text = 'Hello'\n",
        "match text:\n",
        "    case 'Hello' | 'World':\n",
        "        print('World')\n",
        "    case _:\n",
        "        print('No Match')"
      ],
      "metadata": {
        "id": "TutnIGpGNdtm"
      },
      "execution_count": null,
      "outputs": []
    },
    {
      "cell_type": "code",
      "source": [
        "def test(i):\n",
        "    match i:\n",
        "        case 1:\n",
        "            print('One')\n",
        "        case 2:\n",
        "            print('Two')\n",
        "        case 3 | 4:\n",
        "            print('Three or Four')\n",
        "        case _ if i > 10:\n",
        "            print('Greater than ten')\n",
        "        case _:\n",
        "            print('Other')\n",
        "\n",
        "test(1) # 출력: One\n",
        "test(2) # 출력: Two\n",
        "test(3) # 출력: Three or Four\n",
        "test(4) # 출력: Three or Four\n",
        "test(5) # 출력: Other\n",
        "test(15) # 출력: Greater than ten"
      ],
      "metadata": {
        "id": "PrlSE_v5NxhS"
      },
      "execution_count": null,
      "outputs": []
    },
    {
      "cell_type": "code",
      "source": [
        "def test(i):\n",
        "    match i:\n",
        "        case 1:\n",
        "            print('One')\n",
        "        case 2:\n",
        "            print('Two')\n",
        "        case _:\n",
        "            if i > 2:\n",
        "                print('Greater than two')\n",
        "            else:\n",
        "                print('Less than or equal to two')\n",
        "test(1) # 출력: One\n",
        "test(2) # 출력: Two\n",
        "test(3) # 출력: Greater than two\n",
        "test(4) # 출력: Greater than two"
      ],
      "metadata": {
        "id": "IUc8ZUmuOSeH"
      },
      "execution_count": null,
      "outputs": []
    },
    {
      "cell_type": "markdown",
      "source": [
        "# 반복문 for, while"
      ],
      "metadata": {
        "id": "biDR2bj3S1t6"
      }
    },
    {
      "cell_type": "markdown",
      "source": [
        "## for"
      ],
      "metadata": {
        "id": "0sg9SBKFiX7I"
      }
    },
    {
      "cell_type": "code",
      "source": [
        "for x in 'hello': # 순회 가능한 객체가 들어갑니다.\n",
        "    print(f'현재 값은{x} 입니다.')"
      ],
      "metadata": {
        "id": "bw9JKs4gOa5O"
      },
      "execution_count": null,
      "outputs": []
    },
    {
      "cell_type": "code",
      "source": [
        "for x in (1, 2, 3, 4, 5):\n",
        "    print(f'현재 값은 {x} 입니다.')"
      ],
      "metadata": {
        "id": "jHJ_WBwuTIbg"
      },
      "execution_count": null,
      "outputs": []
    },
    {
      "cell_type": "code",
      "source": [
        "d = {\n",
        "    '하나' : 'one',\n",
        "    '둘' : 'two',\n",
        "    '셋' : 'three',\n",
        "}\n",
        "\n",
        "for k in d:\n",
        "    print(k)"
      ],
      "metadata": {
        "id": "LETGVPIvVOwK"
      },
      "execution_count": null,
      "outputs": []
    },
    {
      "cell_type": "code",
      "source": [
        "d = {\n",
        "    '하나' : 'one',\n",
        "    '둘' : 'two',\n",
        "    '셋' : 'three',\n",
        "}\n",
        "\n",
        "for k, v in d.items():\n",
        "    print(f'{k} : {v}')"
      ],
      "metadata": {
        "id": "aMZpQAKCVRkW"
      },
      "execution_count": null,
      "outputs": []
    },
    {
      "cell_type": "code",
      "source": [
        "for k in d:\n",
        "    # print(k + ':', d[k])\n",
        "    print(k, ': ', d[k], sep='', end=', ')"
      ],
      "metadata": {
        "id": "bfZBVWXbVbfZ"
      },
      "execution_count": null,
      "outputs": []
    },
    {
      "cell_type": "code",
      "source": [
        "# 1부터 100까지 더하는 코드\n",
        "result = 0\n",
        "for i in range(101):\n",
        "    result += i\n",
        "result\n",
        "\n",
        "# 1부터 100까지 더하는 코드\n",
        "# 권장하지 않는 코드\n",
        "result = 0\n",
        "for i in range(101):\n",
        "    if i % 2 == 0:\n",
        "        result += i\n",
        "\n",
        "# 권장하는 코드(물론, 수학수식을 사용할 수 있으면 더 있습니다.)\n",
        "# 순회도 반만 돌았고, if문도 없습니다.\n",
        "result = 0\n",
        "for i in range(0, 101, 2):\n",
        "        result += i\n",
        "\n",
        "result"
      ],
      "metadata": {
        "id": "MVR_nqesVrcW"
      },
      "execution_count": null,
      "outputs": []
    },
    {
      "cell_type": "code",
      "source": [
        "# 중첩 for를 조금 어렵게 표현\n",
        "for i in [range(3), range(5), range(7)]:\n",
        "    for j in i:\n",
        "        print(j)\n"
      ],
      "metadata": {
        "id": "THAzIHf6WiZE"
      },
      "execution_count": null,
      "outputs": []
    },
    {
      "cell_type": "code",
      "source": [
        "# 만약 문제를 낸다면, 홀수들에 특이한 덧셈을 하고 싶습니다.\n",
        "# 예를 들어, 6이하의 특이한 덧셈을 한다면\n",
        "# 1 + 3이하의 수 + 5이하의 수..\n",
        "# 1 + 1 + 2 + 3 + 1 + 2 + 3 + 4 + 5이렇게 답이 나와야 합니다.\n",
        "\n",
        "result = 0\n",
        "for i in [range(2), range(4), range(6)]:\n",
        "    for j in i:\n",
        "        result += j\n",
        "result"
      ],
      "metadata": {
        "id": "VJ1eGiVDYUUh"
      },
      "execution_count": null,
      "outputs": []
    },
    {
      "cell_type": "code",
      "source": [
        "# 구구단 출력\n",
        "for i in range(2, 10):\n",
        "    for j in range(1, 10):\n",
        "        print(i, j, i*j)"
      ],
      "metadata": {
        "id": "Ts9HK8vyYe2y"
      },
      "execution_count": null,
      "outputs": []
    },
    {
      "cell_type": "code",
      "source": [
        "# __iter__ 이 메직메서드가 없다? for문이 안된다! 순회가능한 객체가 아니다.\n",
        "# 있다? for문이 된다! 순회가능한 객체이다!"
      ],
      "metadata": {
        "id": "i8gZAWtCVChh"
      },
      "execution_count": null,
      "outputs": []
    },
    {
      "cell_type": "code",
      "source": [
        "# 1부터 시작해서 5까지의 값이 x에는 어떻게 들어가는 것일까요?\n",
        "x = iter('hello')\n",
        "print(x)"
      ],
      "metadata": {
        "id": "ZaDV9BOYTO0A"
      },
      "execution_count": null,
      "outputs": []
    },
    {
      "cell_type": "code",
      "source": [
        "print(next(x))"
      ],
      "metadata": {
        "id": "NiAD625BTrhx"
      },
      "execution_count": null,
      "outputs": []
    },
    {
      "cell_type": "code",
      "source": [
        "print(next(x))"
      ],
      "metadata": {
        "id": "nWjrFFifTs76"
      },
      "execution_count": null,
      "outputs": []
    },
    {
      "cell_type": "code",
      "source": [
        "# 더 만들지 않고 여기서만 실행애보겠습니다.\n",
        "print(next(x))"
      ],
      "metadata": {
        "id": "GeP5MB0oTuul"
      },
      "execution_count": null,
      "outputs": []
    },
    {
      "cell_type": "code",
      "source": [
        "x = 'hello'\n",
        "y = x.__iter__() # iter('hello')"
      ],
      "metadata": {
        "id": "EpzkrkScT24O"
      },
      "execution_count": null,
      "outputs": []
    },
    {
      "cell_type": "code",
      "source": [
        "next(y)"
      ],
      "metadata": {
        "id": "-tJOwb6oUYUy"
      },
      "execution_count": null,
      "outputs": []
    },
    {
      "cell_type": "code",
      "source": [
        "x = 'hello'\n",
        "y = x.__iter__() # iter('hello')"
      ],
      "metadata": {
        "id": "8FsX8EO2UaL9"
      },
      "execution_count": null,
      "outputs": []
    },
    {
      "cell_type": "code",
      "source": [
        "print(y.__next__()) # h\n",
        "print(y.__next__()) # e\n",
        "print(y.__next__()) # l\n",
        "print(y.__next__()) # l\n",
        "print(y.__next__()) # o\n",
        "print(y.__next__()) # error"
      ],
      "metadata": {
        "id": "NnyoBYcXUiQA"
      },
      "execution_count": null,
      "outputs": []
    },
    {
      "cell_type": "code",
      "source": [
        "# 하나만 리스트여도 쌍이면 상관없이 잘 돌아감\n",
        "skill = [\n",
        "        ('고기잡이', 100, 'SS'),\n",
        "        ('고기팔기', 120, 'SSS'),\n",
        "        ('낚시', 5, 'C'),\n",
        "        ('통발', 5, 'C'),\n",
        "        ('큰그물', 5, 'C')\n",
        "]\n",
        "\n",
        "for skillName, skillLevel, skillGrade in skill:\n",
        "    print(skillName, skillLevel, skillGrade)"
      ],
      "metadata": {
        "id": "E8A-dv9RUmir"
      },
      "execution_count": null,
      "outputs": []
    },
    {
      "cell_type": "code",
      "source": [
        "영화누적관객수 = ['레미제라블', '뷰티인사이트', '매트릭스', '인셉션', '어거스트 러쉬']\n",
        "for i in enumerate(영화누적관객수):\n",
        "    print(i)\n",
        "\n",
        "for i, j in enumerate(영화누적관객수, 1):\n",
        "    print(f'누적관객수 {i}위! {j}!')"
      ],
      "metadata": {
        "id": "wUcTakEFgV0C"
      },
      "execution_count": null,
      "outputs": []
    },
    {
      "cell_type": "code",
      "source": [
        "# 실행시키면 런타임 다시 시작해야 합니다.\n",
        "# l = [1, 2]\n",
        "# for i in l:\n",
        "#     l.append(3)\n",
        "#     print(i) # 1, 2, 3, 3, 3, 3, 3, 3 ...\n",
        "\n",
        "s = 'hello'\n",
        "for i in s: # 순회가 정상적으로 됩니다.\n",
        "    s += '!'\n",
        "    print(i)\n",
        "    print(s)\n",
        "\n",
        "d = {'one': '하나'}\n",
        "for i in d: # RuntimeError: dictionary changed size during iteration\n",
        "    d.update({i+d[i]:None})\n",
        "    print(d)"
      ],
      "metadata": {
        "id": "yYNY3zt_hCCa"
      },
      "execution_count": null,
      "outputs": []
    },
    {
      "cell_type": "markdown",
      "source": [
        "## while"
      ],
      "metadata": {
        "id": "oGBCv20siUlo"
      }
    },
    {
      "cell_type": "code",
      "source": [
        "# while True :\n",
        "#     print('무한 반복 중...')"
      ],
      "metadata": {
        "id": "ckV4eW-tiTEY"
      },
      "execution_count": null,
      "outputs": []
    },
    {
      "cell_type": "code",
      "source": [
        "#\n",
        "#\n",
        "while True:\n",
        "    userinput = input('>')\n",
        "    if userinput == 'pwd':\n",
        "        print('현재 위치 출력')\n",
        "    elif userinput == 'dir' or userinput == 'ls':\n",
        "        print('현재 폴더에 폴더와 파일명 출력')\n",
        "    elif userinput == 'exit':\n",
        "        print('안녕히가세요.')\n",
        "        break"
      ],
      "metadata": {
        "id": "4n17MCwajEzR"
      },
      "execution_count": null,
      "outputs": []
    },
    {
      "cell_type": "code",
      "source": [
        "# .py파일로 작성해서 실행해보세요.\n",
        "import os\n",
        "\n",
        "while True:\n",
        "    userinput = input('>')\n",
        "    if userinput == 'pwd':\n",
        "        # print('현재 위치 출력')\n",
        "        # print('\\\\'.join(__file__.split('\\\\')[:-1]))\n",
        "        print(os.getcwd())\n",
        "    elif userinput == 'dir' or userinput == 'ls':\n",
        "        # print('현재 폴더에 폴더와 파일명 출력')\n",
        "        print(os.listdir(os.getcwd()))\n",
        "    elif userinput == 'exit':\n",
        "        print('안녕히가세요.')\n",
        "        break"
      ],
      "metadata": {
        "id": "iUO5_CQ3j_Y5"
      },
      "execution_count": null,
      "outputs": []
    },
    {
      "cell_type": "code",
      "source": [
        "import random\n",
        "\n",
        "answer = random.randint(1, 1000)\n",
        "while True:\n",
        "    userinput = int(input('숫자를 입력해주세요.'))\n",
        "    if userinput > answer:\n",
        "        print('Down')\n",
        "\n",
        "    elif userinput < answer:\n",
        "        print('Up')\n",
        "    else:\n",
        "        print('축하합니다! 맞추셨어요!')\n",
        "        break"
      ],
      "metadata": {
        "id": "UXDlGea53HxW"
      },
      "execution_count": null,
      "outputs": []
    },
    {
      "cell_type": "code",
      "source": [
        "import random\n",
        "\n",
        "s = [1, 2, 3, 4, 5]\n",
        "random.shuffle(s)\n",
        "s"
      ],
      "metadata": {
        "id": "xN4RW42D4Mq-"
      },
      "execution_count": null,
      "outputs": []
    },
    {
      "cell_type": "code",
      "source": [
        "i = 2\n",
        "j = 1\n",
        "while i < 10:\n",
        "    while j < 10:\n",
        "        print(f'{i} X {j} = {i*j}')\n",
        "        j += 1\n",
        "    j = 1 # 별표 5개! while문은 중첩해서 사용할 때 초기화가 필요합니다!\n",
        "    i += 1"
      ],
      "metadata": {
        "id": "7MmJVKg45j9K"
      },
      "execution_count": null,
      "outputs": []
    },
    {
      "cell_type": "code",
      "source": [
        "x = 0\n",
        "while x < 10:\n",
        "    print(x)\n",
        "    if x == 5:\n",
        "        continue\n",
        "    x += 1"
      ],
      "metadata": {
        "id": "698Y_pZq7COb"
      },
      "execution_count": null,
      "outputs": []
    },
    {
      "cell_type": "code",
      "source": [
        "# break은 바로 위에 부모만 탈출합니다.\n",
        "# continue는 아래코드를 실행하지 않고 다음 루프로 넘어갑니다.\n",
        "# pass는 지나칠 뿐입니다.\n",
        "# 아래에서 pass는 코드가 애러가 나지 않게만 합니다.\n",
        "x = 0\n",
        "while x < 10:\n",
        "    x += 1\n",
        "    if x == 5:\n",
        "        pass\n",
        "    print(x)"
      ],
      "metadata": {
        "id": "EUrLGRK09z-s"
      },
      "execution_count": null,
      "outputs": []
    },
    {
      "cell_type": "code",
      "source": [
        "i = 2\n",
        "while i < 10:\n",
        "    j = 1 # 별표 5개! while문은 중첩해서 사용할 때 초기화가 필요합니다!\n",
        "    while j < 10:\n",
        "        if j == 3:\n",
        "            break\n",
        "        print(f'{i} X {j} = {i*j}')\n",
        "        j += 1\n",
        "    i += 1"
      ],
      "metadata": {
        "id": "aO85536K-G_N"
      },
      "execution_count": null,
      "outputs": []
    },
    {
      "cell_type": "markdown",
      "source": [
        "### 왈러스(Walrus, :=)연산자"
      ],
      "metadata": {
        "id": "f19MN_UZl7Rg"
      }
    },
    {
      "cell_type": "code",
      "source": [
        "x = (n := 10) * 2\n",
        "print(x)  # 출력: 20\n",
        "print(n)  # 출력: 10"
      ],
      "metadata": {
        "id": "gbiOigIVl6lo"
      },
      "execution_count": null,
      "outputs": []
    },
    {
      "cell_type": "code",
      "source": [
        "import random\n",
        "\n",
        "while (x := random.randint(0, 10)) != 7:\n",
        "    print(x)"
      ],
      "metadata": {
        "id": "UiTZeh7KmBAd"
      },
      "execution_count": null,
      "outputs": []
    },
    {
      "cell_type": "code",
      "source": [
        "# else라고 하지 않고 다른 키워드로 해야한다는 주장있었어요.\n",
        "for i in range(5):\n",
        "    print(i)\n",
        "else:\n",
        "    print('정상 종료')"
      ],
      "metadata": {
        "id": "6XQ1JTWX-INN"
      },
      "execution_count": null,
      "outputs": []
    },
    {
      "cell_type": "code",
      "source": [
        "# else라고 하지 않고 다른 키워드로 해야한다는 주장있었어요.\n",
        "for i in range(5):\n",
        "    print(i)\n",
        "    if i == 3:\n",
        "        break\n",
        "else:\n",
        "    print('정상 종료')"
      ],
      "metadata": {
        "id": "5qO4lVDT-x8t"
      },
      "execution_count": null,
      "outputs": []
    },
    {
      "cell_type": "code",
      "source": [
        "x = 1\n",
        "while x < 10:\n",
        "    print(x)\n",
        "    x += 1\n",
        "else:\n",
        "    print('정상 종료')"
      ],
      "metadata": {
        "id": "5-tvHebf-yjd"
      },
      "execution_count": null,
      "outputs": []
    },
    {
      "cell_type": "code",
      "source": [
        "x = 1\n",
        "while x < 10:\n",
        "    print(x)\n",
        "    if x == 3:\n",
        "        break\n",
        "    x += 1\n",
        "else:\n",
        "    print('정상 종료')"
      ],
      "metadata": {
        "id": "5HbKruyp_yXj"
      },
      "execution_count": null,
      "outputs": []
    },
    {
      "cell_type": "code",
      "source": [
        "[\n",
        "  {\n",
        "    \"_id\": \"7f4ea48a-5771-45b9-Ce08-b605b53eea93\",\n",
        "    \"index\": \"1\",\n",
        "    \"name\": \"마진욱\",\n",
        "    \"email\": \"user-mwv5wa5@Arcu.net\",\n",
        "    \"phone\": \"010-8234-1204\",\n",
        "    \"country\": \"팔레스타인\",\n",
        "    \"address\": \"망우로 88-7\",\n",
        "    \"job\": \"자연과학연구원\",\n",
        "    \"age\": \"23\"\n",
        "  },\n",
        "  {\n",
        "    \"_id\": \"da351756-ea2f-49da-Ce5c-3160fdfb88d2\",\n",
        "    \"index\": \"2\",\n",
        "    \"name\": \"라리온\",\n",
        "    \"email\": \"user-5ws3ok8@Elementum.com\",\n",
        "    \"phone\": \"010-6783-8113\",\n",
        "    \"country\": \"허드 및 맥도널드 제도\",\n",
        "    \"address\": \"강서로 94-8\",\n",
        "    \"job\": \"화학연구원\",\n",
        "    \"age\": \"27\"\n",
        "  },\n",
        "  {\n",
        "    \"_id\": \"34e75ce0-68bb-42ca-Ab6e-005f66842504\",\n",
        "    \"index\": \"3\",\n",
        "    \"name\": \"운리우\",\n",
        "    \"email\": \"user-x6gvpfz@integer.co.kr\",\n",
        "    \"phone\": \"010-4659-8085\",\n",
        "    \"country\": \"카보베르데\",\n",
        "    \"address\": \"청계천로 61-4\",\n",
        "    \"job\": \"생물학연구원\",\n",
        "    \"age\": \"40\"\n",
        "  },\n",
        "  {\n",
        "    \"_id\": \"b16cf21e-c574-47ce-A664-8944667aeaa4\",\n",
        "    \"index\": \"4\",\n",
        "    \"name\": \"배민형\",\n",
        "    \"email\": \"user-5wphx9f@There.biz\",\n",
        "    \"phone\": \"010-8726-4289\",\n",
        "    \"country\": \"엘살바도르\",\n",
        "    \"address\": \"남부순환로 48-5\",\n",
        "    \"job\": \"미용사\",\n",
        "    \"age\": \"49\"\n",
        "  },\n",
        "  {\n",
        "    \"_id\": \"b268b191-9ccb-4fc1-C063-be18c7585b81\",\n",
        "    \"index\": \"5\",\n",
        "    \"name\": \"한석민\",\n",
        "    \"email\": \"user-ayzzzs9@Aenean.io\",\n",
        "    \"phone\": \"010-8383-7062\",\n",
        "    \"country\": \"괌\",\n",
        "    \"address\": \"한강대로 90-9\",\n",
        "    \"job\": \"광고기획자\",\n",
        "    \"age\": \"43\"\n",
        "  }\n",
        "]"
      ],
      "metadata": {
        "id": "cpRuDvB5BcV8"
      },
      "execution_count": null,
      "outputs": []
    },
    {
      "cell_type": "markdown",
      "source": [
        "# 클래스"
      ],
      "metadata": {
        "id": "wbtM2CQ1L6_b"
      }
    },
    {
      "cell_type": "code",
      "source": [
        "class Car: # 차에 설계 도면 또는 차 공장입니다. => 클래스\n",
        "    max_speed = 300\n",
        "    max_people = 5\n",
        "    car_gear = ['P', 'D', 'R', 'N']\n",
        "\n",
        "    def start(self):\n",
        "        print('차가 출발합니다!')\n",
        "\n",
        "    def stop(self):\n",
        "        print('차가 멈췄습니다!')\n",
        "\n",
        "# 테슬라 공장에서 막 찍혀져 나온 자동차!\n",
        "# 3대! modelx, y, s! => 인스턴스\n",
        "modelx = Car() # 인스턴스 = 클래스()\n",
        "modely = Car()\n",
        "models = Car()\n",
        "\n",
        "# Car.max_speed # modelx에 속도를 보고 싶으면 modelx.max_speed를 찍어야 합니다.\n",
        "# models를 제가 구매했습니다.\n",
        "\n",
        "print(models.car_gear[1])\n",
        "models.start()\n",
        "models.stop()"
      ],
      "metadata": {
        "id": "dFLEQg3yL84j"
      },
      "execution_count": null,
      "outputs": []
    },
    {
      "cell_type": "code",
      "source": [
        "l = [1, 2, 3]\n",
        "type(l)\n",
        "dir(l)\n",
        "l.append(3) # 이 모습!?\n",
        "l"
      ],
      "metadata": {
        "id": "yYG-gPGSONqr"
      },
      "execution_count": null,
      "outputs": []
    },
    {
      "cell_type": "code",
      "source": [
        "# int, float, str과 같은 새로운 Car는 type을 만들고 있는 것입니다."
      ],
      "metadata": {
        "id": "GDn4fF8bOTnX"
      },
      "execution_count": null,
      "outputs": []
    },
    {
      "cell_type": "code",
      "source": [
        "x = int(3)\n",
        "# 그럼 x는 무엇일까요?\n",
        "# int라는 class에 인스턴스"
      ],
      "metadata": {
        "id": "v8RStTbIPaVi"
      },
      "execution_count": null,
      "outputs": []
    },
    {
      "cell_type": "code",
      "source": [
        "class Car:\n",
        "    max_speed = 300\n",
        "    max_people = 5\n",
        "    car_gear = ['P', 'D', 'R', 'N']\n",
        "\n",
        "    def __init__(self, name): # 클래스로 인스턴스를 만들 때 호출!\n",
        "        self.name = name\n",
        "\n",
        "    def start(self):\n",
        "        print('차가 출발합니다!')\n",
        "\n",
        "    def stop(self):\n",
        "        print('차가 멈췄습니다!')\n",
        "\n",
        "modelx = Car('Tesla Model X') # x = int(3) 여기서 넣었던 3dl __init__메직메서드에서 처리\n",
        "modelx.name\n",
        "\n"
      ],
      "metadata": {
        "colab": {
          "base_uri": "https://localhost:8080/",
          "height": 35
        },
        "id": "47pBDpQ5POvy",
        "outputId": "2bf924c0-0f1c-4b7a-8edb-c8b9c561925c"
      },
      "execution_count": null,
      "outputs": [
        {
          "output_type": "execute_result",
          "data": {
            "text/plain": [
              "'Tesla Model X'"
            ],
            "application/vnd.google.colaboratory.intrinsic+json": {
              "type": "string"
            }
          },
          "metadata": {},
          "execution_count": 1
        }
      ]
    },
    {
      "cell_type": "code",
      "source": [
        "# 실제 게임 코드\n",
        "class Character:\n",
        "    def __init__(self, name, role, hp, mp, power):\n",
        "        self.name = name\n",
        "        self.role = role\n",
        "        self.hp = hp\n",
        "        self.mp = mp\n",
        "        self.power = power\n",
        "\n",
        "    def attack(self):\n",
        "        print('공격!')\n",
        "\n",
        "    def defence(self):\n",
        "        print('방어!')\n",
        "\n",
        "hero_ironmane = Character('아이언맨', '히어로', 100, 100, 100)\n",
        "villain_thanos = Character('타노스', '빌런', 100, 100, 200)\n",
        "# 여러 등장인물을 이런식으로 코딩할 수 있습니다."
      ],
      "metadata": {
        "id": "d0_ufzu4TTyS"
      },
      "execution_count": null,
      "outputs": []
    },
    {
      "cell_type": "code",
      "source": [
        "class Person:\n",
        "    name = 'jun' # 클래스 변수\n",
        "    def __init__(self,name):\n",
        "        self.name = name # 인스턴스 변수\n",
        "\n",
        "hojun = Person('hojun')\n",
        "hojun.name, Person.name"
      ],
      "metadata": {
        "id": "DvXTjcYWWovC"
      },
      "execution_count": null,
      "outputs": []
    },
    {
      "cell_type": "code",
      "source": [
        "class Car:\n",
        "    max_speed = 300\n",
        "\n",
        "    def __init__(self, name):\n",
        "        self.name = name\n",
        "\n",
        "    def start(self):\n",
        "        print('차가 출발합니다!')\n",
        "\n",
        "modelx = Car('Tesla Model X')\n",
        "modelx.name"
      ],
      "metadata": {
        "colab": {
          "base_uri": "https://localhost:8080/",
          "height": 35
        },
        "id": "LFI4p3V_XPJ7",
        "outputId": "22558c02-3cfc-4772-c021-0f8edbb9a62e"
      },
      "execution_count": null,
      "outputs": [
        {
          "output_type": "execute_result",
          "data": {
            "text/plain": [
              "'Tesla Model X'"
            ],
            "application/vnd.google.colaboratory.intrinsic+json": {
              "type": "string"
            }
          },
          "metadata": {},
          "execution_count": 2
        }
      ]
    },
    {
      "cell_type": "code",
      "source": [
        "modelx.hello = 'hello world'"
      ],
      "metadata": {
        "id": "xeOP1-aFXfuZ"
      },
      "execution_count": null,
      "outputs": []
    },
    {
      "cell_type": "code",
      "source": [
        "modelx.hello"
      ],
      "metadata": {
        "colab": {
          "base_uri": "https://localhost:8080/",
          "height": 35
        },
        "id": "9rjVFYTiXjhR",
        "outputId": "59036c15-3d1f-4adb-9b8c-7dfd54d8e45e"
      },
      "execution_count": null,
      "outputs": [
        {
          "output_type": "execute_result",
          "data": {
            "text/plain": [
              "'hello world'"
            ],
            "application/vnd.google.colaboratory.intrinsic+json": {
              "type": "string"
            }
          },
          "metadata": {},
          "execution_count": 4
        }
      ]
    },
    {
      "cell_type": "code",
      "source": [
        "def hello():\n",
        "    print('hello world')\n",
        "\n",
        "print(type(hello))"
      ],
      "metadata": {
        "colab": {
          "base_uri": "https://localhost:8080/"
        },
        "id": "w4Zf3ILwXlXs",
        "outputId": "13e86fd2-0d4d-46f8-f456-83117f1342d7"
      },
      "execution_count": null,
      "outputs": [
        {
          "output_type": "stream",
          "name": "stdout",
          "text": [
            "<class 'function'>\n"
          ]
        }
      ]
    },
    {
      "cell_type": "code",
      "source": [
        "hello.hi = 'hi, world'"
      ],
      "metadata": {
        "id": "IlvBHuK9XsmZ"
      },
      "execution_count": null,
      "outputs": []
    },
    {
      "cell_type": "code",
      "source": [
        "hello.hi"
      ],
      "metadata": {
        "colab": {
          "base_uri": "https://localhost:8080/",
          "height": 35
        },
        "id": "TyABqSe9Xx-y",
        "outputId": "665204ef-dbb2-4207-db48-e3c6dd278a13"
      },
      "execution_count": null,
      "outputs": [
        {
          "output_type": "execute_result",
          "data": {
            "text/plain": [
              "'hi, world'"
            ],
            "application/vnd.google.colaboratory.intrinsic+json": {
              "type": "string"
            }
          },
          "metadata": {},
          "execution_count": 7
        }
      ]
    },
    {
      "cell_type": "code",
      "source": [
        "# s = 10\n",
        "# s = 'hello'\n",
        "# s = [10, 20, 30]\n",
        "# s = {'one':1}\n",
        "s.hi = 'hi, world'\n",
        "s.hi"
      ],
      "metadata": {
        "id": "dSgFs07yXzrp"
      },
      "execution_count": null,
      "outputs": []
    },
    {
      "cell_type": "code",
      "source": [
        "# 저라면 Car에서는 __add__를 구현하지 않았을 겁니다.\n",
        "class Point:\n",
        "\n",
        "    def __init__(self, x, y):\n",
        "        self.x = x\n",
        "        self.y = y\n",
        "\n",
        "    def __add__(self, other):\n",
        "        return Point((self.x + other.x), (self.y + other.y))\n",
        "\n",
        "    def distance(self, other):\n",
        "        dx = self.x - other.x\n",
        "        dy = self.y - other.y\n",
        "        return (dx**2 + dy**2)**0.5\n",
        "\n",
        "dot1 = Point(10, 20)\n",
        "dot2 = Point(20, 30)\n",
        "\n",
        "dot3 = dot1 + dot2\n",
        "dot3.x, dot3.y\n",
        "dot3.distance(dot1)"
      ],
      "metadata": {
        "colab": {
          "base_uri": "https://localhost:8080/"
        },
        "id": "ACaH4QAdY7o6",
        "outputId": "4f423575-20e7-45f8-a006-85d0e3d7700b"
      },
      "execution_count": null,
      "outputs": [
        {
          "output_type": "execute_result",
          "data": {
            "text/plain": [
              "36.05551275463989"
            ]
          },
          "metadata": {},
          "execution_count": 15
        }
      ]
    },
    {
      "cell_type": "code",
      "source": [
        "class Matrix:\n",
        "\n",
        "    def __init__(self, value):\n",
        "        self.value = value\n",
        "\n",
        "    def __add__(self, other):\n",
        "        result = []\n",
        "        for i in range(len(self.value)):\n",
        "            result.append(self.value[i] + other.value[i])\n",
        "        return result\n",
        "\n",
        "m1 = Matrix([10, 20, 30])\n",
        "m2 = Matrix([20, 30, 40])\n",
        "\n",
        "m1 + m2"
      ],
      "metadata": {
        "colab": {
          "base_uri": "https://localhost:8080/"
        },
        "id": "XhoUyPEqZ5T-",
        "outputId": "57bf4e63-d91c-4e52-9f88-538ab66ca28b"
      },
      "execution_count": null,
      "outputs": [
        {
          "output_type": "execute_result",
          "data": {
            "text/plain": [
              "[30, 50, 70]"
            ]
          },
          "metadata": {},
          "execution_count": 18
        }
      ]
    },
    {
      "cell_type": "code",
      "source": [
        "# 단순화 시키긴 했으나 실제 아래와 같이 만듭니다.\n",
        "\n",
        "class 게시물설계도:\n",
        "    id = int()\n",
        "    title = str()\n",
        "    contents= str()\n",
        "    author= str()\n",
        "    create_time= str()\n",
        "    update_time= str()\n",
        "    view_count= int()\n",
        "    last_connect_location= str()\n",
        "    last_connect_time= str()\n",
        "\n",
        "게시물1 = 게시물설계도()\n",
        "게시물2 = 게시물설계도()"
      ],
      "metadata": {
        "id": "hnbf4-6TcFfB"
      },
      "execution_count": null,
      "outputs": []
    },
    {
      "cell_type": "code",
      "source": [
        "class Matrix:\n",
        "\n",
        "    def __init__(self, value):\n",
        "        self.value = value\n",
        "\n",
        "    def __add__(self, other):\n",
        "        result = []\n",
        "        for i in range(len(self.value)):\n",
        "            result.append(self.value[i] + other.value[i])\n",
        "        return result\n",
        "\n",
        "    def __mul__(self, other):\n",
        "        if isinstance(other, int):\n",
        "            return [i*other for i in self.value]\n",
        "       # raise TypeError('int형 외에 곱을 허락하지 않습니다!')\n",
        "\n",
        "\n",
        "m1 = Matrix([10, 20, 30])\n",
        "m2 = Matrix([20, 30, 40])\n",
        "\n",
        "m1 * 3\n",
        "m1 * [1, 2, 3] # TypeError: int형 외에 곱을 허락하지 않습니다!"
      ],
      "metadata": {
        "id": "DaET7qX3gAwJ"
      },
      "execution_count": null,
      "outputs": []
    },
    {
      "cell_type": "code",
      "source": [
        "class Car:\n",
        "    # 클래스 변수의 위치\n",
        "    max_speed = 300\n",
        "    max_people = 5\n",
        "    car_gear = ['P', 'D', 'R', 'N']\n",
        "\n",
        "modelx = Car()\n",
        "modely = Car()\n",
        "\n",
        "modely.max_speed = 500\n",
        "\n",
        "print(Car.max_speed) # 출력: 300\n",
        "print(modelx.max_speed) # 출력: 300\n",
        "print(modely.max_speed) #출력: 500(인스턴스 변수를 출력한 것입니다.)\n",
        "\n",
        "print(id(Car.max_speed))\n",
        "print(id(modelx.max_speed))\n",
        "print(id(modely.max_speed))"
      ],
      "metadata": {
        "id": "2wr8J42QgSWV",
        "colab": {
          "base_uri": "https://localhost:8080/"
        },
        "outputId": "97613ae8-e9fb-4f1b-f766-426bad3332c4"
      },
      "execution_count": null,
      "outputs": [
        {
          "output_type": "stream",
          "name": "stdout",
          "text": [
            "300\n",
            "300\n",
            "500\n",
            "136038870882608\n",
            "136038870882608\n",
            "136038870882576\n"
          ]
        }
      ]
    },
    {
      "cell_type": "code",
      "source": [
        "class Car:\n",
        "    kinds = []\n",
        "    speed = 300\n",
        "\n",
        "    def add_kinds(self, name):\n",
        "        self.kinds.append(name)\n",
        "\n",
        "    def change_speed(self, speed):\n",
        "        self.speed = speed\n",
        "\n",
        "modelx = Car()\n",
        "modely = Car()\n",
        "\n",
        "modelx.add_kinds('x')\n",
        "modely.add_kinds('y')\n",
        "\n",
        "Car.speed = 100\n",
        "\n",
        "# modelx.change_speed(500)\n",
        "# modely.change_speed(250)\n",
        "\n",
        "print(f'modelx.kinds: {modelx.kinds}')\n",
        "print(f'modely.kinds: {modely.kinds}')\n",
        "print(f'modelx.speed: {modelx.speed}')\n",
        "print(f'modely.speed: {modely.speed}')"
      ],
      "metadata": {
        "colab": {
          "base_uri": "https://localhost:8080/"
        },
        "id": "CMV1RjjwhMpV",
        "outputId": "d101f22c-042e-49ce-ef6a-5757feaddebd"
      },
      "execution_count": null,
      "outputs": [
        {
          "output_type": "stream",
          "name": "stdout",
          "text": [
            "modelx.kinds: ['x', 'y']\n",
            "modely.kinds: ['x', 'y']\n",
            "modelx.speed: 100\n",
            "modely.speed: 100\n"
          ]
        }
      ]
    },
    {
      "cell_type": "code",
      "source": [
        "class Car:\n",
        "    kinds = []\n",
        "    speed = 300\n",
        "\n",
        "    def add_kinds(self, name):\n",
        "        self.kinds.append(name)\n",
        "\n",
        "    def change_speed(self, speed):\n",
        "        self.speed = speed\n",
        "\n",
        "modelx = Car()\n",
        "modely = Car()\n",
        "\n",
        "# Car.speed = 100\n",
        "\n",
        "modelx.change_speed(500)\n",
        "modely.change_speed(250)\n",
        "\n",
        "print(f'modelx.speed: {modelx.speed}')\n",
        "print(f'modely.speed: {modely.speed}')"
      ],
      "metadata": {
        "colab": {
          "base_uri": "https://localhost:8080/"
        },
        "id": "jS_id1zhh4Al",
        "outputId": "5ac90a8d-873d-4e78-fd8f-7c968bf97939"
      },
      "execution_count": null,
      "outputs": [
        {
          "output_type": "stream",
          "name": "stdout",
          "text": [
            "modelx.speed: 500\n",
            "modely.speed: 250\n"
          ]
        }
      ]
    },
    {
      "cell_type": "code",
      "source": [
        "x = 100\n",
        "def test():\n",
        "    print(x) # 내 메모리 영역에 x가 없네? 그러면 찾아 올라갑니다.\n",
        "\n",
        "test()"
      ],
      "metadata": {
        "colab": {
          "base_uri": "https://localhost:8080/"
        },
        "id": "VQ3cG4MpjxF3",
        "outputId": "53d03cd7-14cf-4d54-9e5d-883450d79d87"
      },
      "execution_count": null,
      "outputs": [
        {
          "output_type": "stream",
          "name": "stdout",
          "text": [
            "100\n"
          ]
        }
      ]
    },
    {
      "cell_type": "code",
      "source": [
        "x = 100\n",
        "def test():\n",
        "    x = 200 # 값을 읽어올 수 있지만 변경은 안됩니다!\n",
        "    # x는 전역변수는 건드리지 않고 지역변수 200을 선언했을 뿐입니다.\n",
        "\n",
        "test()\n",
        "x"
      ],
      "metadata": {
        "colab": {
          "base_uri": "https://localhost:8080/"
        },
        "id": "y7aH6xHfk0Ps",
        "outputId": "2ef793d9-2969-4285-e822-689a63c0d128"
      },
      "execution_count": null,
      "outputs": [
        {
          "output_type": "execute_result",
          "data": {
            "text/plain": [
              "100"
            ]
          },
          "metadata": {},
          "execution_count": 6
        }
      ]
    },
    {
      "cell_type": "markdown",
      "source": [
        "## 매직 메서드"
      ],
      "metadata": {
        "id": "KCG1LTRoxKYV"
      }
    },
    {
      "cell_type": "code",
      "source": [
        "class Point:\n",
        "\n",
        "    def __init__(self, x, y):\n",
        "        self.x = x\n",
        "        self.y = y\n",
        "\n",
        "    def __add__(self, other):\n",
        "        if isinstance(other, Point):\n",
        "            return Point((self.x + other.x), (self.y + other.y))\n",
        "        elif isinstance(other, int) or isinstance(other, float):\n",
        "            return Point((self.x + other), (self.y + other))\n",
        "\n",
        "    def distance(self, other):\n",
        "        dx = self.x - other.x\n",
        "        dy = self.y - other.y\n",
        "        return (dx**2 + dy**2)**0.5\n",
        "\n",
        "dot1 = Point(10, 20)\n",
        "dot2 = Point(20, 30)\n",
        "\n",
        "dot3 = dot1 + 10\n",
        "print(dot1.x, dot1.y) # 출력: 10 20\n",
        "print(dot3.x, dot3.y) # 출력: 20 30\n",
        "\n",
        "dot4 = dot1 + dot2\n",
        "print(dot4.x, dot4.y) # 출력: 30 50\n",
        "print(dot4.distance(dot1)) # 출력: 36.05551275463989"
      ],
      "metadata": {
        "colab": {
          "base_uri": "https://localhost:8080/"
        },
        "id": "-SYDlbaJk9n8",
        "outputId": "8439aa68-d18a-4cb5-9939-a859a04d108f"
      },
      "execution_count": null,
      "outputs": [
        {
          "output_type": "stream",
          "name": "stdout",
          "text": [
            "10 20\n",
            "20 30\n",
            "30 50\n",
            "36.05551275463989\n"
          ]
        }
      ]
    },
    {
      "cell_type": "code",
      "source": [
        "class Counter:\n",
        "    def __init__(self):\n",
        "        self.num = 0\n",
        "\n",
        "    def __len__(self):\n",
        "        return 100000\n",
        "\n",
        "    def __call__(self):\n",
        "        return 'hello'\n",
        "\n",
        "    def __getitem__(self, key):\n",
        "        return key*10\n",
        "\n",
        "    def __str__(self):\n",
        "        return 'hello'\n",
        "\n",
        "    def __repr__(self):\n",
        "        return 'world'\n",
        "\n",
        "c = Counter()\n",
        "len(c)\n",
        "c()\n",
        "c[10]\n",
        "print(c) # print(str(c)) #__str__\n",
        "c # __repr__"
      ],
      "metadata": {
        "colab": {
          "base_uri": "https://localhost:8080/"
        },
        "id": "vshD8wDcvw_K",
        "outputId": "a2c33a9a-667c-4d81-96bf-c93f78b46819"
      },
      "execution_count": null,
      "outputs": [
        {
          "output_type": "stream",
          "name": "stdout",
          "text": [
            "hello\n"
          ]
        }
      ]
    },
    {
      "cell_type": "code",
      "source": [],
      "metadata": {
        "id": "g2J9rSP-xobR"
      },
      "execution_count": null,
      "outputs": []
    },
    {
      "cell_type": "markdown",
      "source": [
        "# 연습문제"
      ],
      "metadata": {
        "id": "YhqE1d3WOwJG"
      }
    },
    {
      "cell_type": "markdown",
      "source": [
        "## match"
      ],
      "metadata": {
        "id": "TBufyhGIOyYT"
      }
    },
    {
      "cell_type": "code",
      "source": [
        "# 문제 match를 사용하여 아래 코드를 완성해주세요.\n",
        "\n",
        "# 물리공격, # 마법공격, # 정신공격\n",
        "\n",
        "# 각 공격에 따라 아래의 값이 출력되어야 합니다.\n",
        "# 물리공격, 마법공격  '100의 데미지 입혔습니다.'\n",
        "# 정신공격: '100마이크로세컨드 만큼 몹이 혼란을 느낍니다.'\n",
        "\n",
        "\n",
        "def attack(attack_type):\n",
        "\n",
        "    match attack_type:\n",
        "        case '물리공격':\n",
        "            print('100의 데미지 입혔습니다.')\n",
        "\n",
        "        case '마법공격':\n",
        "            print('100의 데미지 입혔습니다.')\n",
        "\n",
        "        case '정신공격':\n",
        "            print('100 마이크로세컨드 만큼 몹이 혼란을 느낍니다.')\n",
        "\n",
        "\n",
        "attack('물리공격')\n",
        "attack('마법공격')\n",
        "attack('정신공격')"
      ],
      "metadata": {
        "id": "6eNclhjkO0Lr"
      },
      "execution_count": null,
      "outputs": []
    },
    {
      "cell_type": "markdown",
      "source": [
        "## for"
      ],
      "metadata": {
        "id": "Zbvi448hbZ0q"
      }
    },
    {
      "cell_type": "code",
      "source": [
        "# for는 중첩 2번 해야 합니다.\n",
        "# 다음과 같은 문자열이 있습니다\n",
        "# s = '135678'\n",
        "# 이때 구구단 1단, 3단, 5단, 6단, 7단, 8단을 출력하는 코드를 만들어주세요.\n",
        "s = '135678'\n",
        "\n",
        "for i in s:\n",
        "    i = int(i)\n",
        "    for j in range(1, 10):\n",
        "        print(i, 'x', j, '=', i*j)\n",
        "\n",
        "\n",
        "# for i in s:\n",
        "#     for j in range(1, 10):\n",
        "#         print(i, 'x', j, '=', int(i)*j)"
      ],
      "metadata": {
        "id": "9zhh-YwdbbVp"
      },
      "execution_count": null,
      "outputs": []
    },
    {
      "cell_type": "code",
      "source": [
        "# 심화문제\n",
        "# 특이한 구구단이 있다.\n",
        "# [2, 3, 6]이 있었을 때 아래와 같이 출력되어야 한다.\n",
        "# 2단, 3단, 6을 출력하고\n",
        "# 곱해지는 수는 이에 [2, 3, 6]에 1씩을 더한\n",
        "# [3, 4, 7]이 각각 곱해져야 합니다.\n",
        "'''\n",
        "2 X 3 = 6\n",
        "2 X 4 = 8\n",
        "2 X 7 = 14\n",
        "3 X 3 = 9\n",
        "3 X 4 = 12\n",
        "3 X 7 = 21\n",
        "6 X 3 = 18\n",
        "6 X 4 = 24\n",
        "6 X 7 = 42\n",
        "'''\n",
        "s = [2, 3, 6]\n",
        "\n",
        "for i in s:\n",
        "    for j in s:\n",
        "        j += 1\n",
        "        print(i, 'x', j, '=', i*j)\n",
        "\n",
        "# l = [2, 3, 6]\n",
        "# for i in l:\n",
        "#     for j in l:\n",
        "#         print(f'{i} X {j + 1} = {i*(j+1)}')"
      ],
      "metadata": {
        "id": "4TnLC0pIcAlM"
      },
      "execution_count": null,
      "outputs": []
    },
    {
      "cell_type": "markdown",
      "source": [
        "## json 형식 데이터 연산 문제"
      ],
      "metadata": {
        "id": "OHqzT3QHBYk0"
      }
    },
    {
      "cell_type": "code",
      "source": [
        "[\n",
        "  '{{repeat(5)}}',\n",
        "  {\n",
        "    _id: '{{objectId()}}',\n",
        "    age: '{{integer(20, 40)}}',\n",
        "    eyeColor: '{{random(\"blue\", \"brown\", \"green\")}}',\n",
        "    name: '{{firstName()}} {{surname()}}',\n",
        "    gender: '{{gender()}}'\n",
        "  }\n",
        "]"
      ],
      "metadata": {
        "id": "HqvaXN8C_0MV"
      },
      "execution_count": null,
      "outputs": []
    },
    {
      "cell_type": "code",
      "source": [
        "data = [\n",
        "  {\n",
        "    \"_id\": \"fd7e9a0f-e77b-436a-B781-119b66033d49\",\n",
        "    \"index\": \"1\",\n",
        "    \"name\": \"나주헌\",\n",
        "    \"email\": \"user-tzctc1q@suspendisse.org\",\n",
        "    \"phone\": \"010-5547-5841\",\n",
        "    \"country\": \"과테말라\",\n",
        "    \"address\": \"광나루로 99-2\",\n",
        "    \"job\": \"유치원교사\",\n",
        "    \"gender\": \"여성\",\n",
        "    \"age\": \"43\"\n",
        "  },\n",
        "  {\n",
        "    \"_id\": \"8ec6eabb-160a-41e4-A3de-cd33aff0b281\",\n",
        "    \"index\": \"2\",\n",
        "    \"name\": \"엄루다\",\n",
        "    \"email\": \"user-1rz7xby@mi.org\",\n",
        "    \"phone\": \"010-3963-9373\",\n",
        "    \"country\": \"엘살바도르\",\n",
        "    \"address\": \"석촌호수로 37-1\",\n",
        "    \"job\": \"프로게이머\",\n",
        "    \"gender\": \"남성\",\n",
        "    \"age\": \"22\"\n",
        "  },\n",
        "  {\n",
        "    \"_id\": \"bcf804f7-0452-4c31-B9d1-20cc2d38490b\",\n",
        "    \"index\": \"3\",\n",
        "    \"name\": \"형유환\",\n",
        "    \"email\": \"user-ym96wth@have.net\",\n",
        "    \"phone\": \"010-6389-9499\",\n",
        "    \"country\": \"벨리즈\",\n",
        "    \"address\": \"잠실로 33-3\",\n",
        "    \"job\": \"아나운서\",\n",
        "    \"gender\": \"남성\",\n",
        "    \"age\": \"31\"\n",
        "  },\n",
        "  {\n",
        "    \"_id\": \"11006f0d-e88d-41fc-A288-caa2e67927e7\",\n",
        "    \"index\": \"4\",\n",
        "    \"name\": \"위도현\",\n",
        "    \"email\": \"user-tkxj6f5@diam.org\",\n",
        "    \"phone\": \"010-4246-4752\",\n",
        "    \"country\": \"바레인\",\n",
        "    \"address\": \"종로 99-8\",\n",
        "    \"job\": \"작곡가\",\n",
        "    \"gender\": \"여성\",\n",
        "    \"age\": \"42\"\n",
        "  },\n",
        "  {\n",
        "    \"_id\": \"b7421487-da52-4410-B696-17bab958a5d8\",\n",
        "    \"index\": \"5\",\n",
        "    \"name\": \"유성재\",\n",
        "    \"email\": \"user-bgxih63@Sed.net\",\n",
        "    \"phone\": \"010-6359-7592\",\n",
        "    \"country\": \"피지\",\n",
        "    \"address\": \"방학로 71-3\",\n",
        "    \"job\": \"연기자\",\n",
        "    \"gender\": \"여성\",\n",
        "    \"age\": \"48\"\n",
        "  }\n",
        "]"
      ],
      "metadata": {
        "id": "O8Kh38KpBa0t"
      },
      "execution_count": null,
      "outputs": []
    },
    {
      "cell_type": "code",
      "source": [
        "data[0]\n",
        "# 문제 1번: 평균 나이를 출력해주세요.\n",
        "# 문제 2번: 남녀 성비를 출력해주세요."
      ],
      "metadata": {
        "colab": {
          "base_uri": "https://localhost:8080/"
        },
        "id": "bS1OXN51EYLt",
        "outputId": "5698a036-4b49-42ec-b10e-10b13afa6f55"
      },
      "execution_count": null,
      "outputs": [
        {
          "output_type": "execute_result",
          "data": {
            "text/plain": [
              "{'_id': 'fd7e9a0f-e77b-436a-B781-119b66033d49',\n",
              " 'index': '1',\n",
              " 'name': '나주헌',\n",
              " 'email': 'user-tzctc1q@suspendisse.org',\n",
              " 'phone': '010-5547-5841',\n",
              " 'country': '과테말라',\n",
              " 'address': '광나루로 99-2',\n",
              " 'job': '유치원교사',\n",
              " 'gender': '여성',\n",
              " 'age': '43'}"
            ]
          },
          "metadata": {},
          "execution_count": 26
        }
      ]
    },
    {
      "cell_type": "code",
      "source": [
        "# 문제 1번: 평균 나이를 출력해주세요.\n",
        "Age = 0\n",
        "all = 0\n",
        "for i in data:\n",
        "    Age += int(i['age'])\n",
        "    all += 1\n",
        "print(Age / all)\n",
        "\n"
      ],
      "metadata": {
        "colab": {
          "base_uri": "https://localhost:8080/"
        },
        "id": "gBQQhgCaEiD7",
        "outputId": "f6e72198-6219-46fd-c255-d8ddf7ddfed8"
      },
      "execution_count": null,
      "outputs": [
        {
          "output_type": "stream",
          "name": "stdout",
          "text": [
            "37.2\n"
          ]
        }
      ]
    },
    {
      "cell_type": "code",
      "source": [
        "# 나이\n",
        "# list(map(lambda x:x['age'], data))\n",
        "ages = map(lambda x:x['age'], data)\n",
        "ages = map(int, ages)\n",
        "# list(ages) # map은 한번 순회가 돌면 다시 순회가 불가합니다."
      ],
      "metadata": {
        "id": "fJQg6pQSKoLK"
      },
      "execution_count": null,
      "outputs": []
    },
    {
      "cell_type": "code",
      "source": [
        "ages = list(ages)\n",
        "ages"
      ],
      "metadata": {
        "id": "vzlunY8uKpDl"
      },
      "execution_count": null,
      "outputs": []
    },
    {
      "cell_type": "code",
      "source": [
        "sum(ages) / len(ages)"
      ],
      "metadata": {
        "id": "pcUgCZYZKqV8"
      },
      "execution_count": null,
      "outputs": []
    },
    {
      "cell_type": "code",
      "source": [
        "a = map(int, ['1', '2'])\n",
        "# list(a)\n",
        "a = list(a)\n",
        "a"
      ],
      "metadata": {
        "id": "DkhikbI9KrN_"
      },
      "execution_count": null,
      "outputs": []
    },
    {
      "cell_type": "code",
      "source": [
        "s = 'abcd'\n",
        "s = iter(s)\n",
        "next(s)"
      ],
      "metadata": {
        "id": "KU_w-x7YKsb-"
      },
      "execution_count": null,
      "outputs": []
    },
    {
      "cell_type": "code",
      "source": [
        "# 문제 2번: 남녀 성비를 출력해주세요.\n",
        "man = 0\n",
        "all = 0\n",
        "for i in data:\n",
        "    if i['gender'] == \"남성\":\n",
        "        man += 1\n",
        "    all += 1\n",
        "print(f'{man} : {all-man}')"
      ],
      "metadata": {
        "id": "1YRPV4MsHxNl"
      },
      "execution_count": null,
      "outputs": []
    },
    {
      "cell_type": "code",
      "source": [
        "gender = list(map(lambda x:x['gender'], data))\n",
        "gender"
      ],
      "metadata": {
        "colab": {
          "base_uri": "https://localhost:8080/"
        },
        "id": "Y8Tg15Min4EA",
        "outputId": "c42de74e-95c5-4d16-cd23-9bb5f8016498"
      },
      "execution_count": null,
      "outputs": [
        {
          "output_type": "execute_result",
          "data": {
            "text/plain": [
              "['여성', '남성', '남성', '여성', '여성']"
            ]
          },
          "metadata": {},
          "execution_count": 29
        }
      ]
    },
    {
      "cell_type": "code",
      "source": [
        "\n",
        "total = len(gender)\n",
        "man = gender.count('남성')\n",
        "woman = total - man\n",
        "man/total * 100, woman/total * 100"
      ],
      "metadata": {
        "id": "YRn3JuycKwHi"
      },
      "execution_count": null,
      "outputs": []
    }
  ]
}