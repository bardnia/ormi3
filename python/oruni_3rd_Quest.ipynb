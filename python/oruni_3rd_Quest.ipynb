{
  "nbformat": 4,
  "nbformat_minor": 0,
  "metadata": {
    "colab": {
      "provenance": []
    },
    "kernelspec": {
      "name": "python3",
      "display_name": "Python 3"
    },
    "language_info": {
      "name": "python"
    }
  },
  "cells": [
    {
      "cell_type": "markdown",
      "source": [
        "# 09/12"
      ],
      "metadata": {
        "id": "b7wZtVLcTFv0"
      }
    },
    {
      "cell_type": "markdown",
      "source": [
        "## 문제 1"
      ],
      "metadata": {
        "id": "tiaJDBecTJaE"
      }
    },
    {
      "cell_type": "markdown",
      "source": [
        "다음 함수 is_palindrome를 완성하시오. 이 함수는 하나의 문자열을 인자로 받아, 해당 문자열이 팰린드롬(앞으로 읽으나 뒤로 읽으나 같은 단어나 구)이면 True를, 아니면 False를 반환해야 합니다."
      ],
      "metadata": {
        "id": "N3CS214eTNGl"
      }
    },
    {
      "cell_type": "code",
      "execution_count": null,
      "metadata": {
        "colab": {
          "base_uri": "https://localhost:8080/"
        },
        "id": "NZtuoIj_S2w4",
        "outputId": "4642faff-8668-45e5-87cc-995a81e4819a"
      },
      "outputs": [
        {
          "output_type": "stream",
          "name": "stdout",
          "text": [
            "True\n",
            "False\n"
          ]
        }
      ],
      "source": [
        "N = 0\n",
        "\n",
        "def is_palindrome(s):\n",
        "    global N\n",
        "    n = N\n",
        "    if s[0 + n] == s[-1-n]:\n",
        "        N += 1\n",
        "        if n >= len(s) - n:\n",
        "            return True\n",
        "        return is_palindrome(s)\n",
        "\n",
        "    return False\n",
        "\n",
        "# def is_palindrome(s):\n",
        "#     return s == s[::-1]\n",
        "\n",
        "\n",
        "print(is_palindrome(\"level\"))  # 결과: True\n",
        "print(is_palindrome(\"python\")) # 결과: False\n"
      ]
    },
    {
      "cell_type": "markdown",
      "source": [
        "## 문제 2"
      ],
      "metadata": {
        "id": "usqmMDqgTbEc"
      }
    },
    {
      "cell_type": "markdown",
      "source": [
        "리스트 numbers가 주어졌을 때, 이 리스트 내의 모든 짝수를 제거하는 코드를 작성하시오."
      ],
      "metadata": {
        "id": "nE7jFo12TeXt"
      }
    },
    {
      "cell_type": "code",
      "source": [
        "numbers = [2, 3, 4, 5, 6, 7, 8, 9, 10]\n",
        "# 여기에 코드를 작성하세요.\n",
        "\n",
        "numbers = list(filter(lambda x: x%2 != 0, numbers))\n",
        "\n",
        "print(numbers)  # 결과: [3, 5, 7, 9]"
      ],
      "metadata": {
        "colab": {
          "base_uri": "https://localhost:8080/"
        },
        "id": "q8YEAjhFTf7U",
        "outputId": "d9a82bcc-abfd-4ecb-83d6-d470a3556e75"
      },
      "execution_count": null,
      "outputs": [
        {
          "output_type": "stream",
          "name": "stdout",
          "text": [
            "[3, 5, 7, 9]\n"
          ]
        }
      ]
    },
    {
      "cell_type": "markdown",
      "source": [
        "# 09/13"
      ],
      "metadata": {
        "id": "0_pU4z1ZatGS"
      }
    },
    {
      "cell_type": "markdown",
      "source": [
        "## 문제 1"
      ],
      "metadata": {
        "id": "uAqxRIz6aygd"
      }
    },
    {
      "cell_type": "code",
      "source": [
        "# 주어진 리스트\n",
        "# data = [{\"이름\": \"길동\", \"수학\": 3, \"과학\": 93},\n",
        "#         {\"이름\": \"춘향\", \"수학\": 33, \"과학\": 11},\n",
        "#         {\"이름\": \"철수\", \"수학\": 94, \"과학\": 67}]\n",
        "# 에서 평균점수가 가장 높은 학생에 이름을 출력하세요.\n",
        "\n",
        "data = [{\"이름\": \"길동\", \"수학\": 3, \"과학\": 93},\n",
        "        {\"이름\": \"춘향\", \"수학\": 33, \"과학\": 11},\n",
        "        {\"이름\": \"철수\", \"수학\": 94, \"과학\": 67}]\n",
        "\n",
        "\n",
        "winner = max(data, key=lambda x:(x['수학']+x['과학'])).get('이름')\n",
        "print(winner)"
      ],
      "metadata": {
        "colab": {
          "base_uri": "https://localhost:8080/"
        },
        "id": "ylvNLyg6bBY6",
        "outputId": "c750a8c1-4aa9-4a73-dcf0-81f0d1a64dd7"
      },
      "execution_count": null,
      "outputs": [
        {
          "output_type": "stream",
          "name": "stdout",
          "text": [
            "철수\n"
          ]
        }
      ]
    },
    {
      "cell_type": "code",
      "source": [
        "data = [\n",
        "    {\"이름\": \"길동\", \"수학\": 3, \"과학\": 93},\n",
        "    {\"이름\": \"춘향\", \"수학\": 33, \"과학\": 11},\n",
        "    {\"이름\": \"철수\", \"수학\": 94, \"과학\": 67}\n",
        "]\n",
        "max_entry = max(data, key=lambda x: x[\"수학\"]+x[\"과학\"])\n",
        "print(max_entry)\n",
        "print(max_entry[\"이름\"])"
      ],
      "metadata": {
        "colab": {
          "base_uri": "https://localhost:8080/"
        },
        "id": "9yHz8A_-waqH",
        "outputId": "972995f2-699f-40de-afb4-074aada65175"
      },
      "execution_count": null,
      "outputs": [
        {
          "output_type": "stream",
          "name": "stdout",
          "text": [
            "{'이름': '철수', '수학': 94, '과학': 67}\n",
            "철수\n"
          ]
        }
      ]
    },
    {
      "cell_type": "markdown",
      "source": [
        "## 문제 2"
      ],
      "metadata": {
        "id": "agzh2JuHaynj"
      }
    },
    {
      "cell_type": "code",
      "source": [
        "# 주어진 사전 grades = {\"Tom\": 87, \"Jerry\": 95, \"Mickey\": 70}의\n",
        "# 모든 값을 5점씩 증가시키고 결과를 출력하세요.\n",
        "\n",
        "grades = {\"Tom\": 87, \"Jerry\": 95, \"Mickey\": 70}\n",
        "l = {x[0]:x[1]+5 for x in grades.items()}\n",
        "print(l)\n",
        "\n",
        "\n",
        "# grades.update({'Tom': grades.get('Tom', 0) + 5})\n",
        "# grades.update({'Jerry': grades.get('Jerry', 0) + 5})\n",
        "# grades.update({'Mickey': grades.get('Mickey', 0) + 5})\n",
        "updated_grades = {name: score + 5 for name, score in grades.items()}\n",
        "print(updated_grades)\n",
        "#updated_grades = {name: scorre + 5 for name, score in grades.items()}\n",
        "#print(updated_grades)"
      ],
      "metadata": {
        "colab": {
          "base_uri": "https://localhost:8080/"
        },
        "id": "eSs1xnVBbBsK",
        "outputId": "4b60d241-1462-4fcc-f516-b370c89eaae4"
      },
      "execution_count": null,
      "outputs": [
        {
          "output_type": "stream",
          "name": "stdout",
          "text": [
            "{'Tom': 92, 'Jerry': 100, 'Mickey': 75}\n"
          ]
        }
      ]
    },
    {
      "cell_type": "markdown",
      "source": [
        "## 문제 3"
      ],
      "metadata": {
        "id": "GLQS8s69avuS"
      }
    },
    {
      "cell_type": "code",
      "source": [
        "# 주어진 문자열 s = \"apple banana apple cherry banana cherry apple\"에서\n",
        "#가장 자주 등장하는 단어를 출력하세요.\n",
        "\n",
        "s = \"apple banana apple cherry banana cherry apple\"\n",
        "\n",
        "wind = s.split()\n",
        "print(max(wind, key= lambda x: wind.count(x)))"
      ],
      "metadata": {
        "colab": {
          "base_uri": "https://localhost:8080/"
        },
        "id": "47_Sss8qbClK",
        "outputId": "24cd8338-183c-40b6-fbe4-05c342df809a"
      },
      "execution_count": null,
      "outputs": [
        {
          "output_type": "stream",
          "name": "stdout",
          "text": [
            "apple\n"
          ]
        }
      ]
    },
    {
      "cell_type": "code",
      "source": [
        "s = \"apple banana apple cherry banana cherry apple\"\n",
        "s.split()"
      ],
      "metadata": {
        "colab": {
          "base_uri": "https://localhost:8080/"
        },
        "id": "GQHviJ-Gw3DI",
        "outputId": "7378376c-e859-47cf-ae1d-8aa9c3d63c39"
      },
      "execution_count": null,
      "outputs": [
        {
          "output_type": "execute_result",
          "data": {
            "text/plain": [
              "['apple', 'banana', 'apple', 'cherry', 'banana', 'cherry', 'apple']"
            ]
          },
          "metadata": {},
          "execution_count": 20
        }
      ]
    },
    {
      "cell_type": "code",
      "source": [
        "s = \"apple banana apple cherry banana cherry apple\"\n",
        "words = s.split()\n",
        "most_frequent_word = max(set(words), key=words.count)\n",
        "print(most_frequent_word)"
      ],
      "metadata": {
        "colab": {
          "base_uri": "https://localhost:8080/"
        },
        "id": "3huZ1S3Rwwin",
        "outputId": "f01a5dbf-35e4-448b-fbd4-2a1d52e3c7ed"
      },
      "execution_count": null,
      "outputs": [
        {
          "output_type": "stream",
          "name": "stdout",
          "text": [
            "apple\n"
          ]
        }
      ]
    },
    {
      "cell_type": "code",
      "source": [
        "from collections import Counter\n",
        "\n",
        "s = \"apple banana apple cherry banana cherry apple\"\n",
        "Counter(s.split())"
      ],
      "metadata": {
        "colab": {
          "base_uri": "https://localhost:8080/"
        },
        "id": "zkrDa_eQwUdn",
        "outputId": "7b1c66d8-4b02-4fc2-d003-23a570e92f18"
      },
      "execution_count": null,
      "outputs": [
        {
          "output_type": "execute_result",
          "data": {
            "text/plain": [
              "Counter({'apple': 3, 'banana': 2, 'cherry': 2})"
            ]
          },
          "metadata": {},
          "execution_count": 22
        }
      ]
    },
    {
      "cell_type": "code",
      "source": [
        "from collections import Counter\n",
        "\n",
        "s = \"apple banana apple cherry banana cherry apple\"\n",
        "result = Counter(s.split())\n",
        "result.most_common()\n",
        "result.most_common(1)"
      ],
      "metadata": {
        "colab": {
          "base_uri": "https://localhost:8080/"
        },
        "id": "2CUtnCr2xeZQ",
        "outputId": "596c87cc-8b3e-4413-9691-bc74127e8a1f"
      },
      "execution_count": null,
      "outputs": [
        {
          "output_type": "execute_result",
          "data": {
            "text/plain": [
              "[('apple', 3)]"
            ]
          },
          "metadata": {},
          "execution_count": 23
        }
      ]
    },
    {
      "cell_type": "markdown",
      "source": [
        "#09/14\n"
      ],
      "metadata": {
        "id": "2xd0L91lkIXv"
      }
    },
    {
      "cell_type": "code",
      "source": [
        "# 아래 기본 data를 기반으로 문제를 풀어주세요.\n",
        "data = [\n",
        "  {\n",
        "    \"_id\": \"fd7e9a0f-e77b-436a-B781-119b66033d49\",\n",
        "    \"index\": \"1\",\n",
        "    \"name\": \"나주헌\",\n",
        "    \"gender\": \"여성\",\n",
        "    \"age\": \"43\"\n",
        "  },\n",
        "  {\n",
        "    \"_id\": \"8ec6eabb-160a-41e4-A3de-cd33aff0b281\",\n",
        "    \"index\": \"2\",\n",
        "    \"name\": \"엄루다\",\n",
        "    \"gender\": \"남성\",\n",
        "    \"age\": \"22\"\n",
        "  },\n",
        "  {\n",
        "    \"_id\": \"bcf804f7-0452-4c31-B9d1-20cc2d38490b\",\n",
        "    \"index\": \"3\",\n",
        "    \"name\": \"형유환\",\n",
        "    \"gender\": \"남성\",\n",
        "    \"age\": \"31\"\n",
        "  }\n",
        "]"
      ],
      "metadata": {
        "id": "M3rNGSYAkU8O"
      },
      "execution_count": null,
      "outputs": []
    },
    {
      "cell_type": "markdown",
      "source": [
        "## 문제 1"
      ],
      "metadata": {
        "id": "xMJ4FBFSkQVv"
      }
    },
    {
      "cell_type": "code",
      "source": [
        "# 문제 1 gender, age값을 추출해보세요. 아래 양식처럼 추출하시면 됩니다. 가능하면 map을 사용해주세요.\n",
        "'''\n",
        " [\n",
        "  {\n",
        "    \"gender\": \"여성\",\n",
        "    \"age\": \"43\"\n",
        "  },\n",
        "  {\n",
        "    \"gender\": \"남성\",\n",
        "    \"age\": \"22\"\n",
        "  },\n",
        "  {\n",
        "    \"gender\": \"남성\",\n",
        "    \"age\": \"31\"\n",
        "  }\n",
        "]\n",
        "'''\n",
        "\n",
        "# gender = list(map(lambda x:x['gender'], data))\n",
        "# x = (n := 10) * 2\n",
        "# print(x)  # 출력: 20\n",
        "# print(n)  # 출력: 10\n",
        "\n",
        "gage = list(map(lambda x: {\"gender\": x[\"gender\"], \"age\": x[\"age\"]}, data))\n",
        "gage"
      ],
      "metadata": {
        "colab": {
          "base_uri": "https://localhost:8080/"
        },
        "id": "eMAHvU0ckNCW",
        "outputId": "27827fed-e133-4bfc-edb9-552eb9f283d3"
      },
      "execution_count": null,
      "outputs": [
        {
          "output_type": "execute_result",
          "data": {
            "text/plain": [
              "[{'gender': '여성', 'age': '43'},\n",
              " {'gender': '남성', 'age': '22'},\n",
              " {'gender': '남성', 'age': '31'}]"
            ]
          },
          "metadata": {},
          "execution_count": 5
        }
      ]
    },
    {
      "cell_type": "markdown",
      "source": [
        "## 문제 2"
      ],
      "metadata": {
        "id": "g_oXe811kYwO"
      }
    },
    {
      "cell_type": "code",
      "source": [
        "from string import capwords\n",
        "# 문제 2\n",
        "# User라는 class를 만들어 해당 데이터를 관리해주세요. 아래처럼 저장되어야 합니다.\n",
        "# 다만 꼭 변수 이름이 user_1...user_n 일 필요는 없습니다.\n",
        "# 저장양식: '[user_1, user_2, user_3]'\n",
        "\n",
        "class User: # 차에 설계 도면 또는 차 공장입니다. => 클래스\n",
        "    def __init__(self, data):\n",
        "        self._id = data['_id']\n",
        "        self.name = data['name']\n",
        "        self.gender = data['gender']\n",
        "        self.age = data['age']\n",
        "\n",
        "# i = 0\n",
        "# for x in data:\n",
        "#     i += 1\n",
        "#     (user_i := User(x))\n"
      ],
      "metadata": {
        "id": "QHMvy5CXkYgm"
      },
      "execution_count": null,
      "outputs": []
    },
    {
      "cell_type": "code",
      "source": [
        "# 우리 수업에서 Djang에서 사용ㄷ\n",
        "user_1 = User(data[0])\n",
        "user_2 = User(data[1])\n",
        "user_3 = User(data[2])\n",
        "\n",
        "user_list = [user_1, user_2, user_3]\n",
        "user_list[0].name\n",
        "for i in user_list:\n",
        "    print(i.name)\n"
      ],
      "metadata": {
        "colab": {
          "base_uri": "https://localhost:8080/"
        },
        "id": "T1T_QLHy6aPj",
        "outputId": "5205bee2-4492-4fd6-fd73-271da94ac741"
      },
      "execution_count": null,
      "outputs": [
        {
          "output_type": "stream",
          "name": "stdout",
          "text": [
            "나주헌\n",
            "엄루다\n",
            "형유환\n"
          ]
        }
      ]
    },
    {
      "cell_type": "code",
      "source": [
        "class User:\n",
        "    def __init__(self, _id, index, name, gender, age):\n",
        "        self._id = _id\n",
        "        self.index = index\n",
        "        self.name = name\n",
        "        self.gender = gender\n",
        "        self.age = age\n",
        "\n",
        "    def __repr__(self):\n",
        "        return f'user_{self.index}'\n",
        "\n",
        "users = [User(**x) for x in data]\n",
        "print(users)\n",
        "users[0].name"
      ],
      "metadata": {
        "id": "gL0Y42Wf6ofL"
      },
      "execution_count": null,
      "outputs": []
    },
    {
      "cell_type": "code",
      "source": [
        "#\n",
        "from dataclasses import dataclass\n",
        "\n",
        "@dataclass\n",
        "class User:\n",
        "    id: int\n",
        "    name: str\n",
        "    email : str\n",
        "\n",
        "user = User(123, 'hojun', 'hojun@gmail')\n",
        "user"
      ],
      "metadata": {
        "id": "Qxp6D3XI60-T"
      },
      "execution_count": null,
      "outputs": []
    },
    {
      "cell_type": "markdown",
      "source": [
        "## 문제 3"
      ],
      "metadata": {
        "id": "3YMXgHzakc-G"
      }
    },
    {
      "cell_type": "code",
      "source": [
        "# 문제 3 BankAccount 클래스를 생성하세요. 이 클래스는 owner(계좌주 이름), balance(잔액) 속성을 가져야 합니다.\n",
        "# 이 클래스는 deposit(amount) (입금) 및 withdraw(amount) (출금) 메서드를 가져야 합니다.\n",
        "# 단, 출금 시 잔액보다 큰 금액을 출금하려고 하면 \"잔액 부족\" 메시지를 출력해야 합니다.\n",
        "\n",
        "\n",
        "class BankAccount:\n",
        "    owner = str\n",
        "    balance = int\n"
      ],
      "metadata": {
        "id": "VGHUNy5QkeT-"
      },
      "execution_count": null,
      "outputs": []
    },
    {
      "cell_type": "markdown",
      "source": [
        "# 09/18"
      ],
      "metadata": {
        "id": "IqgXJkJU9sDk"
      }
    },
    {
      "cell_type": "markdown",
      "source": [
        "## 문제 1"
      ],
      "metadata": {
        "id": "SbMYUCb79vY8"
      }
    },
    {
      "cell_type": "code",
      "source": [
        "# 문제 1:\n",
        "# 동물 클래스 Animal을 만들어주세요. Dog와 Cat 클래스를 각각 정의하십시오.\n",
        "\n",
        "# Animal 클래스는 name 속성을 가집니다. 이 클래스는 make_sound 메서드를 갖고 있습니다.\n",
        "\n",
        "# Dog와 Cat 클래스는 Animal 클래스를 상속받는 클래스입니다.Dog 클래스의 make_sound 메서드는 \"멍멍!\"을\n",
        "# Cat 클래스의 make_sound 메서드는 \"야옹!\"을 출력하도록 재정의하세요.\n",
        "\n",
        "# * 더 완성도 높은 클래스를 만들어보세요. 추가 속성이나 메서드 작성 가능합니다."
      ],
      "metadata": {
        "id": "56rXVYRG69BL"
      },
      "execution_count": null,
      "outputs": []
    },
    {
      "cell_type": "code",
      "source": [
        "class Animal:\n",
        "    sound = '동물을 등록해주세요.'\n",
        "\n",
        "    def make_sound(self, sound):\n",
        "        print(sound)\n",
        "\n",
        "class Dog(Animal):\n",
        "\n",
        "    def make_sound(self):\n",
        "        print('멍멍!')\n",
        "\n",
        "class Cat(Animal):\n",
        "\n",
        "    def make_sound(self):\n",
        "        print('야옹!')\n",
        "\n",
        "cat = Cat()\n",
        "cat.make_sound()"
      ],
      "metadata": {
        "colab": {
          "base_uri": "https://localhost:8080/"
        },
        "id": "fZ5YNUYlWiE8",
        "outputId": "2d34d166-a419-4d1b-f2be-ce564bd875f7"
      },
      "execution_count": null,
      "outputs": [
        {
          "output_type": "stream",
          "name": "stdout",
          "text": [
            "야옹\n"
          ]
        }
      ]
    },
    {
      "cell_type": "markdown",
      "source": [
        "## 문제 2"
      ],
      "metadata": {
        "id": "4Fn4CUhyWYIM"
      }
    },
    {
      "cell_type": "code",
      "source": [
        "# 문제 2:\n",
        "# Person이라는 기본 클래스를 만들어주세요.\n",
        "# Person 클래스는 `이름`과 `나이`라는 두 개의 속성과 `소개하기`라는 메서드를 가지며\n",
        "# 이 메서드는 \"Hello World!, 제 이름은 [이름]이고 제 나이는 [나이]살 입니다.\"라는 메시지를 출력합니다.\n",
        "\n",
        "# Person 클래스를 상속받는 Student 클래스를 정의하십시오.\n",
        "# Student 클래스는 추가적으로 `학년` 속성을 가집니다.\n",
        "# Student 클래스에서 `소개하기` 메서드를 오버라이드하여\n",
        "# \"Hello World!, 제 이름은 [이름]이고 제 나이는 [나이]살 입니다. 그리고 저는 [학년]학년입니다. \"\n",
        "# 라는 메시지를 출력하도록 만드세요."
      ],
      "metadata": {
        "id": "JEvvhYSb9uNL"
      },
      "execution_count": null,
      "outputs": []
    },
    {
      "cell_type": "code",
      "source": [
        "class Person:\n",
        "    이름 = ' '\n",
        "    나이 = 0\n",
        "\n",
        "    def __init__(self, name, age):\n",
        "        self.이름 = name\n",
        "        self.나이 = age\n",
        "\n",
        "    def Introducing(self):\n",
        "        print(f'Hello World!, 제 이름은 {self.이름}이고 제 나이는 {self.나이}살 입니다.')\n",
        "\n",
        "\n",
        "class Student(Person):\n",
        "    학년 = 1\n",
        "\n",
        "    def __init__(self, name, age, grade):\n",
        "        self.이름 = name\n",
        "        self.나이 = age\n",
        "        self.학년 = grade\n",
        "\n",
        "\n",
        "    def Introducing(self):\n",
        "        print(f'Hello World!, 제 이름은 {self.이름}이고 제 나이는 {self.나이}살 입니다. 그리고 저는 {self.학년}학년입니다.')\n",
        "\n",
        "a = Student('노리', 4, 3)\n",
        "a.Introducing()"
      ],
      "metadata": {
        "colab": {
          "base_uri": "https://localhost:8080/"
        },
        "id": "BZDJefQnWiZD",
        "outputId": "8db7b79a-421e-4aca-f0bb-c777267871e4"
      },
      "execution_count": null,
      "outputs": [
        {
          "output_type": "stream",
          "name": "stdout",
          "text": [
            "Hello World!, 제 이름은 노리이고 제 나이는 4살 입니다. 그리고 저는 3학년입니다.\n"
          ]
        }
      ]
    },
    {
      "cell_type": "markdown",
      "source": [
        "# 09/19"
      ],
      "metadata": {
        "id": "gWvaSCzqRCvi"
      }
    },
    {
      "cell_type": "markdown",
      "source": [
        "## 문제 1(라운지 쓰레드)"
      ],
      "metadata": {
        "id": "T4Jw_Q-bRGxy"
      }
    },
    {
      "cell_type": "code",
      "source": [
        "# 두 수를 나누는 함수 div(a, b)가 있었을 때\n",
        "# b에 0이 입력되면 예외처리를 하여 정상작동이 되는 함수로 작성을 해주세요.\n",
        "\n",
        "def div(a, b):\n",
        "    try:\n",
        "        Div = a / b\n",
        "    except:\n",
        "        print('오류가 발생했습니다.')\n",
        "    else:\n",
        "        print( int(Div))\n",
        "\n",
        "\n",
        "div(3, 0)"
      ],
      "metadata": {
        "colab": {
          "base_uri": "https://localhost:8080/"
        },
        "id": "Tv8d2ORMRKkr",
        "outputId": "3c6cb6ef-414c-496e-9767-e5e5602389f8"
      },
      "execution_count": null,
      "outputs": [
        {
          "output_type": "stream",
          "name": "stdout",
          "text": [
            "오류가 발생했습니다.\n"
          ]
        }
      ]
    },
    {
      "cell_type": "markdown",
      "source": [
        "## 문제 2(class 쓰레드)"
      ],
      "metadata": {
        "id": "p0I8dvljRIfC"
      }
    },
    {
      "cell_type": "code",
      "source": [
        "# 하나의 숫자에 제곱근을 구하는 함수 sqrt_number(num)이 있었을 때\n",
        "# 자체 예외 NegativeNumberError를 정의하세요. 이 예외는 음수가 입력될 때 발생하도록 합니다.\n",
        "# 사용자로부터 숫자를 입력 받아 그 숫자의 제곱근을 반환하는 함수를 작성하세요.\n",
        "# 입력된 숫자가 음수이면 NegativeNumberError를 발생시키고\n",
        "# \"음수의 제곱근은 계산할 수 없습니다.\"라는 메시지를 출력하세요.\n",
        "\n",
        "class NegativeNumberError(Exception):\n",
        "\n",
        "    def __init__(self):\n",
        "        super().__init__('음수의 제곱근은 계산할 수 없습니다.')\n",
        "\n",
        "def sqrt_number(num):\n",
        "    if num < 0:\n",
        "        raise NegativeNumberError()\n",
        "\n",
        "    elif num == 0:\n",
        "        raise ValueError('0을 입력하셨습니다.')\n",
        "\n",
        "    else:\n",
        "        num **= num\n",
        "        return num\n",
        "\n",
        "num = int(input('제곱할 수를 입력하세요: '))\n",
        "sqrt_number(num)\n"
      ],
      "metadata": {
        "colab": {
          "base_uri": "https://localhost:8080/"
        },
        "id": "cNQ91V1NRJij",
        "outputId": "aae027da-fbf5-4d5a-da96-efcff261ee6c"
      },
      "execution_count": null,
      "outputs": [
        {
          "name": "stdout",
          "output_type": "stream",
          "text": [
            "제곱할 수를 입력하세요: 3\n"
          ]
        },
        {
          "output_type": "execute_result",
          "data": {
            "text/plain": [
              "27"
            ]
          },
          "metadata": {},
          "execution_count": 22
        }
      ]
    },
    {
      "cell_type": "code",
      "source": [],
      "metadata": {
        "id": "BKSI_j29fp8q"
      },
      "execution_count": null,
      "outputs": []
    },
    {
      "cell_type": "markdown",
      "source": [
        "## 문제3(class 쓰레드)"
      ],
      "metadata": {
        "id": "V_zlWOaJSTkL"
      }
    },
    {
      "cell_type": "code",
      "source": [
        "# 사용자로부터 인덱스 값을 입력 받아서 리스트 [\"apple\", \"banana\", \"cherry\"]에서\n",
        "# 해당 인덱스의 값을 출력하는 함수를 작성하세요.\n",
        "# 사용자가 범위를 벗어난 인덱스를 입력하면 \"리스트의 범위를 벗어났습니다.\"라는 메시지를 출력하세요.\n",
        "\n",
        "list = [\"apple\", \"banana\", \"cherry\"]\n",
        "\n",
        "try:\n",
        "    print('apple: 0 / banana: 1 / cherry: 2')\n",
        "    num = int(input('출력하고자 하는 인덱스의 값을 입력하세요: '))\n",
        "    print(list[num])\n",
        "except:\n",
        "    print('리스트 범위를 벗어났습니다.')"
      ],
      "metadata": {
        "colab": {
          "base_uri": "https://localhost:8080/"
        },
        "id": "bwfMkRuBSWaa",
        "outputId": "97287221-fa26-4e38-ec2a-2394f42e2b9c"
      },
      "execution_count": null,
      "outputs": [
        {
          "output_type": "stream",
          "name": "stdout",
          "text": [
            "apple: 0 / banana: 1 / cherry: 2\n",
            "출력하고자 하는 인덱스의 값을 입력하세요: 5\n",
            "리스트 범위를 벗어났습니다.\n"
          ]
        }
      ]
    },
    {
      "cell_type": "markdown",
      "source": [
        "# 09/20"
      ],
      "metadata": {
        "id": "tIy0mLmfehoD"
      }
    },
    {
      "cell_type": "markdown",
      "source": [
        "# 문제 1"
      ],
      "metadata": {
        "id": "K_dx_4KIele6"
      }
    },
    {
      "cell_type": "code",
      "source": [
        "# 문제1\n",
        "# 다음과 같이 동작하는 제너레이터 함수 fibonacci(n)를 완성하세요.\n",
        "# 주어진 숫자 n까지의 피보나치 수열을 반환합니다.\n",
        "# 인터넷에서 피보나치 순열 Python 코드를 검색해보셔도 좋습니다.\n",
        "\n",
        "def fib(n):\n",
        "    now, next = 1, 1\n",
        "    for _ in range(n):\n",
        "        yield now\n",
        "        now, next = next, now + next\n",
        "\n",
        "for i in fib(5):\n",
        "    print(i)"
      ],
      "metadata": {
        "id": "Sfor4nGFiRWS",
        "colab": {
          "base_uri": "https://localhost:8080/"
        },
        "outputId": "db404149-631f-4714-9d8c-c55dfe748e7b"
      },
      "execution_count": null,
      "outputs": [
        {
          "output_type": "stream",
          "name": "stdout",
          "text": [
            "1\n",
            "1\n",
            "2\n",
            "3\n",
            "5\n"
          ]
        }
      ]
    },
    {
      "cell_type": "code",
      "source": [
        "# 강사님\n",
        "\n",
        "def fib(n):\n",
        "    pre = 1\n",
        "    next = 1\n",
        "    count = 0\n",
        "    while True:\n",
        "        temp = pre + next\n",
        "        yield pre\n",
        "        pre, next = next, temp\n",
        "        count += 1\n",
        "        if count ==n:\n",
        "            break\n",
        "\n",
        "for i in fib(5):\n",
        "    print(i)"
      ],
      "metadata": {
        "id": "N64d-UiMzh7r"
      },
      "execution_count": null,
      "outputs": []
    },
    {
      "cell_type": "code",
      "source": [
        "# value swap\n",
        "# pre, next = next, temp\n",
        "# 다른 언어의 경우 이렇게 표현된다.\n",
        "temp = a\n",
        "a = b\n",
        "b = temp"
      ],
      "metadata": {
        "id": "M8JXiaOTz9S5"
      },
      "execution_count": null,
      "outputs": []
    },
    {
      "cell_type": "markdown",
      "source": [
        "# 문제 2"
      ],
      "metadata": {
        "id": "KT1sRCO4eoUq"
      }
    },
    {
      "cell_type": "code",
      "source": [
        "# 문제2\n",
        "# 주어진 함수의 실행 시간을 측정하여 출력하는 데코레이터 time_it를 작성하세요.\n",
        "# (힌트: time 모듈의 time() 함수를 사용하세요.)\n",
        "from time import time\n",
        "\n",
        "def time_it(fibo):\n",
        "    def wrapper(n):\n",
        "        start = time()\n",
        "        fibo(n)\n",
        "        end = time()\n",
        "        print(f'{end - start}초 걸렸습니다.')\n",
        "        return fibo(n)\n",
        "    return wrapper\n",
        "\n",
        "@time_it\n",
        "def fib(n):\n",
        "    now, next = 1, 1\n",
        "    for _ in range(n):\n",
        "        yield now\n",
        "        now, next = next, now + next\n",
        "\n",
        "for i in fib(8):\n",
        "    print(i)"
      ],
      "metadata": {
        "colab": {
          "base_uri": "https://localhost:8080/"
        },
        "id": "ssvWZiJmerLS",
        "outputId": "d7fda5d5-a708-4007-e853-067d5c7977b4"
      },
      "execution_count": null,
      "outputs": [
        {
          "output_type": "stream",
          "name": "stdout",
          "text": [
            "1.6689300537109375e-06초 걸렸습니다.\n",
            "1\n",
            "1\n",
            "2\n",
            "3\n",
            "5\n",
            "8\n",
            "13\n",
            "21\n"
          ]
        }
      ]
    },
    {
      "cell_type": "code",
      "source": [
        "# 강사님\n",
        "# 의도 fib()만으로는 실행이 안되니\n",
        "# main으로 묶어서 실행시킨다.\n",
        "\n",
        "import time\n",
        "\n",
        "def time_it(func):\n",
        "    def wrapper():\n",
        "        start_time = time.time()\n",
        "        func()\n",
        "        end_time = time.time()\n",
        "        print(f\"{end_time - start_time:.4f}s\")\n",
        "    return wrapper\n",
        "\n",
        "@time_it\n",
        "def main():\n",
        "    def fib(n):\n",
        "        pre = 1\n",
        "        next = 1\n",
        "        count = 0\n",
        "        while True:\n",
        "            temp = pre + next\n",
        "            yield pre\n",
        "            pre, next = next, temp\n",
        "            count += 1\n",
        "            if count == n:\n",
        "                break\n",
        "\n",
        "    for i in fib(20):\n",
        "        print(i)\n",
        "\n",
        "main()"
      ],
      "metadata": {
        "id": "kkV5XEaqz3dq"
      },
      "execution_count": null,
      "outputs": []
    },
    {
      "cell_type": "markdown",
      "source": [
        "# 09/21"
      ],
      "metadata": {
        "id": "032U9TSakxHJ"
      }
    },
    {
      "cell_type": "markdown",
      "source": [
        "## 문제1"
      ],
      "metadata": {
        "id": "XM6rdjdekz-Y"
      }
    },
    {
      "cell_type": "code",
      "source": [
        "# 과제2:\n",
        "# student.csv에는 아래와 같은 텍스트가 담겨있습니다.\n",
        "# '''\n",
        "# 학년,반,번,이름,국어,영어,수학,사회\n",
        "# 3,3,1,licat,90,80,30,40\n",
        "# 3,3,2,mura,80,70,60,30\n",
        "# 3,3,3,binky,30,80,70,30\n",
        "# '''\n",
        "# 학생들의 평균을 구해 아래와 같이 student.csv출력되게 해주세요\n",
        "# (xx이라 표기된 곳에 평균 값이 들어가야 합니다.)\n",
        "# '''\n",
        "# 학년,반,번,이름,국어,영어,수학,사회,평균\n",
        "# 3,3,1,licat,90,80,30,40,xx\n",
        "# 3,3,2,mura,80,70,60,30,xx\n",
        "# 3,3,3,binky,30,80,70,30,xx\n",
        "# '''"
      ],
      "metadata": {
        "id": "X-z76CQgk27o"
      },
      "execution_count": null,
      "outputs": []
    },
    {
      "cell_type": "code",
      "source": [
        "f = open('student.csv', 'w')\n",
        "s = '''학년,반,번,이름,국어,영어,수학,사회\n",
        "3,3,1,licat,90,80,30,40\n",
        "3,3,2,mura,80,70,60,30\n",
        "3,3,3,binky,30,80,70,30'''\n",
        "f.write(s)\n",
        "f.close()\n",
        "\n",
        "s = ''\n",
        "with open('student.csv', 'r') as f:\n",
        "    lines = f.readlines()\n",
        "    s += lines[0][:-1] + ',평균'\n",
        "    for i in lines[1:]:\n",
        "        data = i.split(',')\n",
        "        s += f'\\n{i.strip()},{sum(map(int, data[4:])) / 4}'\n",
        "\n",
        "with open('student.csv', 'w') as f:\n",
        "    f.write(s)"
      ],
      "metadata": {
        "id": "3dSo6BzUlH6I"
      },
      "execution_count": null,
      "outputs": []
    },
    {
      "cell_type": "code",
      "source": [
        "f = open('student.csv', 'w')\n",
        "s = '''학년,반,번,이름,국어,영어,수학,사회\n",
        "3,3,1,licat,90,80,30,40\n",
        "3,3,2,mura,80,70,60,30\n",
        "3,3,3,binky,30,80,70,30'''\n",
        "f.write(s)\n",
        "f.close()\n",
        "\n",
        "\n",
        "s = ''\n",
        "with open('student.csv', 'r') as f:\n",
        "    lines = f.readlines()\n",
        "    s += lines[0][:-1] + ',평균'"
      ],
      "metadata": {
        "colab": {
          "base_uri": "https://localhost:8080/"
        },
        "id": "CjbUgH6AvIQe",
        "outputId": "966f1c4b-6626-4087-a724-b31b65de15d3"
      },
      "execution_count": null,
      "outputs": [
        {
          "output_type": "stream",
          "name": "stdout",
          "text": [
            "['학년,반,번,이름,국어,영어,수학,사회\\n', '3,3,1,licat,90,80,30,40\\n', '3,3,2,mura,80,70,60,30\\n', '3,3,3,binky,30,80,70,30']\n"
          ]
        }
      ]
    },
    {
      "cell_type": "markdown",
      "source": [
        "# 09/22"
      ],
      "metadata": {
        "id": "x-rOLcG1uS9-"
      }
    },
    {
      "cell_type": "markdown",
      "source": [
        "## 문제 1"
      ],
      "metadata": {
        "id": "gSCn79jfuUh2"
      }
    },
    {
      "cell_type": "code",
      "source": [
        "# 문제1 https://www.paullab.co.kr/stock.html 서비스를 크롤링하여\n",
        "# 제주코딩베이스캠프 연구원의 2019년 10월 총 거래량을 구해주세요.\n"
      ],
      "metadata": {
        "id": "cPzA7y4hvN1-"
      },
      "execution_count": null,
      "outputs": []
    },
    {
      "cell_type": "code",
      "source": [
        "import requests\n",
        "from bs4 import BeautifulSoup\n",
        "\n",
        "response = requests.get('http://www.paullab.co.kr/stock.html')\n",
        "# response.encoding = 'utf-8'\n",
        "html = response.text\n",
        "soup = BeautifulSoup(html, 'html.parser') # 원하는 문자열로 잘라줌\n",
        "\n",
        "total= 0\n",
        "data = soup.select('.table > tbody > tr')[1:16]\n",
        "\n",
        "for x in data:\n",
        "    if x.td == '2019.09.30':\n",
        "        print(total)\n",
        "        break\n",
        "\n",
        "    total += int(x.select('td')[6].text.replace(',',''))\n",
        "\n",
        "print(total)\n"
      ],
      "metadata": {
        "colab": {
          "base_uri": "https://localhost:8080/"
        },
        "id": "xb5BPoyfxDAN",
        "outputId": "ed55e5b3-21ff-4873-c2de-73186a12a279"
      },
      "execution_count": null,
      "outputs": [
        {
          "output_type": "stream",
          "name": "stdout",
          "text": [
            "10895826\n"
          ]
        }
      ]
    },
    {
      "cell_type": "code",
      "source": [],
      "metadata": {
        "id": "GrQdz4cAFBS-"
      },
      "execution_count": null,
      "outputs": []
    },
    {
      "cell_type": "markdown",
      "source": [
        "## 문제2"
      ],
      "metadata": {
        "id": "KayEXK6MuWEW"
      }
    },
    {
      "cell_type": "code",
      "source": [
        "# 문제2 html에서 태그를 제거하고 텍스트만 뽑아낼 수 있도록 해주세요.\n",
        "# '<p>This is a <em>simple</em> example.</p>'\n",
        "from bs4 import BeautifulSoup\n",
        "\n",
        "text = '<p>This is a <em>simple</em> example.</p>'\n",
        "pull = BeautifulSoup(text, 'html.parser')\n",
        "\n",
        "print(pull.text)\n",
        "\n"
      ],
      "metadata": {
        "colab": {
          "base_uri": "https://localhost:8080/"
        },
        "id": "T3rsp_vUvVS2",
        "outputId": "7f6f312b-cd06-446f-b858-c59466bd6e3d"
      },
      "execution_count": null,
      "outputs": [
        {
          "output_type": "stream",
          "name": "stdout",
          "text": [
            "This is a simple example.\n"
          ]
        }
      ]
    },
    {
      "cell_type": "code",
      "source": [
        "# 강사님\n",
        "print(re.sub('<[a-z/]+>','',s))"
      ],
      "metadata": {
        "id": "RpdwA6X9FAs-"
      },
      "execution_count": null,
      "outputs": []
    },
    {
      "cell_type": "markdown",
      "source": [
        "## 문제3"
      ],
      "metadata": {
        "id": "FHakbPtovUB1"
      }
    },
    {
      "cell_type": "code",
      "source": [
        "# 문제3 아래 텍스트에서 이메일만 추출할 수 있는 정규표현식을 만들어주세요.\n",
        "# '제 이메일 주소는 example1@gmail.com이고 회사 이메일 주소는 example2@gmail.com 입니다.\n",
        "# example1로 연락을 주셨다면 제게 메시지 한 번 부탁드립니다.'\n",
        "\n",
        "# 내 힘이 아님. 공부해라 닝겐\n",
        "import re\n",
        "\n",
        "email= '제 이메일 주소는 example1@gmail.com이고 회사 이메일 주소는 example2@gmail.com 입니다. example1로 연락을 주셨다면 제게 메시지 한 번 부탁드립니다.'\n",
        "\n",
        "p = re.compile(r'[a-zA-Z0-9]+@+[a-zA-Z0-9]+.com')\n",
        "p.findall(email)"
      ],
      "metadata": {
        "colab": {
          "base_uri": "https://localhost:8080/"
        },
        "id": "P6O8tr6ivWln",
        "outputId": "446f054e-9efc-4e14-c9e1-131d43dc5bee"
      },
      "execution_count": null,
      "outputs": [
        {
          "output_type": "execute_result",
          "data": {
            "text/plain": [
              "['example1@gmail.com', 'example2@gmail.com']"
            ]
          },
          "metadata": {},
          "execution_count": 61
        }
      ]
    },
    {
      "cell_type": "code",
      "source": [],
      "metadata": {
        "id": "vbCpADF_FAMW"
      },
      "execution_count": null,
      "outputs": []
    }
  ]
}