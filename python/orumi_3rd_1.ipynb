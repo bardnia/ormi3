{
  "nbformat": 4,
  "nbformat_minor": 0,
  "metadata": {
    "colab": {
      "provenance": [],
      "toc_visible": true
    },
    "kernelspec": {
      "name": "python3",
      "display_name": "Python 3"
    },
    "language_info": {
      "name": "python"
    }
  },
  "cells": [
    {
      "cell_type": "markdown",
      "source": [
        "#주석"
      ],
      "metadata": {
        "id": "JyzehFt1Kdju"
      }
    },
    {
      "cell_type": "code",
      "execution_count": null,
      "metadata": {
        "colab": {
          "base_uri": "https://localhost:8080/"
        },
        "id": "rmgds57vGjmT",
        "outputId": "f48ce45b-c68b-4a88-a690-bb6e4cdd9102"
      },
      "outputs": [
        {
          "output_type": "stream",
          "name": "stdout",
          "text": [
            "Hello, World 1!\n",
            "Hello, World 2!\n"
          ]
        }
      ],
      "source": [
        "#이것은 주석입니다.\n",
        "print('Hello, World 1!') # 이것도 주석입니다.\n",
        "print('Hello, World 2!')"
      ]
    },
    {
      "cell_type": "code",
      "source": [
        "'''\n",
        "이것은 주석입니다.\n",
        "이렇게 여러줄 주석을 넣을 수 있습니다.\n",
        "'''\n",
        "print(\"Hello, World!\")"
      ],
      "metadata": {
        "colab": {
          "base_uri": "https://localhost:8080/"
        },
        "id": "4IxLUgf5KwXI",
        "outputId": "fd15639e-ee8f-4998-c0d8-49a89ff0cc85"
      },
      "execution_count": null,
      "outputs": [
        {
          "output_type": "stream",
          "name": "stdout",
          "text": [
            "Hello, World!\n"
          ]
        }
      ]
    },
    {
      "cell_type": "code",
      "source": [
        "\"\"\"\n",
        "이것은 주석입니다.\n",
        "이렇게 여러줄 주석을 넣을 수 있습니다.\n",
        "\"\"\"\n",
        "print(\"Hello, World!\")"
      ],
      "metadata": {
        "colab": {
          "base_uri": "https://localhost:8080/"
        },
        "id": "wbap0mxgKjbN",
        "outputId": "fe1cd32d-cd66-4d08-ff29-344bb6cbbeae"
      },
      "execution_count": null,
      "outputs": [
        {
          "output_type": "stream",
          "name": "stdout",
          "text": [
            "Hello, World!\n"
          ]
        }
      ]
    },
    {
      "cell_type": "code",
      "source": [
        "x = input('입력해 주세요 : ') # 문자 열로 받는다!\n",
        "x + x # print를 사용"
      ],
      "metadata": {
        "colab": {
          "base_uri": "https://localhost:8080/",
          "height": 54
        },
        "id": "6JaVy2ayLFDj",
        "outputId": "9f27f1fe-4e9b-4574-d9b4-cd3c12f2fa04"
      },
      "execution_count": null,
      "outputs": [
        {
          "name": "stdout",
          "output_type": "stream",
          "text": [
            "입력해 주세요 : 10\n"
          ]
        },
        {
          "output_type": "execute_result",
          "data": {
            "text/plain": [
              "'1010'"
            ],
            "application/vnd.google.colaboratory.intrinsic+json": {
              "type": "string"
            }
          },
          "metadata": {},
          "execution_count": 10
        }
      ]
    },
    {
      "cell_type": "markdown",
      "source": [
        "# 입력과 출력"
      ],
      "metadata": {
        "id": "QQ5q6ldzNQQV"
      }
    },
    {
      "cell_type": "code",
      "source": [
        "print('hello world')"
      ],
      "metadata": {
        "colab": {
          "base_uri": "https://localhost:8080/"
        },
        "id": "arFghdr9NCi-",
        "outputId": "7ecf96e4-de49-4cc6-e599-2e89ca1202c6"
      },
      "execution_count": null,
      "outputs": [
        {
          "output_type": "stream",
          "name": "stdout",
          "text": [
            "hello world\n"
          ]
        }
      ]
    },
    {
      "cell_type": "code",
      "source": [
        "x = 'hello'\n",
        "print(x)"
      ],
      "metadata": {
        "colab": {
          "base_uri": "https://localhost:8080/"
        },
        "id": "De7Xv0hkNJqf",
        "outputId": "1b31f8bd-7552-4157-9dfa-b85f5f747f76"
      },
      "execution_count": null,
      "outputs": [
        {
          "output_type": "stream",
          "name": "stdout",
          "text": [
            "hello\n"
          ]
        }
      ]
    },
    {
      "cell_type": "code",
      "source": [
        "print(x, x)"
      ],
      "metadata": {
        "colab": {
          "base_uri": "https://localhost:8080/"
        },
        "id": "op_WO3kmNMAi",
        "outputId": "5a015b49-1640-4440-e844-19a26f28fec9"
      },
      "execution_count": null,
      "outputs": [
        {
          "output_type": "stream",
          "name": "stdout",
          "text": [
            "hello hello\n"
          ]
        }
      ]
    },
    {
      "cell_type": "code",
      "source": [
        "print('010', '0000', '1000', sep='-')"
      ],
      "metadata": {
        "colab": {
          "base_uri": "https://localhost:8080/"
        },
        "id": "B9bMvYk6NOSm",
        "outputId": "96012cdc-5623-455e-e75b-e6cdf595d328"
      },
      "execution_count": null,
      "outputs": [
        {
          "output_type": "stream",
          "name": "stdout",
          "text": [
            "010-0000-1000\n"
          ]
        }
      ]
    },
    {
      "cell_type": "code",
      "source": [
        "print('hello world', end='!')\n",
        "print('hello world', end='~')"
      ],
      "metadata": {
        "colab": {
          "base_uri": "https://localhost:8080/"
        },
        "id": "Od7gIflyNybg",
        "outputId": "1786f588-15e6-47bd-a63d-9a22a137c1c1"
      },
      "execution_count": null,
      "outputs": [
        {
          "output_type": "stream",
          "name": "stdout",
          "text": [
            "hello world!hello world~"
          ]
        }
      ]
    },
    {
      "cell_type": "code",
      "source": [
        "class Character:\n",
        "    def __str__(self):\n",
        "        return 'a'\n",
        "\n",
        "    def __repr__(self):\n",
        "        return 'b'\n",
        "\n",
        "hero = Character()\n",
        "print(hero)\n",
        "hero"
      ],
      "metadata": {
        "colab": {
          "base_uri": "https://localhost:8080/"
        },
        "id": "iNSeqCP9aX_N",
        "outputId": "322765ef-258e-4571-cada-6a98a5616ae2"
      },
      "execution_count": null,
      "outputs": [
        {
          "output_type": "stream",
          "name": "stdout",
          "text": [
            "a\n"
          ]
        },
        {
          "output_type": "execute_result",
          "data": {
            "text/plain": [
              "b"
            ]
          },
          "metadata": {},
          "execution_count": 1
        }
      ]
    },
    {
      "cell_type": "markdown",
      "source": [
        "# 변수\n",
        "* python에서 변수는 포스트잇이다. 값을 가리킨다. 값을 상자처럼 담아두는 것이 절대 아니다."
      ],
      "metadata": {
        "id": "8lZbJj-mOr10"
      }
    },
    {
      "cell_type": "code",
      "source": [
        "x = 10\n",
        "y = x\n",
        "z = y\n",
        "'''\n",
        "오답\n",
        "10 -> x -> y -> z\n",
        "정답\n",
        "x ┐ 10\n",
        "y --> 10\n",
        "z ┘ 10\n",
        "'''"
      ],
      "metadata": {
        "id": "tiacVuQiOEOB"
      },
      "execution_count": null,
      "outputs": []
    },
    {
      "cell_type": "code",
      "source": [
        "x = 10\n",
        "y = x\n",
        "z = y\n",
        "x = 20\n",
        "print(y, z) # 결과 값은 10입니다.\n",
        "\n"
      ],
      "metadata": {
        "colab": {
          "base_uri": "https://localhost:8080/"
        },
        "id": "TnOXCHLXPctd",
        "outputId": "79771b34-8f65-45e6-b2da-07040ec87c48"
      },
      "execution_count": null,
      "outputs": [
        {
          "output_type": "stream",
          "name": "stdout",
          "text": [
            "10 10\n"
          ]
        }
      ]
    },
    {
      "cell_type": "code",
      "source": [
        "x = 10\n",
        "y  = x\n",
        "z = y\n",
        "\n",
        "print(id(x), id(y), id(z))"
      ],
      "metadata": {
        "colab": {
          "base_uri": "https://localhost:8080/"
        },
        "id": "BnIUacAVQ86x",
        "outputId": "3b37ed02-abd1-4c70-df91-b586165c8bb1"
      },
      "execution_count": null,
      "outputs": [
        {
          "output_type": "stream",
          "name": "stdout",
          "text": [
            "134247954285072 134247954285072 134247954285072\n"
          ]
        }
      ]
    },
    {
      "cell_type": "code",
      "source": [
        "#변수 이름\n",
        "\n",
        "#python의 경우 보통 스네이크 표기법으로 변수를 만듭니다.\n",
        "col_sum = 10\n",
        "\n",
        "#_는 사용하지 않는 변수에 할당합니다.\n",
        "for _ in range(5): #사용하지 않는 다는 것을 인지함으로써 코드의 가독성을 올려준다.\n",
        "    print('hello') #_가 for문 안에서 사용이 안됩니다."
      ],
      "metadata": {
        "colab": {
          "base_uri": "https://localhost:8080/"
        },
        "id": "EbbrdBz0UPLl",
        "outputId": "debd7071-22f5-4a36-c6f9-f5d25062bdb6"
      },
      "execution_count": null,
      "outputs": [
        {
          "output_type": "stream",
          "name": "stdout",
          "text": [
            "hello\n",
            "hello\n",
            "hello\n",
            "hello\n",
            "hello\n"
          ]
        }
      ]
    },
    {
      "cell_type": "code",
      "source": [
        "# 변수 타입 : 변수들를 어떻게 관리하고 처리할지에 대한 '코드', 이 코드는 우리가 재정의 할 수 있다\n",
        "\n",
        "x = 10\n",
        "x + x # 컴퓨터 입장에서는 10도 숫자입니다."
      ],
      "metadata": {
        "colab": {
          "base_uri": "https://localhost:8080/"
        },
        "id": "Ce7ozIXaVF2-",
        "outputId": "64d3a5ff-1ed0-4b09-ae08-38087583c955"
      },
      "execution_count": null,
      "outputs": [
        {
          "output_type": "execute_result",
          "data": {
            "text/plain": [
              "20"
            ]
          },
          "metadata": {},
          "execution_count": 21
        }
      ]
    },
    {
      "cell_type": "code",
      "source": [
        "y = '10'\n",
        "y + y # 컴퓨터 입장에서는 '10'도 숫자입니다."
      ],
      "metadata": {
        "colab": {
          "base_uri": "https://localhost:8080/",
          "height": 35
        },
        "id": "WtuTyLVzVzlT",
        "outputId": "c364b584-b1fe-4ea5-9303-9474d5c6a05c"
      },
      "execution_count": null,
      "outputs": [
        {
          "output_type": "execute_result",
          "data": {
            "text/plain": [
              "'1010'"
            ],
            "application/vnd.google.colaboratory.intrinsic+json": {
              "type": "string"
            }
          },
          "metadata": {},
          "execution_count": 22
        }
      ]
    },
    {
      "cell_type": "code",
      "source": [
        "print(type(x))\n",
        "print(type(y))"
      ],
      "metadata": {
        "colab": {
          "base_uri": "https://localhost:8080/"
        },
        "id": "LY55T9UlV2Aj",
        "outputId": "cb6dd4c4-5020-4cd9-95d3-b97dd84e2815"
      },
      "execution_count": null,
      "outputs": [
        {
          "output_type": "stream",
          "name": "stdout",
          "text": [
            "<class 'int'>\n",
            "<class 'str'>\n"
          ]
        }
      ]
    },
    {
      "cell_type": "code",
      "source": [
        "str(10) + str(10)"
      ],
      "metadata": {
        "colab": {
          "base_uri": "https://localhost:8080/",
          "height": 35
        },
        "id": "Ph66LUCVWUkg",
        "outputId": "a263759e-dec4-4747-fb22-57d160735d22"
      },
      "execution_count": null,
      "outputs": [
        {
          "output_type": "execute_result",
          "data": {
            "text/plain": [
              "'1010'"
            ],
            "application/vnd.google.colaboratory.intrinsic+json": {
              "type": "string"
            }
          },
          "metadata": {},
          "execution_count": 26
        }
      ]
    },
    {
      "cell_type": "code",
      "source": [
        "#\n",
        "class str(str):\n",
        "    def __add__(self, other):\n",
        "        return 'hello'"
      ],
      "metadata": {
        "id": "YBL7BQC8ZNPB"
      },
      "execution_count": null,
      "outputs": []
    },
    {
      "cell_type": "code",
      "source": [
        "str(10)+str(10)"
      ],
      "metadata": {
        "colab": {
          "base_uri": "https://localhost:8080/",
          "height": 35
        },
        "id": "6pYgxp-aZSmi",
        "outputId": "ac0ca9c8-405e-4981-b666-c91f956e34c6"
      },
      "execution_count": null,
      "outputs": [
        {
          "output_type": "execute_result",
          "data": {
            "text/plain": [
              "'hello'"
            ],
            "application/vnd.google.colaboratory.intrinsic+json": {
              "type": "string"
            }
          },
          "metadata": {},
          "execution_count": 2
        }
      ]
    },
    {
      "cell_type": "code",
      "source": [
        "# 변수의 삭제\n",
        "del x"
      ],
      "metadata": {
        "id": "qK490kvTW0Pg"
      },
      "execution_count": null,
      "outputs": []
    },
    {
      "cell_type": "markdown",
      "source": [
        "# 정수 자료형 (int)"
      ],
      "metadata": {
        "id": "zH7pjXrbY0Wy"
      }
    },
    {
      "cell_type": "code",
      "source": [
        "x = 10\n",
        "y = 20\n",
        "result = x / y\n",
        "print(result)\n",
        "result"
      ],
      "metadata": {
        "colab": {
          "base_uri": "https://localhost:8080/"
        },
        "id": "nNM4TUV4WW0S",
        "outputId": "6d9b6839-46f9-4e51-8b8a-8e730e3b9905"
      },
      "execution_count": null,
      "outputs": [
        {
          "output_type": "stream",
          "name": "stdout",
          "text": [
            "0.5\n"
          ]
        },
        {
          "output_type": "execute_result",
          "data": {
            "text/plain": [
              "0.5"
            ]
          },
          "metadata": {},
          "execution_count": 2
        }
      ]
    },
    {
      "cell_type": "code",
      "source": [
        "# 진수: 수를 표현하는 방법\n",
        "# 2진수: 0, 1\n",
        "# 8진수: 0 1 2 3 4 5 6 7\n",
        "# 16진수: 0 1 2 3 4 5 6 7 8 9 a b c d e f\n",
        "\n",
        "# 10진수 731 = 7 * 10^2 + 3 * 10^1 + 1 * 10^0\n",
        "# 2진수  110 = 1 * 2^2 + 1 * 2^1 + 0 * 2^0"
      ],
      "metadata": {
        "id": "3dzwBWQ0qBE6"
      },
      "execution_count": null,
      "outputs": []
    },
    {
      "cell_type": "code",
      "source": [
        "# 2진수\n",
        "x = 0b110\n",
        "print(x)\n",
        "print(type(x))"
      ],
      "metadata": {
        "colab": {
          "base_uri": "https://localhost:8080/"
        },
        "id": "Dsf9BhnYYzxC",
        "outputId": "d7ba95ac-541f-476f-8928-dbf07ea3f152"
      },
      "execution_count": null,
      "outputs": [
        {
          "output_type": "stream",
          "name": "stdout",
          "text": [
            "6\n",
            "<class 'int'>\n"
          ]
        }
      ]
    },
    {
      "cell_type": "code",
      "source": [
        "x = 0o110\n",
        "print(x)\n",
        "print(type(x))"
      ],
      "metadata": {
        "colab": {
          "base_uri": "https://localhost:8080/"
        },
        "id": "Cu-FAJyfanT8",
        "outputId": "32ad72a4-056f-4457-cb09-6ee960b58215"
      },
      "execution_count": null,
      "outputs": [
        {
          "output_type": "stream",
          "name": "stdout",
          "text": [
            "72\n",
            "<class 'int'>\n"
          ]
        }
      ]
    },
    {
      "cell_type": "code",
      "source": [
        "x = 0x110\n",
        "print(x)\n",
        "print(type(x))"
      ],
      "metadata": {
        "colab": {
          "base_uri": "https://localhost:8080/"
        },
        "id": "dmvRNZ8xa7Cn",
        "outputId": "211e15fb-9d2f-4292-acfb-05e71b7a71ab"
      },
      "execution_count": null,
      "outputs": [
        {
          "output_type": "stream",
          "name": "stdout",
          "text": [
            "272\n",
            "<class 'int'>\n"
          ]
        }
      ]
    },
    {
      "cell_type": "code",
      "source": [
        "bin(15)\n",
        "oct(15)\n",
        "hex(15)"
      ],
      "metadata": {
        "colab": {
          "base_uri": "https://localhost:8080/",
          "height": 35
        },
        "id": "UiFC-upHa9of",
        "outputId": "ae840d61-6b0e-42ef-c02a-5fc3c9d87419"
      },
      "execution_count": null,
      "outputs": [
        {
          "output_type": "execute_result",
          "data": {
            "text/plain": [
              "'0xf'"
            ],
            "application/vnd.google.colaboratory.intrinsic+json": {
              "type": "string"
            }
          },
          "metadata": {},
          "execution_count": 9
        }
      ]
    },
    {
      "cell_type": "code",
      "source": [
        "#매우 중요한 내용, 새로운 자료형을 만났을 때 2개를 꼭 해보세요.\n",
        "x = 10\n",
        "print(type(x)) #검색 키워드\n",
        "print(dir(x)) #대략적인 속성을 알 수 있습니다."
      ],
      "metadata": {
        "colab": {
          "base_uri": "https://localhost:8080/"
        },
        "id": "27m6EMJxcNee",
        "outputId": "9bec5fe7-af2c-422a-ea38-42bdc5ebf411"
      },
      "execution_count": null,
      "outputs": [
        {
          "output_type": "stream",
          "name": "stdout",
          "text": [
            "<class 'int'>\n",
            "['__abs__', '__add__', '__and__', '__bool__', '__ceil__', '__class__', '__delattr__', '__dir__', '__divmod__', '__doc__', '__eq__', '__float__', '__floor__', '__floordiv__', '__format__', '__ge__', '__getattribute__', '__getnewargs__', '__gt__', '__hash__', '__index__', '__init__', '__init_subclass__', '__int__', '__invert__', '__le__', '__lshift__', '__lt__', '__mod__', '__mul__', '__ne__', '__neg__', '__new__', '__or__', '__pos__', '__pow__', '__radd__', '__rand__', '__rdivmod__', '__reduce__', '__reduce_ex__', '__repr__', '__rfloordiv__', '__rlshift__', '__rmod__', '__rmul__', '__ror__', '__round__', '__rpow__', '__rrshift__', '__rshift__', '__rsub__', '__rtruediv__', '__rxor__', '__setattr__', '__sizeof__', '__str__', '__sub__', '__subclasshook__', '__truediv__', '__trunc__', '__xor__', 'as_integer_ratio', 'bit_count', 'bit_length', 'conjugate', 'denominator', 'from_bytes', 'imag', 'numerator', 'real', 'to_bytes']\n"
          ]
        }
      ]
    },
    {
      "cell_type": "code",
      "source": [
        "# 메직 메서드: 이 타입에 속성을 정의합니다.\n",
        "abs(-5)\n",
        "5 + 5   #'__abs__'\n",
        "5 and 5 #'__and__'\n",
        "bool(5) #'__bool__'\n",
        "5 == 5  #'__eq__'\n",
        "\n",
        "# 메서드: 이 타입에서 변수를 다룰 수 있는 여러 기능을 제공합니다.\n",
        "#'as_integer_ratio',\n",
        "#'bit_count',\n",
        "#'bit_length',\n",
        "#'conjugate',\n",
        "#'denominator',\n",
        "#'from_bytes',\n",
        "#'imag',\n",
        "#'numerator',\n",
        "#'real',\n",
        "#'to_bytes'"
      ],
      "metadata": {
        "colab": {
          "base_uri": "https://localhost:8080/",
          "height": 35
        },
        "id": "BfPP-kzhcO5B",
        "outputId": "d211987b-373d-44ed-fcb1-1c88c87982e5"
      },
      "execution_count": null,
      "outputs": [
        {
          "output_type": "execute_result",
          "data": {
            "text/plain": [
              "'0xf'"
            ],
            "application/vnd.google.colaboratory.intrinsic+json": {
              "type": "string"
            }
          },
          "metadata": {},
          "execution_count": 8
        }
      ]
    },
    {
      "cell_type": "code",
      "source": [
        "x = 5\n",
        "x.bit_count()# 이걸 사용할 일은 평생에 한 버도 없을 수도 있습니다.\n",
        "# (1001, 2진수로 표현하면 1이 2개다)"
      ],
      "metadata": {
        "colab": {
          "base_uri": "https://localhost:8080/"
        },
        "id": "QsXK5gBIcQDv",
        "outputId": "b170ab27-3051-4b07-d2d4-16c1910ade2c"
      },
      "execution_count": null,
      "outputs": [
        {
          "output_type": "execute_result",
          "data": {
            "text/plain": [
              "2"
            ]
          },
          "metadata": {},
          "execution_count": 11
        }
      ]
    },
    {
      "cell_type": "code",
      "source": [
        "# 정수의 메모리 미리 적재!\n",
        "# -5 ~ 256\n",
        "x = 256\n",
        "y = 256\n",
        "\n",
        "print(id(x), id(y))"
      ],
      "metadata": {
        "colab": {
          "base_uri": "https://localhost:8080/"
        },
        "id": "M0j37ffghqRm",
        "outputId": "a5af448c-005d-466e-b773-5bacef8df4f0"
      },
      "execution_count": null,
      "outputs": [
        {
          "output_type": "stream",
          "name": "stdout",
          "text": [
            "134956732276944 134956732276944\n"
          ]
        }
      ]
    },
    {
      "cell_type": "code",
      "source": [
        "# 정수의 메모리 미리 적재! 이게 일반적인 방법이다.\n",
        "# -5 ~ 256\n",
        "x = 257\n",
        "y = 257\n",
        "\n",
        "print(id(x), id(y))"
      ],
      "metadata": {
        "colab": {
          "base_uri": "https://localhost:8080/"
        },
        "id": "iRp2Ojb1h7ct",
        "outputId": "820af6a5-b863-4197-cd28-498eb1f473e3"
      },
      "execution_count": null,
      "outputs": [
        {
          "output_type": "stream",
          "name": "stdout",
          "text": [
            "134955462033520 134955462034128\n"
          ]
        }
      ]
    },
    {
      "cell_type": "code",
      "source": [
        "# 문제 1\n",
        "x = 100\n",
        "y = 100\n",
        "z = x\n",
        "\n",
        "# 다음 화살표를 그려보세요!\n",
        "# x ┐\n",
        "# y ┼> 100\n",
        "# z ┘\n",
        "\n",
        "# 문제 2\n",
        "x = 258\n",
        "y = 258\n",
        "z = x\n",
        "\n",
        "# 다음 화살표를 그려보세요!\n",
        "# y -> 258\n",
        "# x -> 258\n",
        "# z ┘\n",
        "\n",
        "print(id(x), id(y), id(z))"
      ],
      "metadata": {
        "colab": {
          "base_uri": "https://localhost:8080/"
        },
        "id": "CTkS87GviXU6",
        "outputId": "d9e5cff8-23ed-4663-bc90-da5b72b7343d"
      },
      "execution_count": null,
      "outputs": [
        {
          "output_type": "stream",
          "name": "stdout",
          "text": [
            "134955462034416 134955462033936 134955462034416\n"
          ]
        }
      ]
    },
    {
      "cell_type": "markdown",
      "source": [
        "# 실수 (float)"
      ],
      "metadata": {
        "id": "3g1TuE7HkLIm"
      }
    },
    {
      "cell_type": "code",
      "source": [
        "x = 10.0\n",
        "y = 10\n",
        "print(type(x), type(y))"
      ],
      "metadata": {
        "colab": {
          "base_uri": "https://localhost:8080/"
        },
        "id": "WiDYCN8TkKLQ",
        "outputId": "e19cafb5-2702-483b-cbe8-a18400593828"
      },
      "execution_count": null,
      "outputs": [
        {
          "output_type": "stream",
          "name": "stdout",
          "text": [
            "<class 'float'> <class 'int'>\n"
          ]
        }
      ]
    },
    {
      "cell_type": "code",
      "source": [
        "x = 10.0\n",
        "y = 2\n",
        "result = x * y\n",
        "print(result)\n",
        "print(type(result))"
      ],
      "metadata": {
        "colab": {
          "base_uri": "https://localhost:8080/"
        },
        "id": "mdltFXzTkRFX",
        "outputId": "05e041b6-812d-4b90-b58e-ce8ed9df362e"
      },
      "execution_count": null,
      "outputs": [
        {
          "output_type": "stream",
          "name": "stdout",
          "text": [
            "20.0\n",
            "<class 'float'>\n"
          ]
        }
      ]
    },
    {
      "cell_type": "code",
      "source": [
        "# float의 특수값\n",
        "# 이 특수값은 사용을 하니 기억을 해주세요.\n",
        "#어디서 주로 사용하나요? 정렬과 같은 파트에서 초깃값으로 사용을 많이 합니다.\n",
        "float(\"inf\") > 100000000000000000000000000000\n",
        "float(\"-inf\") < -99999999999999\n",
        "\n"
      ],
      "metadata": {
        "colab": {
          "base_uri": "https://localhost:8080/"
        },
        "id": "icyyy41ckVsN",
        "outputId": "7b1c4e28-de3a-4fbd-8da5-a07ebde755b8"
      },
      "execution_count": null,
      "outputs": [
        {
          "output_type": "execute_result",
          "data": {
            "text/plain": [
              "True"
            ]
          },
          "metadata": {},
          "execution_count": 18
        }
      ]
    },
    {
      "cell_type": "code",
      "source": [
        "float(\"inf\") > 10e308 # 계산상의 오류? 한계?"
      ],
      "metadata": {
        "colab": {
          "base_uri": "https://localhost:8080/"
        },
        "id": "sgqHLZqqmWSN",
        "outputId": "acc0845a-5c04-4036-f31e-6ae4029456ce"
      },
      "execution_count": null,
      "outputs": [
        {
          "output_type": "execute_result",
          "data": {
            "text/plain": [
              "False"
            ]
          },
          "metadata": {},
          "execution_count": 20
        }
      ]
    },
    {
      "cell_type": "code",
      "source": [
        "float(\"inf\") == 10e308"
      ],
      "metadata": {
        "colab": {
          "base_uri": "https://localhost:8080/"
        },
        "id": "cdsdXXhpmVmt",
        "outputId": "c668a934-a42b-4fee-ece2-6fe8426b0305"
      },
      "execution_count": null,
      "outputs": [
        {
          "output_type": "execute_result",
          "data": {
            "text/plain": [
              "True"
            ]
          },
          "metadata": {},
          "execution_count": 21
        }
      ]
    },
    {
      "cell_type": "code",
      "source": [
        "# 부동소숫점 문제\n",
        "0.1+0.2\n",
        "#왜 발상하는가? 결국 컴퓨터가 연산하는 것은 10진수가 아니라 2진수인데\n",
        "#2진수 변환에서 무한수가 발생이 되므로"
      ],
      "metadata": {
        "colab": {
          "base_uri": "https://localhost:8080/"
        },
        "id": "3SUCRtKmk_0b",
        "outputId": "f380e9f6-5699-45d5-acac-3a04bb5f2527"
      },
      "execution_count": null,
      "outputs": [
        {
          "output_type": "execute_result",
          "data": {
            "text/plain": [
              "0.30000000000000004"
            ]
          },
          "metadata": {},
          "execution_count": 19
        }
      ]
    },
    {
      "cell_type": "code",
      "source": [
        "import decimal\n",
        "\n",
        "#각각 모듈 import해서 사용하셔야 합니다.\n",
        "float(decimal.Decimal('.1') + decimal.Decimal('.2'))\n",
        "# float(fractions.Fraction('0.1') + fractions.Fraction('0.2'))"
      ],
      "metadata": {
        "colab": {
          "base_uri": "https://localhost:8080/"
        },
        "id": "rI5qP4svlOWN",
        "outputId": "84766192-d5bd-4f57-cfaa-150b7ace3375"
      },
      "execution_count": null,
      "outputs": [
        {
          "output_type": "execute_result",
          "data": {
            "text/plain": [
              "0.3"
            ]
          },
          "metadata": {},
          "execution_count": 22
        }
      ]
    },
    {
      "cell_type": "code",
      "source": [
        "x = 10.0\n",
        "print(type(x), dir(x))"
      ],
      "metadata": {
        "colab": {
          "base_uri": "https://localhost:8080/"
        },
        "id": "2Nf0wOcJnJuX",
        "outputId": "c6b2e5af-bbfa-4976-99aa-af4a32fc9f77"
      },
      "execution_count": null,
      "outputs": [
        {
          "output_type": "stream",
          "name": "stdout",
          "text": [
            "<class 'float'> ['__abs__', '__add__', '__bool__', '__ceil__', '__class__', '__delattr__', '__dir__', '__divmod__', '__doc__', '__eq__', '__float__', '__floor__', '__floordiv__', '__format__', '__ge__', '__getattribute__', '__getformat__', '__getnewargs__', '__gt__', '__hash__', '__init__', '__init_subclass__', '__int__', '__le__', '__lt__', '__mod__', '__mul__', '__ne__', '__neg__', '__new__', '__pos__', '__pow__', '__radd__', '__rdivmod__', '__reduce__', '__reduce_ex__', '__repr__', '__rfloordiv__', '__rmod__', '__rmul__', '__round__', '__rpow__', '__rsub__', '__rtruediv__', '__setattr__', '__setformat__', '__sizeof__', '__str__', '__sub__', '__subclasshook__', '__truediv__', '__trunc__', 'as_integer_ratio', 'conjugate', 'fromhex', 'hex', 'imag', 'is_integer', 'real']\n"
          ]
        }
      ]
    },
    {
      "cell_type": "code",
      "source": [
        "# 메서드\n",
        "# 'conjugate',\n",
        "# 'fromhex',\n",
        "# 'hex',\n",
        "# 'imag',\n",
        "# 'is_integer',\n",
        "# 'real'"
      ],
      "metadata": {
        "id": "B6z9rGmondR4"
      },
      "execution_count": null,
      "outputs": []
    },
    {
      "cell_type": "markdown",
      "source": [
        "#복소수 (complex)"
      ],
      "metadata": {
        "id": "AtqtrMOlntuV"
      }
    },
    {
      "cell_type": "code",
      "source": [
        "x = 3 + 4j\n",
        "x"
      ],
      "metadata": {
        "colab": {
          "base_uri": "https://localhost:8080/"
        },
        "id": "2p-8ah_4nvNt",
        "outputId": "01e92da2-d898-4966-ba56-7e9f18ff0058"
      },
      "execution_count": null,
      "outputs": [
        {
          "output_type": "execute_result",
          "data": {
            "text/plain": [
              "(3+4j)"
            ]
          },
          "metadata": {},
          "execution_count": 24
        }
      ]
    },
    {
      "cell_type": "code",
      "source": [
        "type(x), dir(x)"
      ],
      "metadata": {
        "id": "nsxoyGO9n0FE"
      },
      "execution_count": null,
      "outputs": []
    },
    {
      "cell_type": "code",
      "source": [
        "# 'conjugate',\n",
        "# 'imag',\n",
        "# 'real'"
      ],
      "metadata": {
        "id": "i4s1hhMjn2eh"
      },
      "execution_count": null,
      "outputs": []
    },
    {
      "cell_type": "code",
      "source": [
        "x = 3 + 4j\n",
        "print(x.real)\n",
        "print(x.imag)"
      ],
      "metadata": {
        "colab": {
          "base_uri": "https://localhost:8080/"
        },
        "id": "kLwTVSY0oBoV",
        "outputId": "dc15b6fd-7ade-4e63-f82a-9810ce84ff41"
      },
      "execution_count": null,
      "outputs": [
        {
          "output_type": "stream",
          "name": "stdout",
          "text": [
            "3.0\n",
            "4.0\n"
          ]
        }
      ]
    },
    {
      "cell_type": "markdown",
      "source": [
        "# 문자열 자료형(srt)"
      ],
      "metadata": {
        "id": "R9QpfMYYo8C0"
      }
    },
    {
      "cell_type": "code",
      "source": [
        "x = 'hello world'\n",
        "y = \"hello world\"\n",
        "z = '''hello world'''# 여러줄 가능합니다.\n",
        "k = \"\"\"hello world\"\"\"# 여러줄 가능합니다.\n",
        "#회사마다 컨벤션이 다릅니다."
      ],
      "metadata": {
        "id": "6Kg0HuRFoHAm"
      },
      "execution_count": null,
      "outputs": []
    },
    {
      "cell_type": "code",
      "source": [
        "a = '''\n",
        "hello \\n world\n",
        "'''\n",
        "a # 그냥 a를 출력했을때"
      ],
      "metadata": {
        "colab": {
          "base_uri": "https://localhost:8080/",
          "height": 35
        },
        "id": "1rEZQ1wLpMnJ",
        "outputId": "40ea70e4-2029-4969-e91c-e64f3992c7a9"
      },
      "execution_count": null,
      "outputs": [
        {
          "output_type": "execute_result",
          "data": {
            "text/plain": [
              "'\\nhello \\n world\\n'"
            ],
            "application/vnd.google.colaboratory.intrinsic+json": {
              "type": "string"
            }
          },
          "metadata": {},
          "execution_count": 31
        }
      ]
    },
    {
      "cell_type": "code",
      "source": [
        "print(a) # print로 a를 출력했을 때"
      ],
      "metadata": {
        "colab": {
          "base_uri": "https://localhost:8080/"
        },
        "id": "MLQsmQofqXJU",
        "outputId": "8e93c373-ea4f-46ba-b266-4c2f499ba020"
      },
      "execution_count": null,
      "outputs": [
        {
          "output_type": "stream",
          "name": "stdout",
          "text": [
            "\n",
            "hello \n",
            " world\n",
            "\n"
          ]
        }
      ]
    },
    {
      "cell_type": "code",
      "source": [
        "#참고삼아 알아두세요. 평생에 한 두번 볼 수 있습니다.\n",
        "#참고로 r표기는 Django 2.x에서 url이 정규표현식을 쓰기 때문에\n",
        "#자주 볼 수도 있습니다 3.x에서는 사라졌습니다.\n",
        "a = r'hello \\n world'\n",
        "print(a)"
      ],
      "metadata": {
        "colab": {
          "base_uri": "https://localhost:8080/"
        },
        "id": "U21yeSD2pyiA",
        "outputId": "f647083b-e6ae-4e50-a403-80c40dfb31b5"
      },
      "execution_count": null,
      "outputs": [
        {
          "output_type": "stream",
          "name": "stdout",
          "text": [
            "hello \\n world\n"
          ]
        }
      ]
    },
    {
      "cell_type": "code",
      "source": [
        "i = '''안녕하세요.\n",
        "저는 위니브의 대표 이호준입니다.\n",
        "파이썬 참 좋아요.\n",
        "여러분 정말 잘 선택하셨어요.\n",
        "'''\n",
        "i #이스케이프 문자가 처리안되어 출력"
      ],
      "metadata": {
        "colab": {
          "base_uri": "https://localhost:8080/",
          "height": 35
        },
        "id": "F-vifuxvqKk0",
        "outputId": "0ba0bd3a-ca1e-4a91-8320-2a45028ffc65"
      },
      "execution_count": null,
      "outputs": [
        {
          "output_type": "execute_result",
          "data": {
            "text/plain": [
              "'안녕하세요.\\n저는 위니브의 대표 이호준입니다.\\n파이썬 참 좋아요.\\n여러분 정말 잘 선택하셨어요.\\n'"
            ],
            "application/vnd.google.colaboratory.intrinsic+json": {
              "type": "string"
            }
          },
          "metadata": {},
          "execution_count": 34
        }
      ]
    },
    {
      "cell_type": "code",
      "source": [
        "print(i) #이스케이프 문자가 처리되어 출력"
      ],
      "metadata": {
        "colab": {
          "base_uri": "https://localhost:8080/"
        },
        "id": "rDSZLUVwqgHw",
        "outputId": "4e873826-5d00-42ee-aa0d-91cf5213bb66"
      },
      "execution_count": null,
      "outputs": [
        {
          "output_type": "stream",
          "name": "stdout",
          "text": [
            "안녕하세요.\n",
            "저는 위니브의 대표 이호준입니다.\n",
            "파이썬 참 좋아요.\n",
            "여러분 정말 잘 선택하셨어요.\n",
            "\n"
          ]
        }
      ]
    },
    {
      "cell_type": "code",
      "source": [
        "x = 'hello'\n",
        "y = 'world'\n",
        "print(x + y)"
      ],
      "metadata": {
        "colab": {
          "base_uri": "https://localhost:8080/"
        },
        "id": "5kXM-s4wqk79",
        "outputId": "ab52b6f6-6492-4ebb-8db7-ae46d6824a34"
      },
      "execution_count": null,
      "outputs": [
        {
          "output_type": "stream",
          "name": "stdout",
          "text": [
            "helloworld\n"
          ]
        }
      ]
    },
    {
      "cell_type": "code",
      "source": [
        "x = 'hello'\n",
        "print(x * 3)"
      ],
      "metadata": {
        "colab": {
          "base_uri": "https://localhost:8080/"
        },
        "id": "OEk_9PCzq5WX",
        "outputId": "f8e80a0e-7201-41a9-fb6a-d5f0548e3b38"
      },
      "execution_count": null,
      "outputs": [
        {
          "output_type": "stream",
          "name": "stdout",
          "text": [
            "hellohellohello\n"
          ]
        }
      ]
    },
    {
      "cell_type": "code",
      "source": [
        "#이런 연산들은 문자열에서는 문제가 없지만\n",
        "#다른 자료형들은 아래와 같은 문제가 생깁니다.\n",
        "\n",
        "x = [[100]*3, [10]*2]\n",
        "x"
      ],
      "metadata": {
        "colab": {
          "base_uri": "https://localhost:8080/"
        },
        "id": "qJGhVkBRq7aq",
        "outputId": "4b0a4708-8398-48a0-8a93-291a2d32a398"
      },
      "execution_count": null,
      "outputs": [
        {
          "output_type": "execute_result",
          "data": {
            "text/plain": [
              "[[100, 100, 100], [10, 10]]"
            ]
          },
          "metadata": {},
          "execution_count": 40
        }
      ]
    },
    {
      "cell_type": "code",
      "source": [
        "x[0][0] = 1\n",
        "x"
      ],
      "metadata": {
        "colab": {
          "base_uri": "https://localhost:8080/"
        },
        "id": "uOxEtpSZrRMm",
        "outputId": "47008fd4-eba5-4ab4-ae12-f1a051e42718"
      },
      "execution_count": null,
      "outputs": [
        {
          "output_type": "execute_result",
          "data": {
            "text/plain": [
              "[[1, 100, 100], [10, 10]]"
            ]
          },
          "metadata": {},
          "execution_count": 41
        }
      ]
    },
    {
      "cell_type": "code",
      "source": [
        "x = [[[]*2]*3]*2\n",
        "x[0][0] = 10\n",
        "x"
      ],
      "metadata": {
        "colab": {
          "base_uri": "https://localhost:8080/"
        },
        "id": "Zism0wr1rUeb",
        "outputId": "b353e9ac-25c7-48aa-f5a6-3c9ce967dc18"
      },
      "execution_count": null,
      "outputs": [
        {
          "output_type": "execute_result",
          "data": {
            "text/plain": [
              "[[10, [], []], [10, [], []]]"
            ]
          },
          "metadata": {},
          "execution_count": 43
        }
      ]
    },
    {
      "cell_type": "markdown",
      "source": [
        "## 문자열 인덱싱"
      ],
      "metadata": {
        "id": "bQEtwIHTr87b"
      }
    },
    {
      "cell_type": "code",
      "source": [
        "s = 'hello world'\n",
        "s[0]"
      ],
      "metadata": {
        "colab": {
          "base_uri": "https://localhost:8080/",
          "height": 35
        },
        "id": "qGk1OTgnrjIK",
        "outputId": "d562aa35-574d-49e4-aa97-e3b03d43f94a"
      },
      "execution_count": null,
      "outputs": [
        {
          "output_type": "execute_result",
          "data": {
            "text/plain": [
              "'h'"
            ],
            "application/vnd.google.colaboratory.intrinsic+json": {
              "type": "string"
            }
          },
          "metadata": {},
          "execution_count": 44
        }
      ]
    },
    {
      "cell_type": "code",
      "source": [
        "s[-1]"
      ],
      "metadata": {
        "colab": {
          "base_uri": "https://localhost:8080/",
          "height": 35
        },
        "id": "SsMpLH5YsG4n",
        "outputId": "10ea770c-45bc-4091-d3b7-7ad44d24101b"
      },
      "execution_count": null,
      "outputs": [
        {
          "output_type": "execute_result",
          "data": {
            "text/plain": [
              "'d'"
            ],
            "application/vnd.google.colaboratory.intrinsic+json": {
              "type": "string"
            }
          },
          "metadata": {},
          "execution_count": 45
        }
      ]
    },
    {
      "cell_type": "code",
      "source": [
        "s[-11]"
      ],
      "metadata": {
        "colab": {
          "base_uri": "https://localhost:8080/",
          "height": 35
        },
        "id": "sTL8F_bhsI94",
        "outputId": "d357df62-d1ae-4486-f52f-dec001d0ec6d"
      },
      "execution_count": null,
      "outputs": [
        {
          "output_type": "execute_result",
          "data": {
            "text/plain": [
              "'h'"
            ],
            "application/vnd.google.colaboratory.intrinsic+json": {
              "type": "string"
            }
          },
          "metadata": {},
          "execution_count": 46
        }
      ]
    },
    {
      "cell_type": "code",
      "source": [
        "# 이거 중요합니다. 햇갈려요.\n",
        "# 양수와 음수로는 한 번만 갈 수 있습니다.\n",
        "s[-12] # error\n",
        "s[100] # error"
      ],
      "metadata": {
        "id": "RPF41JGqsR7s"
      },
      "execution_count": null,
      "outputs": []
    },
    {
      "cell_type": "code",
      "source": [
        "s = 'weniv CEO leehojun'\n",
        "#s[start:stop:step]\n",
        "#':step'은 통으로 생략이 가능합니다.\n",
        "# start와 stop은 숫자만 생략이 가능합니다.\n",
        "# 중요: slicing은 error를 발생시키지 않습니다."
      ],
      "metadata": {
        "id": "X59VHLM0sabI"
      },
      "execution_count": null,
      "outputs": []
    },
    {
      "cell_type": "code",
      "source": [
        "s[0:5]\n",
        "#s[5:0]\n",
        "#2칸씩 건너 띄는 코드는 거의 작성하지 않고(알고리즘 문제에서는 많이 사용합니다.)\n",
        "#step 값으로는 -1을 많이 사용합니다."
      ],
      "metadata": {
        "colab": {
          "base_uri": "https://localhost:8080/",
          "height": 35
        },
        "id": "6wQ6-0wr-WQP",
        "outputId": "494bb07a-a7d7-47e3-8022-e483c8b82d7e"
      },
      "execution_count": null,
      "outputs": [
        {
          "output_type": "execute_result",
          "data": {
            "text/plain": [
              "'wnv'"
            ],
            "application/vnd.google.colaboratory.intrinsic+json": {
              "type": "string"
            }
          },
          "metadata": {},
          "execution_count": 53
        }
      ]
    },
    {
      "cell_type": "code",
      "source": [
        "s[:5]"
      ],
      "metadata": {
        "colab": {
          "base_uri": "https://localhost:8080/",
          "height": 35
        },
        "id": "SsRKIKK1BFOu",
        "outputId": "e935a5e3-1d48-4a60-9168-90487d45bb3b"
      },
      "execution_count": null,
      "outputs": [
        {
          "output_type": "execute_result",
          "data": {
            "text/plain": [
              "'weniv'"
            ],
            "application/vnd.google.colaboratory.intrinsic+json": {
              "type": "string"
            }
          },
          "metadata": {},
          "execution_count": 56
        }
      ]
    },
    {
      "cell_type": "code",
      "source": [
        "s[6:]"
      ],
      "metadata": {
        "colab": {
          "base_uri": "https://localhost:8080/",
          "height": 35
        },
        "id": "SZNhKiYEBF_Z",
        "outputId": "498f1c2b-8c66-45cf-ed86-2247eb84a769"
      },
      "execution_count": null,
      "outputs": [
        {
          "output_type": "execute_result",
          "data": {
            "text/plain": [
              "'CEO leehojun'"
            ],
            "application/vnd.google.colaboratory.intrinsic+json": {
              "type": "string"
            }
          },
          "metadata": {},
          "execution_count": 57
        }
      ]
    },
    {
      "cell_type": "code",
      "source": [
        "s[0:5:2]"
      ],
      "metadata": {
        "colab": {
          "base_uri": "https://localhost:8080/",
          "height": 35
        },
        "id": "x1j47TGWBHn7",
        "outputId": "08ecb843-932b-4697-8caa-31c5b642b734"
      },
      "execution_count": null,
      "outputs": [
        {
          "output_type": "execute_result",
          "data": {
            "text/plain": [
              "'wnv'"
            ],
            "application/vnd.google.colaboratory.intrinsic+json": {
              "type": "string"
            }
          },
          "metadata": {},
          "execution_count": 58
        }
      ]
    },
    {
      "cell_type": "code",
      "source": [
        "s[::-1]"
      ],
      "metadata": {
        "colab": {
          "base_uri": "https://localhost:8080/",
          "height": 35
        },
        "id": "rniT-fAZ_LqR",
        "outputId": "5263d290-8ba8-47a0-fd69-6fae6bd4703f"
      },
      "execution_count": null,
      "outputs": [
        {
          "output_type": "execute_result",
          "data": {
            "text/plain": [
              "'nujoheel OEC vinew'"
            ],
            "application/vnd.google.colaboratory.intrinsic+json": {
              "type": "string"
            }
          },
          "metadata": {},
          "execution_count": 54
        }
      ]
    },
    {
      "cell_type": "code",
      "source": [
        "s[5:0:-1] #???, 왜 의도한 바대로 안나왔을까요? 5부터 1까지이기 때문에 그렇습니다!\n",
        "#'weniv CEO leehojun' 여기서 5부터 시작해보세요!"
      ],
      "metadata": {
        "colab": {
          "base_uri": "https://localhost:8080/",
          "height": 35
        },
        "id": "d22J-cEz-bBj",
        "outputId": "8f4de4cb-9003-4753-d67d-dd864b4953b0"
      },
      "execution_count": null,
      "outputs": [
        {
          "output_type": "execute_result",
          "data": {
            "text/plain": [
              "' vine'"
            ],
            "application/vnd.google.colaboratory.intrinsic+json": {
              "type": "string"
            }
          },
          "metadata": {},
          "execution_count": 55
        }
      ]
    },
    {
      "cell_type": "code",
      "source": [
        "s = 'leehojun.png'\n",
        "# 자주쓰지만 햇갈리는 것\n",
        "# 문제1 : .png를 잘라내서 없애 주세요.\n",
        "s[:-4] # step값이 음에 값이 아닙니다! 양에 값이니 뒤로 가지 않습니다.\n",
        "# -4를 양에 인뎃스로 변환 후 슬라이싱합니다."
      ],
      "metadata": {
        "colab": {
          "base_uri": "https://localhost:8080/",
          "height": 35
        },
        "id": "Y1ZVY0Sm_ZzO",
        "outputId": "e7f133f3-3d13-4352-9b0a-3d14250a6e39"
      },
      "execution_count": null,
      "outputs": [
        {
          "output_type": "execute_result",
          "data": {
            "text/plain": [
              "'leehojun'"
            ],
            "application/vnd.google.colaboratory.intrinsic+json": {
              "type": "string"
            }
          },
          "metadata": {},
          "execution_count": 146
        }
      ]
    },
    {
      "cell_type": "code",
      "source": [
        "# 문제2 : png만 잘라내 주세요\n",
        "s[-1:-4]#오답\n",
        "# s['g'의 위치:'.의 위치'] => s[11:8]"
      ],
      "metadata": {
        "colab": {
          "base_uri": "https://localhost:8080/",
          "height": 35
        },
        "id": "CGv_E3QeBfpd",
        "outputId": "f89f86f7-7089-41a9-93da-b155c6847a81"
      },
      "execution_count": null,
      "outputs": [
        {
          "output_type": "execute_result",
          "data": {
            "text/plain": [
              "''"
            ],
            "application/vnd.google.colaboratory.intrinsic+json": {
              "type": "string"
            }
          },
          "metadata": {},
          "execution_count": 70
        }
      ]
    },
    {
      "cell_type": "code",
      "source": [],
      "metadata": {
        "id": "e6TtSTNnEahL"
      },
      "execution_count": null,
      "outputs": []
    },
    {
      "cell_type": "code",
      "source": [
        "# 슬라이싱에서 알아두어야 할 점\n",
        "# 슬라이싱이 C구현체로 되어 있어 메서드보다 통상 8배 정도 빠릅니다.\n",
        "# 슬라이싱으로 copy한 객체는 얕은 복사가 됩니다.\n",
        "# 애러를 뿜지 않는다."
      ],
      "metadata": {
        "id": "vCiDexePEYW1"
      },
      "execution_count": null,
      "outputs": []
    },
    {
      "cell_type": "code",
      "source": [
        "s[-3:-0]"
      ],
      "metadata": {
        "colab": {
          "base_uri": "https://localhost:8080/",
          "height": 35
        },
        "id": "sbAcS8Z-EXYm",
        "outputId": "46307d1b-862b-41d3-b3e6-24751fc55573"
      },
      "execution_count": null,
      "outputs": [
        {
          "output_type": "execute_result",
          "data": {
            "text/plain": [
              "''"
            ],
            "application/vnd.google.colaboratory.intrinsic+json": {
              "type": "string"
            }
          },
          "metadata": {},
          "execution_count": 147
        }
      ]
    },
    {
      "cell_type": "code",
      "source": [
        "s[-3:0]"
      ],
      "metadata": {
        "colab": {
          "base_uri": "https://localhost:8080/",
          "height": 35
        },
        "id": "iATHaSLxEWO6",
        "outputId": "e5c242d4-06c4-4fd7-96d4-de57c3776910"
      },
      "execution_count": null,
      "outputs": [
        {
          "output_type": "execute_result",
          "data": {
            "text/plain": [
              "''"
            ],
            "application/vnd.google.colaboratory.intrinsic+json": {
              "type": "string"
            }
          },
          "metadata": {},
          "execution_count": 148
        }
      ]
    },
    {
      "cell_type": "code",
      "source": [
        "s[8:12]"
      ],
      "metadata": {
        "colab": {
          "base_uri": "https://localhost:8080/",
          "height": 35
        },
        "id": "oP07lSiOEU3S",
        "outputId": "905a7f83-56f2-451e-cb6b-7be48027aae1"
      },
      "execution_count": null,
      "outputs": [
        {
          "output_type": "execute_result",
          "data": {
            "text/plain": [
              "'.png'"
            ],
            "application/vnd.google.colaboratory.intrinsic+json": {
              "type": "string"
            }
          },
          "metadata": {},
          "execution_count": 149
        }
      ]
    },
    {
      "cell_type": "code",
      "source": [
        "s[-3:] # 정답 (-3을 양에 인덱스로 변환하면 9부터 마지막까지 결국 [9:]와 같습니다.)"
      ],
      "metadata": {
        "colab": {
          "base_uri": "https://localhost:8080/",
          "height": 35
        },
        "id": "Qa-LamExBjkl",
        "outputId": "6b91000d-f984-47ae-85d8-4a3b37a13a29"
      },
      "execution_count": null,
      "outputs": [
        {
          "output_type": "execute_result",
          "data": {
            "text/plain": [
              "'png'"
            ],
            "application/vnd.google.colaboratory.intrinsic+json": {
              "type": "string"
            }
          },
          "metadata": {},
          "execution_count": 61
        }
      ]
    },
    {
      "cell_type": "code",
      "source": [
        "\n",
        "# 슬라이싱에서 알아두어야 할 점\n",
        "# 슬라이싱이 c구현체로 되어 있어 매서드보다 통상 8배 정도 빠릅니다.\n",
        "# 슬라이싱은 copy한 객체는 얕은 복사가 됩니다.\n",
        "#"
      ],
      "metadata": {
        "id": "-95ptPAPBmAl"
      },
      "execution_count": null,
      "outputs": []
    },
    {
      "cell_type": "code",
      "source": [
        "# 아래처럼 되면 x와 y는 같은 곳을 가리키게 됩니다.\n",
        "x = [10, 20, 30]\n",
        "y = x\n",
        "print(id(x), id(y))\n",
        "\n",
        "# 아래처럼 되면 x와 y는 다른 곳을 가리키게 됩니다.\n",
        "# 아래와 같이 화살표를 전혀 다른 곳을 가리키게 할 때 사용\n",
        "x = [10, 20, 30]\n",
        "y = x[:]\n",
        "print(id(x), id(y))"
      ],
      "metadata": {
        "colab": {
          "base_uri": "https://localhost:8080/"
        },
        "id": "ZpSDxdaTC9s2",
        "outputId": "53858134-d42c-41a4-dc50-84da6288d3b7"
      },
      "execution_count": null,
      "outputs": [
        {
          "output_type": "stream",
          "name": "stdout",
          "text": [
            "134955460852544 134955460852544\n",
            "134955461609472 134955461290496\n"
          ]
        }
      ]
    },
    {
      "cell_type": "markdown",
      "source": [
        "## 문자열에 메서드"
      ],
      "metadata": {
        "id": "TEjOQNq-EfRn"
      }
    },
    {
      "cell_type": "code",
      "source": [
        "s = 'weniv CEO licat'\n",
        "print(type(s), dir(s))"
      ],
      "metadata": {
        "colab": {
          "base_uri": "https://localhost:8080/"
        },
        "id": "IK1Qd7_qE2hV",
        "outputId": "0fb59cd6-a711-4137-d7f4-a436e9ed7e8d"
      },
      "execution_count": null,
      "outputs": [
        {
          "output_type": "stream",
          "name": "stdout",
          "text": [
            "<class 'str'> ['__add__', '__class__', '__contains__', '__delattr__', '__dir__', '__doc__', '__eq__', '__format__', '__ge__', '__getattribute__', '__getitem__', '__getnewargs__', '__gt__', '__hash__', '__init__', '__init_subclass__', '__iter__', '__le__', '__len__', '__lt__', '__mod__', '__mul__', '__ne__', '__new__', '__reduce__', '__reduce_ex__', '__repr__', '__rmod__', '__rmul__', '__setattr__', '__sizeof__', '__str__', '__subclasshook__', 'capitalize', 'casefold', 'center', 'count', 'encode', 'endswith', 'expandtabs', 'find', 'format', 'format_map', 'index', 'isalnum', 'isalpha', 'isascii', 'isdecimal', 'isdigit', 'isidentifier', 'islower', 'isnumeric', 'isprintable', 'isspace', 'istitle', 'isupper', 'join', 'ljust', 'lower', 'lstrip', 'maketrans', 'partition', 'removeprefix', 'removesuffix', 'replace', 'rfind', 'rindex', 'rjust', 'rpartition', 'rsplit', 'rstrip', 'split', 'splitlines', 'startswith', 'strip', 'swapcase', 'title', 'translate', 'upper', 'zfill']\n"
          ]
        }
      ]
    },
    {
      "cell_type": "code",
      "source": [
        "s = 'weniv CEO licat'\n",
        "s.lower() #전체를 소문자로 바꿔주는 method"
      ],
      "metadata": {
        "colab": {
          "base_uri": "https://localhost:8080/",
          "height": 35
        },
        "id": "qO-kydF2DUnS",
        "outputId": "545a4a7f-b0d3-4851-f54c-742124da4405"
      },
      "execution_count": null,
      "outputs": [
        {
          "output_type": "execute_result",
          "data": {
            "text/plain": [
              "'weniv ceo licat'"
            ],
            "application/vnd.google.colaboratory.intrinsic+json": {
              "type": "string"
            }
          },
          "metadata": {},
          "execution_count": 75
        }
      ]
    },
    {
      "cell_type": "code",
      "source": [
        "s.upper() #전체를 대문자로 바꿔주는 method"
      ],
      "metadata": {
        "colab": {
          "base_uri": "https://localhost:8080/",
          "height": 35
        },
        "id": "tg_la2sbFgrN",
        "outputId": "5e7d3e8e-ea7d-4590-f707-3e645907d121"
      },
      "execution_count": null,
      "outputs": [
        {
          "output_type": "execute_result",
          "data": {
            "text/plain": [
              "'WENIV CEO LICAT'"
            ],
            "application/vnd.google.colaboratory.intrinsic+json": {
              "type": "string"
            }
          },
          "metadata": {},
          "execution_count": 76
        }
      ]
    },
    {
      "cell_type": "code",
      "source": [
        "s = 'weniv CEO licat'\n",
        "# 의도에 맞게 둘 다 사용합니다.\n",
        "\n",
        "s.index('CEO')"
      ],
      "metadata": {
        "colab": {
          "base_uri": "https://localhost:8080/"
        },
        "id": "CWaZtMRFFKwU",
        "outputId": "64227978-62f2-4fc4-906d-eb23fd5e60a1"
      },
      "execution_count": null,
      "outputs": [
        {
          "output_type": "execute_result",
          "data": {
            "text/plain": [
              "6"
            ]
          },
          "metadata": {},
          "execution_count": 80
        }
      ]
    },
    {
      "cell_type": "code",
      "source": [
        "s.find('CEO') #문자열을 찾아주는 method"
      ],
      "metadata": {
        "colab": {
          "base_uri": "https://localhost:8080/"
        },
        "id": "3wrAjI6aFe48",
        "outputId": "bb452bd1-f536-4af7-c562-c1202eb907cf"
      },
      "execution_count": null,
      "outputs": [
        {
          "output_type": "execute_result",
          "data": {
            "text/plain": [
              "6"
            ]
          },
          "metadata": {},
          "execution_count": 77
        }
      ]
    },
    {
      "cell_type": "code",
      "source": [
        "bool(s.find('CEO')) # 또 -1이 python에서는 index도 있기 때문에 주의해야 합니다."
      ],
      "metadata": {
        "colab": {
          "base_uri": "https://localhost:8080/"
        },
        "id": "IXLjc3FcFkAp",
        "outputId": "fe7ab1b9-d35d-452e-800d-90e597617039"
      },
      "execution_count": null,
      "outputs": [
        {
          "output_type": "execute_result",
          "data": {
            "text/plain": [
              "True"
            ]
          },
          "metadata": {},
          "execution_count": 79
        }
      ]
    },
    {
      "cell_type": "code",
      "source": [
        "# 애러가 나지 않는 코드가 좋은 코드다? X\n",
        "# 애러가 적절한 곳에서 나고, 예외처리가 견고히 되어있는 코드가 좋은 코드입니다."
      ],
      "metadata": {
        "id": "asB-wcTkF4Dm"
      },
      "execution_count": null,
      "outputs": []
    },
    {
      "cell_type": "code",
      "source": [
        "s = 'weniv CEO licat'\n",
        "s.count('i') #문자열이나 숫자를 셀 때 사용"
      ],
      "metadata": {
        "colab": {
          "base_uri": "https://localhost:8080/"
        },
        "id": "P37ThmEwGDX-",
        "outputId": "6a530b98-6aab-4d6a-8f10-0bf6c66176f9"
      },
      "execution_count": null,
      "outputs": [
        {
          "output_type": "execute_result",
          "data": {
            "text/plain": [
              "2"
            ]
          },
          "metadata": {},
          "execution_count": 81
        }
      ]
    },
    {
      "cell_type": "code",
      "source": [
        "# 번외 문제 1~?? 까지의 숫자에서 1을 세어라\n",
        "'[1, 2, 3, 4, 5, 6, 7, 8, 9, 10, 11, 12, 13]'.count('1')"
      ],
      "metadata": {
        "colab": {
          "base_uri": "https://localhost:8080/"
        },
        "id": "J9_L6ynhG0sA",
        "outputId": "4cce985a-7c97-449d-e745-02246d3c0aee"
      },
      "execution_count": null,
      "outputs": [
        {
          "output_type": "execute_result",
          "data": {
            "text/plain": [
              "6"
            ]
          },
          "metadata": {},
          "execution_count": 84
        }
      ]
    },
    {
      "cell_type": "code",
      "source": [
        "s = 'weniv CEO licat'\n",
        "s.count('i') #문자열이나 숫자를 셀 때 사용"
      ],
      "metadata": {
        "colab": {
          "base_uri": "https://localhost:8080/"
        },
        "id": "S6AxQsAVHamz",
        "outputId": "8f2f818a-64f5-4e0f-ab44-bf11b7e1e678"
      },
      "execution_count": null,
      "outputs": [
        {
          "output_type": "execute_result",
          "data": {
            "text/plain": [
              "2"
            ]
          },
          "metadata": {},
          "execution_count": 85
        }
      ]
    },
    {
      "cell_type": "code",
      "source": [
        "s = '    weniv CEO licat     '\n",
        "s.strip() #양쪽 공백을 제거하는 method"
      ],
      "metadata": {
        "colab": {
          "base_uri": "https://localhost:8080/",
          "height": 35
        },
        "id": "Pp9G7E-V1ZNV",
        "outputId": "6913cfb0-50d4-46b5-803a-cd431a0ab211"
      },
      "execution_count": null,
      "outputs": [
        {
          "output_type": "execute_result",
          "data": {
            "text/plain": [
              "'weniv CEO licat'"
            ],
            "application/vnd.google.colaboratory.intrinsic+json": {
              "type": "string"
            }
          },
          "metadata": {},
          "execution_count": 162
        }
      ]
    },
    {
      "cell_type": "code",
      "source": [
        "'    ,!!  hello world   '.strip(' ,!')\n",
        "#양쪽의 공백과 ',!'을 제거해주는 method"
      ],
      "metadata": {
        "colab": {
          "base_uri": "https://localhost:8080/",
          "height": 35
        },
        "id": "SrSIgEuOHuYB",
        "outputId": "90f9bb11-d765-4866-d0b8-fb804b44c868"
      },
      "execution_count": null,
      "outputs": [
        {
          "output_type": "execute_result",
          "data": {
            "text/plain": [
              "'hello world'"
            ],
            "application/vnd.google.colaboratory.intrinsic+json": {
              "type": "string"
            }
          },
          "metadata": {},
          "execution_count": 167
        }
      ]
    },
    {
      "cell_type": "code",
      "source": [
        "s = 'weniv CEO licat'\n",
        "s.replace('CEO', 'CTO') #원하는 문자열을 다른 문자열로 대체할 때 사용하는 method"
      ],
      "metadata": {
        "colab": {
          "base_uri": "https://localhost:8080/",
          "height": 35
        },
        "id": "iyXvN0FavFFI",
        "outputId": "3baee04c-76a6-4ab2-dcad-2d6cf61912c3"
      },
      "execution_count": null,
      "outputs": [
        {
          "output_type": "execute_result",
          "data": {
            "text/plain": [
              "'weniv CTO licat'"
            ],
            "application/vnd.google.colaboratory.intrinsic+json": {
              "type": "string"
            }
          },
          "metadata": {},
          "execution_count": 159
        }
      ]
    },
    {
      "cell_type": "code",
      "source": [
        "s = 'weniv CEO licat CEO'\n",
        "s.replace('CEO', 'CTO')\n",
        "# JavaScript와 다른점\n",
        "# 1. 정규표현식이 안됩니다.\n",
        "# 2. replaceAll과 같습니다."
      ],
      "metadata": {
        "colab": {
          "base_uri": "https://localhost:8080/",
          "height": 35
        },
        "id": "t-yl16IrHv5D",
        "outputId": "8fa56763-33ff-45f0-f030-2f4109716ae5"
      },
      "execution_count": null,
      "outputs": [
        {
          "output_type": "execute_result",
          "data": {
            "text/plain": [
              "'weniv CTO licat CTO'"
            ],
            "application/vnd.google.colaboratory.intrinsic+json": {
              "type": "string"
            }
          },
          "metadata": {},
          "execution_count": 89
        }
      ]
    },
    {
      "cell_type": "code",
      "source": [
        "'hello world'.split(' ')"
      ],
      "metadata": {
        "colab": {
          "base_uri": "https://localhost:8080/"
        },
        "id": "8C59M1__H_G9",
        "outputId": "35f82ae4-78b9-4182-a74e-7f1a77b608d3"
      },
      "execution_count": null,
      "outputs": [
        {
          "output_type": "execute_result",
          "data": {
            "text/plain": [
              "['hello', 'world']"
            ]
          },
          "metadata": {},
          "execution_count": 90
        }
      ]
    },
    {
      "cell_type": "code",
      "source": [
        "'010-1000-2000'.split('-') # 01010002000"
      ],
      "metadata": {
        "colab": {
          "base_uri": "https://localhost:8080/"
        },
        "id": "990IbWfEMTMs",
        "outputId": "a28eddba-e796-403a-8cdd-53e9d0c6c9d6"
      },
      "execution_count": null,
      "outputs": [
        {
          "output_type": "execute_result",
          "data": {
            "text/plain": [
              "['010', '1000', '2000']"
            ]
          },
          "metadata": {},
          "execution_count": 93
        }
      ]
    },
    {
      "cell_type": "code",
      "source": [
        "'010-1000-2000'.split('1')"
      ],
      "metadata": {
        "colab": {
          "base_uri": "https://localhost:8080/"
        },
        "id": "bJJYrC0LN1Vf",
        "outputId": "c59de797-35f9-47be-ee84-e4ae25371f68"
      },
      "execution_count": null,
      "outputs": [
        {
          "output_type": "execute_result",
          "data": {
            "text/plain": [
              "['0', '0-', '000-2000']"
            ]
          },
          "metadata": {},
          "execution_count": 166
        }
      ]
    },
    {
      "cell_type": "code",
      "source": [
        "# 문제: '010-1000-2000'을 입력받아 01010002000 을 출력해주세요.\n",
        "'010-1000-2000'.split('-') # 01010002000\n",
        "'-'.join('010-1000-2000'.split('-'))"
      ],
      "metadata": {
        "colab": {
          "base_uri": "https://localhost:8080/",
          "height": 35
        },
        "id": "Mf4RsZLYMmOo",
        "outputId": "28ad8983-cf14-419a-88e6-10ed1cccf73b"
      },
      "execution_count": null,
      "outputs": [
        {
          "output_type": "execute_result",
          "data": {
            "text/plain": [
              "'010-1000-2000'"
            ],
            "application/vnd.google.colaboratory.intrinsic+json": {
              "type": "string"
            }
          },
          "metadata": {},
          "execution_count": 92
        }
      ]
    },
    {
      "cell_type": "code",
      "source": [
        "name = 'leehojun'\n",
        "age = 10\n",
        "\n",
        "print('제 이름은', name, '제 나이는', age)\n",
        "print('제 이름은 %s 제 나이는 %d' % (name, age)) # 이제는 잘 사용하지 않는 문법입니다.\n",
        "print('제 이름은 {} 제 나이는 {}')\n",
        "print('제 이름은 {0} 제 나이는 {1}'.replace('{0}', name).replace('{1}', str(age)))\n",
        "print('제 이름은 {} 제 나이는 {}'.format(name, age)) # format은 str에 메서드\n",
        "print(f'제 이름은{name} 제 나이는 {age}') # 권고합니다."
      ],
      "metadata": {
        "colab": {
          "base_uri": "https://localhost:8080/"
        },
        "id": "mIanCDCTMx4C",
        "outputId": "6aca8202-e699-4e53-fe45-88ad9662b0f9"
      },
      "execution_count": null,
      "outputs": [
        {
          "output_type": "stream",
          "name": "stdout",
          "text": [
            "제 이름은 leehojun 제 나이는 10\n",
            "제 이름은 leehojun 제 나이는 10\n",
            "제 이름은 {} 제 나이는 {}\n",
            "제 이름은 leehojun 제 나이는 10\n",
            "제 이름은 leehojun 제 나이는 10\n",
            "제 이름은leehojun 제 나이는 10\n"
          ]
        }
      ]
    },
    {
      "cell_type": "code",
      "source": [
        "s = 'abc123'\n",
        "s.isalnum() #문자열이 알파벳과 숫자로만 이루어져 있는지 확인하는 method"
      ],
      "metadata": {
        "colab": {
          "base_uri": "https://localhost:8080/"
        },
        "id": "5myki6nCOq2n",
        "outputId": "e2fa4432-c161-40f4-ca19-e121c687711e"
      },
      "execution_count": null,
      "outputs": [
        {
          "output_type": "execute_result",
          "data": {
            "text/plain": [
              "True"
            ]
          },
          "metadata": {},
          "execution_count": 105
        }
      ]
    },
    {
      "cell_type": "markdown",
      "source": [
        "*  isdigit() 중요"
      ],
      "metadata": {
        "id": "0ORJCIXRP9AZ"
      }
    },
    {
      "cell_type": "code",
      "source": [
        "s = '123'\n",
        "s.isdigit() #문자열이 숫자로만 이루어져 있는지 확인하는 method\n",
        "'12.3'.isdigit()# 점을 찍으면 문자라고 인식합니다.\n",
        "'10e10'.isdigit()# 지수표현 안됩니다."
      ],
      "metadata": {
        "colab": {
          "base_uri": "https://localhost:8080/"
        },
        "id": "3jLgECOsOVML",
        "outputId": "b8bd679a-5488-4843-f3e1-ca700ec2f9b0"
      },
      "execution_count": null,
      "outputs": [
        {
          "output_type": "execute_result",
          "data": {
            "text/plain": [
              "True"
            ]
          },
          "metadata": {},
          "execution_count": 107
        }
      ]
    },
    {
      "cell_type": "code",
      "source": [
        "s = 'abc'\n",
        "s.isalpha() #문자열이 알파벳으로만 이루어져 있는지 확인하는 method"
      ],
      "metadata": {
        "colab": {
          "base_uri": "https://localhost:8080/"
        },
        "id": "fa6dxD4BQLAe",
        "outputId": "114f1b12-023a-416f-fdfc-df5389ba221a"
      },
      "execution_count": null,
      "outputs": [
        {
          "output_type": "execute_result",
          "data": {
            "text/plain": [
              "True"
            ]
          },
          "metadata": {},
          "execution_count": 108
        }
      ]
    },
    {
      "cell_type": "code",
      "source": [
        "s = 'licat'\n",
        "s.center(11, '-') #문자열을 지정한 길이로 맞추고, 양쪽을 '-'로 채우는 method"
      ],
      "metadata": {
        "colab": {
          "base_uri": "https://localhost:8080/",
          "height": 35
        },
        "id": "-KGlmYRKQ5g_",
        "outputId": "be74a37b-3d85-4387-bfd1-5dad5937ac2c"
      },
      "execution_count": null,
      "outputs": [
        {
          "output_type": "execute_result",
          "data": {
            "text/plain": [
              "'---licat---'"
            ],
            "application/vnd.google.colaboratory.intrinsic+json": {
              "type": "string"
            }
          },
          "metadata": {},
          "execution_count": 109
        }
      ]
    },
    {
      "cell_type": "code",
      "source": [
        "x = \"42\"\n",
        "result = x.zfill(5)\n",
        "print(result)  # 00042"
      ],
      "metadata": {
        "colab": {
          "base_uri": "https://localhost:8080/"
        },
        "id": "VMtvi-ydSw01",
        "outputId": "36456a04-7c47-4c70-e4cf-ccabd30a786d"
      },
      "execution_count": null,
      "outputs": [
        {
          "output_type": "stream",
          "name": "stdout",
          "text": [
            "00042\n"
          ]
        }
      ]
    },
    {
      "cell_type": "code",
      "source": [
        "filename = '1'.zfill(3) + \".jpg\"\n",
        "print(filename)"
      ],
      "metadata": {
        "colab": {
          "base_uri": "https://localhost:8080/"
        },
        "id": "tdX1l73OTmAV",
        "outputId": "c303cc64-4f5e-46f2-ac1f-020b3fd9a84e"
      },
      "execution_count": null,
      "outputs": [
        {
          "output_type": "stream",
          "name": "stdout",
          "text": [
            "001.jpg\n"
          ]
        }
      ]
    },
    {
      "cell_type": "code",
      "source": [
        "년 = '23'\n",
        "월 ='9'\n",
        "일 ='8'\n",
        "오늘날짜 = f'{년}/{월}/{일}'\n",
        "print(오늘날짜)\n",
        "오늘날짜 = f'{년}/{월.zfill(2)}/{일.zfill(2)}' #원하는 양식23/09/08\n",
        "print(오늘날짜)"
      ],
      "metadata": {
        "colab": {
          "base_uri": "https://localhost:8080/"
        },
        "id": "YeN4VyNYT9kz",
        "outputId": "0d47cf1c-483c-4969-a4ba-435bdf20c62c"
      },
      "execution_count": null,
      "outputs": [
        {
          "output_type": "stream",
          "name": "stdout",
          "text": [
            "23/9/8\n",
            "23/09/08\n"
          ]
        }
      ]
    },
    {
      "cell_type": "code",
      "source": [
        "table = str.maketrans(\"abc\", \"123\")\n",
        "'akbkckdkek'.translate(table)"
      ],
      "metadata": {
        "colab": {
          "base_uri": "https://localhost:8080/",
          "height": 35
        },
        "id": "JDXnNmghhyEb",
        "outputId": "d60e6e74-7766-4537-c3b4-a813b6c4db27"
      },
      "execution_count": null,
      "outputs": [
        {
          "output_type": "execute_result",
          "data": {
            "text/plain": [
              "'1k2k3kdkek'"
            ],
            "application/vnd.google.colaboratory.intrinsic+json": {
              "type": "string"
            }
          },
          "metadata": {},
          "execution_count": 138
        }
      ]
    },
    {
      "cell_type": "code",
      "source": [
        "table = str.maketrans('b','k', 'de')\n",
        "'abcde'.translate(table)"
      ],
      "metadata": {
        "colab": {
          "base_uri": "https://localhost:8080/",
          "height": 35
        },
        "id": "drthvXxbhy6W",
        "outputId": "12b72213-f758-41a9-df93-ee82e1d7ddbe"
      },
      "execution_count": null,
      "outputs": [
        {
          "output_type": "execute_result",
          "data": {
            "text/plain": [
              "'akc'"
            ],
            "application/vnd.google.colaboratory.intrinsic+json": {
              "type": "string"
            }
          },
          "metadata": {},
          "execution_count": 139
        }
      ]
    },
    {
      "cell_type": "code",
      "source": [
        "table = str.maketrans('\\n\\t', '  ') # 똑같은 길이를 가지고 있어야 함\n",
        "'weniv \\n\\n\\n CEO \\t\\t\\t licat'.translate(table)"
      ],
      "metadata": {
        "colab": {
          "base_uri": "https://localhost:8080/",
          "height": 35
        },
        "id": "gti-BDr9iQbL",
        "outputId": "52318d04-8e88-4d06-955f-9e4a4d03ae21"
      },
      "execution_count": null,
      "outputs": [
        {
          "output_type": "execute_result",
          "data": {
            "text/plain": [
              "'weniv     CEO     licat'"
            ],
            "application/vnd.google.colaboratory.intrinsic+json": {
              "type": "string"
            }
          },
          "metadata": {},
          "execution_count": 140
        }
      ]
    },
    {
      "cell_type": "code",
      "source": [
        "table = str.maketrans('\\n\\t', ' 1') # 똑같은 길이를 가지고 있어야 함\n",
        "'weniv \\n\\n\\n CEO \\t\\t\\t licat'.translate(table)"
      ],
      "metadata": {
        "colab": {
          "base_uri": "https://localhost:8080/",
          "height": 35
        },
        "id": "qWUMY9eDif-j",
        "outputId": "82ed7320-ea3e-49c1-a058-1c26f83d91d2"
      },
      "execution_count": null,
      "outputs": [
        {
          "output_type": "execute_result",
          "data": {
            "text/plain": [
              "'weniv     CEO 111 licat'"
            ],
            "application/vnd.google.colaboratory.intrinsic+json": {
              "type": "string"
            }
          },
          "metadata": {},
          "execution_count": 155
        }
      ]
    },
    {
      "cell_type": "markdown",
      "source": [
        "#연습문제 풀이"
      ],
      "metadata": {
        "id": "AovkPyTbaFJP"
      }
    },
    {
      "cell_type": "markdown",
      "source": [
        "* 1번째 문제"
      ],
      "metadata": {
        "id": "CAHn8vADdZKN"
      }
    },
    {
      "cell_type": "code",
      "source": [
        "# https://school.programmers.co.kr/learn/courses/30/lessons/17681?language=python3\n",
        "# 비밀지도\n",
        "\n",
        "n = 5\n",
        "arr1 =[9, 20, 28, 18, 11]\n",
        "arr2 =[30, 1, 21, 17, 28]"
      ],
      "metadata": {
        "id": "TZR9gmbjUdhw"
      },
      "execution_count": null,
      "outputs": []
    },
    {
      "cell_type": "code",
      "source": [
        "#keep해야할 포인트\n",
        "#1. 2진수는 정수형이다.\n",
        "#2. 다만 bin()은 문자열이다."
      ],
      "metadata": {
        "id": "YM-d7SwvaSe1"
      },
      "execution_count": null,
      "outputs": []
    },
    {
      "cell_type": "code",
      "source": [
        "# bin(arr1[0]) #01001\n",
        "# bin(arr2[0]) #11110\n",
        "\n",
        "bin(arr1[0] | arr2[0])\n",
        "bin(arr1[0] | arr2[0])[2:].replace('1', '#').replace('0', ' ')"
      ],
      "metadata": {
        "colab": {
          "base_uri": "https://localhost:8080/",
          "height": 35
        },
        "id": "399aRQLMajM9",
        "outputId": "9d6337b7-1b7c-4c53-9369-4ce84902d76b"
      },
      "execution_count": null,
      "outputs": [
        {
          "output_type": "execute_result",
          "data": {
            "text/plain": [
              "'#####'"
            ],
            "application/vnd.google.colaboratory.intrinsic+json": {
              "type": "string"
            }
          },
          "metadata": {},
          "execution_count": 129
        }
      ]
    },
    {
      "cell_type": "code",
      "source": [
        "# 다 오늘 배운 것이니 기억해주세요!\n",
        "bin(31)[2:].replace('1','#').replace('0', ' ')\n",
        "bin(3)[2:].zfill(5).replace('1','#').replace('0', ' ')"
      ],
      "metadata": {
        "colab": {
          "base_uri": "https://localhost:8080/",
          "height": 35
        },
        "id": "8GcyHi4RamI2",
        "outputId": "1f9a47e5-5257-4751-d28b-d2dbbbe71f5a"
      },
      "execution_count": null,
      "outputs": [
        {
          "output_type": "execute_result",
          "data": {
            "text/plain": [
              "'   ##'"
            ],
            "application/vnd.google.colaboratory.intrinsic+json": {
              "type": "string"
            }
          },
          "metadata": {},
          "execution_count": 130
        }
      ]
    },
    {
      "cell_type": "markdown",
      "source": [
        "* 2번째 문제"
      ],
      "metadata": {
        "id": "2dW3AFKSdeBn"
      }
    },
    {
      "cell_type": "code",
      "source": [
        "#https://school.programmers.co.kr/learn/courses/30/lessons/120891\n",
        "#연습무제 369 게임\n",
        "#'336699' => 6번\n",
        "#'123123' => 2번\n",
        "#'36913699'와 같은 문자열이 입력되었을 때 박수를 몇 번 치는지 코드를 작성해주세요.\n",
        "#세팅\n",
        "s = '36913699'\n",
        "\n",
        "#정답\n",
        "a = s.count('3')+s.count('6')+s.count('9')\n",
        "a"
      ],
      "metadata": {
        "colab": {
          "base_uri": "https://localhost:8080/"
        },
        "id": "4Kc7onAycu_x",
        "outputId": "2657d1f4-e084-40ef-8456-432d66ce9a91"
      },
      "execution_count": null,
      "outputs": [
        {
          "output_type": "execute_result",
          "data": {
            "text/plain": [
              "7"
            ]
          },
          "metadata": {},
          "execution_count": 134
        }
      ]
    },
    {
      "cell_type": "code",
      "source": [
        "#심화문제\n",
        "#'36913699'여기까지 오는동안 박수는 몇번 쳤을까요?\n",
        "#숫자가 너무 크니 숫자를 줄여 드리도록 하겠습니다. 숫자는 100입니다.\n",
        "#세팅\n",
        "s = str(list(range(101)))\n",
        "\n",
        "#정답\n",
        "s.count('3')+s.count('6')+s.count('9')"
      ],
      "metadata": {
        "colab": {
          "base_uri": "https://localhost:8080/"
        },
        "id": "W2u3x86eegHy",
        "outputId": "c104ace4-2073-4641-8648-71964c95663d"
      },
      "execution_count": null,
      "outputs": [
        {
          "output_type": "execute_result",
          "data": {
            "text/plain": [
              "60"
            ]
          },
          "metadata": {},
          "execution_count": 135
        }
      ]
    },
    {
      "cell_type": "code",
      "source": [
        "s = str(list(range(10001)))\n",
        "s.count('8')"
      ],
      "metadata": {
        "colab": {
          "base_uri": "https://localhost:8080/"
        },
        "id": "Z-Gan8rDgcA8",
        "outputId": "0eb9c53d-f9e0-432c-e3cc-ddf7da7b5915"
      },
      "execution_count": null,
      "outputs": [
        {
          "output_type": "execute_result",
          "data": {
            "text/plain": [
              "4000"
            ]
          },
          "metadata": {},
          "execution_count": 136
        }
      ]
    },
    {
      "cell_type": "markdown",
      "source": [
        "# 논리 자료형(bool)"
      ],
      "metadata": {
        "id": "otgXNH1VqOXR"
      }
    },
    {
      "cell_type": "code",
      "source": [
        "x = True\n",
        "y = False\n",
        "z = 10 > 3\n",
        "print(x, y, z)"
      ],
      "metadata": {
        "colab": {
          "base_uri": "https://localhost:8080/"
        },
        "id": "ZVWVh3VxqRMi",
        "outputId": "d8e6a12b-00ed-4ac4-abac-333f4bea36bd"
      },
      "execution_count": null,
      "outputs": [
        {
          "output_type": "stream",
          "name": "stdout",
          "text": [
            "True False True\n"
          ]
        }
      ]
    },
    {
      "cell_type": "code",
      "source": [
        "s = 'hello_world123'\n",
        "table = str.maketrans('', '', 'abcde1234567890-_')\n",
        "result = s.translate(table)\n",
        "result"
      ],
      "metadata": {
        "colab": {
          "base_uri": "https://localhost:8080/",
          "height": 35
        },
        "id": "MEez61Okt_0g",
        "outputId": "cda29174-7f45-484b-f2f0-cc68d57fe3b6"
      },
      "execution_count": null,
      "outputs": [
        {
          "output_type": "execute_result",
          "data": {
            "text/plain": [
              "'hlloworl'"
            ],
            "application/vnd.google.colaboratory.intrinsic+json": {
              "type": "string"
            }
          },
          "metadata": {},
          "execution_count": 161
        }
      ]
    },
    {
      "cell_type": "code",
      "source": [
        "s = True\n",
        "print(type(s), dir(s))"
      ],
      "metadata": {
        "colab": {
          "base_uri": "https://localhost:8080/"
        },
        "id": "TzPUEBKRawLn",
        "outputId": "8edae901-bbd0-4369-f0ee-c6f18f95b368"
      },
      "execution_count": null,
      "outputs": [
        {
          "output_type": "stream",
          "name": "stdout",
          "text": [
            "<class 'bool'> ['__abs__', '__add__', '__and__', '__bool__', '__ceil__', '__class__', '__delattr__', '__dir__', '__divmod__', '__doc__', '__eq__', '__float__', '__floor__', '__floordiv__', '__format__', '__ge__', '__getattribute__', '__getnewargs__', '__gt__', '__hash__', '__index__', '__init__', '__init_subclass__', '__int__', '__invert__', '__le__', '__lshift__', '__lt__', '__mod__', '__mul__', '__ne__', '__neg__', '__new__', '__or__', '__pos__', '__pow__', '__radd__', '__rand__', '__rdivmod__', '__reduce__', '__reduce_ex__', '__repr__', '__rfloordiv__', '__rlshift__', '__rmod__', '__rmul__', '__ror__', '__round__', '__rpow__', '__rrshift__', '__rshift__', '__rsub__', '__rtruediv__', '__rxor__', '__setattr__', '__sizeof__', '__str__', '__sub__', '__subclasshook__', '__truediv__', '__trunc__', '__xor__', 'as_integer_ratio', 'bit_count', 'bit_length', 'conjugate', 'denominator', 'from_bytes', 'imag', 'numerator', 'real', 'to_bytes']\n"
          ]
        }
      ]
    },
    {
      "cell_type": "markdown",
      "source": [
        "# none"
      ],
      "metadata": {
        "id": "F1dMR698dCT9"
      }
    },
    {
      "cell_type": "code",
      "source": [
        "#None + 5\n",
        "#None + Nonee\n",
        "#None = 19\n",
        "# 모두 에러"
      ],
      "metadata": {
        "id": "XXsjndDldD00"
      },
      "execution_count": null,
      "outputs": []
    },
    {
      "cell_type": "code",
      "source": [
        "#메직 메서드가 할당되어 있지 않다.\n",
        "dir(None)"
      ],
      "metadata": {
        "colab": {
          "base_uri": "https://localhost:8080/"
        },
        "id": "ND2fqr8gdKrA",
        "outputId": "6817ea13-57c2-4364-efbb-827d00d3eb38"
      },
      "execution_count": null,
      "outputs": [
        {
          "output_type": "execute_result",
          "data": {
            "text/plain": [
              "['__bool__',\n",
              " '__class__',\n",
              " '__delattr__',\n",
              " '__dir__',\n",
              " '__doc__',\n",
              " '__eq__',\n",
              " '__format__',\n",
              " '__ge__',\n",
              " '__getattribute__',\n",
              " '__gt__',\n",
              " '__hash__',\n",
              " '__init__',\n",
              " '__init_subclass__',\n",
              " '__le__',\n",
              " '__lt__',\n",
              " '__ne__',\n",
              " '__new__',\n",
              " '__reduce__',\n",
              " '__reduce_ex__',\n",
              " '__repr__',\n",
              " '__setattr__',\n",
              " '__sizeof__',\n",
              " '__str__',\n",
              " '__subclasshook__']"
            ]
          },
          "metadata": {},
          "execution_count": 5
        }
      ]
    },
    {
      "cell_type": "code",
      "source": [
        "x = None\n",
        "y = None\n",
        "print(id(x), id(y))"
      ],
      "metadata": {
        "colab": {
          "base_uri": "https://localhost:8080/"
        },
        "id": "Wtd88BQAdYcc",
        "outputId": "69eef38d-3a6f-4f4d-f1ce-0cba3a0d64ed"
      },
      "execution_count": null,
      "outputs": [
        {
          "output_type": "stream",
          "name": "stdout",
          "text": [
            "95953115993056 95953115993056\n"
          ]
        }
      ]
    },
    {
      "cell_type": "code",
      "source": [
        "# ※중요※\n",
        "\n",
        "x = None\n",
        "\n",
        "print(x == None)    # True, 하지만 이 방식은 권장되지 않습니다.\n",
        "print(x is None)    # True, 이 방식을 사용하여 None을 확인하는 것이 좋습니다."
      ],
      "metadata": {
        "colab": {
          "base_uri": "https://localhost:8080/"
        },
        "id": "gGLdLmVCdory",
        "outputId": "ac4d5b4d-9559-42ec-d61b-0712ffe0be68"
      },
      "execution_count": null,
      "outputs": [
        {
          "output_type": "stream",
          "name": "stdout",
          "text": [
            "True\n",
            "True\n"
          ]
        }
      ]
    },
    {
      "cell_type": "code",
      "source": [
        "class Character:\n",
        "    def __eq__(self, other):\n",
        "        return True\n",
        "\n",
        "주인공 = Character()\n",
        "print(주인공 == None)"
      ],
      "metadata": {
        "colab": {
          "base_uri": "https://localhost:8080/"
        },
        "id": "LdhcKUKJdq7m",
        "outputId": "2e93596e-907e-4d20-c436-82ebfa67360a"
      },
      "execution_count": null,
      "outputs": [
        {
          "output_type": "stream",
          "name": "stdout",
          "text": [
            "True\n"
          ]
        }
      ]
    },
    {
      "cell_type": "markdown",
      "source": [
        "# 메서드 채이닝"
      ],
      "metadata": {
        "id": "lJTEeT17fwdU"
      }
    },
    {
      "cell_type": "markdown",
      "source": [
        "체인 엮듯이 연결되고 연결되고 연결되면서 앞에부터 실행하는 코드방법"
      ],
      "metadata": {
        "id": "fdqWakBngkZj"
      }
    },
    {
      "cell_type": "code",
      "source": [
        "sentence = \"  Hello, World!  \"\n",
        "result = sentence.strip().lower().replace(\"world\", \"python\")\n",
        "# 1번 스탭 : sentence.strip() == 'Hello, World!'\n",
        "# 2번 스탭 : 'Hello, World!'.lower() == 'hello, world!'\n",
        "# 3번 스탭 : 'hello, world!'.replace(\"world\", \"python\")\n",
        "print(result)  # \"hello, python!\""
      ],
      "metadata": {
        "colab": {
          "base_uri": "https://localhost:8080/"
        },
        "id": "2zxhzwY8fDpZ",
        "outputId": "8f1a1867-6e71-43ed-a87a-7524048f1ecf"
      },
      "execution_count": null,
      "outputs": [
        {
          "output_type": "stream",
          "name": "stdout",
          "text": [
            "hello, python!\n"
          ]
        }
      ]
    },
    {
      "cell_type": "code",
      "source": [
        "\"  Hello, World!  \".split()"
      ],
      "metadata": {
        "colab": {
          "base_uri": "https://localhost:8080/"
        },
        "id": "7ayNr-SVf2q5",
        "outputId": "b5bebc8a-5332-4b8c-a71a-caf617f4d4f2"
      },
      "execution_count": null,
      "outputs": [
        {
          "output_type": "execute_result",
          "data": {
            "text/plain": [
              "['Hello,', 'World!']"
            ]
          },
          "metadata": {},
          "execution_count": 14
        }
      ]
    },
    {
      "cell_type": "code",
      "source": [
        "#어떻게든 개행해 쓰고 싶다! 백슬러쉬 사용해서 개행을 할 수 있습니다.\n",
        "sentence = \"  Hello, World!  \"\n",
        "result = sentence\\\n",
        ".strip()\\\n",
        ".lower()\\\n",
        ".replace(\"world\", \"python\")\n",
        "\n",
        "print(result)"
      ],
      "metadata": {
        "colab": {
          "base_uri": "https://localhost:8080/"
        },
        "id": "AN4bZMRYgfJQ",
        "outputId": "c6904b5d-7ee9-446b-edec-89ff0ee27ab6"
      },
      "execution_count": null,
      "outputs": [
        {
          "output_type": "stream",
          "name": "stdout",
          "text": [
            "hello, python!\n"
          ]
        }
      ]
    },
    {
      "cell_type": "code",
      "source": [
        "# 백슬러쉬를 사용하여 개행을 하는 것은 권장하는 방법은 아닙니다.\n",
        "# 회색 bar가 생긴 것 보이시나요?\n",
        "# 파이썬 79자까지 구독성이 좋아서 권고사항으로 색이 입혀진다.\n",
        "'hellohellohellohellohellohellohellohellohellohellohellohellohellohellohellohellohellohellohello'"
      ],
      "metadata": {
        "id": "JbPcguXkhBHG"
      },
      "execution_count": null,
      "outputs": []
    },
    {
      "cell_type": "code",
      "source": [
        "# 안티 코딩 / 좋지 않은 코딩이라고 한다.\n",
        "gugudan = [f'{i} * {j} = {i*j}' for i in range(7, 9) for j in range(1, 10)]\n",
        "gugudan"
      ],
      "metadata": {
        "colab": {
          "base_uri": "https://localhost:8080/"
        },
        "id": "OKvWTls-hvt0",
        "outputId": "f888d1cb-8199-4b57-cd8c-f9512de48958"
      },
      "execution_count": null,
      "outputs": [
        {
          "output_type": "execute_result",
          "data": {
            "text/plain": [
              "['7 * 1 = 7',\n",
              " '7 * 2 = 14',\n",
              " '7 * 3 = 21',\n",
              " '7 * 4 = 28',\n",
              " '7 * 5 = 35',\n",
              " '7 * 6 = 42',\n",
              " '7 * 7 = 49',\n",
              " '7 * 8 = 56',\n",
              " '7 * 9 = 63',\n",
              " '8 * 1 = 8',\n",
              " '8 * 2 = 16',\n",
              " '8 * 3 = 24',\n",
              " '8 * 4 = 32',\n",
              " '8 * 5 = 40',\n",
              " '8 * 6 = 48',\n",
              " '8 * 7 = 56',\n",
              " '8 * 8 = 64',\n",
              " '8 * 9 = 72']"
            ]
          },
          "metadata": {},
          "execution_count": 21
        }
      ]
    },
    {
      "cell_type": "markdown",
      "source": [
        "# 형변환"
      ],
      "metadata": {
        "id": "fTD8jmT4kRaj"
      }
    },
    {
      "cell_type": "code",
      "source": [
        "월급 = input(\"월급을 입력하세요:\")\n",
        "연봉 = 월급 * 12\n",
        "print(연봉)"
      ],
      "metadata": {
        "colab": {
          "base_uri": "https://localhost:8080/"
        },
        "id": "8j4wNQ1HkS3j",
        "outputId": "010a7f9f-057f-4377-d017-6733227d04be"
      },
      "execution_count": null,
      "outputs": [
        {
          "output_type": "stream",
          "name": "stdout",
          "text": [
            "월급을 입력하세요:100만원\n",
            "100만원100만원100만원100만원100만원100만원100만원100만원100만원100만원100만원100만원\n"
          ]
        }
      ]
    },
    {
      "cell_type": "code",
      "source": [
        "월급 = int(input(\"월급을 입력하세요:\"))\n",
        "연봉 = 월급 * 12\n",
        "print(연봉)"
      ],
      "metadata": {
        "colab": {
          "base_uri": "https://localhost:8080/"
        },
        "id": "v0H0ztdVkqzb",
        "outputId": "31e8b7f9-c9b2-43a4-eff1-b8bbacf37982"
      },
      "execution_count": null,
      "outputs": [
        {
          "output_type": "stream",
          "name": "stdout",
          "text": [
            "월급을 입력하세요:100\n",
            "1200\n"
          ]
        }
      ]
    },
    {
      "cell_type": "code",
      "source": [
        "# 어렵지만 자주 사용하는 문법이니 기억해주세요.\n",
        "list(map(int, ['10', '20', '30']))"
      ],
      "metadata": {
        "colab": {
          "base_uri": "https://localhost:8080/"
        },
        "id": "W31CZ0y1k1VO",
        "outputId": "3b096cf3-8f1b-4f0a-f67b-47173fb62a90"
      },
      "execution_count": null,
      "outputs": [
        {
          "output_type": "execute_result",
          "data": {
            "text/plain": [
              "[10, 20, 30]"
            ]
          },
          "metadata": {},
          "execution_count": 3
        }
      ]
    },
    {
      "cell_type": "code",
      "source": [
        "list(map(int, '12345'))"
      ],
      "metadata": {
        "colab": {
          "base_uri": "https://localhost:8080/"
        },
        "id": "-fzJgOFWnbgp",
        "outputId": "714344d9-b040-4f4f-ff81-7ac89ce2134d"
      },
      "execution_count": null,
      "outputs": [
        {
          "output_type": "execute_result",
          "data": {
            "text/plain": [
              "[1, 2, 3, 4, 5]"
            ]
          },
          "metadata": {},
          "execution_count": 4
        }
      ]
    },
    {
      "cell_type": "code",
      "source": [
        "#다음 숫자에 모든 자릿수를 다 더한 값을 출력하세요\n",
        "sum(map(int, '1112312311113334'))"
      ],
      "metadata": {
        "colab": {
          "base_uri": "https://localhost:8080/"
        },
        "id": "5gNBXwydnxpj",
        "outputId": "da8135e6-d0ce-4444-aa20-59ceae70b10f"
      },
      "execution_count": null,
      "outputs": [
        {
          "output_type": "execute_result",
          "data": {
            "text/plain": [
              "31"
            ]
          },
          "metadata": {},
          "execution_count": 5
        }
      ]
    },
    {
      "cell_type": "code",
      "source": [
        "true_int = int(True)\n",
        "false_int = int(False)\n",
        "\n",
        "print(true_int)  # 출력: 1\n",
        "print(false_int)  # 출력: 0"
      ],
      "metadata": {
        "colab": {
          "base_uri": "https://localhost:8080/"
        },
        "id": "-4n0IhdQny5r",
        "outputId": "9297cf0e-a68d-4eef-b8ac-b37c662bf89c"
      },
      "execution_count": null,
      "outputs": [
        {
          "output_type": "stream",
          "name": "stdout",
          "text": [
            "1\n",
            "0\n"
          ]
        }
      ]
    },
    {
      "cell_type": "code",
      "source": [
        "n = 123\n",
        "print(type(n))\n",
        "\n",
        "m = 123.4\n",
        "print(type(n))\n",
        "\n",
        "n = str(n)\n",
        "print(type(n))\n",
        "\n",
        "m = str(m)\n",
        "print(type(m))"
      ],
      "metadata": {
        "colab": {
          "base_uri": "https://localhost:8080/"
        },
        "id": "Bi6eOB5yoga0",
        "outputId": "98e5e029-9d96-412b-fc2e-007464eaac46"
      },
      "execution_count": null,
      "outputs": [
        {
          "output_type": "stream",
          "name": "stdout",
          "text": [
            "<class 'int'>\n",
            "<class 'int'>\n",
            "<class 'str'>\n",
            "<class 'str'>\n"
          ]
        }
      ]
    },
    {
      "cell_type": "code",
      "source": [
        "m"
      ],
      "metadata": {
        "colab": {
          "base_uri": "https://localhost:8080/",
          "height": 35
        },
        "id": "VGOHzqq6o3Ez",
        "outputId": "653e3a47-47be-4f17-e62e-75fe34fe6737"
      },
      "execution_count": null,
      "outputs": [
        {
          "output_type": "execute_result",
          "data": {
            "text/plain": [
              "'123.4'"
            ],
            "application/vnd.google.colaboratory.intrinsic+json": {
              "type": "string"
            }
          },
          "metadata": {},
          "execution_count": 9
        }
      ]
    },
    {
      "cell_type": "code",
      "source": [
        "# 소숫점을 float형으로 변환하는 것은 가능하지만\n",
        "float(m)"
      ],
      "metadata": {
        "colab": {
          "base_uri": "https://localhost:8080/"
        },
        "id": "992uEj4CozJ-",
        "outputId": "42684a0e-3ef7-47f7-da2b-c0f2d55af577"
      },
      "execution_count": null,
      "outputs": [
        {
          "output_type": "execute_result",
          "data": {
            "text/plain": [
              "123.4"
            ]
          },
          "metadata": {},
          "execution_count": 10
        }
      ]
    },
    {
      "cell_type": "code",
      "source": [
        "# int형으로 변환하는 것은 가능하지 않습니다.\n",
        "int(m)"
      ],
      "metadata": {
        "id": "8D8vIIbGo-0s"
      },
      "execution_count": null,
      "outputs": []
    },
    {
      "cell_type": "code",
      "source": [
        "# 여러분이 자주하는 실수\n",
        "x = 1.0\n",
        "x = str(x)\n",
        "#print(int(x))"
      ],
      "metadata": {
        "id": "3JARMo34pRQh"
      },
      "execution_count": null,
      "outputs": []
    },
    {
      "cell_type": "code",
      "source": [
        "x = 1.0\n",
        "x = str(x)\n",
        "if x.find('.') == -1:\n",
        "    print(int(x))\n",
        "else:\n",
        "    print(float(x))"
      ],
      "metadata": {
        "colab": {
          "base_uri": "https://localhost:8080/"
        },
        "id": "CxEc3Ulfp8iB",
        "outputId": "0a5b3bda-5e5f-4757-bd5d-c7bcf2a64fa7"
      },
      "execution_count": null,
      "outputs": [
        {
          "output_type": "stream",
          "name": "stdout",
          "text": [
            "1.0\n"
          ]
        }
      ]
    },
    {
      "cell_type": "code",
      "source": [
        "print(\"bool('test'):\", bool('test'))\n",
        "print(\"bool(' '):\", bool(' '))\n",
        "print(\"bool(''):\", bool(''))\n",
        "print(\"bool(100):\", bool(100))\n",
        "print(\"bool(1):\", bool(1))\n",
        "print(\"bool(0):\", bool(0))\n",
        "print(\"bool(-1):\", bool(-1))\n",
        "\n",
        "\n",
        "\n",
        "print(\"bool(None):\", bool(None))\n",
        "print(\"bool([]):\", bool([])) # 주의(JavaScript에서는 True, Python False)\n",
        "print(\"bool(tuple()):\", bool(tuple())) # 주의(JavaScript에서는 True, Python False)\n",
        "print(\"bool({}):\", bool({})) # 주의(JavaScript에서는 True, Python False)\n",
        "print(\"bool(set()):\", bool(set())) # 주의(JavaScript에서는 True, Python False)"
      ],
      "metadata": {
        "colab": {
          "base_uri": "https://localhost:8080/"
        },
        "id": "m58pF8dbp87H",
        "outputId": "5e0e5624-0cd9-4f78-dad5-7764c088f020"
      },
      "execution_count": null,
      "outputs": [
        {
          "output_type": "stream",
          "name": "stdout",
          "text": [
            "bool('test'): True\n",
            "bool(' '): True\n",
            "bool(''): False\n",
            "bool(100): True\n",
            "bool(1): True\n",
            "bool(0): False\n",
            "bool(-1): True\n",
            "bool(None): False\n",
            "bool([]): False\n",
            "bool(tuple()): False\n",
            "bool({}): False\n",
            "bool(set()): False\n"
          ]
        }
      ]
    },
    {
      "cell_type": "code",
      "source": [
        "# 실무에서 정말 많이 사용하는 코드\n",
        "x = [1, 2, 3]\n",
        "while x:\n",
        "    print(x.pop())"
      ],
      "metadata": {
        "colab": {
          "base_uri": "https://localhost:8080/"
        },
        "id": "y-hcBBw3rAV7",
        "outputId": "bd8a51af-231e-4578-d696-9c73e453f17d"
      },
      "execution_count": null,
      "outputs": [
        {
          "output_type": "stream",
          "name": "stdout",
          "text": [
            "3\n",
            "2\n",
            "1\n"
          ]
        }
      ]
    },
    {
      "cell_type": "code",
      "source": [
        "s = 10\n",
        "print(float(s))\n",
        "\n",
        "s = '10'\n",
        "print(float(s))\n",
        "\n",
        "s = '3.14'\n",
        "print(float(s))"
      ],
      "metadata": {
        "colab": {
          "base_uri": "https://localhost:8080/"
        },
        "id": "pLQub9ZzrXXH",
        "outputId": "fd790359-2969-42c0-cc2d-f6105b420614"
      },
      "execution_count": null,
      "outputs": [
        {
          "output_type": "stream",
          "name": "stdout",
          "text": [
            "10.0\n",
            "10.0\n",
            "3.14\n"
          ]
        }
      ]
    },
    {
      "cell_type": "code",
      "source": [
        "name = 'licat'\n",
        "tuple(name)"
      ],
      "metadata": {
        "colab": {
          "base_uri": "https://localhost:8080/"
        },
        "id": "2LnG9zUMsQJE",
        "outputId": "c7672df9-34c4-48cb-aec8-0d7434d77ad8"
      },
      "execution_count": null,
      "outputs": [
        {
          "output_type": "execute_result",
          "data": {
            "text/plain": [
              "('l', 'i', 'c', 'a', 't')"
            ]
          },
          "metadata": {},
          "execution_count": 17
        }
      ]
    },
    {
      "cell_type": "code",
      "source": [
        "data = [('name','licat'),('age',10)]\n",
        "d = dict(data)\n",
        "d"
      ],
      "metadata": {
        "colab": {
          "base_uri": "https://localhost:8080/"
        },
        "id": "gpTENBC-sXvF",
        "outputId": "1aa11406-f001-4ffb-ec3a-e416ebad3f3b"
      },
      "execution_count": null,
      "outputs": [
        {
          "output_type": "execute_result",
          "data": {
            "text/plain": [
              "{'name': 'licat', 'age': 10}"
            ]
          },
          "metadata": {},
          "execution_count": 18
        }
      ]
    },
    {
      "cell_type": "code",
      "source": [
        "s = 'weniv CEO licat'\n",
        "print(set(s)) #중복을 허락하지 않고 순서가 없습니다.\n",
        "print(len(set(s))) #중복을 제거한 상태로의 길이를 알려줍니다.\n",
        "print(len(s))"
      ],
      "metadata": {
        "colab": {
          "base_uri": "https://localhost:8080/"
        },
        "id": "eO2SLLzIsuIm",
        "outputId": "aa34e946-489b-4b0f-ab0f-9bed1ab14b25"
      },
      "execution_count": null,
      "outputs": [
        {
          "output_type": "stream",
          "name": "stdout",
          "text": [
            "{'l', 'a', 'v', 'E', 'e', 'C', 'n', 'i', 'c', 't', 'O', 'w', ' '}\n",
            "13\n",
            "15\n"
          ]
        }
      ]
    },
    {
      "cell_type": "markdown",
      "source": [
        "# 연습문제"
      ],
      "metadata": {
        "id": "-J5ttcxiatWe"
      }
    },
    {
      "cell_type": "code",
      "source": [
        "def solution(new_id):\n",
        "    new_id = new_id.lower()\n",
        "\n",
        "    # 2단계\n",
        "    temp = '' # 임시 값\n",
        "    for i in new_id:\n",
        "        # 소문자, 숫자, \"-\", \"_\", \".\" 만 temp에 넣기\n",
        "        if i.isalpha() or i.isdigit() or i == \"-\" or i == \"_\" or i == \".\":\n",
        "            temp += i\n",
        "    # temp를 다시 new_id에 넣기\n",
        "    new_id = temp\n",
        "\n",
        "    # 3단계\n",
        "    # \"..\"가 new_id 안에 있으면 \".\"로 치환하기\n",
        "    while \"..\" in new_id:\n",
        "        new_id = new_id.replace(\"..\", \".\")\n",
        "\n",
        "    # 4단계\n",
        "    # new_id의 처음이나 끝에 \".\" 있을 경우 슬라이싱해서 빼버리기\n",
        "    print(new_id.strip(\" .\"))\n",
        "    new_id=new_id.strip(\" .\")\n",
        "    print(new_id)\n",
        "\n",
        "    # 5단계\n",
        "    # new_id가 빈 문자열인 경우 \"a\" 추가\n",
        "    if new_id == \"\":\n",
        "        new_id += \"a\"\n",
        "\n",
        "    # 6단계\n",
        "    # new_id의 길이가 16이상이면 슬라이싱 하기\n",
        "    # 슬라이싱 한 후 끝에 \".\"있으면 제거하기\n",
        "    # 3단계에서 \".\"가 연속으로 있는 경우는 제거해서 반복문은 불필요\n",
        "    if len(new_id) >= 16:\n",
        "        new_id = new_id[:15]\n",
        "\n",
        "        if new_id.endswith(\".\"):\n",
        "            new_id = new_id[:-1]\n",
        "\n",
        "    # 7단계\n",
        "    # new_id의 길이가 2 이하(\"이하\"는 \"~보다 작거나 같다\"라는 뜻)면\n",
        "    # new_id의 길이가 3이 될 때까지 new_id의 끝 문자 추가 반복하기\n",
        "    while len(new_id) < 3:\n",
        "        new_id = new_id + new_id[-1]\n",
        "\n",
        "    return new_id\n",
        "\n",
        "solution('...!@BaT#*..y.abcdefghijklm')"
      ],
      "metadata": {
        "colab": {
          "base_uri": "https://localhost:8080/",
          "height": 72
        },
        "id": "p5VACfoB7KL5",
        "outputId": "4825f7f4-5dcd-4823-e3f2-0c3e5f29b7ba"
      },
      "execution_count": null,
      "outputs": [
        {
          "output_type": "stream",
          "name": "stdout",
          "text": [
            "bat.y.abcdefghijklm\n",
            "bat.y.abcdefghijklm\n"
          ]
        },
        {
          "output_type": "execute_result",
          "data": {
            "text/plain": [
              "'bat.y.abcdefghi'"
            ],
            "application/vnd.google.colaboratory.intrinsic+json": {
              "type": "string"
            }
          },
          "metadata": {},
          "execution_count": 177
        }
      ]
    },
    {
      "cell_type": "code",
      "source": [
        "# 항상 확장자만 나오게 할것.\n",
        "s = 'licat.jpeg'"
      ],
      "metadata": {
        "id": "6yjDfE3Oto74"
      },
      "execution_count": null,
      "outputs": []
    },
    {
      "cell_type": "code",
      "source": [
        "print(s.split('.')[-1])"
      ],
      "metadata": {
        "colab": {
          "base_uri": "https://localhost:8080/"
        },
        "id": "Pght8qTZtuYf",
        "outputId": "654c4bd7-0cbb-4836-88b2-0a5bd759dda5"
      },
      "execution_count": null,
      "outputs": [
        {
          "output_type": "stream",
          "name": "stdout",
          "text": [
            "jpeg\n"
          ]
        }
      ]
    },
    {
      "cell_type": "code",
      "source": [
        "s = 'li.cat.jpeg'\n",
        "s[s.index('.')+1:]\n",
        "s[::-1].split('.')[0][::-1]\n",
        "s.split('.')[-1]"
      ],
      "metadata": {
        "colab": {
          "base_uri": "https://localhost:8080/",
          "height": 35
        },
        "id": "cjY_pZVst0DB",
        "outputId": "a87d9e7a-619a-41cf-84b0-7ef5c4b2846d"
      },
      "execution_count": null,
      "outputs": [
        {
          "output_type": "execute_result",
          "data": {
            "text/plain": [
              "'jpeg'"
            ],
            "application/vnd.google.colaboratory.intrinsic+json": {
              "type": "string"
            }
          },
          "metadata": {},
          "execution_count": 23
        }
      ]
    },
    {
      "cell_type": "code",
      "source": [],
      "metadata": {
        "id": "QBWJeRvHuYGs"
      },
      "execution_count": null,
      "outputs": []
    }
  ]
}