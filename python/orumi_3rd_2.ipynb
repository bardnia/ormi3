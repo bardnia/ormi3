{
  "nbformat": 4,
  "nbformat_minor": 0,
  "metadata": {
    "colab": {
      "provenance": [],
      "toc_visible": true
    },
    "kernelspec": {
      "name": "python3",
      "display_name": "Python 3"
    },
    "language_info": {
      "name": "python"
    }
  },
  "cells": [
    {
      "cell_type": "markdown",
      "source": [
        "# 연산과 구문"
      ],
      "metadata": {
        "id": "GlmIkfXDvt5u"
      }
    },
    {
      "cell_type": "markdown",
      "source": [
        "# 연산자"
      ],
      "metadata": {
        "id": "pvzmd72avdOI"
      }
    },
    {
      "cell_type": "code",
      "source": [],
      "metadata": {
        "id": "g91e68_5wAN3"
      },
      "execution_count": null,
      "outputs": []
    },
    {
      "cell_type": "markdown",
      "source": [
        "#산술연산"
      ],
      "metadata": {
        "id": "-Pzk9uoAvkon"
      }
    },
    {
      "cell_type": "code",
      "source": [
        "{'one':1} + {'two':2} # error\n",
        "{5} + {6} # error"
      ],
      "metadata": {
        "id": "HPsAkXJbwAy_"
      },
      "execution_count": null,
      "outputs": []
    },
    {
      "cell_type": "code",
      "source": [
        "7 - 4 # 결과: 3"
      ],
      "metadata": {
        "colab": {
          "base_uri": "https://localhost:8080/"
        },
        "id": "UPxxPM2fw8K_",
        "outputId": "304d47dd-253c-46f1-d9da-8e59cf949ee1"
      },
      "execution_count": null,
      "outputs": [
        {
          "output_type": "execute_result",
          "data": {
            "text/plain": [
              "3"
            ]
          },
          "metadata": {},
          "execution_count": 1
        }
      ]
    },
    {
      "cell_type": "code",
      "source": [
        "7 -- 4 # 결과: 11"
      ],
      "metadata": {
        "colab": {
          "base_uri": "https://localhost:8080/"
        },
        "id": "ZQi6Uwfww8gX",
        "outputId": "3f026c00-e258-46b9-beb5-bd692b5ce279"
      },
      "execution_count": null,
      "outputs": [
        {
          "output_type": "execute_result",
          "data": {
            "text/plain": [
              "11"
            ]
          },
          "metadata": {},
          "execution_count": 4
        }
      ]
    },
    {
      "cell_type": "code",
      "source": [
        "7 --- 4 # 결과: 3"
      ],
      "metadata": {
        "colab": {
          "base_uri": "https://localhost:8080/"
        },
        "id": "MerbE_G8xCSZ",
        "outputId": "603dea53-ad74-4d16-fb00-a9b98254811c"
      },
      "execution_count": null,
      "outputs": [
        {
          "output_type": "execute_result",
          "data": {
            "text/plain": [
              "3"
            ]
          },
          "metadata": {},
          "execution_count": 5
        }
      ]
    },
    {
      "cell_type": "code",
      "source": [
        "7 ---- 4"
      ],
      "metadata": {
        "colab": {
          "base_uri": "https://localhost:8080/"
        },
        "id": "P5K9FN03xDeq",
        "outputId": "585ae257-ce3d-4cc6-addb-3083c7dbd46c"
      },
      "execution_count": null,
      "outputs": [
        {
          "output_type": "execute_result",
          "data": {
            "text/plain": [
              "11"
            ]
          },
          "metadata": {},
          "execution_count": 6
        }
      ]
    },
    {
      "cell_type": "code",
      "source": [
        "-2 ** 2 # 주의 매우주의! -는 나중에 붙는다."
      ],
      "metadata": {
        "colab": {
          "base_uri": "https://localhost:8080/"
        },
        "id": "wu6jd1QBxIe8",
        "outputId": "96e66696-86ad-4250-bab7-659df95e1c36"
      },
      "execution_count": null,
      "outputs": [
        {
          "output_type": "execute_result",
          "data": {
            "text/plain": [
              "-4"
            ]
          },
          "metadata": {},
          "execution_count": 7
        }
      ]
    },
    {
      "cell_type": "code",
      "source": [
        "a = 10\n",
        "b = 2\n",
        "print(a / b) # 결과 5.0 실수출력\n",
        "print(a // b) # 결과 5  정수출력"
      ],
      "metadata": {
        "colab": {
          "base_uri": "https://localhost:8080/"
        },
        "id": "1EZNgRE9xLKU",
        "outputId": "01d77931-8634-4f5f-fff1-cc3b7a0370c2"
      },
      "execution_count": null,
      "outputs": [
        {
          "output_type": "stream",
          "name": "stdout",
          "text": [
            "5.0\n",
            "5\n"
          ]
        }
      ]
    },
    {
      "cell_type": "code",
      "source": [
        "# python 은 몫이 아닙니다.\n",
        "# //은 내림입니다.\n",
        "a = -2\n",
        "b = 5\n",
        "b // a"
      ],
      "metadata": {
        "colab": {
          "base_uri": "https://localhost:8080/"
        },
        "id": "j5lpyBO3xuKD",
        "outputId": "792ae0ab-2efe-439c-896d-84571735fc71"
      },
      "execution_count": null,
      "outputs": [
        {
          "output_type": "execute_result",
          "data": {
            "text/plain": [
              "-3"
            ]
          },
          "metadata": {},
          "execution_count": 9
        }
      ]
    },
    {
      "cell_type": "code",
      "source": [
        "10 / 0 # ZeroDivisionError"
      ],
      "metadata": {
        "colab": {
          "base_uri": "https://localhost:8080/",
          "height": 184
        },
        "id": "_2x-nejZyYAM",
        "outputId": "4a51a12f-5cae-492c-a6aa-23b9681875ef"
      },
      "execution_count": null,
      "outputs": [
        {
          "output_type": "error",
          "ename": "ZeroDivisionError",
          "evalue": "ignored",
          "traceback": [
            "\u001b[0;31m---------------------------------------------------------------------------\u001b[0m",
            "\u001b[0;31mZeroDivisionError\u001b[0m                         Traceback (most recent call last)",
            "\u001b[0;32m<ipython-input-10-cd759d3fcf39>\u001b[0m in \u001b[0;36m<cell line: 1>\u001b[0;34m()\u001b[0m\n\u001b[0;32m----> 1\u001b[0;31m \u001b[0;36m10\u001b[0m \u001b[0;34m/\u001b[0m \u001b[0;36m0\u001b[0m\u001b[0;34m\u001b[0m\u001b[0;34m\u001b[0m\u001b[0m\n\u001b[0m",
            "\u001b[0;31mZeroDivisionError\u001b[0m: division by zero"
          ]
        }
      ]
    },
    {
      "cell_type": "code",
      "source": [
        "10.123 // 1"
      ],
      "metadata": {
        "colab": {
          "base_uri": "https://localhost:8080/"
        },
        "id": "qFTZUpK-ylTz",
        "outputId": "8b31a7ed-7205-4883-9e01-9c83aa6f9e2c"
      },
      "execution_count": null,
      "outputs": [
        {
          "output_type": "execute_result",
          "data": {
            "text/plain": [
              "10.0"
            ]
          },
          "metadata": {},
          "execution_count": 11
        }
      ]
    },
    {
      "cell_type": "code",
      "source": [],
      "metadata": {
        "id": "Utttxeg51N2u"
      },
      "execution_count": null,
      "outputs": []
    },
    {
      "cell_type": "code",
      "source": [
        "-10.123 // 1"
      ],
      "metadata": {
        "colab": {
          "base_uri": "https://localhost:8080/"
        },
        "id": "XwHijj9T1EfQ",
        "outputId": "66acc8cc-5f44-49b5-e2ae-438f51fefdd1"
      },
      "execution_count": null,
      "outputs": [
        {
          "output_type": "execute_result",
          "data": {
            "text/plain": [
              "-11.0"
            ]
          },
          "metadata": {},
          "execution_count": 12
        }
      ]
    },
    {
      "cell_type": "code",
      "source": [
        "a = 10\n",
        "b = 3\n",
        "divide = a / b\n",
        "print(f'{a} ÷ {b} = {divide:.2f}')  # 결과: 10 ÷ 3 = 3.33"
      ],
      "metadata": {
        "colab": {
          "base_uri": "https://localhost:8080/"
        },
        "id": "qDsLrjzf1G1N",
        "outputId": "3b679e82-ace7-430c-8319-a7f06c301f03"
      },
      "execution_count": null,
      "outputs": [
        {
          "output_type": "stream",
          "name": "stdout",
          "text": [
            "10 ÷ 3 = 3.33\n"
          ]
        }
      ]
    },
    {
      "cell_type": "code",
      "source": [
        "10 % 2 == 0 # 홀수, 짝수 판별\n",
        "365 % 10 == 0 # 1의 자리 반환"
      ],
      "metadata": {
        "colab": {
          "base_uri": "https://localhost:8080/"
        },
        "id": "oqDSX0Uy2NS9",
        "outputId": "63eae58d-1cf9-43db-d7c6-ef26dadb7ef3"
      },
      "execution_count": null,
      "outputs": [
        {
          "output_type": "execute_result",
          "data": {
            "text/plain": [
              "False"
            ]
          },
          "metadata": {},
          "execution_count": 18
        }
      ]
    },
    {
      "cell_type": "code",
      "source": [
        "10 % 3.3"
      ],
      "metadata": {
        "colab": {
          "base_uri": "https://localhost:8080/"
        },
        "id": "4Km7YY_A1fwJ",
        "outputId": "14c93329-73e1-4a44-d4e3-336df77097e8"
      },
      "execution_count": null,
      "outputs": [
        {
          "output_type": "execute_result",
          "data": {
            "text/plain": [
              "0.10000000000000053"
            ]
          },
          "metadata": {},
          "execution_count": 16
        }
      ]
    },
    {
      "cell_type": "code",
      "source": [
        "(100 % 33) / 10 # 소숫점 1자리까지 출력한다."
      ],
      "metadata": {
        "colab": {
          "base_uri": "https://localhost:8080/"
        },
        "id": "mA3nsOFl10G_",
        "outputId": "ef801755-3e37-4208-e459-8e0c477fa84e"
      },
      "execution_count": null,
      "outputs": [
        {
          "output_type": "execute_result",
          "data": {
            "text/plain": [
              "0.1"
            ]
          },
          "metadata": {},
          "execution_count": 17
        }
      ]
    },
    {
      "cell_type": "code",
      "source": [
        "# 전후위 연산자가 없습니다.\n",
        "\n",
        "a = 10\n",
        "++a\n",
        "a++"
      ],
      "metadata": {
        "id": "tILTPTVZ13Ks"
      },
      "execution_count": null,
      "outputs": []
    },
    {
      "cell_type": "markdown",
      "source": [
        "# 비교연산"
      ],
      "metadata": {
        "id": "87pTN2SAvl8G"
      }
    },
    {
      "cell_type": "code",
      "source": [
        "5 =='5' # False"
      ],
      "metadata": {
        "colab": {
          "base_uri": "https://localhost:8080/"
        },
        "id": "IjF9_wTTwBKW",
        "outputId": "abd965da-699b-42fa-e9d5-eab0c482e8e6"
      },
      "execution_count": null,
      "outputs": [
        {
          "output_type": "execute_result",
          "data": {
            "text/plain": [
              "False"
            ]
          },
          "metadata": {},
          "execution_count": 19
        }
      ]
    },
    {
      "cell_type": "code",
      "execution_count": null,
      "metadata": {
        "colab": {
          "base_uri": "https://localhost:8080/"
        },
        "id": "KamBb7DuvCyK",
        "outputId": "4e944076-54a4-4206-f296-71e5be4ef074"
      },
      "outputs": [
        {
          "output_type": "stream",
          "name": "stdout",
          "text": [
            "True\n"
          ]
        }
      ],
      "source": [
        "# 유니코드 표준으로 앞글자를 계산한다.\n",
        "print('apple' < 'banana') # 결과: True"
      ]
    },
    {
      "cell_type": "code",
      "source": [
        "print('apple' < 'applee')"
      ],
      "metadata": {
        "colab": {
          "base_uri": "https://localhost:8080/"
        },
        "id": "R0gIYV2D28Xz",
        "outputId": "26407833-f602-48dc-bc1a-be8f9c9899f9"
      },
      "execution_count": null,
      "outputs": [
        {
          "output_type": "stream",
          "name": "stdout",
          "text": [
            "True\n"
          ]
        }
      ]
    },
    {
      "cell_type": "code",
      "source": [
        "print([10, 20, 30, 35] < [10, 20, 30, 405])"
      ],
      "metadata": {
        "colab": {
          "base_uri": "https://localhost:8080/"
        },
        "id": "Tg83KdC93OXW",
        "outputId": "d1911ff1-927a-4620-9f90-21795fcac297"
      },
      "execution_count": null,
      "outputs": [
        {
          "output_type": "stream",
          "name": "stdout",
          "text": [
            "True\n"
          ]
        }
      ]
    },
    {
      "cell_type": "code",
      "source": [],
      "metadata": {
        "id": "heteYdMq3gzV"
      },
      "execution_count": null,
      "outputs": []
    },
    {
      "cell_type": "markdown",
      "source": [
        "# 논리연산자"
      ],
      "metadata": {
        "id": "kEqtd8cH4hRc"
      }
    },
    {
      "cell_type": "code",
      "source": [
        "# and, or, not\n",
        "x = True   # 1\n",
        "y = False  # 0\n",
        "\n",
        "print(True and False) # False\n",
        "print(True and True)  # True\n",
        "print(True or False) # True\n",
        "print(True or True)  # True"
      ],
      "metadata": {
        "colab": {
          "base_uri": "https://localhost:8080/"
        },
        "id": "hnIBkV5d4jI8",
        "outputId": "42f78aa2-d889-4445-ce78-ee0faf5fafd9"
      },
      "execution_count": null,
      "outputs": [
        {
          "output_type": "stream",
          "name": "stdout",
          "text": [
            "False\n",
            "True\n",
            "True\n",
            "True\n"
          ]
        }
      ]
    },
    {
      "cell_type": "code",
      "source": [
        "for i in range(101):\n",
        "    if i % 3 == 0 and i % 5 == 0:\n",
        "        print(i)"
      ],
      "metadata": {
        "colab": {
          "base_uri": "https://localhost:8080/"
        },
        "id": "RC864RpZ5K86",
        "outputId": "e944efd9-7833-41d5-9a8b-506709329604"
      },
      "execution_count": null,
      "outputs": [
        {
          "output_type": "stream",
          "name": "stdout",
          "text": [
            "0\n",
            "15\n",
            "30\n",
            "45\n",
            "60\n",
            "75\n",
            "90\n"
          ]
        }
      ]
    },
    {
      "cell_type": "code",
      "source": [
        "# if의 중첩은 and로 줄일 수 있다!\n",
        "for i in range(101):\n",
        "    if i % 3 == 0 and i % 5 == 0:\n",
        "        print(i)"
      ],
      "metadata": {
        "colab": {
          "base_uri": "https://localhost:8080/"
        },
        "id": "Hc_Nos4b5D6d",
        "outputId": "ff9110b2-02a8-4434-8054-7216c28fb2e2"
      },
      "execution_count": null,
      "outputs": [
        {
          "output_type": "stream",
          "name": "stdout",
          "text": [
            "0\n",
            "15\n",
            "30\n",
            "45\n",
            "60\n",
            "75\n",
            "90\n"
          ]
        }
      ]
    },
    {
      "cell_type": "code",
      "source": [
        "# https://codingdojang.com/scode/350?answer_mode=hide\n",
        "for i in range(50):\n",
        "    if i % 3 == 0 or i % 5 == 0:\n",
        "        print(i)"
      ],
      "metadata": {
        "id": "R5byqrfX5w5E"
      },
      "execution_count": null,
      "outputs": []
    },
    {
      "cell_type": "code",
      "source": [
        "a = True\n",
        "b = False\n",
        "\n",
        "a and b and ccc and fff"
      ],
      "metadata": {
        "colab": {
          "base_uri": "https://localhost:8080/"
        },
        "id": "C38-cP2t6V5k",
        "outputId": "d702f8fd-9dc3-46cd-d8f3-41a157ef45e8"
      },
      "execution_count": null,
      "outputs": [
        {
          "output_type": "execute_result",
          "data": {
            "text/plain": [
              "False"
            ]
          },
          "metadata": {},
          "execution_count": 35
        }
      ]
    },
    {
      "cell_type": "code",
      "source": [
        "a = True\n",
        "b = False\n",
        "\n",
        "a or b or eee or ddd"
      ],
      "metadata": {
        "colab": {
          "base_uri": "https://localhost:8080/"
        },
        "id": "3BCYCOXe7DkY",
        "outputId": "543e5cb5-4746-4d4f-b688-8f3582f7fbc1"
      },
      "execution_count": null,
      "outputs": [
        {
          "output_type": "execute_result",
          "data": {
            "text/plain": [
              "True"
            ]
          },
          "metadata": {},
          "execution_count": 36
        }
      ]
    },
    {
      "cell_type": "code",
      "source": [
        "\n",
        "\n",
        "a = True\n",
        "b = False\n",
        "c = False\n",
        "\n",
        "a or b and ggg"
      ],
      "metadata": {
        "colab": {
          "base_uri": "https://localhost:8080/"
        },
        "id": "mIUoptF_7LJc",
        "outputId": "e7023fb0-802f-40b4-83a2-840d592cbbd7"
      },
      "execution_count": null,
      "outputs": [
        {
          "output_type": "execute_result",
          "data": {
            "text/plain": [
              "True"
            ]
          },
          "metadata": {},
          "execution_count": 37
        }
      ]
    },
    {
      "cell_type": "code",
      "source": [
        "a = True\n",
        "b = False\n",
        "c = False\n",
        "d = True\n",
        "\n",
        "a and not b or c and d\n",
        "(a and (not b)) or (c and d)"
      ],
      "metadata": {
        "id": "6tEadUuQ8ls8"
      },
      "execution_count": null,
      "outputs": []
    },
    {
      "cell_type": "code",
      "source": [
        "# 단락회로평가\n",
        "\n",
        "a = 'world'\n",
        "b = ''\n",
        "\n",
        "a or b"
      ],
      "metadata": {
        "colab": {
          "base_uri": "https://localhost:8080/",
          "height": 35
        },
        "id": "q2kWxScE7Ort",
        "outputId": "c031f2aa-1002-4038-82fc-25cc798438ce"
      },
      "execution_count": null,
      "outputs": [
        {
          "output_type": "execute_result",
          "data": {
            "text/plain": [
              "'world'"
            ],
            "application/vnd.google.colaboratory.intrinsic+json": {
              "type": "string"
            }
          },
          "metadata": {},
          "execution_count": 40
        }
      ]
    },
    {
      "cell_type": "code",
      "source": [
        "username = ''\n",
        "\n",
        "username = username or '이름을 정하지 않았습니다.'\n",
        "username"
      ],
      "metadata": {
        "colab": {
          "base_uri": "https://localhost:8080/",
          "height": 35
        },
        "id": "hU7tr6vA9xMM",
        "outputId": "17820196-fd6b-4291-bd6f-a13e65907308"
      },
      "execution_count": null,
      "outputs": [
        {
          "output_type": "execute_result",
          "data": {
            "text/plain": [
              "'이름을 정하지 않았습니다.'"
            ],
            "application/vnd.google.colaboratory.intrinsic+json": {
              "type": "string"
            }
          },
          "metadata": {},
          "execution_count": 41
        }
      ]
    },
    {
      "cell_type": "code",
      "source": [
        "username = 'licat'\n",
        "\n",
        "username = username or '이름을 정하지 않았습니다.'\n",
        "username"
      ],
      "metadata": {
        "colab": {
          "base_uri": "https://localhost:8080/",
          "height": 35
        },
        "id": "oI8YBwJM90E2",
        "outputId": "1af81878-e047-4de6-e2b6-5fa747680af4"
      },
      "execution_count": null,
      "outputs": [
        {
          "output_type": "execute_result",
          "data": {
            "text/plain": [
              "'licat'"
            ],
            "application/vnd.google.colaboratory.intrinsic+json": {
              "type": "string"
            }
          },
          "metadata": {},
          "execution_count": 42
        }
      ]
    },
    {
      "cell_type": "code",
      "source": [
        "# result = functionA() or functionB()\n",
        "# 앞에 값이 None이나 0이 아니라면 뒤에 값으로 result를 만들겠다는 얘기입니다."
      ],
      "metadata": {
        "id": "Nt2O_6RK9_bc"
      },
      "execution_count": null,
      "outputs": []
    },
    {
      "cell_type": "markdown",
      "source": [
        "# 할당연산"
      ],
      "metadata": {
        "id": "-1T9aEEB-hcK"
      }
    },
    {
      "cell_type": "code",
      "source": [
        " x = 10\n",
        " y = 20"
      ],
      "metadata": {
        "id": "BJpe2RsC-jKS"
      },
      "execution_count": null,
      "outputs": []
    },
    {
      "cell_type": "code",
      "source": [
        "x += 1"
      ],
      "metadata": {
        "id": "vQba2NSR_Fq_"
      },
      "execution_count": null,
      "outputs": []
    },
    {
      "cell_type": "code",
      "source": [
        "x += 1\n",
        "x -= 1"
      ],
      "metadata": {
        "id": "KAwjHKuq_M26"
      },
      "execution_count": null,
      "outputs": []
    },
    {
      "cell_type": "code",
      "source": [
        "x /= 1\n",
        "x //= 1\n",
        "x %= 1"
      ],
      "metadata": {
        "id": "7qzNWfMF_Srq"
      },
      "execution_count": null,
      "outputs": []
    },
    {
      "cell_type": "markdown",
      "source": [
        "# id 연산자, is 연산자, is not 연산자"
      ],
      "metadata": {
        "id": "RKUw42stAGNx"
      }
    },
    {
      "cell_type": "code",
      "source": [
        "coffee = \"Brand\"\n",
        "orange = \"Brand\"\n",
        "\n",
        "print(coffee is orange)\n",
        "print(coffee == orange)"
      ],
      "metadata": {
        "colab": {
          "base_uri": "https://localhost:8080/"
        },
        "id": "55joZzn5AFBj",
        "outputId": "f3bfb32b-63b8-4d1a-9cef-d831f56d3bfc"
      },
      "execution_count": null,
      "outputs": [
        {
          "output_type": "stream",
          "name": "stdout",
          "text": [
            "True\n",
            "True\n"
          ]
        }
      ]
    },
    {
      "cell_type": "code",
      "source": [
        "a = [1, 2, 3]\n",
        "b = [1, 2, 3]\n",
        "c = a\n",
        "\n",
        "print('a == b', a == b)\n",
        "print('a == c', a == c)\n",
        "print('a is b', a is b)\n",
        "print('a is c', a is c)"
      ],
      "metadata": {
        "colab": {
          "base_uri": "https://localhost:8080/"
        },
        "id": "D1HZZi-_ALPB",
        "outputId": "2bdf77ee-0b38-4b53-eb7b-12231570bbf9"
      },
      "execution_count": null,
      "outputs": [
        {
          "output_type": "stream",
          "name": "stdout",
          "text": [
            "a == b True\n",
            "a == c True\n",
            "a is b False\n",
            "a is c True\n"
          ]
        }
      ]
    },
    {
      "cell_type": "code",
      "source": [
        "5 or 3"
      ],
      "metadata": {
        "colab": {
          "base_uri": "https://localhost:8080/"
        },
        "id": "5Xbn4pB6AOzv",
        "outputId": "ca0722f9-ebfc-4b20-c7dc-0dcbedf60f4e"
      },
      "execution_count": null,
      "outputs": [
        {
          "output_type": "execute_result",
          "data": {
            "text/plain": [
              "5"
            ]
          },
          "metadata": {},
          "execution_count": 61
        }
      ]
    },
    {
      "cell_type": "markdown",
      "source": [
        "# in 구문"
      ],
      "metadata": {
        "id": "LlJiMGbHsUtj"
      }
    },
    {
      "cell_type": "code",
      "source": [
        "#in는 is not이고 in은 not in입니다..\n",
        "10 in [10, 20, 30]"
      ],
      "metadata": {
        "colab": {
          "base_uri": "https://localhost:8080/"
        },
        "id": "IyHJ_W1_sU_j",
        "outputId": "d9144e46-09c1-4922-d59e-58a69f8d9001"
      },
      "execution_count": null,
      "outputs": [
        {
          "output_type": "execute_result",
          "data": {
            "text/plain": [
              "True"
            ]
          },
          "metadata": {},
          "execution_count": 1
        }
      ]
    },
    {
      "cell_type": "code",
      "source": [
        "'h' in 'hello world'"
      ],
      "metadata": {
        "colab": {
          "base_uri": "https://localhost:8080/"
        },
        "id": "F0Q017uUx7nc",
        "outputId": "aec43dbb-05d1-47f7-e85a-1fefeddd88e8"
      },
      "execution_count": null,
      "outputs": [
        {
          "output_type": "execute_result",
          "data": {
            "text/plain": [
              "True"
            ]
          },
          "metadata": {},
          "execution_count": 2
        }
      ]
    },
    {
      "cell_type": "code",
      "source": [
        "'world' in 'hello world'"
      ],
      "metadata": {
        "colab": {
          "base_uri": "https://localhost:8080/"
        },
        "id": "waq-GYjMyBeD",
        "outputId": "5c8577d0-cc09-4193-914f-4eacc4f25c3e"
      },
      "execution_count": null,
      "outputs": [
        {
          "output_type": "execute_result",
          "data": {
            "text/plain": [
              "True"
            ]
          },
          "metadata": {},
          "execution_count": 3
        }
      ]
    },
    {
      "cell_type": "code",
      "source": [
        "a = {'key1': 'value1', 'key2': 'value2'} #딕셔너리\n",
        "b = {10, 10, 20}\n",
        "10 in b # 출력: True\n",
        "{10} in b # 출력: False, 주의\n",
        "{10, 20} in b # 출력: False, 주의\n",
        "\n",
        "'key1' in a # 출력: True\n",
        "'value1' in a # 출력: False\n",
        "('key1', 'key2') in a # 출력: False\n",
        "#{'key1':'value1'} in a # error"
      ],
      "metadata": {
        "colab": {
          "base_uri": "https://localhost:8080/"
        },
        "id": "Px2AV3fhyFQo",
        "outputId": "1de591b8-97e3-4b38-f44a-a61080439f1f"
      },
      "execution_count": null,
      "outputs": [
        {
          "output_type": "execute_result",
          "data": {
            "text/plain": [
              "False"
            ]
          },
          "metadata": {},
          "execution_count": 6
        }
      ]
    },
    {
      "cell_type": "code",
      "source": [
        "'value1' in a.values()"
      ],
      "metadata": {
        "colab": {
          "base_uri": "https://localhost:8080/"
        },
        "id": "PV3ICbGxylgK",
        "outputId": "ce8d7096-cc8c-4ebf-d6b9-581f7002fa2f"
      },
      "execution_count": null,
      "outputs": [
        {
          "output_type": "execute_result",
          "data": {
            "text/plain": [
              "True"
            ]
          },
          "metadata": {},
          "execution_count": 7
        }
      ]
    },
    {
      "cell_type": "markdown",
      "source": [
        "# 연산자 우선순위"
      ],
      "metadata": {
        "id": "FYrJeXVrzwN6"
      }
    },
    {
      "cell_type": "code",
      "source": [
        "-2 ** 2"
      ],
      "metadata": {
        "colab": {
          "base_uri": "https://localhost:8080/"
        },
        "id": "HwZN4II2y68R",
        "outputId": "c81efb5e-dd74-4bdc-e23b-7a3937a42a82"
      },
      "execution_count": null,
      "outputs": [
        {
          "output_type": "execute_result",
          "data": {
            "text/plain": [
              "-4"
            ]
          },
          "metadata": {},
          "execution_count": 8
        }
      ]
    },
    {
      "cell_type": "code",
      "source": [
        "True * True and True + False\n",
        "#(True * True) and (True + False)"
      ],
      "metadata": {
        "colab": {
          "base_uri": "https://localhost:8080/"
        },
        "id": "OqxijQBPz8qZ",
        "outputId": "42545134-8798-473c-b28f-88ce6a481530"
      },
      "execution_count": null,
      "outputs": [
        {
          "output_type": "execute_result",
          "data": {
            "text/plain": [
              "1"
            ]
          },
          "metadata": {},
          "execution_count": 9
        }
      ]
    },
    {
      "cell_type": "code",
      "source": [
        "a = 10\n",
        "a *= 10 + 100\n",
        "a"
      ],
      "metadata": {
        "colab": {
          "base_uri": "https://localhost:8080/"
        },
        "id": "nK5LhkAA0bWp",
        "outputId": "5fd0a23d-3ae2-4bb7-b7ad-9dedc5bb5c62"
      },
      "execution_count": null,
      "outputs": [
        {
          "output_type": "execute_result",
          "data": {
            "text/plain": [
              "1100"
            ]
          },
          "metadata": {},
          "execution_count": 10
        }
      ]
    },
    {
      "cell_type": "code",
      "source": [
        "# a가 30이 될 것 같지만\n",
        "# 오류가 나는 문법입니다.\n",
        "a = 10\n",
        "#a = a += 20"
      ],
      "metadata": {
        "id": "YiZ3A3aH1Oc5"
      },
      "execution_count": null,
      "outputs": []
    },
    {
      "cell_type": "markdown",
      "source": [
        "# 연산자"
      ],
      "metadata": {
        "id": "kGmVYSNv3VqL"
      }
    },
    {
      "cell_type": "code",
      "source": [
        "def 부지매입():\n",
        "    pass\n",
        "\n",
        "def 설계도면작성():\n",
        "    pass\n",
        "\n",
        "def 인력모집():\n",
        "    pass\n",
        "\n",
        "def 벽돌쌓기():\n",
        "    pass\n",
        "\n",
        "def 지붕올리기():\n",
        "    pass\n",
        "\n",
        "부지매입()\n",
        "설계도면작성()\n",
        "인력모집()\n",
        "벽돌쌓기()\n",
        "지붕올리기()"
      ],
      "metadata": {
        "id": "jKVV0mZC1U_u"
      },
      "execution_count": null,
      "outputs": []
    },
    {
      "cell_type": "markdown",
      "source": [
        "# 함수"
      ],
      "metadata": {
        "id": "H0ctZQvN8l1h"
      }
    },
    {
      "cell_type": "code",
      "source": [
        "#들여쓰기\n",
        "def printnum(): #함수의 정의\n",
        "    print('1')\n",
        "    print('2')\n",
        "    print('3')\n",
        "printnum() #함수의 호출"
      ],
      "metadata": {
        "id": "IiAHn8KV6aoK",
        "colab": {
          "base_uri": "https://localhost:8080/"
        },
        "outputId": "fa3e2a1f-fe4d-40d7-b091-4bc7c6daf88b"
      },
      "execution_count": null,
      "outputs": [
        {
          "output_type": "stream",
          "name": "stdout",
          "text": [
            "<function printnum at 0x7d3e05367640>\n"
          ]
        }
      ]
    },
    {
      "cell_type": "code",
      "source": [
        "# 함수의 죨료 구분은 들여쓰기 기준이며\n",
        "# return으로도 구분이 됩니다.\n",
        "\n",
        "def printnum():\n",
        "    print('1')\n",
        "    print('2')\n",
        "print('3')\n",
        "print(printnum())"
      ],
      "metadata": {
        "id": "EONlN1r66b3h",
        "colab": {
          "base_uri": "https://localhost:8080/"
        },
        "outputId": "1c9ac088-bfee-489a-8e9f-3351621f94c7"
      },
      "execution_count": null,
      "outputs": [
        {
          "output_type": "stream",
          "name": "stdout",
          "text": [
            "3\n",
            "1\n",
            "2\n",
            "None\n"
          ]
        }
      ]
    },
    {
      "cell_type": "code",
      "source": [
        "# 물데네전세표응\n",
        "# 파선아실\n",
        "# 파라미터는 선언할때\n",
        "# 아규먼트는 실행할때\n",
        "def function(x, y):\n",
        "    z = x + y\n",
        "    return z\n",
        "print('function(5, 7)=', function(5, 7))"
      ],
      "metadata": {
        "colab": {
          "base_uri": "https://localhost:8080/"
        },
        "id": "kNgWUnKc8CeL",
        "outputId": "2fae41c2-414b-46af-ae7c-b039f19124ba"
      },
      "execution_count": null,
      "outputs": [
        {
          "output_type": "stream",
          "name": "stdout",
          "text": [
            "function(5, 7)= 12\n"
          ]
        }
      ]
    },
    {
      "cell_type": "code",
      "source": [
        "# 함수 안에 함수\n",
        "def f():\n",
        "    def ff():\n",
        "        return 100\n",
        "    x = ff()\n",
        "    return x\n",
        "\n",
        "f()\n",
        "#ff() # 함수내보에서 선언한 변수와 함수 내부에서 선언된 함수는 밖에서 호출할 수 없습니다."
      ],
      "metadata": {
        "colab": {
          "base_uri": "https://localhost:8080/"
        },
        "id": "pAq9jwow8UKU",
        "outputId": "f643b463-c958-4e09-b6c8-7247cf148de2"
      },
      "execution_count": null,
      "outputs": [
        {
          "output_type": "execute_result",
          "data": {
            "text/plain": [
              "100"
            ]
          },
          "metadata": {},
          "execution_count": 22
        }
      ]
    },
    {
      "cell_type": "code",
      "source": [
        "# 함수를 아규먼트로 전달\n",
        "def f(a, b):\n",
        "    return a + b\n",
        "\n",
        "def ff(a):\n",
        "    return a(10, 20)\n",
        "\n",
        "ff(f)"
      ],
      "metadata": {
        "colab": {
          "base_uri": "https://localhost:8080/"
        },
        "id": "BtxPo7hV9Q1J",
        "outputId": "83e09965-db5d-4ca5-8e3e-7ced1036463e"
      },
      "execution_count": null,
      "outputs": [
        {
          "output_type": "execute_result",
          "data": {
            "text/plain": [
              "30"
            ]
          },
          "metadata": {},
          "execution_count": 23
        }
      ]
    },
    {
      "cell_type": "code",
      "source": [
        "# def f():\n",
        "#     pass\n",
        "\n",
        "# def f():\n",
        "#     pass\n",
        "#     return None\n",
        "\n",
        "def f():\n",
        "    pass #pass는 종료가 아니라 없는 것으로 취급합니다.\n",
        "    print(10)\n",
        "\n",
        "f()"
      ],
      "metadata": {
        "colab": {
          "base_uri": "https://localhost:8080/"
        },
        "id": "WCHTgA9f939R",
        "outputId": "ec438f85-02b3-4b63-e3a7-9fae2adab2fd"
      },
      "execution_count": null,
      "outputs": [
        {
          "output_type": "stream",
          "name": "stdout",
          "text": [
            "10\n"
          ]
        }
      ]
    },
    {
      "cell_type": "code",
      "source": [
        "# 이게 error기 때문에 pass를 사용합니다.\n",
        "# def hit():\n",
        "\n",
        "def move():\n",
        "    pass\n",
        "\n",
        "def heal():\n",
        "    pass"
      ],
      "metadata": {
        "id": "yOuCuONi-9to"
      },
      "execution_count": null,
      "outputs": []
    },
    {
      "cell_type": "code",
      "source": [
        "# return을 사용해도 되는데 왜 pass죠?\n",
        "#pass를 사용했을 때 나중에 개발될 것이라는 표시를 해놓는 것과 같습니다.\n",
        "#글자수도 2자가 더 짧고 타이핑이 빠르다."
      ],
      "metadata": {
        "id": "rBf87B8D-c-Y"
      },
      "execution_count": null,
      "outputs": []
    },
    {
      "cell_type": "code",
      "source": [
        "def f(a, b, c):\n",
        "    print(a, b, c)\n",
        "\n",
        "# f() # error\n",
        "# f(100, 10) # error\n",
        "f(a=100, b=200, c=300)\n",
        "f(c=300, a=100, b=200)"
      ],
      "metadata": {
        "id": "B6yDVkKf_j3Y"
      },
      "execution_count": null,
      "outputs": []
    },
    {
      "cell_type": "code",
      "source": [
        "# 기본값이 없는 것들은 앞에 배치해야 합니다!\n",
        "def f(a=10, b=20, c): # 이 코드는 가능하지 않습니다.\n",
        "    print(a, b, c)\n",
        "\n",
        "def f(a, b=20, c=30): # 이 코드는 가능합니다.\n",
        "    print(a, b, c)"
      ],
      "metadata": {
        "id": "Qvth4qhYBLcR"
      },
      "execution_count": null,
      "outputs": []
    },
    {
      "cell_type": "code",
      "source": [
        "def f(a, b=20, c=30): # 이 코드는 가능합니다.\n",
        "    print(a, b, c)\n",
        "\n",
        "# f() # error\n",
        "# f(100, 10)\n",
        "# f(a=100, b=200, c=300)\n",
        "# f(c=300, a=100, b=200)\n",
        "# f(c=300) # error"
      ],
      "metadata": {
        "id": "mJXgRmUMA-qY"
      },
      "execution_count": null,
      "outputs": []
    },
    {
      "cell_type": "markdown",
      "source": [
        "##지역변수와 전역변수"
      ],
      "metadata": {
        "id": "J_K6LLbCD7Uo"
      }
    },
    {
      "cell_type": "code",
      "source": [
        "#지역변수오 전역변수\n",
        "def f():\n",
        "    inner_value = 100\n",
        "\n",
        "print(inner_value)"
      ],
      "metadata": {
        "id": "X34n0cbQD-BA"
      },
      "execution_count": null,
      "outputs": []
    },
    {
      "cell_type": "code",
      "source": [
        "x = 100\n",
        "def f():\n",
        "    print(x)\n",
        "\n",
        "f()"
      ],
      "metadata": {
        "colab": {
          "base_uri": "https://localhost:8080/"
        },
        "id": "eZS-F_VLEM8o",
        "outputId": "a9c5a1cf-9799-437d-d657-ac049ebaee37"
      },
      "execution_count": null,
      "outputs": [
        {
          "output_type": "stream",
          "name": "stdout",
          "text": [
            "100\n"
          ]
        }
      ]
    },
    {
      "cell_type": "code",
      "source": [
        "x = 100\n",
        "def f():\n",
        "    y = x + x\n",
        "    return y\n",
        "\n",
        "f()"
      ],
      "metadata": {
        "colab": {
          "base_uri": "https://localhost:8080/"
        },
        "id": "qCPdKBAnESJm",
        "outputId": "bb667952-ba00-40be-e5eb-ed9de96e2d69"
      },
      "execution_count": null,
      "outputs": [
        {
          "output_type": "execute_result",
          "data": {
            "text/plain": [
              "200"
            ]
          },
          "metadata": {},
          "execution_count": 27
        }
      ]
    },
    {
      "cell_type": "code",
      "source": [
        "# global 사용후 / 이런게 있다고만 알고 지나가도 된다.\n",
        "a = 100\n",
        "def f():\n",
        "    global a\n",
        "    #a = a + 1 / 에러\n",
        "    b = a + 1# 이건 실행됨\n",
        "f()"
      ],
      "metadata": {
        "id": "wZaKCtyqEXPE"
      },
      "execution_count": null,
      "outputs": []
    },
    {
      "cell_type": "code",
      "source": [
        "# global을 하면 함수가 얼만큼 중첩되어 있건 최상단에 있는 a를 바라봅니다.\n",
        "a = 10\n",
        "def f():\n",
        "    a = 100\n",
        "    print(a)\n",
        "    def ff():\n",
        "        a = 1000\n",
        "        print(a)\n",
        "        def fff():\n",
        "            global a\n",
        "            a = 10000\n",
        "            print(a)\n",
        "        fff()\n",
        "    ff()\n",
        "f()\n",
        "print(a)"
      ],
      "metadata": {
        "id": "dbO6PjEVH6z3"
      },
      "execution_count": null,
      "outputs": []
    },
    {
      "cell_type": "code",
      "source": [
        "# global을 사용하지 않고 중첩된 함수 내에서 a를 출력하게 되면 바로 위 함수의 a를 출력합니다.\n",
        "a = 10\n",
        "def f():\n",
        "    a = 100\n",
        "    print(a)\n",
        "    def ff():\n",
        "        a = 1000\n",
        "        print(a)\n",
        "        def fff():\n",
        "            print(a)\n",
        "        fff()\n",
        "    ff()\n",
        "f()\n",
        "print(a)"
      ],
      "metadata": {
        "id": "9YAeB9APJZnH"
      },
      "execution_count": null,
      "outputs": []
    },
    {
      "cell_type": "code",
      "source": [
        "# nonlocal\n",
        "a = 10\n",
        "def f():\n",
        "    a = 100\n",
        "    print(f'f a: {a}') #\n",
        "    def ff():\n",
        "        a = 1000\n",
        "        print(f'ff a: {a}') #\n",
        "        def fff():\n",
        "            nonlocal a\n",
        "            a = 100\n",
        "            print(f'fff a: {a}') #\n",
        "        fff()\n",
        "        print(f'ff a: {a}') #\n",
        "    ff()\n",
        "f()\n",
        "print(f'global a: {a}') #"
      ],
      "metadata": {
        "colab": {
          "base_uri": "https://localhost:8080/"
        },
        "id": "uxLbxlg4KABP",
        "outputId": "d056d1d6-ffa6-4941-a1d9-915b71445445"
      },
      "execution_count": null,
      "outputs": [
        {
          "output_type": "stream",
          "name": "stdout",
          "text": [
            "f a: 100\n",
            "ff a: 1000\n",
            "fff a: 100\n",
            "ff a: 100\n",
            "global a: 10\n"
          ]
        }
      ]
    },
    {
      "cell_type": "markdown",
      "source": [
        "##재귀함수"
      ],
      "metadata": {
        "id": "qamFqqnqKsAg"
      }
    },
    {
      "cell_type": "code",
      "source": [
        "# sys.setrecursionlimit -> 제한을 늘릴 수 있음\n",
        "# 실행하지 마세요! 저만 실행합니다!\n",
        "def 숫자출력():\n",
        "    print(1)\n",
        "#    return 숫자출력()\n",
        "숫자출력()"
      ],
      "metadata": {
        "id": "JYAcMDVrKB80"
      },
      "execution_count": null,
      "outputs": []
    },
    {
      "cell_type": "code",
      "source": [
        "#sys.setrecursionlimit -> 제한을 늘릴 수 있음\n",
        "def 숫자출력(count):\n",
        "    if count > 100:\n",
        "        return\n",
        "    print(count)\n",
        "    return 숫자출력(count+1) #값을 1부터 반복횟수 까지의 값을 출력\n",
        "\n",
        "숫자출력(1)"
      ],
      "metadata": {
        "id": "aAQgaa2gKv0n"
      },
      "execution_count": null,
      "outputs": []
    },
    {
      "cell_type": "code",
      "source": [
        "# 재귀함수는 사용하지 마세요!\n",
        "# 아직은 실력에 비해 위험하고 효율이 조지 않습니다.\n",
        "# 반복문 <-> 재귀는 서로 상호 호환이 가능합니다.\n",
        "# 반복문을 사용하세요."
      ],
      "metadata": {
        "id": "93rwIVSbK6Ro"
      },
      "execution_count": null,
      "outputs": []
    },
    {
      "cell_type": "code",
      "source": [
        "# 상식 수준에서 다음재귀는 외우셨으면 좋겠습니다.\n",
        "# 1. 팩토리얼\n",
        "# 2. 문자열 뒤집기"
      ],
      "metadata": {
        "id": "UALvVlnELUho"
      },
      "execution_count": null,
      "outputs": []
    },
    {
      "cell_type": "code",
      "source": [
        "# 펙토리얼 / 상식 같은 코드. 암기해두자.\n",
        "def factorial(n):\n",
        "    if n <= 1:\n",
        "        return 1\n",
        "    return n * factorial(n-1)\n",
        "\n",
        "factorial(5)\n",
        "'''\n",
        "함수 호출       return\n",
        "factorial(n)    n * factorial(n-1)\n",
        "factorial(5)    5 * factorial(4)\n",
        "factorial(4)    4 * factorial(3)\n",
        "factorial(3)    3 * factorial(2)\n",
        "factorial(2)    2 * factorial(1)\n",
        "factorial(1)    1\n",
        "'''"
      ],
      "metadata": {
        "colab": {
          "base_uri": "https://localhost:8080/"
        },
        "id": "r4dF2u1wLuuA",
        "outputId": "5cd6c328-dbc9-42dd-b654-76348ba0d7c9"
      },
      "execution_count": null,
      "outputs": [
        {
          "output_type": "execute_result",
          "data": {
            "text/plain": [
              "120"
            ]
          },
          "metadata": {},
          "execution_count": 34
        }
      ]
    },
    {
      "cell_type": "code",
      "source": [
        "s = 'hello world'\n",
        "print(s[1:] + s[0])\n",
        "s = s[1:]\n",
        "\n",
        "print(s[1:] + s[0])\n",
        "s = s[1:]\n",
        "\n",
        "print(s[1:] + s[0])\n",
        "s = s[1:]\n",
        "\n",
        "print(s[1:] + s[0])\n",
        "s = s[1:]"
      ],
      "metadata": {
        "colab": {
          "base_uri": "https://localhost:8080/"
        },
        "id": "XZuvU01FOoWf",
        "outputId": "70835a45-2c3f-45fc-8e85-a939778bcc7d"
      },
      "execution_count": null,
      "outputs": [
        {
          "output_type": "stream",
          "name": "stdout",
          "text": [
            "ello worldh\n",
            "llo worlde\n",
            "lo worldl\n",
            "o worldl\n"
          ]
        }
      ]
    },
    {
      "cell_type": "code",
      "source": [
        "# 문자열 뒤집기 / 상식 같은 코드. 암기해두자.\n",
        "\n",
        "def reversed_str(s):\n",
        "    if len(s) <= 1:\n",
        "        return s\n",
        "    return reversed_str(s[1:]) + s[0]\n",
        "\n",
        "reversed_str('hello')\n",
        "\n",
        "'''\n",
        "함수 호출               return\n",
        "reversed_str(n)         reversed_str(s[1:]) + s[0]\n",
        "reversed_str('hello')   reversed_str(s[ello]) + 'h' == 'olle' + 'h'\n",
        "reversed_str(ello)      reversed_str(s[llo]) + 'l'  == 'oll' + 'e'\n",
        "reversed_str(llo)       reversed_str(s[lo]) + 'l'   == 'ol' + 'l'\n",
        "reversed_str(lo)        reversed_str(s[o]) + 'o'    == 'o' + 'l'\n",
        "reversed_str(o)         'o'                         == 'o'\n",
        "'''"
      ],
      "metadata": {
        "colab": {
          "base_uri": "https://localhost:8080/",
          "height": 35
        },
        "id": "5wE5X0EVOT8X",
        "outputId": "e359aa37-415a-4187-bbc1-1799e6d49d12"
      },
      "execution_count": null,
      "outputs": [
        {
          "output_type": "execute_result",
          "data": {
            "text/plain": [
              "'olleh'"
            ],
            "application/vnd.google.colaboratory.intrinsic+json": {
              "type": "string"
            }
          },
          "metadata": {},
          "execution_count": 35
        }
      ]
    },
    {
      "cell_type": "code",
      "source": [
        "# 반복문을 아직 안배웠지만 간단하게 된다는 것을 보여드리기 위함입니다!\n",
        "n = 5\n",
        "result = 1\n",
        "for i in range(1, n+1):\n",
        "    result *= i\n",
        "result"
      ],
      "metadata": {
        "colab": {
          "base_uri": "https://localhost:8080/"
        },
        "id": "ixwKkgR8SBjf",
        "outputId": "ed9c8dc8-5776-47e8-d8e3-2faa347ea605"
      },
      "execution_count": null,
      "outputs": [
        {
          "output_type": "execute_result",
          "data": {
            "text/plain": [
              "120"
            ]
          },
          "metadata": {},
          "execution_count": 37
        }
      ]
    },
    {
      "cell_type": "code",
      "source": [
        "# 반복문을 아직 안배웠지만 간단하게 된다는 것을 보여드리기 위함입니다!\n",
        "s = 'hello'\n",
        "result = ''\n",
        "\n",
        "for i in s:\n",
        "    result = i + result\n",
        "    print(result)\n",
        "\n",
        "result"
      ],
      "metadata": {
        "colab": {
          "base_uri": "https://localhost:8080/",
          "height": 127
        },
        "id": "oqaZok3cSU0O",
        "outputId": "01ea74b7-f9ee-4200-96bb-be0de167ccb9"
      },
      "execution_count": null,
      "outputs": [
        {
          "output_type": "stream",
          "name": "stdout",
          "text": [
            "h\n",
            "eh\n",
            "leh\n",
            "lleh\n",
            "olleh\n"
          ]
        },
        {
          "output_type": "execute_result",
          "data": {
            "text/plain": [
              "'olleh'"
            ],
            "application/vnd.google.colaboratory.intrinsic+json": {
              "type": "string"
            }
          },
          "metadata": {},
          "execution_count": 39
        }
      ]
    },
    {
      "cell_type": "markdown",
      "source": [
        "# 함수 나아가기"
      ],
      "metadata": {
        "id": "Ih8bZQmyjohE"
      }
    },
    {
      "cell_type": "code",
      "source": [
        "# 이게 되네\n",
        "'hello world'\\\n",
        "        .upper()\\\n",
        "        .replace(' ', '')\\\n",
        "        .lower()"
      ],
      "metadata": {
        "colab": {
          "base_uri": "https://localhost:8080/",
          "height": 35
        },
        "id": "tWSDVWR_mjOs",
        "outputId": "a790d326-260a-4ad4-9e73-6a573cb2ca2a"
      },
      "execution_count": null,
      "outputs": [
        {
          "output_type": "execute_result",
          "data": {
            "text/plain": [
              "'helloworld'"
            ],
            "application/vnd.google.colaboratory.intrinsic+json": {
              "type": "string"
            }
          },
          "metadata": {},
          "execution_count": 41
        }
      ]
    },
    {
      "cell_type": "code",
      "source": [
        "# 여러개의 값 반환하기\n",
        "\n",
        "def f():\n",
        "    a = 10\n",
        "    b = 20\n",
        "    c = 30\n",
        "    return a, b, c\n",
        "\n",
        "f()"
      ],
      "metadata": {
        "colab": {
          "base_uri": "https://localhost:8080/"
        },
        "id": "UI5st5ZiSwL-",
        "outputId": "81332db3-7cca-463b-9c49-2f8e57449638"
      },
      "execution_count": null,
      "outputs": [
        {
          "output_type": "execute_result",
          "data": {
            "text/plain": [
              "(10, 20, 30)"
            ]
          },
          "metadata": {},
          "execution_count": 40
        }
      ]
    },
    {
      "cell_type": "code",
      "source": [
        "print() # built-in function\n",
        "\n",
        "def f(): # function\n",
        "    pass\n",
        "\n",
        "# 여기서 print와 f는 변수입니다.\n",
        "# 변수는 가리키는 것입니다.\n",
        "leehojun = print\n",
        "leehojun('hello world')"
      ],
      "metadata": {
        "colab": {
          "base_uri": "https://localhost:8080/"
        },
        "id": "0iWWo8bqmeUY",
        "outputId": "c505f171-9d6a-46c8-db8d-a76830b8eab7"
      },
      "execution_count": null,
      "outputs": [
        {
          "output_type": "stream",
          "name": "stdout",
          "text": [
            "\n",
            "hello world\n"
          ]
        }
      ]
    },
    {
      "cell_type": "code",
      "source": [
        "# 변수처럼 아래처럼 관리할 수 있습니다.\n",
        "x = 10\n",
        "y = 20\n",
        "l = [x, y]\n",
        "\n",
        "def add(x, y):\n",
        "    return x + y\n",
        "\n",
        "def sub(x, y):\n",
        "    return x - y\n",
        "\n",
        "ll = [add, sub]\n",
        "ll[0](10,  20) # add(10, 20)과 같습니다."
      ],
      "metadata": {
        "colab": {
          "base_uri": "https://localhost:8080/"
        },
        "id": "ZeyMVi1inkFu",
        "outputId": "d2804ce3-7d13-4404-afeb-45d8873db040"
      },
      "execution_count": null,
      "outputs": [
        {
          "output_type": "execute_result",
          "data": {
            "text/plain": [
              "30"
            ]
          },
          "metadata": {},
          "execution_count": 45
        }
      ]
    },
    {
      "cell_type": "code",
      "source": [
        "# 매우 중요!\n",
        "# lambda는 한줄로 함수를 실행하고 싶을때 쓰는 문장\n",
        "# lambda 파라미터: return값\n",
        "\n",
        "add2 = lambda x, y:x + y\n",
        "sub2 = lambda x, y:x + y\n",
        "add2(10, 20)"
      ],
      "metadata": {
        "colab": {
          "base_uri": "https://localhost:8080/"
        },
        "id": "TPtv-N5PoH5v",
        "outputId": "3e14bfb2-3f18-43ef-c576-4c4d8f813517"
      },
      "execution_count": null,
      "outputs": [
        {
          "output_type": "execute_result",
          "data": {
            "text/plain": [
              "30"
            ]
          },
          "metadata": {},
          "execution_count": 46
        }
      ]
    },
    {
      "cell_type": "code",
      "source": [
        "x = map(int, '1234')\n",
        "\n",
        "for i in x:\n",
        "    print(i)\n",
        "\n",
        "for i in x:\n",
        "    print(i)"
      ],
      "metadata": {
        "colab": {
          "base_uri": "https://localhost:8080/"
        },
        "id": "H1eRdi56oXXH",
        "outputId": "4f6bac97-ba69-4502-e203-b9a02a12398e"
      },
      "execution_count": null,
      "outputs": [
        {
          "output_type": "stream",
          "name": "stdout",
          "text": [
            "1\n",
            "2\n",
            "3\n",
            "4\n"
          ]
        }
      ]
    },
    {
      "cell_type": "code",
      "source": [
        "x = map(int, '1234')\n",
        "# 1번째 수행 int('1')\n",
        "# 2번째 수행 int('2')\n",
        "# 3번째 수행 int('3')\n",
        "# 4번째 수행 int('4')"
      ],
      "metadata": {
        "id": "KYBzTSfQpWWI"
      },
      "execution_count": null,
      "outputs": []
    },
    {
      "cell_type": "code",
      "source": [
        "list(map(int, '1234'))"
      ],
      "metadata": {
        "colab": {
          "base_uri": "https://localhost:8080/"
        },
        "id": "_uxIk6AIp3YL",
        "outputId": "faa5fd38-81dd-4fbd-cf53-aae427e7c1d8"
      },
      "execution_count": null,
      "outputs": [
        {
          "output_type": "execute_result",
          "data": {
            "text/plain": [
              "[1, 2, 3, 4]"
            ]
          },
          "metadata": {},
          "execution_count": 48
        }
      ]
    },
    {
      "cell_type": "code",
      "source": [
        "def f(x):\n",
        "    return x * 2\n",
        "\n",
        "list(map(f, '1234'))"
      ],
      "metadata": {
        "colab": {
          "base_uri": "https://localhost:8080/"
        },
        "id": "Vnv7TZvOp6AR",
        "outputId": "028482cd-cfc8-4751-cc84-6fe5dd4576bc"
      },
      "execution_count": null,
      "outputs": [
        {
          "output_type": "execute_result",
          "data": {
            "text/plain": [
              "['11', '22', '33', '44']"
            ]
          },
          "metadata": {},
          "execution_count": 49
        }
      ]
    },
    {
      "cell_type": "code",
      "source": [
        "# 위 코드와 동일하게 움직인다.\n",
        "list(map(lambda x:x*2, '1234'))"
      ],
      "metadata": {
        "colab": {
          "base_uri": "https://localhost:8080/"
        },
        "id": "x7KkMC_jqAOK",
        "outputId": "b7af6bf8-5405-42e1-b58e-da8522046e6c"
      },
      "execution_count": null,
      "outputs": [
        {
          "output_type": "execute_result",
          "data": {
            "text/plain": [
              "['11', '22', '33', '44']"
            ]
          },
          "metadata": {},
          "execution_count": 50
        }
      ]
    },
    {
      "cell_type": "markdown",
      "source": [
        "## 이 시점에서 알고 있어야 하는 중요한 함수"
      ],
      "metadata": {
        "id": "lvQHX4jGsY5b"
      }
    },
    {
      "cell_type": "code",
      "source": [
        "# 강사님이 뽑아주신 중요한 함수?들\n",
        "all\n",
        "any\n",
        "\n",
        "chr\n",
        "ord\n",
        "\n",
        "map\n",
        "filter\n",
        "zip\n",
        "\n",
        "format\n",
        "\n",
        "len\n",
        "\n",
        "max\n",
        "min\n",
        "sum\n",
        "\n",
        "repr\n",
        "print\n",
        "\n",
        "enumerate\n",
        "range\n",
        "\n",
        "reversed\n",
        "sorted"
      ],
      "metadata": {
        "id": "EOQ26IkmqQRd"
      },
      "execution_count": null,
      "outputs": []
    },
    {
      "cell_type": "code",
      "source": [
        "all([True, True, True])\n",
        "all([True, True, False])\n",
        "all([1, 1, 1, 0])\n",
        "all([1, 1, 1, 0])\n",
        "all([1, 100, 10, -1])"
      ],
      "metadata": {
        "colab": {
          "base_uri": "https://localhost:8080/"
        },
        "id": "v8u4DXZgsgBz",
        "outputId": "6fc65704-8e3c-499e-d456-e66c77bf40df"
      },
      "execution_count": null,
      "outputs": [
        {
          "output_type": "execute_result",
          "data": {
            "text/plain": [
              "True"
            ]
          },
          "metadata": {},
          "execution_count": 51
        }
      ]
    },
    {
      "cell_type": "code",
      "source": [
        "# 하나라도 True이면 True이다.\n",
        "any([True, False, False])\n",
        "any([False, False, False])"
      ],
      "metadata": {
        "colab": {
          "base_uri": "https://localhost:8080/"
        },
        "id": "8mfT4giJswZ8",
        "outputId": "eb6797f6-08cf-4cd8-e459-c50f25923511"
      },
      "execution_count": null,
      "outputs": [
        {
          "output_type": "execute_result",
          "data": {
            "text/plain": [
              "False"
            ]
          },
          "metadata": {},
          "execution_count": 52
        }
      ]
    },
    {
      "cell_type": "code",
      "source": [
        "# 10진수로 유니코드표에서 찾아 대응되는 값을 줍니다.\n",
        "chr(65) # 대문자\n",
        "chr(97) # 소문자"
      ],
      "metadata": {
        "colab": {
          "base_uri": "https://localhost:8080/",
          "height": 35
        },
        "id": "_qV1_2NHs_4t",
        "outputId": "cbae27ce-3734-42d9-f329-cda24519a74c"
      },
      "execution_count": null,
      "outputs": [
        {
          "output_type": "execute_result",
          "data": {
            "text/plain": [
              "'a'"
            ],
            "application/vnd.google.colaboratory.intrinsic+json": {
              "type": "string"
            }
          },
          "metadata": {},
          "execution_count": 55
        }
      ]
    },
    {
      "cell_type": "code",
      "source": [
        "# 문자를 입력하면 유니코드에서 숫자로 출력합니다.\n",
        "ord('a') # 97\n",
        "ord('하')"
      ],
      "metadata": {
        "colab": {
          "base_uri": "https://localhost:8080/"
        },
        "id": "95k94-nFt15U",
        "outputId": "9700b6c7-42b6-4ca6-d0ed-49a2841a1172"
      },
      "execution_count": null,
      "outputs": [
        {
          "output_type": "execute_result",
          "data": {
            "text/plain": [
              "54616"
            ]
          },
          "metadata": {},
          "execution_count": 57
        }
      ]
    },
    {
      "cell_type": "code",
      "source": [
        "# 유니코드 표에서 값 확인\n",
        "int('D558', 16)"
      ],
      "metadata": {
        "colab": {
          "base_uri": "https://localhost:8080/"
        },
        "id": "mY0gO3z-uAVL",
        "outputId": "c13bbfc1-0a75-4f6b-ab63-04b93209ebba"
      },
      "execution_count": null,
      "outputs": [
        {
          "output_type": "execute_result",
          "data": {
            "text/plain": [
              "54616"
            ]
          },
          "metadata": {},
          "execution_count": 60
        }
      ]
    },
    {
      "cell_type": "code",
      "source": [
        "map(lambda x: x**2, [1,2,3,4]) # 계산되기 전 object"
      ],
      "metadata": {
        "colab": {
          "base_uri": "https://localhost:8080/"
        },
        "id": "AV8aA2Lpt0ri",
        "outputId": "1ce2b96d-c292-446d-c74f-6b537333b494"
      },
      "execution_count": null,
      "outputs": [
        {
          "output_type": "execute_result",
          "data": {
            "text/plain": [
              "<map at 0x7d3e0530ee60>"
            ]
          },
          "metadata": {},
          "execution_count": 58
        }
      ]
    },
    {
      "cell_type": "code",
      "source": [
        "list(map(lambda x: x**2, [1,2,3,4]))"
      ],
      "metadata": {
        "colab": {
          "base_uri": "https://localhost:8080/"
        },
        "id": "JlYs7V5txBrm",
        "outputId": "6488a97c-586e-4803-e389-b4b3db8db252"
      },
      "execution_count": null,
      "outputs": [
        {
          "output_type": "execute_result",
          "data": {
            "text/plain": [
              "[1, 4, 9, 16]"
            ]
          },
          "metadata": {},
          "execution_count": 59
        }
      ]
    },
    {
      "cell_type": "code",
      "source": [
        "list(filter(lambda x: x>10,[1,2,11,12,9,6,13]))"
      ],
      "metadata": {
        "colab": {
          "base_uri": "https://localhost:8080/"
        },
        "id": "A3LnbFM4xWj0",
        "outputId": "e89597a8-f4a3-41b2-f8cf-356eabd1a061"
      },
      "execution_count": null,
      "outputs": [
        {
          "output_type": "execute_result",
          "data": {
            "text/plain": [
              "[11, 12, 13]"
            ]
          },
          "metadata": {},
          "execution_count": 61
        }
      ]
    },
    {
      "cell_type": "code",
      "source": [
        "def filter_function(x):\n",
        "    return x > 10\n",
        "\n",
        "list(filter(filter_function, [1, 2, 11, 12, 9, 6, 13]))"
      ],
      "metadata": {
        "colab": {
          "base_uri": "https://localhost:8080/"
        },
        "id": "22SPfaTrxVN7",
        "outputId": "42f7e38c-cb6b-4fe9-ce2c-2c95440fa07e"
      },
      "execution_count": null,
      "outputs": [
        {
          "output_type": "execute_result",
          "data": {
            "text/plain": [
              "[11, 12, 13]"
            ]
          },
          "metadata": {},
          "execution_count": 65
        }
      ]
    },
    {
      "cell_type": "code",
      "source": [
        "list(zip('abc', '123'))"
      ],
      "metadata": {
        "colab": {
          "base_uri": "https://localhost:8080/"
        },
        "id": "B1pQ_8xExpHe",
        "outputId": "8f86fe2e-36b2-4c30-84a6-78cf798e12ec"
      },
      "execution_count": null,
      "outputs": [
        {
          "output_type": "execute_result",
          "data": {
            "text/plain": [
              "[('a', '1'), ('b', '2'), ('c', '3')]"
            ]
          },
          "metadata": {},
          "execution_count": 66
        }
      ]
    },
    {
      "cell_type": "code",
      "source": [
        "# zip은 좌표계에서 자주 응용됩니다.\n",
        "# https://codingdojang.com/scode/408?answer_mode=hide\n",
        "\n",
        "# 1차원의 점들이 주어졌을 때, 그 중 가장 거리가 짧은 것의 쌍을 출력하는 함수를 작성하시오. (단 점들의 배열은 모두 정렬되어있다고 가정한다.)\n",
        "\n",
        "# 예를들어 S={1, 3, 4, 8, 13, 17, 20} 이 주어졌다면, 결과값은 (3, 4)가 될 것이다.\n",
        "\n",
        "s=[1, 3, 4, 8, 13, 17, 20]\n",
        "list(zip(s, s[1:]))"
      ],
      "metadata": {
        "colab": {
          "base_uri": "https://localhost:8080/"
        },
        "id": "utSVoQSgyHVl",
        "outputId": "995bc318-b6c8-4043-c049-22f5aa53b4cc"
      },
      "execution_count": null,
      "outputs": [
        {
          "output_type": "execute_result",
          "data": {
            "text/plain": [
              "[(1, 3), (3, 4), (4, 8), (8, 13), (13, 17), (17, 20)]"
            ]
          },
          "metadata": {},
          "execution_count": 68
        }
      ]
    },
    {
      "cell_type": "code",
      "source": [
        "sorted(zip(s, s[1:]), key=lambda x:x[1]-x[0])\n",
        "# sorted(zip(s, s[1:]), key=lambda x:x[1]-x[0])[0] # 정답 코드"
      ],
      "metadata": {
        "colab": {
          "base_uri": "https://localhost:8080/"
        },
        "id": "dtBnZqEyzANo",
        "outputId": "e9b2066a-c37a-44af-9b98-d3cdf2278179"
      },
      "execution_count": null,
      "outputs": [
        {
          "output_type": "execute_result",
          "data": {
            "text/plain": [
              "[(3, 4), (1, 3), (17, 20), (4, 8), (13, 17), (8, 13)]"
            ]
          },
          "metadata": {},
          "execution_count": 71
        }
      ]
    },
    {
      "cell_type": "code",
      "source": [
        "# function zip(a, b){\n",
        "#     return a.map((v, i) => [v, b[i]])\n",
        "# }\n",
        "# zip를 직접 만들어서 사용할때"
      ],
      "metadata": {
        "id": "rtwFK93B0qpK"
      },
      "execution_count": null,
      "outputs": []
    },
    {
      "cell_type": "code",
      "source": [
        "format(1000000000, ',')"
      ],
      "metadata": {
        "colab": {
          "base_uri": "https://localhost:8080/",
          "height": 35
        },
        "id": "FkskezwgzQ22",
        "outputId": "64bde7ab-8b36-445f-ded9-1ea68ec10b9b"
      },
      "execution_count": null,
      "outputs": [
        {
          "output_type": "execute_result",
          "data": {
            "text/plain": [
              "'1,000,000,000'"
            ],
            "application/vnd.google.colaboratory.intrinsic+json": {
              "type": "string"
            }
          },
          "metadata": {},
          "execution_count": 72
        }
      ]
    },
    {
      "cell_type": "code",
      "source": [
        "len('hello world')"
      ],
      "metadata": {
        "colab": {
          "base_uri": "https://localhost:8080/"
        },
        "id": "WOyc8oLZ0VR9",
        "outputId": "a6947b65-b08e-4877-bb7e-48d94ea6d2fa"
      },
      "execution_count": null,
      "outputs": [
        {
          "output_type": "execute_result",
          "data": {
            "text/plain": [
              "11"
            ]
          },
          "metadata": {},
          "execution_count": 73
        }
      ]
    },
    {
      "cell_type": "code",
      "source": [
        "max([1, 2, 3, 4, 5])"
      ],
      "metadata": {
        "colab": {
          "base_uri": "https://localhost:8080/"
        },
        "id": "AWfkMuCc0XEc",
        "outputId": "e93abf50-05e2-422d-aab6-13482528c92c"
      },
      "execution_count": null,
      "outputs": [
        {
          "output_type": "execute_result",
          "data": {
            "text/plain": [
              "5"
            ]
          },
          "metadata": {},
          "execution_count": 74
        }
      ]
    },
    {
      "cell_type": "code",
      "source": [
        "min([1, 2, 3, 4, 5])"
      ],
      "metadata": {
        "colab": {
          "base_uri": "https://localhost:8080/"
        },
        "id": "17UaqWtB0Zxt",
        "outputId": "8fd0b5f0-3c88-488a-cf43-f9aea4d6846b"
      },
      "execution_count": null,
      "outputs": [
        {
          "output_type": "execute_result",
          "data": {
            "text/plain": [
              "1"
            ]
          },
          "metadata": {},
          "execution_count": 75
        }
      ]
    },
    {
      "cell_type": "code",
      "source": [
        "sum([1, 2, 3, 4, 5])"
      ],
      "metadata": {
        "colab": {
          "base_uri": "https://localhost:8080/"
        },
        "id": "aKhyB1tj0buI",
        "outputId": "52e75404-c2ed-4302-a061-2f3fdddc68b1"
      },
      "execution_count": null,
      "outputs": [
        {
          "output_type": "execute_result",
          "data": {
            "text/plain": [
              "15"
            ]
          },
          "metadata": {},
          "execution_count": 76
        }
      ]
    },
    {
      "cell_type": "code",
      "source": [
        "max([(1,2),(3, 101), (1, 20), (3, 100)])\n",
        "max(['hello', 'world', 'world1'])"
      ],
      "metadata": {
        "colab": {
          "base_uri": "https://localhost:8080/",
          "height": 35
        },
        "id": "yYpOmfUy0dCE",
        "outputId": "c2c42e08-f263-4ac4-d2ad-b4e55981fc73"
      },
      "execution_count": null,
      "outputs": [
        {
          "output_type": "execute_result",
          "data": {
            "text/plain": [
              "'world1'"
            ],
            "application/vnd.google.colaboratory.intrinsic+json": {
              "type": "string"
            }
          },
          "metadata": {},
          "execution_count": 78
        }
      ]
    },
    {
      "cell_type": "code",
      "source": [
        "sum([1, 2, 3], 10)"
      ],
      "metadata": {
        "colab": {
          "base_uri": "https://localhost:8080/"
        },
        "id": "HqfcO80p1S9Z",
        "outputId": "b85e2bb8-a58f-498b-9617-2bb1f9503d91"
      },
      "execution_count": null,
      "outputs": [
        {
          "output_type": "execute_result",
          "data": {
            "text/plain": [
              "16"
            ]
          },
          "metadata": {},
          "execution_count": 79
        }
      ]
    },
    {
      "cell_type": "code",
      "source": [
        "sum([[1, 2], [3, 101], [1, 20], [3, 100]], [])"
      ],
      "metadata": {
        "colab": {
          "base_uri": "https://localhost:8080/"
        },
        "id": "5GbVY22g1ddJ",
        "outputId": "5dc033ab-0236-493e-85da-c0cb731cbe1c"
      },
      "execution_count": null,
      "outputs": [
        {
          "output_type": "execute_result",
          "data": {
            "text/plain": [
              "[1, 2, 3, 101, 1, 20, 3, 100]"
            ]
          },
          "metadata": {},
          "execution_count": 80
        }
      ]
    },
    {
      "cell_type": "code",
      "source": [
        "[] + [1, 2]\n",
        "[1, 2] + [3, 101]\n",
        "[1, 2, 3, 101] + [1, 20]\n",
        "[1, 2, 3, 101, 1, 20] + [3, 100]"
      ],
      "metadata": {
        "colab": {
          "base_uri": "https://localhost:8080/"
        },
        "id": "JoTt67UQ1kaQ",
        "outputId": "cf6d8e85-2ac4-4292-9d09-096c81eaacab"
      },
      "execution_count": null,
      "outputs": [
        {
          "output_type": "execute_result",
          "data": {
            "text/plain": [
              "[1, 2, 3, 101, 1, 20, 3, 100]"
            ]
          },
          "metadata": {},
          "execution_count": 81
        }
      ]
    },
    {
      "cell_type": "code",
      "source": [
        "sum([[1, 2], [3, 101], [1, 20], [3, 100]]) #numpy나 pandas 사용하셔야 합니다."
      ],
      "metadata": {
        "id": "TltvvivH12RJ"
      },
      "execution_count": null,
      "outputs": []
    },
    {
      "cell_type": "code",
      "source": [
        "class Charactor():\n",
        "    der __str__(scn)\n",
        "    return 'world'\n",
        "\n",
        "hero = Charactor()\n",
        "print(hero)\n",
        "hero"
      ],
      "metadata": {
        "id": "dbS0XBKB2H5Z"
      },
      "execution_count": null,
      "outputs": []
    },
    {
      "cell_type": "code",
      "source": [
        "repr(hero)"
      ],
      "metadata": {
        "id": "d-xYICWq2BIy"
      },
      "execution_count": null,
      "outputs": []
    },
    {
      "cell_type": "code",
      "source": [
        "가수 = ['뉴진스', '르세라핌', '에스파', '아이브']\n",
        "print(list(enumerate(가수)))\n",
        "print(list(enumerate(가수, 1)))\n",
        "print(list(enumerate(가수, 100)))\n",
        "\n",
        "for i, j in enumerate(가수, 1):\n",
        "    print(i, j)"
      ],
      "metadata": {
        "colab": {
          "base_uri": "https://localhost:8080/"
        },
        "id": "bFI82SjI2cr5",
        "outputId": "48e83040-78e8-4bc9-fcbc-99f6cffe2ae9"
      },
      "execution_count": null,
      "outputs": [
        {
          "output_type": "stream",
          "name": "stdout",
          "text": [
            "[(0, '뉴진스'), (1, '르세라핌'), (2, '에스파'), (3, '아이브')]\n",
            "[(1, '뉴진스'), (2, '르세라핌'), (3, '에스파'), (4, '아이브')]\n",
            "[(100, '뉴진스'), (101, '르세라핌'), (102, '에스파'), (103, '아이브')]\n",
            "1 뉴진스\n",
            "2 르세라핌\n",
            "3 에스파\n",
            "4 아이브\n"
          ]
        }
      ]
    },
    {
      "cell_type": "code",
      "source": [
        "type(print)"
      ],
      "metadata": {
        "colab": {
          "base_uri": "https://localhost:8080/"
        },
        "id": "mCvTyoe021kb",
        "outputId": "de140fd4-82d9-48f3-c38c-bee63069ef61"
      },
      "execution_count": null,
      "outputs": [
        {
          "output_type": "execute_result",
          "data": {
            "text/plain": [
              "builtin_function_or_method"
            ]
          },
          "metadata": {},
          "execution_count": 83
        }
      ]
    },
    {
      "cell_type": "code",
      "source": [
        "type()"
      ],
      "metadata": {
        "id": "XdgYNklP3rrC"
      },
      "execution_count": null,
      "outputs": []
    },
    {
      "cell_type": "code",
      "source": [
        "type(map)"
      ],
      "metadata": {
        "colab": {
          "base_uri": "https://localhost:8080/"
        },
        "id": "jUwZwGRq3Ag6",
        "outputId": "4b6bd7da-760f-4522-e3d3-420551a64a69"
      },
      "execution_count": null,
      "outputs": [
        {
          "output_type": "execute_result",
          "data": {
            "text/plain": [
              "type"
            ]
          },
          "metadata": {},
          "execution_count": 84
        }
      ]
    },
    {
      "cell_type": "code",
      "source": [
        "type(filter)"
      ],
      "metadata": {
        "colab": {
          "base_uri": "https://localhost:8080/"
        },
        "id": "bYaDC_7j3hVZ",
        "outputId": "9344b638-3092-4c44-fc4a-0131cfca13fe"
      },
      "execution_count": null,
      "outputs": [
        {
          "output_type": "execute_result",
          "data": {
            "text/plain": [
              "type"
            ]
          },
          "metadata": {},
          "execution_count": 85
        }
      ]
    },
    {
      "cell_type": "code",
      "source": [
        "type(int)"
      ],
      "metadata": {
        "colab": {
          "base_uri": "https://localhost:8080/"
        },
        "id": "drvqg6Ej3igc",
        "outputId": "6777a1b6-f465-48cd-8497-973ff2bf97c2"
      },
      "execution_count": null,
      "outputs": [
        {
          "output_type": "execute_result",
          "data": {
            "text/plain": [
              "type"
            ]
          },
          "metadata": {},
          "execution_count": 86
        }
      ]
    },
    {
      "cell_type": "code",
      "source": [
        "type(str)"
      ],
      "metadata": {
        "colab": {
          "base_uri": "https://localhost:8080/"
        },
        "id": "398vU4Nn3kCX",
        "outputId": "b11a1a93-6ec2-438e-be1e-e7b044aeef61"
      },
      "execution_count": null,
      "outputs": [
        {
          "output_type": "execute_result",
          "data": {
            "text/plain": [
              "type"
            ]
          },
          "metadata": {},
          "execution_count": 87
        }
      ]
    },
    {
      "cell_type": "code",
      "source": [
        "# range(start, stop, step) # 슬라이싱과 비슷한 형태를 지니고 있습니다.\n",
        "print(range(10)) # 값을 가지고 있지 않습니다.\n",
        "print(list(range(10)))\n",
        "x = range(10)\n",
        "print(type(x))\n",
        "print(list(range(0, 10, 2)))\n",
        "print(list(range(10, 0, -2)))\n",
        "# print(list(range(10, 0, 2.1))) # error, numpy 모듈 사용하면 가능합니다.\n",
        "# print(list(range(10.1, 2.0, 2))) # error, numpy 모듈 사용하면 가능합니다.\n",
        "print(list(range(0, 10, -2)))"
      ],
      "metadata": {
        "colab": {
          "base_uri": "https://localhost:8080/"
        },
        "id": "iCJDbSS63les",
        "outputId": "5bfe6b30-493b-4698-b005-0e960f6ca0c2"
      },
      "execution_count": null,
      "outputs": [
        {
          "output_type": "stream",
          "name": "stdout",
          "text": [
            "range(0, 10)\n",
            "[0, 1, 2, 3, 4, 5, 6, 7, 8, 9]\n",
            "<class 'range'>\n",
            "[0, 2, 4, 6, 8]\n",
            "[10, 8, 6, 4, 2]\n",
            "[]\n"
          ]
        }
      ]
    },
    {
      "cell_type": "code",
      "source": [
        "# 2.x에서 range와 그 외 값들에 대한 히스토리\n",
        "# print(range(10)) # 출력: [0, 1, 2, 3, 4, 5, 6, 7, 8, 9]\n",
        "# 메모리를 모두 차지해야 합니다.\n",
        "\n",
        "# print(range(100000000000000000000000000000000000000))\n",
        "# 메모리의 효율이 극도로 안좋아짐\n",
        "\n",
        "# 그런데 3.x에서 range(10000000000000000000000000000)는 메모리 효율이 안좋나요?\n",
        "# 시작과, 끝, 스텝값만 가지고 있기 때문에 메모리 낭비가 전혀 없습니다.\n",
        "\n",
        "# 2.x에서도 3.x와 같은 range타입이 있었습니다. xrange문법입니다. xrange문법이 3.x되면서 range가 된겁니다.\n",
        "# 2.x에서 사용가능 문법\n",
        "# print(xrange(10)) # 출력: xrange(10)\n",
        "# for i in xrange(10): # 출력: 순회 가능\n",
        "#     print(i)"
      ],
      "metadata": {
        "id": "shwYdmjH4DWE"
      },
      "execution_count": null,
      "outputs": []
    },
    {
      "cell_type": "code",
      "source": [
        "list(reversed('hello world'))\n",
        "list(reversed([1, 2, 3, 10, 5, 4])) # 역 정렬 아닙니다! 역순입니다."
      ],
      "metadata": {
        "colab": {
          "base_uri": "https://localhost:8080/"
        },
        "id": "EOJDuZy-7d1K",
        "outputId": "2764ccad-c037-4444-f4dd-56691736d05a"
      },
      "execution_count": null,
      "outputs": [
        {
          "output_type": "execute_result",
          "data": {
            "text/plain": [
              "[4, 5, 10, 3, 2, 1]"
            ]
          },
          "metadata": {},
          "execution_count": 96
        }
      ]
    },
    {
      "cell_type": "code",
      "source": [
        "list(reversed(sorted([1, 2, 3, 10, 5, 4])))"
      ],
      "metadata": {
        "colab": {
          "base_uri": "https://localhost:8080/"
        },
        "id": "AMvapgUh7muS",
        "outputId": "1bd768ff-5ffb-448c-a9f3-14661c8d7c90"
      },
      "execution_count": null,
      "outputs": [
        {
          "output_type": "execute_result",
          "data": {
            "text/plain": [
              "[10, 5, 4, 3, 2, 1]"
            ]
          },
          "metadata": {},
          "execution_count": 98
        }
      ]
    },
    {
      "cell_type": "code",
      "source": [
        "# 매우 중요합니다.\n",
        "# 알고리즘 문제에 단골 built-in function\n",
        "sorted([1, 2, 100, 200, 3, 4, 10, 20])"
      ],
      "metadata": {
        "colab": {
          "base_uri": "https://localhost:8080/"
        },
        "id": "fXMSxNHc-36T",
        "outputId": "c046da22-3a0b-4d9e-94f1-34fd3e197da6"
      },
      "execution_count": null,
      "outputs": [
        {
          "output_type": "execute_result",
          "data": {
            "text/plain": [
              "[1, 2, 3, 4, 10, 20, 100, 200]"
            ]
          },
          "metadata": {},
          "execution_count": 100
        }
      ]
    },
    {
      "cell_type": "code",
      "source": [
        "sorted([1, 2, 100, 200, 3, 4, 10, 20], reverse=True)"
      ],
      "metadata": {
        "colab": {
          "base_uri": "https://localhost:8080/"
        },
        "id": "nGjjretg_E3T",
        "outputId": "a4d6c122-7230-430f-ff08-7c17a5f12a04"
      },
      "execution_count": null,
      "outputs": [
        {
          "output_type": "execute_result",
          "data": {
            "text/plain": [
              "[200, 100, 20, 10, 4, 3, 2, 1]"
            ]
          },
          "metadata": {},
          "execution_count": 101
        }
      ]
    },
    {
      "cell_type": "code",
      "source": [
        "sorted(['hello', 'l', 'hllo', 'hel', 'heo', 'a'])\n",
        "['a', 'hel', 'hello', 'heo', 'hllo', 'l']\n",
        "\n",
        "# 문자열의 길이만큼 정렬되게 하고 싶다\n",
        "sorted(['hello', 'l', 'hllo', 'hel', 'heo', 'a'], key=len)\n",
        "['a', 'hel', 'hello', 'heo', 'hllo', 'l']\n",
        "# 위 코드는 sorted([5, 1, 4, 3, 3, 1])와 같습니다."
      ],
      "metadata": {
        "colab": {
          "base_uri": "https://localhost:8080/"
        },
        "id": "Pv6ObSjC_Ncn",
        "outputId": "c9e6fd20-91b1-4374-9c1d-85d76c3a65ef"
      },
      "execution_count": null,
      "outputs": [
        {
          "output_type": "execute_result",
          "data": {
            "text/plain": [
              "['a', 'hel', 'hello', 'heo', 'hllo', 'l']"
            ]
          },
          "metadata": {},
          "execution_count": 102
        }
      ]
    },
    {
      "cell_type": "code",
      "source": [
        "sorted(['hello', 'l', 'hllo', 'hel', 'heo', 'a'], key=len)"
      ],
      "metadata": {
        "colab": {
          "base_uri": "https://localhost:8080/"
        },
        "id": "4CDHy3cD_mlk",
        "outputId": "4978c8e2-f991-4b71-b1cf-c0bd14d10ca0"
      },
      "execution_count": null,
      "outputs": [
        {
          "output_type": "execute_result",
          "data": {
            "text/plain": [
              "['l', 'a', 'hel', 'heo', 'hllo', 'hello']"
            ]
          },
          "metadata": {},
          "execution_count": 107
        }
      ]
    },
    {
      "cell_type": "code",
      "source": [
        "data = [\n",
        "    [2, 'hello world', 30],\n",
        "    [3, 'hworl', 33],\n",
        "    [4, 'hello w', 31],\n",
        "    [5, 'hello wo', 35],\n",
        "    [6, 'hello w', 39]\n",
        "    ]\n",
        "\n",
        "sorted([1, 2, 100, 200, 3, 4, 10, 20], reverse=True)\n",
        "# 1번째 문제: 첫번째 요소의 값을 정렬하세요.\n",
        "sorted(data)\n",
        "\n",
        "# 2번째 문제: 두번째 요소의 문자열 길이를 기준으로 정렬하세요.\n",
        "sorted(data, key=lambda x:len(x[1]))\n",
        "# sorted([11, 5, 7, 8, 7])를 정렬하는 것과 같습니다.\n",
        "#다만 숫자 값으로 반환하는 것이 아니라 object로 반환하죠.\n",
        "\n",
        "# 3번째 문제: 세번째 요소 기준으로 정렬하세요.\n",
        "sorted(data, key=lambda x:x[2])\n",
        "\n",
        "# 4번째 문제: 첫번째 요소와 세번째 요소의 차가 큰 순으로 출력해주세요.\n",
        "# 예를 들어 [2, 'hello world', 30]의 경우 30 - 2 == 28 입니다.\n",
        "# 이런 차 순서대로 출력하시면 됩니다.\n",
        "sorted(data, key=lambda x:x[2] - x[0], reverse=True)"
      ],
      "metadata": {
        "colab": {
          "base_uri": "https://localhost:8080/"
        },
        "id": "K29OWevnAFTf",
        "outputId": "530d7d2a-0093-46ce-b272-cf5c8bcf3fc2"
      },
      "execution_count": null,
      "outputs": [
        {
          "output_type": "execute_result",
          "data": {
            "text/plain": [
              "[[6, 'hello w', 39],\n",
              " [3, 'hworl', 33],\n",
              " [5, 'hello wo', 35],\n",
              " [2, 'hello world', 30],\n",
              " [4, 'hello w', 31]]"
            ]
          },
          "metadata": {},
          "execution_count": 115
        }
      ]
    },
    {
      "cell_type": "code",
      "source": [],
      "metadata": {
        "id": "h_1SGK1-BWt-"
      },
      "execution_count": null,
      "outputs": []
    },
    {
      "cell_type": "markdown",
      "source": [
        "# 연습문제"
      ],
      "metadata": {
        "id": "lPYjCMmVEx3g"
      }
    },
    {
      "cell_type": "code",
      "source": [
        "# 논리연산자를 더 붙여 두 수를 더하는 코드를 만들어보세요.\n",
        "\n",
        "x = 3\n",
        "y = 5\n",
        "\n",
        "result =  (isinstance(x, int) and isinstance(y, int)) and x + y  # 여기에\n",
        "result # 8이 출력되어야 합니다."
      ],
      "metadata": {
        "colab": {
          "base_uri": "https://localhost:8080/"
        },
        "id": "-lepfsVuEz2g",
        "outputId": "af5b7835-5b39-4be6-de01-cbfeabda4ed6"
      },
      "execution_count": null,
      "outputs": [
        {
          "output_type": "execute_result",
          "data": {
            "text/plain": [
              "8"
            ]
          },
          "metadata": {},
          "execution_count": 77
        }
      ]
    },
    {
      "cell_type": "code",
      "source": [
        "# 2. 문제\n",
        "# 다음 출력값은 무엇일까요? 왜 그러한가요?\n",
        "\n",
        "print('hello' < 'hell o')\n",
        "#false 유니코드에 비교하여 계산을 실행한다. ' '은 l보다 값이 작기때문에 틀렸다.\n",
        "print([10, 20, 30] < [10, 19, 100])\n",
        "#false 리스트도 순서대로 비교하여 처리하기에 20보다 19가 작으므로 틀렸다.\n",
        "print(10 % 3.3 == 0.1)\n",
        "#false 부동소수점 계산은 값이 정확하게 떨어지지 않기에 0.1보다 큰 값으로 나온다."
      ],
      "metadata": {
        "colab": {
          "base_uri": "https://localhost:8080/"
        },
        "id": "luNGfXMRHnPf",
        "outputId": "f20fcc58-a790-4e00-f3b4-5e6c6d9ead3d"
      },
      "execution_count": null,
      "outputs": [
        {
          "output_type": "stream",
          "name": "stdout",
          "text": [
            "False\n",
            "False\n",
            "False\n"
          ]
        }
      ]
    },
    {
      "cell_type": "code",
      "source": [
        "from os import scandir\n",
        "# 3. 문제\n",
        "# 어떤 이메일을 쓰고 있는지 출력하는 코드를 작성해주세요.\n",
        "\n",
        "email2 = 'abc@gmail.com' # gmail\n",
        "email3 = 'abc@naver.com' # naver\n",
        "email4 = 'abc@weniv.co.kr' # weniv\n",
        "email5 = 'li.cat@weniv.co.kr' # weniv\n",
        "\n",
        "emails = [email2, email3, email4, email5]\n",
        "\n",
        "for email in emails:\n",
        "    print(email.split('@')[1].split('.')[0])\n"
      ],
      "metadata": {
        "colab": {
          "base_uri": "https://localhost:8080/"
        },
        "id": "XoExEi2YHp9P",
        "outputId": "53e2fa81-1e6a-47d3-ac80-bf401cd9778b"
      },
      "execution_count": null,
      "outputs": [
        {
          "output_type": "stream",
          "name": "stdout",
          "text": [
            "gmail\n",
            "naver\n",
            "weniv\n",
            "weniv\n"
          ]
        }
      ]
    },
    {
      "cell_type": "code",
      "source": [
        "# 배우신 분들\n",
        "# 그리디 알고리즘입니다.\n",
        "# 10000원짜리를 들고가서 1500원짜리 월드콘을 사먹었습니다. 거스름돈을 가장 적게 줄 수 있는 코드를 작성하세요.\n",
        "\n",
        "거스름돈 = 10000 - 1500\n",
        "print(거스름돈 // 5000, '5000원')\n",
        "거스름돈 = 거스름돈 % 5000\n",
        "\n",
        "print(거스름돈 // 1000, '1000원')\n",
        "거스름돈 = 거스름돈 % 1000\n",
        "\n",
        "print(거스름돈 // 500, '500원')\n",
        "거스름돈 = 거스름돈 % 500\n",
        "\n",
        "print(거스름돈 // 100, '100원')\n",
        "거스름돈 = 거스름돈 % 100"
      ],
      "metadata": {
        "id": "Y-GP4Dr21QiC"
      },
      "execution_count": null,
      "outputs": []
    },
    {
      "cell_type": "code",
      "source": [],
      "metadata": {
        "id": "tar4D0XZDzOg"
      },
      "execution_count": null,
      "outputs": []
    },
    {
      "cell_type": "code",
      "source": [
        "# a와 b를 더한 값과 a와 b를 뺀 값을 곱하는 함수를 만들어주세요.\n",
        "\n",
        "a = 2\n",
        "b = 3\n",
        "def nm(a=0, b=0):\n",
        "    return (a + b) * (a - b)\n",
        "\n",
        "nm(a, b)\n",
        "\n",
        "\n",
        "\n",
        "\n",
        "\n",
        "# (2 + 3) * (2 - 3) = -5가 출력이 되어야 합니다.\n",
        "# 조건1: a가 입력되지 않으면 0이 입력됩니다.\n",
        "# 조건2: b가 입력되지 않으면 0이 입력됩니다."
      ],
      "metadata": {
        "id": "dUyg3_xZCLYQ"
      },
      "execution_count": null,
      "outputs": []
    },
    {
      "cell_type": "code",
      "source": [
        "a = 2\n",
        "b = 3\n",
        "\n",
        "def multiple (x=0, y=0):\n",
        "    return x * y\n",
        "\n",
        "def plus (x=0, y=0):\n",
        "    return x + y\n",
        "\n",
        "def minus (x=0, y=0):\n",
        "    return x - y\n",
        "\n",
        "multiple(plus(a,b), minus(a,b))"
      ],
      "metadata": {
        "id": "XwTWmWLc3N1j"
      },
      "execution_count": null,
      "outputs": []
    }
  ]
}